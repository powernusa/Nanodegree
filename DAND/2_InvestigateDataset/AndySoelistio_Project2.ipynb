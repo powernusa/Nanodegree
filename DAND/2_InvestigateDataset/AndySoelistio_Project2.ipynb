{
 "cells": [
  {
   "cell_type": "markdown",
   "metadata": {},
   "source": [
    "## Andy Soelistio\n",
    "## Project 2: Investigate Dataset\n",
    "## Oct-30-2018"
   ]
  },
  {
   "cell_type": "markdown",
   "metadata": {},
   "source": [
    "# Project 2: Investigate a Dataset -- Four Asian Tigers: An Export-Led Economic Growth?\n",
    "\n",
    "## Table of Contents\n",
    "<ul>\n",
    "<li><a href=\"#intro\">Introduction</a></li>\n",
    "<li><a href=\"#wrangling\">Data Wrangling</a>\n",
    "    <ul>\n",
    "       <li><a href='#CleaningFirstStage'>Data Cleaning -- First Stage:  Make all column names and indexes in all dataframes identical</a></li>\n",
    "       <li><a href='#CleaningSecondStage'>Data Cleaning -- Second Stage: Introducing a column into dataframes</a></li>\n",
    "       <li><a href='#CleaningThirdStage'>Data Cleaning -- Third Stage: Combining Variables into a dataframe and Separating Dataframes based on GDP PerCapita's percentiles</a></li>\n",
    "    </ul>\n",
    "</li>\n",
    "<li><a href=\"#eda\">Exploratory Data Analysis</a>\n",
    "    <ul>\n",
    "       <li><a href='#resquestion1'>Research Question 1 -- Big Mac Index</a></li>\n",
    "       <li><a href='#resquestion2'>Research Question 2 -- Investigating Correlation</a></li>\n",
    "       <li><a href='#resquestion3'>Research Question 3 -- Investigating Single DataPoint: Singapore</a></li>\n",
    "    </ul>\n",
    "</li>\n",
    "<li><a href=\"#conclusions\">Conclusions</a></li>\n",
    "</ul>"
   ]
  },
  {
   "cell_type": "markdown",
   "metadata": {},
   "source": [
    "<a id='intro'></a>\n",
    "## Introduction\n",
    "\n",
    "> This project is inspired by the <a href='https://www.investopedia.com/terms/f/four-asian-tigers.asp'/>economic growth story of four Asian tigers </a>namely, Hong Kong, <br> Singapore, South Korean and Taiwan. \n",
    "These four countries were one of the poorest countries on <br>\n",
    "earth at the end of 1945. By the year 2000, they can be considered <br>\n",
    "developed nations. It was widely reported that their exceptional rise <br>\n",
    "are due to their dependence of exports. Dependence on exports or export-led <br>\n",
    "economic growth implies that their exports as a proportion of their GDPs are high. \n",
    ">\n",
    "> This project will explore whether there is a correlation between exports as proportions of GDP <br>\n",
    "and GDP per capita. Other independent (explanatory) variables related to exports that <br>\n",
    "will be explored are Imports and  Foreign Direct Investment (as proportions of GDP).<br> \n",
    "There is one dependent (response) variable i.e., GDP per capita in US dollars. \n",
    ">\n",
    "> This project is also inspired by a popular index -- <a href='https://www.worldatlas.com/articles/the-world-s-most-expensive-countries-measured-by-the-big-mac-index.html'/>Big Mac Index.</a> This project will <br>\n",
    "attempt to show if eating big macs everyday are affordable in countries in the <br>\n",
    "<a href='https://www.gapminder.org/data/'/>dataset obtained from gapminder.</a> "
   ]
  },
  {
   "cell_type": "code",
   "execution_count": 1,
   "metadata": {},
   "outputs": [],
   "source": [
    "# Use this cell to set up import statements for all of the packages that you\n",
    "import pandas as pd\n",
    "import numpy as np\n",
    "import matplotlib.pyplot as plt\n",
    "import matplotlib.ticker # for formatting ticks\n",
    "import seaborn as sns\n",
    "sns.set_style('darkgrid')\n",
    "%matplotlib inline\n",
    "import operator # to sort dict by values\n",
    "import statistics\n",
    "import statsmodels.api as sm\n"
   ]
  },
  {
   "cell_type": "code",
   "execution_count": 2,
   "metadata": {},
   "outputs": [],
   "source": [
    "#================================================================\n",
    "        # The following are API Functions used mainly \n",
    "        # in Data Wrangling Section\n",
    "#================================================================\n",
    "\n",
    "# default: columns 65% filled\n",
    "# drop columns that are 35% NaN\n",
    "def drop_df_columns(df,perct_filled=0.65):\n",
    "    columns_dropped = columns_tobedropped(df,perct_filled)\n",
    "    if len(columns_dropped) == 0:\n",
    "        return 'Nothing to drop'\n",
    "    else:\n",
    "        df.drop(columns_dropped,axis=1,inplace=True)\n",
    "        return 'Done'\n",
    "\n",
    "# regular dropping dataframe columns\n",
    "def drop_cols(df,desired_list):\n",
    "    rejected_list = np.setdiff1d(df.columns,desired_list).tolist()\n",
    "    df.drop(rejected_list,axis=1,inplace=True)\n",
    "\n",
    "def drop_index(df,desired_index):\n",
    "    rejected_index= np.setdiff1d(df.index,desired_index).tolist()\n",
    "    df.drop(axis=0,index=rejected_index,inplace=True)\n",
    "    \n",
    "def fillna_with_mean(df):\n",
    "    mask = df.isnull().sum() != 0\n",
    "    fill_cols_list = df.isnull().sum()[mask]\n",
    "    for k,value in enumerate(fill_cols_list.index):\n",
    "        mean_val = df[value].mean()\n",
    "        df.fillna(mean_val,axis=1,inplace=True)\n",
    "\n",
    "# https://www.geeksforgeeks.org/python-program-find-common-elements-three-lists-using-sets/\n",
    "# make this generic. therefore not just fixed 5 lists (if I have time).\n",
    "def andy_IntersectSets(list1, list2, list3, list4,list5):\n",
    "    s1 = set(list1)\n",
    "    s2 = set(list2)\n",
    "    s3 = set(list3)\n",
    "    s4 = set(list4)\n",
    "    s5 = set(list5)\n",
    "    \n",
    "    set1 = s1.intersection(s2)\n",
    "    set2 = set1.intersection(s3)\n",
    "    set3 = set2.intersection(s4)\n",
    "    result_set = set3.intersection(s5)\n",
    "    final_list = list(result_set)\n",
    "    return final_list\n",
    "\n",
    "def andy_IntersectSets2(list1, list2):\n",
    "    s1 = set(list1)\n",
    "    s2 = set(list2)\n",
    "    \n",
    "    set1 = s1.intersection(s2)\n",
    "    final_list = list(set1)\n",
    "    return final_list\n",
    "#==================================================================================\n",
    "#   don't use this. this is private helper function used by 'contract' API function\n",
    "#==================================================================================  \n",
    "    \n",
    "def columns_tobedropped(df,perct_filled):  \n",
    "    data_tobedropped = []\n",
    "    for col in df.columns:\n",
    "        null_count = df[col].isnull().sum()\n",
    "        proportion = null_count / df.shape[0]  #proportion that is null; higher more null values\n",
    "        if proportion <= (1-perct_filled):\n",
    "            #data_80filled.append(col)\n",
    "            continue\n",
    "        else:\n",
    "            data_tobedropped.append(col)\n",
    "    #print(data_tobedropped)\n",
    "    return data_tobedropped"
   ]
  },
  {
   "cell_type": "code",
   "execution_count": 3,
   "metadata": {},
   "outputs": [],
   "source": [
    "#================================================================\n",
    "        # The following are API Functions used mainly \n",
    "        # in Exploratory Data Section\n",
    "#================================================================\n",
    "\n",
    "#return a tuple (sum,mean) of a row\n",
    "def find_sum_mean_row(df):\n",
    "    total_row = 0\n",
    "    for column in df.columns[1:]:\n",
    "        total_row += df[column]\n",
    "    mean_row =  total_row/len(df.columns[1:])\n",
    "    return total_row,mean_row\n",
    "\n",
    "def common_plotting_format():\n",
    "    plt.yticks(fontsize=12)\n",
    "    plt.ylabel('',fontsize=12)\n",
    "    plt.show()\n",
    "\n",
    "def common_ticks_legends_format(tickSize,legendSize):\n",
    "    plt.xticks(fontsize=tickSize)\n",
    "    plt.yticks(fontsize=tickSize)\n",
    "    plt.legend(fontsize=legendSize)\n",
    "\n",
    "def common_ticks_format(tickSize):\n",
    "    plt.xticks(fontsize=tickSize)\n",
    "    plt.yticks(fontsize=tickSize)\n",
    "\n",
    "def remove_outliers(values):\n",
    "    mid_quantiles = values.quantile([.15, .60])\n",
    "    return np.mean(mid_quantiles)\n",
    "\n",
    "def money(x):\n",
    "    return \"${:,.0f}\".format(x)\n",
    "\n",
    "def pretty_number(x):\n",
    "     return \"{:,.0f}\".format(x)    \n",
    "\n",
    "#moving average\n",
    "def simplifiedRollingMean(windowRolling, df_i):\n",
    "    df_o = df_i.rolling(window = windowRolling, center=False, on = \"index\").mean().dropna()\n",
    "    return df_o\n",
    "\n",
    "#---can buy big mac everyday for lunch?\n",
    "# price of big mac in USA: $5.04 since GDP is in US Dollar\n",
    "# For a year 5.04 x 365 = 1,840\n",
    "#https://www.businessinsider.com/big-mac-cost-around-the-world-2017-1/?IR=T\n",
    "BIG_MAC_EVERYDAY = 1840\n",
    "\n",
    "def calc_z_score_given_value(data_series,val):\n",
    "    mean_val = np.mean(data_series)\n",
    "    std_val = np.std(data_series)\n",
    "    z_score = (val - mean_val)/std_val\n",
    "    return z_score\n",
    "\n",
    "# values used in plotting graph \n",
    "def calc_mean_within_std1_std2_right(data_series):\n",
    "    mean_val = np.mean(data_series)\n",
    "    within_std_1 = mean_val + np.std(data_series,ddof=1)\n",
    "    within_std_2 = within_std_1 + np.std(data_series,ddof=1)\n",
    "    return mean_val,within_std_1,within_std_2\n",
    "\n",
    "# values used in plotting graph \n",
    "def calc_mean_within_std1_std2_left(data_series):\n",
    "    mean_val = np.mean(data_series)\n",
    "    within_std_1 = mean_val - np.std(data_series,ddof=1)\n",
    "    within_std_2 = within_std_1 - np.std(data_series,ddof=1)\n",
    "    return mean_val,within_std_1,within_std_2\n",
    "\n",
    "# Not tested yet!!!\n",
    "def plot_axvline_mean_std(data_series):\n",
    "    mean_val,within_std1_right,within_std2_right = calc_mean_within_std1_std2_right(data_series)\n",
    "    mean_val = int(mean_val)\n",
    "    within_std1_right = int(within_std1_right)\n",
    "    within_std2_right = int(within_std2_right)\n",
    "    plt.axvline(mean_val,c='black',label='mean: ' + pretty_number(mean_val))\n",
    "    plt.axvline(within_std1_right,c='yellow',label='std1 right: ' + pretty_number(within_std1_right))\n",
    "    plt.axvline(within_std2_right,c='orange',label='std2 right: ' + pretty_number(within_std2_right))\n",
    "    \n",
    "    mean_val,within_std1_left,within_std2_left = calc_mean_within_std1_std2_left(data_series)\n",
    "    # don't have to plot mean; already drawn above\n",
    "    within_std1_left = int(within_std1_left)\n",
    "    within_std2_left = int(within_std2_left)\n",
    "    plt.axvline(within_std1_left,c='yellow',label='std1 left: ' + pretty_number(within_std1_left))\n",
    "    plt.axvline(within_std2_left,c='orange',label='std2 left: ' + pretty_number(within_std2_left))"
   ]
  },
  {
   "cell_type": "markdown",
   "metadata": {},
   "source": [
    "<a id='wrangling'></a>\n",
    "## Data Wrangling\n",
    "\n",
    ">\n",
    ">At the end of this step -- Data Wrangling -- a clean dataframe will be produced. <br> \n",
    "<a href='#clean_dataframes'/>Click this link for the final clean dataframes.</a>\n"
   ]
  },
  {
   "cell_type": "code",
   "execution_count": 4,
   "metadata": {},
   "outputs": [],
   "source": [
    "# Load your data and print out a few lines. Perform operations to inspect data\n",
    "#   types and look for instances of missing or possibly errant data.\n",
    "df_exports = pd.read_excel('raw/Exports (p of GDP).xlsx',index_col=0)\n",
    "df_fdi = pd.read_excel('raw/Foreign investment inflow.xlsx',index_col=0)  # % of GDP\n",
    "df_gdp_percapita = pd.read_excel('raw/GDPpercapitaconstant2000US.xlsx',index_col=0)\n",
    "df_imports = pd.read_excel('raw/Imports (p of GDP).xlsx',index_col=0)\n",
    "df_gdp_market = pd.read_excel('raw/total_gdp_market_prices.xlsx',index_col=0)\n"
   ]
  },
  {
   "cell_type": "code",
   "execution_count": 5,
   "metadata": {},
   "outputs": [
    {
     "data": {
      "text/html": [
       "<div>\n",
       "<style scoped>\n",
       "    .dataframe tbody tr th:only-of-type {\n",
       "        vertical-align: middle;\n",
       "    }\n",
       "\n",
       "    .dataframe tbody tr th {\n",
       "        vertical-align: top;\n",
       "    }\n",
       "\n",
       "    .dataframe thead th {\n",
       "        text-align: right;\n",
       "    }\n",
       "</style>\n",
       "<table border=\"1\" class=\"dataframe\">\n",
       "  <thead>\n",
       "    <tr style=\"text-align: right;\">\n",
       "      <th></th>\n",
       "      <th>1961</th>\n",
       "      <th>1962</th>\n",
       "      <th>1963</th>\n",
       "      <th>1964</th>\n",
       "      <th>1965</th>\n",
       "      <th>1966</th>\n",
       "      <th>1967</th>\n",
       "      <th>1968</th>\n",
       "      <th>1969</th>\n",
       "      <th>1970</th>\n",
       "      <th>...</th>\n",
       "      <th>2002</th>\n",
       "      <th>2003</th>\n",
       "      <th>2004</th>\n",
       "      <th>2005</th>\n",
       "      <th>2006</th>\n",
       "      <th>2007</th>\n",
       "      <th>2008</th>\n",
       "      <th>2009</th>\n",
       "      <th>2010</th>\n",
       "      <th>2011</th>\n",
       "    </tr>\n",
       "    <tr>\n",
       "      <th>Exports of goods and services (% of GDP)</th>\n",
       "      <th></th>\n",
       "      <th></th>\n",
       "      <th></th>\n",
       "      <th></th>\n",
       "      <th></th>\n",
       "      <th></th>\n",
       "      <th></th>\n",
       "      <th></th>\n",
       "      <th></th>\n",
       "      <th></th>\n",
       "      <th></th>\n",
       "      <th></th>\n",
       "      <th></th>\n",
       "      <th></th>\n",
       "      <th></th>\n",
       "      <th></th>\n",
       "      <th></th>\n",
       "      <th></th>\n",
       "      <th></th>\n",
       "      <th></th>\n",
       "      <th></th>\n",
       "    </tr>\n",
       "  </thead>\n",
       "  <tbody>\n",
       "    <tr>\n",
       "      <th>Abkhazia</th>\n",
       "      <td>NaN</td>\n",
       "      <td>NaN</td>\n",
       "      <td>NaN</td>\n",
       "      <td>NaN</td>\n",
       "      <td>NaN</td>\n",
       "      <td>NaN</td>\n",
       "      <td>NaN</td>\n",
       "      <td>NaN</td>\n",
       "      <td>NaN</td>\n",
       "      <td>NaN</td>\n",
       "      <td>...</td>\n",
       "      <td>NaN</td>\n",
       "      <td>NaN</td>\n",
       "      <td>NaN</td>\n",
       "      <td>NaN</td>\n",
       "      <td>NaN</td>\n",
       "      <td>NaN</td>\n",
       "      <td>NaN</td>\n",
       "      <td>NaN</td>\n",
       "      <td>NaN</td>\n",
       "      <td>NaN</td>\n",
       "    </tr>\n",
       "    <tr>\n",
       "      <th>Afghanistan</th>\n",
       "      <td>4.453443</td>\n",
       "      <td>4.878051</td>\n",
       "      <td>9.171601</td>\n",
       "      <td>8.888893</td>\n",
       "      <td>11.258279</td>\n",
       "      <td>8.571429</td>\n",
       "      <td>6.772908</td>\n",
       "      <td>8.899677</td>\n",
       "      <td>10.094637</td>\n",
       "      <td>9.784002</td>\n",
       "      <td>...</td>\n",
       "      <td>32.438501</td>\n",
       "      <td>42.2955</td>\n",
       "      <td>32.93117</td>\n",
       "      <td>30.550988</td>\n",
       "      <td>27.640178</td>\n",
       "      <td>22.926131</td>\n",
       "      <td>26.67612</td>\n",
       "      <td>22.860093</td>\n",
       "      <td>20.124519</td>\n",
       "      <td>18.106142</td>\n",
       "    </tr>\n",
       "  </tbody>\n",
       "</table>\n",
       "<p>2 rows × 51 columns</p>\n",
       "</div>"
      ],
      "text/plain": [
       "                                              1961      1962      1963  \\\n",
       "Exports of goods and services (% of GDP)                                 \n",
       "Abkhazia                                       NaN       NaN       NaN   \n",
       "Afghanistan                               4.453443  4.878051  9.171601   \n",
       "\n",
       "                                              1964       1965      1966  \\\n",
       "Exports of goods and services (% of GDP)                                  \n",
       "Abkhazia                                       NaN        NaN       NaN   \n",
       "Afghanistan                               8.888893  11.258279  8.571429   \n",
       "\n",
       "                                              1967      1968       1969  \\\n",
       "Exports of goods and services (% of GDP)                                  \n",
       "Abkhazia                                       NaN       NaN        NaN   \n",
       "Afghanistan                               6.772908  8.899677  10.094637   \n",
       "\n",
       "                                              1970    ...           2002  \\\n",
       "Exports of goods and services (% of GDP)              ...                  \n",
       "Abkhazia                                       NaN    ...            NaN   \n",
       "Afghanistan                               9.784002    ...      32.438501   \n",
       "\n",
       "                                             2003      2004       2005  \\\n",
       "Exports of goods and services (% of GDP)                                 \n",
       "Abkhazia                                      NaN       NaN        NaN   \n",
       "Afghanistan                               42.2955  32.93117  30.550988   \n",
       "\n",
       "                                               2006       2007      2008  \\\n",
       "Exports of goods and services (% of GDP)                                   \n",
       "Abkhazia                                        NaN        NaN       NaN   \n",
       "Afghanistan                               27.640178  22.926131  26.67612   \n",
       "\n",
       "                                               2009       2010       2011  \n",
       "Exports of goods and services (% of GDP)                                   \n",
       "Abkhazia                                        NaN        NaN        NaN  \n",
       "Afghanistan                               22.860093  20.124519  18.106142  \n",
       "\n",
       "[2 rows x 51 columns]"
      ]
     },
     "execution_count": 5,
     "metadata": {},
     "output_type": "execute_result"
    }
   ],
   "source": [
    "# This dataframe represents Exports of goods and services as a % GDP from year 1961 to 2011\n",
    "# This is independent variable\n",
    "df_exports.head(2)"
   ]
  },
  {
   "cell_type": "code",
   "execution_count": 6,
   "metadata": {},
   "outputs": [
    {
     "data": {
      "text/html": [
       "<div>\n",
       "<style scoped>\n",
       "    .dataframe tbody tr th:only-of-type {\n",
       "        vertical-align: middle;\n",
       "    }\n",
       "\n",
       "    .dataframe tbody tr th {\n",
       "        vertical-align: top;\n",
       "    }\n",
       "\n",
       "    .dataframe thead th {\n",
       "        text-align: right;\n",
       "    }\n",
       "</style>\n",
       "<table border=\"1\" class=\"dataframe\">\n",
       "  <thead>\n",
       "    <tr style=\"text-align: right;\">\n",
       "      <th></th>\n",
       "      <th>1970</th>\n",
       "      <th>1971</th>\n",
       "      <th>1972</th>\n",
       "      <th>1973</th>\n",
       "      <th>1974</th>\n",
       "      <th>1975</th>\n",
       "      <th>1976</th>\n",
       "      <th>1977</th>\n",
       "      <th>1978</th>\n",
       "      <th>1979</th>\n",
       "      <th>...</th>\n",
       "      <th>2002</th>\n",
       "      <th>2003</th>\n",
       "      <th>2004</th>\n",
       "      <th>2005</th>\n",
       "      <th>2006</th>\n",
       "      <th>2007</th>\n",
       "      <th>2008</th>\n",
       "      <th>2009</th>\n",
       "      <th>2010</th>\n",
       "      <th>2011</th>\n",
       "    </tr>\n",
       "    <tr>\n",
       "      <th>Foreign direct investment, net inflows (% of GDP)</th>\n",
       "      <th></th>\n",
       "      <th></th>\n",
       "      <th></th>\n",
       "      <th></th>\n",
       "      <th></th>\n",
       "      <th></th>\n",
       "      <th></th>\n",
       "      <th></th>\n",
       "      <th></th>\n",
       "      <th></th>\n",
       "      <th></th>\n",
       "      <th></th>\n",
       "      <th></th>\n",
       "      <th></th>\n",
       "      <th></th>\n",
       "      <th></th>\n",
       "      <th></th>\n",
       "      <th></th>\n",
       "      <th></th>\n",
       "      <th></th>\n",
       "      <th></th>\n",
       "    </tr>\n",
       "  </thead>\n",
       "  <tbody>\n",
       "    <tr>\n",
       "      <th>Afghanistan</th>\n",
       "      <td>0.013151</td>\n",
       "      <td>0.024575</td>\n",
       "      <td>0.009401</td>\n",
       "      <td>0.015577</td>\n",
       "      <td>NaN</td>\n",
       "      <td>NaN</td>\n",
       "      <td>0.001565</td>\n",
       "      <td>-0.008126</td>\n",
       "      <td>NaN</td>\n",
       "      <td>0.03245</td>\n",
       "      <td>...</td>\n",
       "      <td>1.152364</td>\n",
       "      <td>1.212725</td>\n",
       "      <td>3.276532</td>\n",
       "      <td>3.976666</td>\n",
       "      <td>3.082130</td>\n",
       "      <td>2.503252</td>\n",
       "      <td>2.51250</td>\n",
       "      <td>1.301564</td>\n",
       "      <td>0.438726</td>\n",
       "      <td>NaN</td>\n",
       "    </tr>\n",
       "    <tr>\n",
       "      <th>Albania</th>\n",
       "      <td>NaN</td>\n",
       "      <td>NaN</td>\n",
       "      <td>NaN</td>\n",
       "      <td>NaN</td>\n",
       "      <td>NaN</td>\n",
       "      <td>NaN</td>\n",
       "      <td>NaN</td>\n",
       "      <td>NaN</td>\n",
       "      <td>NaN</td>\n",
       "      <td>NaN</td>\n",
       "      <td>...</td>\n",
       "      <td>3.034135</td>\n",
       "      <td>3.149791</td>\n",
       "      <td>4.572142</td>\n",
       "      <td>3.133523</td>\n",
       "      <td>3.561523</td>\n",
       "      <td>6.186838</td>\n",
       "      <td>7.39089</td>\n",
       "      <td>8.008638</td>\n",
       "      <td>9.414123</td>\n",
       "      <td>NaN</td>\n",
       "    </tr>\n",
       "  </tbody>\n",
       "</table>\n",
       "<p>2 rows × 42 columns</p>\n",
       "</div>"
      ],
      "text/plain": [
       "                                                       1970      1971  \\\n",
       "Foreign direct investment, net inflows (% of GDP)                       \n",
       "Afghanistan                                        0.013151  0.024575   \n",
       "Albania                                                 NaN       NaN   \n",
       "\n",
       "                                                       1972      1973  1974  \\\n",
       "Foreign direct investment, net inflows (% of GDP)                             \n",
       "Afghanistan                                        0.009401  0.015577   NaN   \n",
       "Albania                                                 NaN       NaN   NaN   \n",
       "\n",
       "                                                   1975      1976      1977  \\\n",
       "Foreign direct investment, net inflows (% of GDP)                             \n",
       "Afghanistan                                         NaN  0.001565 -0.008126   \n",
       "Albania                                             NaN       NaN       NaN   \n",
       "\n",
       "                                                   1978     1979  ...   \\\n",
       "Foreign direct investment, net inflows (% of GDP)                 ...    \n",
       "Afghanistan                                         NaN  0.03245  ...    \n",
       "Albania                                             NaN      NaN  ...    \n",
       "\n",
       "                                                       2002      2003  \\\n",
       "Foreign direct investment, net inflows (% of GDP)                       \n",
       "Afghanistan                                        1.152364  1.212725   \n",
       "Albania                                            3.034135  3.149791   \n",
       "\n",
       "                                                       2004      2005  \\\n",
       "Foreign direct investment, net inflows (% of GDP)                       \n",
       "Afghanistan                                        3.276532  3.976666   \n",
       "Albania                                            4.572142  3.133523   \n",
       "\n",
       "                                                       2006      2007  \\\n",
       "Foreign direct investment, net inflows (% of GDP)                       \n",
       "Afghanistan                                        3.082130  2.503252   \n",
       "Albania                                            3.561523  6.186838   \n",
       "\n",
       "                                                      2008      2009  \\\n",
       "Foreign direct investment, net inflows (% of GDP)                      \n",
       "Afghanistan                                        2.51250  1.301564   \n",
       "Albania                                            7.39089  8.008638   \n",
       "\n",
       "                                                       2010  2011  \n",
       "Foreign direct investment, net inflows (% of GDP)                  \n",
       "Afghanistan                                        0.438726   NaN  \n",
       "Albania                                            9.414123   NaN  \n",
       "\n",
       "[2 rows x 42 columns]"
      ]
     },
     "execution_count": 6,
     "metadata": {},
     "output_type": "execute_result"
    }
   ],
   "source": [
    "# This dataframe represents Foreign Direct Investment as a % of GDP from year 1970 to 2011\n",
    "# This is independent variable\n",
    "df_fdi.head(2)"
   ]
  },
  {
   "cell_type": "code",
   "execution_count": 7,
   "metadata": {},
   "outputs": [
    {
     "data": {
      "text/html": [
       "<div>\n",
       "<style scoped>\n",
       "    .dataframe tbody tr th:only-of-type {\n",
       "        vertical-align: middle;\n",
       "    }\n",
       "\n",
       "    .dataframe tbody tr th {\n",
       "        vertical-align: top;\n",
       "    }\n",
       "\n",
       "    .dataframe thead th {\n",
       "        text-align: right;\n",
       "    }\n",
       "</style>\n",
       "<table border=\"1\" class=\"dataframe\">\n",
       "  <thead>\n",
       "    <tr style=\"text-align: right;\">\n",
       "      <th></th>\n",
       "      <th>1960</th>\n",
       "      <th>1961</th>\n",
       "      <th>1962</th>\n",
       "      <th>1963</th>\n",
       "      <th>1964</th>\n",
       "      <th>1965</th>\n",
       "      <th>1966</th>\n",
       "      <th>1967</th>\n",
       "      <th>1968</th>\n",
       "      <th>1969</th>\n",
       "      <th>...</th>\n",
       "      <th>2002</th>\n",
       "      <th>2003</th>\n",
       "      <th>2004</th>\n",
       "      <th>2005</th>\n",
       "      <th>2006</th>\n",
       "      <th>2007</th>\n",
       "      <th>2008</th>\n",
       "      <th>2009</th>\n",
       "      <th>2010</th>\n",
       "      <th>2011</th>\n",
       "    </tr>\n",
       "    <tr>\n",
       "      <th>Income per person (fixed 2000 US$)</th>\n",
       "      <th></th>\n",
       "      <th></th>\n",
       "      <th></th>\n",
       "      <th></th>\n",
       "      <th></th>\n",
       "      <th></th>\n",
       "      <th></th>\n",
       "      <th></th>\n",
       "      <th></th>\n",
       "      <th></th>\n",
       "      <th></th>\n",
       "      <th></th>\n",
       "      <th></th>\n",
       "      <th></th>\n",
       "      <th></th>\n",
       "      <th></th>\n",
       "      <th></th>\n",
       "      <th></th>\n",
       "      <th></th>\n",
       "      <th></th>\n",
       "      <th></th>\n",
       "    </tr>\n",
       "  </thead>\n",
       "  <tbody>\n",
       "    <tr>\n",
       "      <th>Abkhazia</th>\n",
       "      <td>NaN</td>\n",
       "      <td>NaN</td>\n",
       "      <td>NaN</td>\n",
       "      <td>NaN</td>\n",
       "      <td>NaN</td>\n",
       "      <td>NaN</td>\n",
       "      <td>NaN</td>\n",
       "      <td>NaN</td>\n",
       "      <td>NaN</td>\n",
       "      <td>NaN</td>\n",
       "      <td>...</td>\n",
       "      <td>NaN</td>\n",
       "      <td>NaN</td>\n",
       "      <td>NaN</td>\n",
       "      <td>NaN</td>\n",
       "      <td>NaN</td>\n",
       "      <td>NaN</td>\n",
       "      <td>NaN</td>\n",
       "      <td>NaN</td>\n",
       "      <td>NaN</td>\n",
       "      <td>NaN</td>\n",
       "    </tr>\n",
       "    <tr>\n",
       "      <th>Afghanistan</th>\n",
       "      <td>NaN</td>\n",
       "      <td>NaN</td>\n",
       "      <td>NaN</td>\n",
       "      <td>NaN</td>\n",
       "      <td>NaN</td>\n",
       "      <td>NaN</td>\n",
       "      <td>NaN</td>\n",
       "      <td>NaN</td>\n",
       "      <td>NaN</td>\n",
       "      <td>NaN</td>\n",
       "      <td>...</td>\n",
       "      <td>NaN</td>\n",
       "      <td>NaN</td>\n",
       "      <td>NaN</td>\n",
       "      <td>NaN</td>\n",
       "      <td>NaN</td>\n",
       "      <td>NaN</td>\n",
       "      <td>NaN</td>\n",
       "      <td>NaN</td>\n",
       "      <td>NaN</td>\n",
       "      <td>NaN</td>\n",
       "    </tr>\n",
       "  </tbody>\n",
       "</table>\n",
       "<p>2 rows × 52 columns</p>\n",
       "</div>"
      ],
      "text/plain": [
       "                                    1960  1961  1962  1963  1964  1965  1966  \\\n",
       "Income per person (fixed 2000 US$)                                             \n",
       "Abkhazia                             NaN   NaN   NaN   NaN   NaN   NaN   NaN   \n",
       "Afghanistan                          NaN   NaN   NaN   NaN   NaN   NaN   NaN   \n",
       "\n",
       "                                    1967  1968  1969  ...   2002  2003  2004  \\\n",
       "Income per person (fixed 2000 US$)                    ...                      \n",
       "Abkhazia                             NaN   NaN   NaN  ...    NaN   NaN   NaN   \n",
       "Afghanistan                          NaN   NaN   NaN  ...    NaN   NaN   NaN   \n",
       "\n",
       "                                    2005  2006  2007  2008  2009  2010  2011  \n",
       "Income per person (fixed 2000 US$)                                            \n",
       "Abkhazia                             NaN   NaN   NaN   NaN   NaN   NaN   NaN  \n",
       "Afghanistan                          NaN   NaN   NaN   NaN   NaN   NaN   NaN  \n",
       "\n",
       "[2 rows x 52 columns]"
      ]
     },
     "execution_count": 7,
     "metadata": {},
     "output_type": "execute_result"
    }
   ],
   "source": [
    "# This dataframe represents GDP per capita in US Dollars from 1960 to 2011\n",
    "# This is the target for this project. A dependent variable\n",
    "df_gdp_percapita.head(2)"
   ]
  },
  {
   "cell_type": "code",
   "execution_count": 8,
   "metadata": {},
   "outputs": [
    {
     "data": {
      "text/html": [
       "<div>\n",
       "<style scoped>\n",
       "    .dataframe tbody tr th:only-of-type {\n",
       "        vertical-align: middle;\n",
       "    }\n",
       "\n",
       "    .dataframe tbody tr th {\n",
       "        vertical-align: top;\n",
       "    }\n",
       "\n",
       "    .dataframe thead th {\n",
       "        text-align: right;\n",
       "    }\n",
       "</style>\n",
       "<table border=\"1\" class=\"dataframe\">\n",
       "  <thead>\n",
       "    <tr style=\"text-align: right;\">\n",
       "      <th></th>\n",
       "      <th>1960</th>\n",
       "      <th>1961</th>\n",
       "      <th>1962</th>\n",
       "      <th>1963</th>\n",
       "      <th>1964</th>\n",
       "      <th>1965</th>\n",
       "      <th>1966</th>\n",
       "      <th>1967</th>\n",
       "      <th>1968</th>\n",
       "      <th>1969</th>\n",
       "      <th>...</th>\n",
       "      <th>2002</th>\n",
       "      <th>2003</th>\n",
       "      <th>2004</th>\n",
       "      <th>2005</th>\n",
       "      <th>2006</th>\n",
       "      <th>2007</th>\n",
       "      <th>2008</th>\n",
       "      <th>2009</th>\n",
       "      <th>2010</th>\n",
       "      <th>2011</th>\n",
       "    </tr>\n",
       "    <tr>\n",
       "      <th>Imports of goods and services (% of GDP)</th>\n",
       "      <th></th>\n",
       "      <th></th>\n",
       "      <th></th>\n",
       "      <th></th>\n",
       "      <th></th>\n",
       "      <th></th>\n",
       "      <th></th>\n",
       "      <th></th>\n",
       "      <th></th>\n",
       "      <th></th>\n",
       "      <th></th>\n",
       "      <th></th>\n",
       "      <th></th>\n",
       "      <th></th>\n",
       "      <th></th>\n",
       "      <th></th>\n",
       "      <th></th>\n",
       "      <th></th>\n",
       "      <th></th>\n",
       "      <th></th>\n",
       "      <th></th>\n",
       "    </tr>\n",
       "  </thead>\n",
       "  <tbody>\n",
       "    <tr>\n",
       "      <th>Afghanistan</th>\n",
       "      <td>7.024793</td>\n",
       "      <td>8.097166</td>\n",
       "      <td>9.349593</td>\n",
       "      <td>16.86391</td>\n",
       "      <td>18.055555</td>\n",
       "      <td>21.412804</td>\n",
       "      <td>18.571429</td>\n",
       "      <td>14.209827</td>\n",
       "      <td>15.210356</td>\n",
       "      <td>14.984227</td>\n",
       "      <td>...</td>\n",
       "      <td>61.599727</td>\n",
       "      <td>90.84032</td>\n",
       "      <td>77.566508</td>\n",
       "      <td>71.264727</td>\n",
       "      <td>67.70616</td>\n",
       "      <td>59.000138</td>\n",
       "      <td>47.654833</td>\n",
       "      <td>59.915922</td>\n",
       "      <td>53.562257</td>\n",
       "      <td>NaN</td>\n",
       "    </tr>\n",
       "    <tr>\n",
       "      <th>Albania</th>\n",
       "      <td>NaN</td>\n",
       "      <td>NaN</td>\n",
       "      <td>NaN</td>\n",
       "      <td>NaN</td>\n",
       "      <td>NaN</td>\n",
       "      <td>NaN</td>\n",
       "      <td>NaN</td>\n",
       "      <td>NaN</td>\n",
       "      <td>NaN</td>\n",
       "      <td>NaN</td>\n",
       "      <td>...</td>\n",
       "      <td>46.716601</td>\n",
       "      <td>45.87424</td>\n",
       "      <td>43.306502</td>\n",
       "      <td>46.326121</td>\n",
       "      <td>49.15114</td>\n",
       "      <td>54.964723</td>\n",
       "      <td>56.119277</td>\n",
       "      <td>54.235682</td>\n",
       "      <td>51.752734</td>\n",
       "      <td>NaN</td>\n",
       "    </tr>\n",
       "  </tbody>\n",
       "</table>\n",
       "<p>2 rows × 52 columns</p>\n",
       "</div>"
      ],
      "text/plain": [
       "                                              1960      1961      1962  \\\n",
       "Imports of goods and services (% of GDP)                                 \n",
       "Afghanistan                               7.024793  8.097166  9.349593   \n",
       "Albania                                        NaN       NaN       NaN   \n",
       "\n",
       "                                              1963       1964       1965  \\\n",
       "Imports of goods and services (% of GDP)                                   \n",
       "Afghanistan                               16.86391  18.055555  21.412804   \n",
       "Albania                                        NaN        NaN        NaN   \n",
       "\n",
       "                                               1966       1967       1968  \\\n",
       "Imports of goods and services (% of GDP)                                    \n",
       "Afghanistan                               18.571429  14.209827  15.210356   \n",
       "Albania                                         NaN        NaN        NaN   \n",
       "\n",
       "                                               1969  ...        2002  \\\n",
       "Imports of goods and services (% of GDP)             ...               \n",
       "Afghanistan                               14.984227  ...   61.599727   \n",
       "Albania                                         NaN  ...   46.716601   \n",
       "\n",
       "                                              2003       2004       2005  \\\n",
       "Imports of goods and services (% of GDP)                                   \n",
       "Afghanistan                               90.84032  77.566508  71.264727   \n",
       "Albania                                   45.87424  43.306502  46.326121   \n",
       "\n",
       "                                              2006       2007       2008  \\\n",
       "Imports of goods and services (% of GDP)                                   \n",
       "Afghanistan                               67.70616  59.000138  47.654833   \n",
       "Albania                                   49.15114  54.964723  56.119277   \n",
       "\n",
       "                                               2009       2010  2011  \n",
       "Imports of goods and services (% of GDP)                              \n",
       "Afghanistan                               59.915922  53.562257   NaN  \n",
       "Albania                                   54.235682  51.752734   NaN  \n",
       "\n",
       "[2 rows x 52 columns]"
      ]
     },
     "execution_count": 8,
     "metadata": {},
     "output_type": "execute_result"
    }
   ],
   "source": [
    "# This dataframe represents Imports of Goods and Services as % of GDP from 1960 to 2011\n",
    "# This is a independent variable\n",
    "df_imports.head(2)"
   ]
  },
  {
   "cell_type": "code",
   "execution_count": 9,
   "metadata": {},
   "outputs": [
    {
     "data": {
      "text/html": [
       "<div>\n",
       "<style scoped>\n",
       "    .dataframe tbody tr th:only-of-type {\n",
       "        vertical-align: middle;\n",
       "    }\n",
       "\n",
       "    .dataframe tbody tr th {\n",
       "        vertical-align: top;\n",
       "    }\n",
       "\n",
       "    .dataframe thead th {\n",
       "        text-align: right;\n",
       "    }\n",
       "</style>\n",
       "<table border=\"1\" class=\"dataframe\">\n",
       "  <thead>\n",
       "    <tr style=\"text-align: right;\">\n",
       "      <th></th>\n",
       "      <th>1960</th>\n",
       "      <th>1961</th>\n",
       "      <th>1962</th>\n",
       "      <th>1963</th>\n",
       "      <th>1964</th>\n",
       "      <th>1965</th>\n",
       "      <th>1966</th>\n",
       "      <th>1967</th>\n",
       "      <th>1968</th>\n",
       "      <th>1969</th>\n",
       "      <th>...</th>\n",
       "      <th>2002</th>\n",
       "      <th>2003</th>\n",
       "      <th>2004</th>\n",
       "      <th>2005</th>\n",
       "      <th>2006</th>\n",
       "      <th>2007</th>\n",
       "      <th>2008</th>\n",
       "      <th>2009</th>\n",
       "      <th>2010</th>\n",
       "      <th>2011</th>\n",
       "    </tr>\n",
       "    <tr>\n",
       "      <th>GDP (constant 2000 US$)</th>\n",
       "      <th></th>\n",
       "      <th></th>\n",
       "      <th></th>\n",
       "      <th></th>\n",
       "      <th></th>\n",
       "      <th></th>\n",
       "      <th></th>\n",
       "      <th></th>\n",
       "      <th></th>\n",
       "      <th></th>\n",
       "      <th></th>\n",
       "      <th></th>\n",
       "      <th></th>\n",
       "      <th></th>\n",
       "      <th></th>\n",
       "      <th></th>\n",
       "      <th></th>\n",
       "      <th></th>\n",
       "      <th></th>\n",
       "      <th></th>\n",
       "      <th></th>\n",
       "    </tr>\n",
       "  </thead>\n",
       "  <tbody>\n",
       "    <tr>\n",
       "      <th>Abkhazia</th>\n",
       "      <td>NaN</td>\n",
       "      <td>NaN</td>\n",
       "      <td>NaN</td>\n",
       "      <td>NaN</td>\n",
       "      <td>NaN</td>\n",
       "      <td>NaN</td>\n",
       "      <td>NaN</td>\n",
       "      <td>NaN</td>\n",
       "      <td>NaN</td>\n",
       "      <td>NaN</td>\n",
       "      <td>...</td>\n",
       "      <td>NaN</td>\n",
       "      <td>NaN</td>\n",
       "      <td>NaN</td>\n",
       "      <td>NaN</td>\n",
       "      <td>NaN</td>\n",
       "      <td>NaN</td>\n",
       "      <td>NaN</td>\n",
       "      <td>NaN</td>\n",
       "      <td>NaN</td>\n",
       "      <td>NaN</td>\n",
       "    </tr>\n",
       "    <tr>\n",
       "      <th>Afghanistan</th>\n",
       "      <td>NaN</td>\n",
       "      <td>NaN</td>\n",
       "      <td>NaN</td>\n",
       "      <td>NaN</td>\n",
       "      <td>NaN</td>\n",
       "      <td>NaN</td>\n",
       "      <td>NaN</td>\n",
       "      <td>NaN</td>\n",
       "      <td>NaN</td>\n",
       "      <td>NaN</td>\n",
       "      <td>...</td>\n",
       "      <td>NaN</td>\n",
       "      <td>NaN</td>\n",
       "      <td>NaN</td>\n",
       "      <td>NaN</td>\n",
       "      <td>NaN</td>\n",
       "      <td>NaN</td>\n",
       "      <td>NaN</td>\n",
       "      <td>NaN</td>\n",
       "      <td>NaN</td>\n",
       "      <td>NaN</td>\n",
       "    </tr>\n",
       "  </tbody>\n",
       "</table>\n",
       "<p>2 rows × 52 columns</p>\n",
       "</div>"
      ],
      "text/plain": [
       "                         1960  1961  1962  1963  1964  1965  1966  1967  1968  \\\n",
       "GDP (constant 2000 US$)                                                         \n",
       "Abkhazia                  NaN   NaN   NaN   NaN   NaN   NaN   NaN   NaN   NaN   \n",
       "Afghanistan               NaN   NaN   NaN   NaN   NaN   NaN   NaN   NaN   NaN   \n",
       "\n",
       "                         1969  ...   2002  2003  2004  2005  2006  2007  2008  \\\n",
       "GDP (constant 2000 US$)        ...                                              \n",
       "Abkhazia                  NaN  ...    NaN   NaN   NaN   NaN   NaN   NaN   NaN   \n",
       "Afghanistan               NaN  ...    NaN   NaN   NaN   NaN   NaN   NaN   NaN   \n",
       "\n",
       "                         2009  2010  2011  \n",
       "GDP (constant 2000 US$)                    \n",
       "Abkhazia                  NaN   NaN   NaN  \n",
       "Afghanistan               NaN   NaN   NaN  \n",
       "\n",
       "[2 rows x 52 columns]"
      ]
     },
     "execution_count": 9,
     "metadata": {},
     "output_type": "execute_result"
    }
   ],
   "source": [
    "# This dataframe represents GDP in US dollars using year 2000 as base year.\n",
    "# This GDP is not in Purchasing Power Parity (PPP)\n",
    "# This is independent variable\n",
    "df_gdp_market.head(2)"
   ]
  },
  {
   "cell_type": "markdown",
   "metadata": {},
   "source": [
    "<a id='CleaningFirstStage'></a>\n",
    "### Data Cleaning -- First Stage: Make all column names and indexes in all dataframes identical\n",
    "\n",
    ">In this first Stage, the goal is to make all dataframes to have identical number <br>\n",
    ">of indexes and columns. \n",
    ">\n",
    "><ul/>\n",
    "><li/>First, I will transpose all dataframes. The reason why I transpose dataframes is given below.</li/>\n",
    "<br>\n",
    "><li/>Second, I will drop columns based on this criteria: if the columns contain 40% or more NaN,\n",
    ">I will drop the column.</li>\n",
    "<br>\n",
    "><li/>Third, I will use the <a href='https://www.geeksforgeeks.org/python-program-find-common-elements-three-lists-using-sets/'/> intersection technique </a>to obtain common columns. So all column names in all <br>\n",
    ">dataframes will be identical. </li><br>\n",
    "><li/>Fourth, I will use the same intersection  technique to obtain identical indexes</li>\n",
    "<br>\n",
    "><li/>Fifth, fill NaN with the mean of each column</li>\n",
    "</ul>\n",
    ">\n",
    ">At the end of the this state, all column names and indexes will be identical in all <br>\n",
    ">dataframes. The index 'year' will be an int type. Finally, save all dataframes into clean folder."
   ]
  },
  {
   "cell_type": "markdown",
   "metadata": {},
   "source": [
    "**Why I transpose my dataframe?**\n",
    "\n",
    ">Because initially I thought, it's easier to work with countries as columns.<br>\n",
    "For exampe df['Country'] instead of df[Years...]\n",
    ">\n",
    ">Later I realize having countries as index is also very useful when using pd.pivot_table.<br>\n",
    ">Inspiration <a href='https://www.dataquest.io/blog/pandas-pivot-table/'/>from this link.</a> \n",
    ">\n",
    ">At this stage, I was forced to think about independent and dependent variables.<br>\n",
    "I also read DAND's Section 3 of Lesson 14: Regression. It clears up my understanding <br>\n",
    "of independent (explanatory) and dependent (response) variables.  <br>\n",
    "I designate GDP per capita as my dependent variable.<br>\n",
    "Exports, FDI, Imports and GDP_market will be my independent variables.\n",
    ">\n",
    ">But as after thought, both format -- original and transposed -- are equally<br>\n",
    "important, if you know what purpose each format serves."
   ]
  },
  {
   "cell_type": "code",
   "execution_count": 10,
   "metadata": {},
   "outputs": [],
   "source": [
    "# Transpose all DataFrames\n",
    "df_exports_T = df_exports.T\n",
    "df_fdi_T = df_fdi.T\n",
    "df_gdp_percapita_T = df_gdp_percapita.T\n",
    "df_imports_T = df_imports.T\n",
    "df_gdp_market_T = df_gdp_market.T\n",
    "\n",
    "#Make a Transposed DataFrame list\n",
    "df_lists_T = [df_exports_T,df_fdi_T,df_gdp_percapita_T,df_imports_T,df_gdp_market_T]"
   ]
  },
  {
   "cell_type": "code",
   "execution_count": 11,
   "metadata": {},
   "outputs": [
    {
     "data": {
      "text/html": [
       "<div>\n",
       "<style scoped>\n",
       "    .dataframe tbody tr th:only-of-type {\n",
       "        vertical-align: middle;\n",
       "    }\n",
       "\n",
       "    .dataframe tbody tr th {\n",
       "        vertical-align: top;\n",
       "    }\n",
       "\n",
       "    .dataframe thead th {\n",
       "        text-align: right;\n",
       "    }\n",
       "</style>\n",
       "<table border=\"1\" class=\"dataframe\">\n",
       "  <thead>\n",
       "    <tr style=\"text-align: right;\">\n",
       "      <th>Exports of goods and services (% of GDP)</th>\n",
       "      <th>Abkhazia</th>\n",
       "      <th>Afghanistan</th>\n",
       "      <th>Akrotiri and Dhekelia</th>\n",
       "      <th>Albania</th>\n",
       "      <th>Algeria</th>\n",
       "      <th>American Samoa</th>\n",
       "      <th>Andorra</th>\n",
       "      <th>Angola</th>\n",
       "      <th>Anguilla</th>\n",
       "      <th>Antigua and Barbuda</th>\n",
       "      <th>...</th>\n",
       "      <th>Antarctica</th>\n",
       "      <th>Virgin Islands, British</th>\n",
       "      <th>Hawaiian Trade Zone</th>\n",
       "      <th>U.S. Pacific Islands</th>\n",
       "      <th>Wake Island</th>\n",
       "      <th>Bonaire</th>\n",
       "      <th>Sark</th>\n",
       "      <th>Chinese Taipei</th>\n",
       "      <th>Saint Eustatius</th>\n",
       "      <th>Saba</th>\n",
       "    </tr>\n",
       "  </thead>\n",
       "  <tbody>\n",
       "    <tr>\n",
       "      <th>1961</th>\n",
       "      <td>NaN</td>\n",
       "      <td>4.453443</td>\n",
       "      <td>NaN</td>\n",
       "      <td>NaN</td>\n",
       "      <td>46.244557</td>\n",
       "      <td>NaN</td>\n",
       "      <td>NaN</td>\n",
       "      <td>NaN</td>\n",
       "      <td>NaN</td>\n",
       "      <td>NaN</td>\n",
       "      <td>...</td>\n",
       "      <td>NaN</td>\n",
       "      <td>NaN</td>\n",
       "      <td>NaN</td>\n",
       "      <td>NaN</td>\n",
       "      <td>NaN</td>\n",
       "      <td>NaN</td>\n",
       "      <td>NaN</td>\n",
       "      <td>NaN</td>\n",
       "      <td>NaN</td>\n",
       "      <td>NaN</td>\n",
       "    </tr>\n",
       "    <tr>\n",
       "      <th>1962</th>\n",
       "      <td>NaN</td>\n",
       "      <td>4.878051</td>\n",
       "      <td>NaN</td>\n",
       "      <td>NaN</td>\n",
       "      <td>19.793872</td>\n",
       "      <td>NaN</td>\n",
       "      <td>NaN</td>\n",
       "      <td>NaN</td>\n",
       "      <td>NaN</td>\n",
       "      <td>NaN</td>\n",
       "      <td>...</td>\n",
       "      <td>NaN</td>\n",
       "      <td>NaN</td>\n",
       "      <td>NaN</td>\n",
       "      <td>NaN</td>\n",
       "      <td>NaN</td>\n",
       "      <td>NaN</td>\n",
       "      <td>NaN</td>\n",
       "      <td>NaN</td>\n",
       "      <td>NaN</td>\n",
       "      <td>NaN</td>\n",
       "    </tr>\n",
       "  </tbody>\n",
       "</table>\n",
       "<p>2 rows × 275 columns</p>\n",
       "</div>"
      ],
      "text/plain": [
       "Exports of goods and services (% of GDP)  Abkhazia  Afghanistan  \\\n",
       "1961                                           NaN     4.453443   \n",
       "1962                                           NaN     4.878051   \n",
       "\n",
       "Exports of goods and services (% of GDP)  Akrotiri and Dhekelia  Albania  \\\n",
       "1961                                                        NaN      NaN   \n",
       "1962                                                        NaN      NaN   \n",
       "\n",
       "Exports of goods and services (% of GDP)    Algeria  American Samoa  Andorra  \\\n",
       "1961                                      46.244557             NaN      NaN   \n",
       "1962                                      19.793872             NaN      NaN   \n",
       "\n",
       "Exports of goods and services (% of GDP)  Angola  Anguilla  \\\n",
       "1961                                         NaN       NaN   \n",
       "1962                                         NaN       NaN   \n",
       "\n",
       "Exports of goods and services (% of GDP)  Antigua and Barbuda  ...   \\\n",
       "1961                                                      NaN  ...    \n",
       "1962                                                      NaN  ...    \n",
       "\n",
       "Exports of goods and services (% of GDP)  Antarctica  Virgin Islands, British  \\\n",
       "1961                                             NaN                      NaN   \n",
       "1962                                             NaN                      NaN   \n",
       "\n",
       "Exports of goods and services (% of GDP)  Hawaiian Trade Zone  \\\n",
       "1961                                                      NaN   \n",
       "1962                                                      NaN   \n",
       "\n",
       "Exports of goods and services (% of GDP)  U.S. Pacific Islands  Wake Island  \\\n",
       "1961                                                       NaN          NaN   \n",
       "1962                                                       NaN          NaN   \n",
       "\n",
       "Exports of goods and services (% of GDP)  Bonaire  Sark  Chinese Taipei  \\\n",
       "1961                                          NaN   NaN             NaN   \n",
       "1962                                          NaN   NaN             NaN   \n",
       "\n",
       "Exports of goods and services (% of GDP)  Saint Eustatius  Saba  \n",
       "1961                                                  NaN   NaN  \n",
       "1962                                                  NaN   NaN  \n",
       "\n",
       "[2 rows x 275 columns]"
      ]
     },
     "execution_count": 11,
     "metadata": {},
     "output_type": "execute_result"
    }
   ],
   "source": [
    "# Transposed DataFrame. So now index is years and columns are countries\n",
    "# I only do one for df_exports_T dataframe.\n",
    "# I won't print the heads of df_fdi_T, df_gdp_percapita_T, df_imports_T, and df_gdp_market_T.\n",
    "df_exports_T.head(2)"
   ]
  },
  {
   "cell_type": "code",
   "execution_count": 12,
   "metadata": {},
   "outputs": [
    {
     "data": {
      "text/plain": [
       "((51, 275), (42, 213), (52, 275), (52, 213), (52, 270))"
      ]
     },
     "execution_count": 12,
     "metadata": {},
     "output_type": "execute_result"
    }
   ],
   "source": [
    "df_exports_T.shape,df_fdi_T.shape,df_gdp_percapita_T.shape,df_imports_T.shape,df_gdp_market_T.shape"
   ]
  },
  {
   "cell_type": "code",
   "execution_count": 13,
   "metadata": {},
   "outputs": [],
   "source": [
    "# Drop columns so data is at least 60% filled and 40% NaN in *each column*\n",
    "# Therefore, if a country column contains more than 20% NaN, it will be dropped!\n",
    "for df_T in df_lists_T:\n",
    "    drop_df_columns(df_T,0.60)"
   ]
  },
  {
   "cell_type": "code",
   "execution_count": 14,
   "metadata": {},
   "outputs": [
    {
     "data": {
      "text/plain": [
       "((51, 138), (42, 134), (52, 142), (52, 123), (52, 140))"
      ]
     },
     "execution_count": 14,
     "metadata": {},
     "output_type": "execute_result"
    }
   ],
   "source": [
    "# Note the shape[1].\n",
    "# For exports, column countries have been dropped from 275 --> 138\n",
    "# For fdi, column countries have been dropped from 213 --> 134\n",
    "# For gdp_percapita, column countries have been dropped from 275 --> 142\n",
    "# For imports, column countries have been dropped from 213 --> 123\n",
    "# For gdp_market, column countries have been dropped from 270 --> 140\n",
    "# Note: the column countries are different. The goal is to make them the same numbers.\n",
    "# I will use the concept of merging two SQL table with Inner Join as demonstrated\n",
    "# in case study 2 of Udacity DAND. \n",
    "# In my case, I use andy_IntersectSets()\n",
    "df_exports_T.shape,df_fdi_T.shape,df_gdp_percapita_T.shape,df_imports_T.shape,df_gdp_market_T.shape"
   ]
  },
  {
   "cell_type": "code",
   "execution_count": 15,
   "metadata": {},
   "outputs": [
    {
     "name": "stdout",
     "output_type": "stream",
     "text": [
      "These countries in the desired list will be used in our project because each column contains at least 60% filled data\n",
      "Number of countries that will be used 107.\n",
      "\n",
      "\n",
      "['Colombia', 'Congo, Dem. Rep.', 'Austria', 'Thailand', 'Nicaragua', 'United States', 'Papua New Guinea', 'Mexico', 'Mauritania', 'Togo', 'Malta', 'Benin', 'Burundi', 'Greece', 'India', 'Gambia', 'Gabon', 'Germany', 'Mauritius', 'Lesotho', 'Iran', 'Turkey', 'Burkina Faso', 'Barbados', 'Ghana', 'Uruguay', 'Zimbabwe', 'Congo, Rep.', 'Mali', 'Syria', 'Nigeria', 'Honduras', 'Bangladesh', 'China', 'Botswana', 'Kiribati', 'Jamaica', 'Morocco', 'Tunisia', 'Cuba', 'Malaysia', 'Costa Rica', 'Bahamas', 'Norway', 'Cameroon', 'Oman', 'Swaziland', 'Egypt', 'Nepal', 'Zambia', 'Guinea-Bissau', 'Kenya', 'Paraguay', 'Algeria', 'Ecuador', 'Finland', 'Australia', 'Brazil', 'New Zealand', 'Iceland', 'Bolivia', 'Israel', 'Italy', 'Fiji', 'Suriname', 'Philippines', 'Niger', 'Japan', 'Grenada', 'Spain', 'South Africa', 'Peru', 'Guatemala', 'France', 'Antigua and Barbuda', 'Chad', 'Rwanda', 'Dominica', 'Sudan', \"Cote d'Ivoire\", 'Cyprus', 'Switzerland', 'Madagascar', 'Singapore', 'Seychelles', 'Portugal', 'Trinidad and Tobago', 'Indonesia', 'Liberia', 'Guyana', 'Denmark', 'Canada', 'Chile', 'Malawi', 'Sierra Leone', 'El Salvador', 'Luxembourg', 'Netherlands', 'Jordan', 'Venezuela', 'Pakistan', 'Sweden', 'Senegal', 'Sri Lanka', 'United Kingdom', 'Argentina', 'Saudi Arabia']\n"
     ]
    }
   ],
   "source": [
    "#Now we reduce the country columns to be the same. we want the intersections of these columns. IOW merging INNER JOIN\n",
    "desired_list = andy_IntersectSets(df_exports_T.columns.tolist(),df_fdi_T.columns.tolist(), \\\n",
    "                    df_gdp_percapita_T.columns.tolist(),df_imports_T.columns.tolist(),df_gdp_market_T.columns.tolist())\n",
    "print(\"These countries in the desired list will be used in our project because each column contains at least 60% filled data\")\n",
    "print(\"Number of countries that will be used {0}.\".format(len(desired_list)))\n",
    "print(\"\\n\")\n",
    "print(desired_list)"
   ]
  },
  {
   "cell_type": "code",
   "execution_count": 16,
   "metadata": {},
   "outputs": [],
   "source": [
    "#now drop columns country that we don't want ie., countries not in the desired list\n",
    "for df_T in df_lists_T:\n",
    "    drop_cols(df_T,desired_list)"
   ]
  },
  {
   "cell_type": "code",
   "execution_count": 17,
   "metadata": {},
   "outputs": [
    {
     "data": {
      "text/plain": [
       "((51, 107), (42, 107), (52, 107), (52, 107), (52, 107))"
      ]
     },
     "execution_count": 17,
     "metadata": {},
     "output_type": "execute_result"
    }
   ],
   "source": [
    "#Resulting dataframes. Note all shape[1] have the same number\n",
    "df_exports_T.shape,df_fdi_T.shape,df_gdp_percapita_T.shape,df_imports_T.shape,df_gdp_market_T.shape"
   ]
  },
  {
   "cell_type": "code",
   "execution_count": 18,
   "metadata": {},
   "outputs": [
    {
     "data": {
      "text/plain": [
       "(True, True, True, True)"
      ]
     },
     "execution_count": 18,
     "metadata": {},
     "output_type": "execute_result"
    }
   ],
   "source": [
    "#Confirmed all columns are identical\n",
    "(df_exports_T.columns == df_fdi_T.columns ).all(),(df_exports_T.columns == df_gdp_percapita_T.columns ).all(), \\\n",
    "    (df_exports_T.columns == df_imports_T.columns ).all(),(df_exports_T.columns == df_gdp_market_T.columns).all()"
   ]
  },
  {
   "cell_type": "code",
   "execution_count": 19,
   "metadata": {},
   "outputs": [],
   "source": [
    "# dropping rows that contain *ALL* NaN\n",
    "for df_T in df_lists_T:\n",
    "    df_T.dropna(axis=0,how='all',inplace=True)"
   ]
  },
  {
   "cell_type": "code",
   "execution_count": 20,
   "metadata": {},
   "outputs": [
    {
     "data": {
      "text/plain": [
       "((51, 107), (41, 107), (52, 107), (51, 107), (52, 107))"
      ]
     },
     "execution_count": 20,
     "metadata": {},
     "output_type": "execute_result"
    }
   ],
   "source": [
    "# rows containing all NaN are dropped\n",
    "# Note: shape[0] are not identical because index Year are not identical\n",
    "# For example dataframe df_fdi_T contain year from 1970 to 2011 while most dataframes\n",
    "# have index Year from 1960 to 2011. We have to make this index Year identical too.\n",
    "df_exports_T.shape,df_fdi_T.shape,df_gdp_percapita_T.shape,df_imports_T.shape,df_gdp_market_T.shape"
   ]
  },
  {
   "cell_type": "code",
   "execution_count": 21,
   "metadata": {},
   "outputs": [],
   "source": [
    "#Since indexes are years. make it an int type\n",
    "for df_T in df_lists_T:\n",
    "    df_T.index = df_T.index.astype(int)"
   ]
  },
  {
   "cell_type": "code",
   "execution_count": 22,
   "metadata": {},
   "outputs": [
    {
     "data": {
      "text/plain": [
       "Int64Index([1961, 1962, 1963, 1964, 1965, 1966, 1967, 1968, 1969, 1970, 1971,\n",
       "            1972, 1973, 1974, 1975, 1976, 1977, 1978, 1979, 1980, 1981, 1982,\n",
       "            1983, 1984, 1985, 1986, 1987, 1988, 1989, 1990, 1991, 1992, 1993,\n",
       "            1994, 1995, 1996, 1997, 1998, 1999, 2000, 2001, 2002, 2003, 2004,\n",
       "            2005, 2006, 2007, 2008, 2009, 2010, 2011],\n",
       "           dtype='int64')"
      ]
     },
     "execution_count": 22,
     "metadata": {},
     "output_type": "execute_result"
    }
   ],
   "source": [
    "# Now index is all integers. I only print out df_exports_T. The rest\n",
    "# of dataframes'index will be integers too.\n",
    "df_exports_T.index"
   ]
  },
  {
   "cell_type": "code",
   "execution_count": 23,
   "metadata": {},
   "outputs": [],
   "source": [
    "#Make all indexes identical in all dataframes\n",
    "desired_index = andy_IntersectSets(df_exports_T.index.tolist(),df_fdi_T.index.tolist(), \\\n",
    "                   df_gdp_percapita_T.index.tolist(),df_imports_T.index.tolist(), \\\n",
    "                   df_gdp_market_T.index.tolist())\n",
    "desired_index.sort()\n",
    "for df_T in df_lists_T:\n",
    "    drop_index(df_T,desired_index)"
   ]
  },
  {
   "cell_type": "code",
   "execution_count": 24,
   "metadata": {},
   "outputs": [
    {
     "data": {
      "text/plain": [
       "((41, 107), (41, 107), (41, 107), (41, 107), (41, 107))"
      ]
     },
     "execution_count": 24,
     "metadata": {},
     "output_type": "execute_result"
    }
   ],
   "source": [
    "# all dataframes identical\n",
    "df_exports_T.shape,df_fdi_T.shape,df_gdp_percapita_T.shape,df_imports_T.shape,df_gdp_market_T.shape"
   ]
  },
  {
   "cell_type": "code",
   "execution_count": 25,
   "metadata": {},
   "outputs": [
    {
     "data": {
      "text/plain": [
       "(True, True, True, True)"
      ]
     },
     "execution_count": 25,
     "metadata": {},
     "output_type": "execute_result"
    }
   ],
   "source": [
    "#Confirmed all indexes are identical\n",
    "(df_exports_T.index == df_fdi_T.index ).all(),(df_exports_T.index == df_gdp_percapita_T.index ).all(), \\\n",
    "    (df_exports_T.index == df_imports_T.index ).all(),(df_exports_T.index == df_gdp_market_T.index).all()"
   ]
  },
  {
   "cell_type": "code",
   "execution_count": 26,
   "metadata": {},
   "outputs": [],
   "source": [
    "# Now fill NaN cells with mean of respective column/country\n",
    "for df_T in df_lists_T:\n",
    "    fillna_with_mean(df_T)"
   ]
  },
  {
   "cell_type": "code",
   "execution_count": 27,
   "metadata": {},
   "outputs": [],
   "source": [
    "# Confirm all dataframes contain no null values"
   ]
  },
  {
   "cell_type": "code",
   "execution_count": 28,
   "metadata": {},
   "outputs": [
    {
     "data": {
      "text/plain": [
       "Series([], dtype: int64)"
      ]
     },
     "execution_count": 28,
     "metadata": {},
     "output_type": "execute_result"
    }
   ],
   "source": [
    "mask=df_exports_T.isnull().sum() != 0\n",
    "df_exports_T.isnull().sum()[mask]"
   ]
  },
  {
   "cell_type": "code",
   "execution_count": 29,
   "metadata": {},
   "outputs": [
    {
     "data": {
      "text/plain": [
       "Series([], dtype: int64)"
      ]
     },
     "execution_count": 29,
     "metadata": {},
     "output_type": "execute_result"
    }
   ],
   "source": [
    "mask=df_fdi_T.isnull().sum() != 0\n",
    "df_fdi_T.isnull().sum()[mask]"
   ]
  },
  {
   "cell_type": "code",
   "execution_count": 30,
   "metadata": {},
   "outputs": [
    {
     "data": {
      "text/plain": [
       "Series([], dtype: int64)"
      ]
     },
     "execution_count": 30,
     "metadata": {},
     "output_type": "execute_result"
    }
   ],
   "source": [
    "mask=df_gdp_percapita_T.isnull().sum() != 0\n",
    "df_gdp_percapita_T.isnull().sum()[mask]"
   ]
  },
  {
   "cell_type": "code",
   "execution_count": 31,
   "metadata": {},
   "outputs": [
    {
     "data": {
      "text/plain": [
       "Series([], dtype: int64)"
      ]
     },
     "execution_count": 31,
     "metadata": {},
     "output_type": "execute_result"
    }
   ],
   "source": [
    "mask=df_imports_T.isnull().sum() != 0\n",
    "df_imports_T.isnull().sum()[mask]"
   ]
  },
  {
   "cell_type": "code",
   "execution_count": 32,
   "metadata": {},
   "outputs": [
    {
     "data": {
      "text/plain": [
       "Series([], dtype: int64)"
      ]
     },
     "execution_count": 32,
     "metadata": {},
     "output_type": "execute_result"
    }
   ],
   "source": [
    "mask=df_gdp_market_T.isnull().sum() != 0\n",
    "df_gdp_market_T.isnull().sum()[mask]"
   ]
  },
  {
   "cell_type": "code",
   "execution_count": 33,
   "metadata": {},
   "outputs": [],
   "source": [
    "# Therefore all dataframes contain no NaN\n",
    "# so save data in a clean folder\n",
    "# Note: these are all transposed dataframes.\n",
    "df_exports_T.to_csv('clean/exportsT.csv')\n",
    "df_fdi_T.to_csv('clean/fdiT.csv')\n",
    "df_gdp_percapita_T.to_csv('clean/gdppercapitaT.csv')\n",
    "df_imports_T.to_csv('clean/importsT.csv')\n",
    "df_gdp_market_T.to_csv('clean/gdp_marketT.csv')"
   ]
  },
  {
   "cell_type": "markdown",
   "metadata": {},
   "source": [
    "<a id='CleaningSecondStage'></a>\n",
    "### Data Cleaning -- Second Stage: Introducing a column into dataframes\n",
    "\n",
    "><ul/><li/>I will introduce a column, 'sub-region' in this stage. Therefore, if Afghanistan \n",
    ">is in Southern Asia, there will be a column for that. I can use an operation\n",
    ">like groupby on this 'sub-region' column. It works similar to SQL GROUPBY.\n",
    ">You can easily organize your data by aggregating.</li>\n",
    "><br>\n",
    "><li/>I download country_codes.xlsx from gapminder to help me merge and include\n",
    ">sub-region columns into all my dataframes. Or I could have searched the Internet\n",
    ">for libraries that are related to country_codes. This page teaches me\n",
    "><a href='http://pbpython.com/excel-pandas-comp.html'/>how to do vlookup.</a> It uses the fuzzywuzzy library</li>\n",
    "><br>\n",
    "><li/>The problem I encountered is when I tried to merge the files. 10 countries are \n",
    ">omitted. For example in the dfc_exports dataframe, the country has a name called Iran.\n",
    ">In country_codes dataframe, the country has a name 'Iran (Islamic Republic of)'.\n",
    ">I have to make sure that country's names are identical in both dataframes.\n",
    ">I corrected this mannually, which is not a hassle for a small data. In a big data\n",
    ">I have to find other ways such as looking up country_codes library.</li>\n",
    "><br>\n",
    "><li/>At the end of this stage, all dataframes will have a column called 'sub-region'.</li>\n",
    "</ul>"
   ]
  },
  {
   "cell_type": "code",
   "execution_count": 34,
   "metadata": {},
   "outputs": [],
   "source": [
    "#Reading from clean data produced above\n",
    "dfc_exports_T = pd.read_csv('clean/exportsT.csv',index_col=0)  # p of GDP\n",
    "dfc_fdi_T = pd.read_csv('clean/fdiT.csv',index_col=0)  # % of GDP\n",
    "dfc_gdp_percapita_T = pd.read_csv('clean/gdppercapitaT.csv',index_col=0)  # constant2000US\n",
    "dfc_imports_T = pd.read_csv('clean/importsT.csv',index_col=0)  # % of GDP\n",
    "dfc_gdp_market_T = pd.read_csv('clean/gdp_marketT.csv',index_col=0)\n",
    "\n",
    "#This is a new file to be used in introducing sub-region\n",
    "df_country_codes = pd.read_excel('clean/country_codes.xlsx')"
   ]
  },
  {
   "cell_type": "code",
   "execution_count": 35,
   "metadata": {},
   "outputs": [
    {
     "data": {
      "text/plain": [
       "(41, 107)"
      ]
     },
     "execution_count": 35,
     "metadata": {},
     "output_type": "execute_result"
    }
   ],
   "source": [
    "dfc_exports_T.shape"
   ]
  },
  {
   "cell_type": "code",
   "execution_count": 36,
   "metadata": {},
   "outputs": [],
   "source": [
    "#Transpose data to original format -- index: countries, columns: years\n",
    "dfc_exports = dfc_exports_T.T\n",
    "dfc_fdi = dfc_fdi_T.T\n",
    "dfc_gdp_percapita = dfc_gdp_percapita_T.T\n",
    "dfc_imports = dfc_imports_T.T\n",
    "dfc_gdp_market = dfc_gdp_market_T.T"
   ]
  },
  {
   "cell_type": "code",
   "execution_count": 37,
   "metadata": {},
   "outputs": [
    {
     "data": {
      "text/plain": [
       "(107, 41)"
      ]
     },
     "execution_count": 37,
     "metadata": {},
     "output_type": "execute_result"
    }
   ],
   "source": [
    "dfc_exports.shape"
   ]
  },
  {
   "cell_type": "code",
   "execution_count": 38,
   "metadata": {},
   "outputs": [
    {
     "data": {
      "text/html": [
       "<div>\n",
       "<style scoped>\n",
       "    .dataframe tbody tr th:only-of-type {\n",
       "        vertical-align: middle;\n",
       "    }\n",
       "\n",
       "    .dataframe tbody tr th {\n",
       "        vertical-align: top;\n",
       "    }\n",
       "\n",
       "    .dataframe thead th {\n",
       "        text-align: right;\n",
       "    }\n",
       "</style>\n",
       "<table border=\"1\" class=\"dataframe\">\n",
       "  <thead>\n",
       "    <tr style=\"text-align: right;\">\n",
       "      <th></th>\n",
       "      <th>1970</th>\n",
       "      <th>1971</th>\n",
       "      <th>1972</th>\n",
       "      <th>1973</th>\n",
       "      <th>1974</th>\n",
       "      <th>1975</th>\n",
       "      <th>1976</th>\n",
       "      <th>1977</th>\n",
       "      <th>1978</th>\n",
       "      <th>1979</th>\n",
       "      <th>...</th>\n",
       "      <th>2001</th>\n",
       "      <th>2002</th>\n",
       "      <th>2003</th>\n",
       "      <th>2004</th>\n",
       "      <th>2005</th>\n",
       "      <th>2006</th>\n",
       "      <th>2007</th>\n",
       "      <th>2008</th>\n",
       "      <th>2009</th>\n",
       "      <th>2010</th>\n",
       "    </tr>\n",
       "  </thead>\n",
       "  <tbody>\n",
       "    <tr>\n",
       "      <th>Algeria</th>\n",
       "      <td>22.072734</td>\n",
       "      <td>18.442519</td>\n",
       "      <td>20.449562</td>\n",
       "      <td>25.503663</td>\n",
       "      <td>38.749044</td>\n",
       "      <td>33.688936</td>\n",
       "      <td>33.054584</td>\n",
       "      <td>30.586567</td>\n",
       "      <td>25.535837</td>\n",
       "      <td>31.148300</td>\n",
       "      <td>...</td>\n",
       "      <td>36.247991</td>\n",
       "      <td>35.076150</td>\n",
       "      <td>38.266470</td>\n",
       "      <td>40.071885</td>\n",
       "      <td>47.646353</td>\n",
       "      <td>48.607848</td>\n",
       "      <td>46.609494</td>\n",
       "      <td>46.273658</td>\n",
       "      <td>29.289305</td>\n",
       "      <td>30.830405</td>\n",
       "    </tr>\n",
       "    <tr>\n",
       "      <th>Antigua and Barbuda</th>\n",
       "      <td>68.531756</td>\n",
       "      <td>68.531756</td>\n",
       "      <td>68.531756</td>\n",
       "      <td>68.531756</td>\n",
       "      <td>68.531756</td>\n",
       "      <td>68.531756</td>\n",
       "      <td>68.531756</td>\n",
       "      <td>47.701439</td>\n",
       "      <td>61.600119</td>\n",
       "      <td>81.786790</td>\n",
       "      <td>...</td>\n",
       "      <td>60.316271</td>\n",
       "      <td>55.788811</td>\n",
       "      <td>57.588400</td>\n",
       "      <td>58.995136</td>\n",
       "      <td>54.419679</td>\n",
       "      <td>48.025321</td>\n",
       "      <td>44.855895</td>\n",
       "      <td>46.165740</td>\n",
       "      <td>46.251306</td>\n",
       "      <td>45.402342</td>\n",
       "    </tr>\n",
       "    <tr>\n",
       "      <th>Argentina</th>\n",
       "      <td>5.601567</td>\n",
       "      <td>6.007233</td>\n",
       "      <td>7.197766</td>\n",
       "      <td>7.612668</td>\n",
       "      <td>6.902571</td>\n",
       "      <td>5.824052</td>\n",
       "      <td>9.175388</td>\n",
       "      <td>9.615892</td>\n",
       "      <td>8.608390</td>\n",
       "      <td>6.510915</td>\n",
       "      <td>...</td>\n",
       "      <td>11.528611</td>\n",
       "      <td>27.689676</td>\n",
       "      <td>24.971195</td>\n",
       "      <td>25.257467</td>\n",
       "      <td>25.067933</td>\n",
       "      <td>24.759447</td>\n",
       "      <td>24.626547</td>\n",
       "      <td>24.475413</td>\n",
       "      <td>21.351174</td>\n",
       "      <td>21.706469</td>\n",
       "    </tr>\n",
       "    <tr>\n",
       "      <th>Australia</th>\n",
       "      <td>12.972812</td>\n",
       "      <td>12.657506</td>\n",
       "      <td>12.826336</td>\n",
       "      <td>14.150754</td>\n",
       "      <td>13.145018</td>\n",
       "      <td>14.281698</td>\n",
       "      <td>13.518254</td>\n",
       "      <td>14.021153</td>\n",
       "      <td>13.628044</td>\n",
       "      <td>14.307879</td>\n",
       "      <td>...</td>\n",
       "      <td>22.067634</td>\n",
       "      <td>20.633342</td>\n",
       "      <td>18.915085</td>\n",
       "      <td>17.042724</td>\n",
       "      <td>18.113278</td>\n",
       "      <td>19.696764</td>\n",
       "      <td>20.016897</td>\n",
       "      <td>19.882920</td>\n",
       "      <td>22.725356</td>\n",
       "      <td>19.620065</td>\n",
       "    </tr>\n",
       "    <tr>\n",
       "      <th>Austria</th>\n",
       "      <td>28.455043</td>\n",
       "      <td>28.084806</td>\n",
       "      <td>27.976054</td>\n",
       "      <td>27.964316</td>\n",
       "      <td>30.244524</td>\n",
       "      <td>29.185206</td>\n",
       "      <td>29.868635</td>\n",
       "      <td>29.039067</td>\n",
       "      <td>30.245275</td>\n",
       "      <td>32.079497</td>\n",
       "      <td>...</td>\n",
       "      <td>48.078408</td>\n",
       "      <td>48.684627</td>\n",
       "      <td>48.241328</td>\n",
       "      <td>51.484081</td>\n",
       "      <td>53.838949</td>\n",
       "      <td>56.361756</td>\n",
       "      <td>58.899795</td>\n",
       "      <td>59.267232</td>\n",
       "      <td>50.064418</td>\n",
       "      <td>54.103261</td>\n",
       "    </tr>\n",
       "  </tbody>\n",
       "</table>\n",
       "<p>5 rows × 41 columns</p>\n",
       "</div>"
      ],
      "text/plain": [
       "                          1970       1971       1972       1973       1974  \\\n",
       "Algeria              22.072734  18.442519  20.449562  25.503663  38.749044   \n",
       "Antigua and Barbuda  68.531756  68.531756  68.531756  68.531756  68.531756   \n",
       "Argentina             5.601567   6.007233   7.197766   7.612668   6.902571   \n",
       "Australia            12.972812  12.657506  12.826336  14.150754  13.145018   \n",
       "Austria              28.455043  28.084806  27.976054  27.964316  30.244524   \n",
       "\n",
       "                          1975       1976       1977       1978       1979  \\\n",
       "Algeria              33.688936  33.054584  30.586567  25.535837  31.148300   \n",
       "Antigua and Barbuda  68.531756  68.531756  47.701439  61.600119  81.786790   \n",
       "Argentina             5.824052   9.175388   9.615892   8.608390   6.510915   \n",
       "Australia            14.281698  13.518254  14.021153  13.628044  14.307879   \n",
       "Austria              29.185206  29.868635  29.039067  30.245275  32.079497   \n",
       "\n",
       "                       ...           2001       2002       2003       2004  \\\n",
       "Algeria                ...      36.247991  35.076150  38.266470  40.071885   \n",
       "Antigua and Barbuda    ...      60.316271  55.788811  57.588400  58.995136   \n",
       "Argentina              ...      11.528611  27.689676  24.971195  25.257467   \n",
       "Australia              ...      22.067634  20.633342  18.915085  17.042724   \n",
       "Austria                ...      48.078408  48.684627  48.241328  51.484081   \n",
       "\n",
       "                          2005       2006       2007       2008       2009  \\\n",
       "Algeria              47.646353  48.607848  46.609494  46.273658  29.289305   \n",
       "Antigua and Barbuda  54.419679  48.025321  44.855895  46.165740  46.251306   \n",
       "Argentina            25.067933  24.759447  24.626547  24.475413  21.351174   \n",
       "Australia            18.113278  19.696764  20.016897  19.882920  22.725356   \n",
       "Austria              53.838949  56.361756  58.899795  59.267232  50.064418   \n",
       "\n",
       "                          2010  \n",
       "Algeria              30.830405  \n",
       "Antigua and Barbuda  45.402342  \n",
       "Argentina            21.706469  \n",
       "Australia            19.620065  \n",
       "Austria              54.103261  \n",
       "\n",
       "[5 rows x 41 columns]"
      ]
     },
     "execution_count": 38,
     "metadata": {},
     "output_type": "execute_result"
    }
   ],
   "source": [
    "dfc_exports.head()"
   ]
  },
  {
   "cell_type": "code",
   "execution_count": 39,
   "metadata": {},
   "outputs": [
    {
     "data": {
      "text/html": [
       "<div>\n",
       "<style scoped>\n",
       "    .dataframe tbody tr th:only-of-type {\n",
       "        vertical-align: middle;\n",
       "    }\n",
       "\n",
       "    .dataframe tbody tr th {\n",
       "        vertical-align: top;\n",
       "    }\n",
       "\n",
       "    .dataframe thead th {\n",
       "        text-align: right;\n",
       "    }\n",
       "</style>\n",
       "<table border=\"1\" class=\"dataframe\">\n",
       "  <thead>\n",
       "    <tr style=\"text-align: right;\">\n",
       "      <th></th>\n",
       "      <th>name</th>\n",
       "      <th>sub-region</th>\n",
       "    </tr>\n",
       "  </thead>\n",
       "  <tbody>\n",
       "    <tr>\n",
       "      <th>0</th>\n",
       "      <td>Afghanistan</td>\n",
       "      <td>Southern Asia</td>\n",
       "    </tr>\n",
       "    <tr>\n",
       "      <th>1</th>\n",
       "      <td>Albania</td>\n",
       "      <td>Southern Europe</td>\n",
       "    </tr>\n",
       "    <tr>\n",
       "      <th>2</th>\n",
       "      <td>Algeria</td>\n",
       "      <td>Northern Africa</td>\n",
       "    </tr>\n",
       "    <tr>\n",
       "      <th>3</th>\n",
       "      <td>American Samoa</td>\n",
       "      <td>Polynesia</td>\n",
       "    </tr>\n",
       "    <tr>\n",
       "      <th>4</th>\n",
       "      <td>Andorra</td>\n",
       "      <td>Southern Europe</td>\n",
       "    </tr>\n",
       "  </tbody>\n",
       "</table>\n",
       "</div>"
      ],
      "text/plain": [
       "             name       sub-region\n",
       "0     Afghanistan    Southern Asia\n",
       "1         Albania  Southern Europe\n",
       "2         Algeria  Northern Africa\n",
       "3  American Samoa        Polynesia\n",
       "4         Andorra  Southern Europe"
      ]
     },
     "execution_count": 39,
     "metadata": {},
     "output_type": "execute_result"
    }
   ],
   "source": [
    "df_country_codes.head()"
   ]
  },
  {
   "cell_type": "code",
   "execution_count": 40,
   "metadata": {},
   "outputs": [
    {
     "data": {
      "text/plain": [
       "[]"
      ]
     },
     "execution_count": 40,
     "metadata": {},
     "output_type": "execute_result"
    }
   ],
   "source": [
    "# Have to manually edit country_codes.xlsx. This file I think\n",
    "# I download from gapminder. I could have used the method \n",
    "# used here: http://pbpython.com/excel-pandas-comp.html by using\n",
    "# library but I have to find library for country codes. But\n",
    "# I think for a small data like country_codes, it's easier to\n",
    "# manually edit.\n",
    "#\n",
    "# If I don't edit, 10 countries will not be included\n",
    "#\n",
    "# Empty list means all countries have been included!\n",
    "common_list = andy_IntersectSets2(dfc_exports.index.tolist(),df_country_codes['name'].tolist())\n",
    "np.setdiff1d(dfc_exports.index,common_list).tolist()"
   ]
  },
  {
   "cell_type": "code",
   "execution_count": 41,
   "metadata": {},
   "outputs": [
    {
     "data": {
      "text/plain": [
       "(107, 42)"
      ]
     },
     "execution_count": 41,
     "metadata": {},
     "output_type": "execute_result"
    }
   ],
   "source": [
    "# Merge dataframe exports with country_codes dataframe using INNER JOIN\n",
    "dfc_exports_M = pd.merge(left=dfc_exports,right=df_country_codes,how='inner',left_on=dfc_exports.index,right_on='name')\n",
    "# Re-ordering columns. There must be a better way of doing this.\n",
    "dfc_exports_M = dfc_exports_M[['name','sub-region', \\\n",
    "                    1970,1971,1972,1973,1974,1975,1976,1977,1978,1979, \\\n",
    "                    1980,1981,1982,1983,1984,1985,1986,1987,1988,1989, \\\n",
    "                    1990,1991,1992,1993,1994,1995,1996,1997,1998,1999, \\\n",
    "                    2000,2001,2002,2003,2004,2005,2006,2007,2008,2009, \\\n",
    "                    2010]]\n",
    "dfc_exports_M.set_index('name',inplace=True)\n",
    "dfc_exports_M.shape"
   ]
  },
  {
   "cell_type": "code",
   "execution_count": 42,
   "metadata": {},
   "outputs": [
    {
     "data": {
      "text/plain": [
       "(107, 42)"
      ]
     },
     "execution_count": 42,
     "metadata": {},
     "output_type": "execute_result"
    }
   ],
   "source": [
    "# Merge dataframe fdi with country_codes dataframe using INNER JOIN\n",
    "dfc_fdi_M = pd.merge(left=dfc_fdi,right=df_country_codes,how='inner', \\\n",
    "                   left_on=dfc_fdi.index,right_on='name')\n",
    "# Re-ordering columns. There must be a better way of doing this.\n",
    "dfc_fdi_M = dfc_fdi_M[['name','sub-region', \\\n",
    "                    1970,1971,1972,1973,1974,1975,1976,1977,1978,1979, \\\n",
    "                    1980,1981,1982,1983,1984,1985,1986,1987,1988,1989, \\\n",
    "                    1990,1991,1992,1993,1994,1995,1996,1997,1998,1999, \\\n",
    "                    2000,2001,2002,2003,2004,2005,2006,2007,2008,2009, \\\n",
    "                    2010]]\n",
    "dfc_fdi_M.set_index('name',inplace=True)\n",
    "dfc_fdi_M.shape"
   ]
  },
  {
   "cell_type": "code",
   "execution_count": 43,
   "metadata": {},
   "outputs": [
    {
     "data": {
      "text/plain": [
       "(107, 42)"
      ]
     },
     "execution_count": 43,
     "metadata": {},
     "output_type": "execute_result"
    }
   ],
   "source": [
    "# Merge dataframe gdp_percapita with country_codes dataframe using INNER JOIN\n",
    "dfc_gdp_percapita_M = pd.merge(left=dfc_gdp_percapita,right=df_country_codes,how='inner', \\\n",
    "                   left_on=dfc_gdp_percapita.index,right_on='name')\n",
    "# Re-ordering columns. There must be a better way of doing this.\n",
    "dfc_gdp_percapita_M = dfc_gdp_percapita_M[['name','sub-region', \\\n",
    "                    1970,1971,1972,1973,1974,1975,1976,1977,1978,1979, \\\n",
    "                    1980,1981,1982,1983,1984,1985,1986,1987,1988,1989, \\\n",
    "                    1990,1991,1992,1993,1994,1995,1996,1997,1998,1999, \\\n",
    "                    2000,2001,2002,2003,2004,2005,2006,2007,2008,2009, \\\n",
    "                    2010]]\n",
    "dfc_gdp_percapita_M.set_index('name',inplace=True)\n",
    "dfc_gdp_percapita_M.shape"
   ]
  },
  {
   "cell_type": "code",
   "execution_count": 44,
   "metadata": {},
   "outputs": [
    {
     "data": {
      "text/plain": [
       "(107, 42)"
      ]
     },
     "execution_count": 44,
     "metadata": {},
     "output_type": "execute_result"
    }
   ],
   "source": [
    "# Merge dataframe imports with country_codes dataframe using INNER JOIN\n",
    "dfc_imports_M = pd.merge(left=dfc_imports,right=df_country_codes,how='inner', \\\n",
    "                   left_on=dfc_imports.index,right_on='name')\n",
    "# Re-ordering columns. There must be a better way of doing this.\n",
    "dfc_imports_M = dfc_imports_M[['name','sub-region', \\\n",
    "                    1970,1971,1972,1973,1974,1975,1976,1977,1978,1979, \\\n",
    "                    1980,1981,1982,1983,1984,1985,1986,1987,1988,1989, \\\n",
    "                    1990,1991,1992,1993,1994,1995,1996,1997,1998,1999, \\\n",
    "                    2000,2001,2002,2003,2004,2005,2006,2007,2008,2009, \\\n",
    "                    2010]]\n",
    "dfc_imports_M.set_index('name',inplace=True)\n",
    "dfc_imports_M.shape"
   ]
  },
  {
   "cell_type": "code",
   "execution_count": 45,
   "metadata": {},
   "outputs": [
    {
     "data": {
      "text/plain": [
       "(107, 42)"
      ]
     },
     "execution_count": 45,
     "metadata": {},
     "output_type": "execute_result"
    }
   ],
   "source": [
    "# Merge dataframe gdp_market with country_codes dataframe using INNER JOIN\n",
    "dfc_gdp_market_M = pd.merge(left=dfc_gdp_market,right=df_country_codes,how='inner', \\\n",
    "                   left_on=dfc_gdp_market.index,right_on='name')\n",
    "# Re-ordering columns. There must be a better way of doing this.\n",
    "dfc_gdp_market_M = dfc_gdp_market_M[['name','sub-region', \\\n",
    "                    1970,1971,1972,1973,1974,1975,1976,1977,1978,1979, \\\n",
    "                    1980,1981,1982,1983,1984,1985,1986,1987,1988,1989, \\\n",
    "                    1990,1991,1992,1993,1994,1995,1996,1997,1998,1999, \\\n",
    "                    2000,2001,2002,2003,2004,2005,2006,2007,2008,2009, \\\n",
    "                    2010]]\n",
    "dfc_gdp_market_M.set_index('name',inplace=True)\n",
    "dfc_gdp_market_M.shape"
   ]
  },
  {
   "cell_type": "code",
   "execution_count": 46,
   "metadata": {},
   "outputs": [],
   "source": [
    "#Now all dataframes have sub-region column. so can do groupby this column.\n",
    "# save merged data in a clean folder\n",
    "dfc_exports_M.to_csv('clean/exportsM.csv')\n",
    "dfc_fdi_M.to_csv('clean/fdiM.csv')\n",
    "dfc_gdp_percapita_M.to_csv('clean/gdppercapitaM.csv')\n",
    "dfc_imports_M.to_csv('clean/importsM.csv')\n",
    "dfc_gdp_market_M.to_csv('clean/gdp_marketM.csv')"
   ]
  },
  {
   "cell_type": "markdown",
   "metadata": {},
   "source": [
    "<a id='CleaningThirdStage'></a>\n",
    "### Data Cleaning -- Third Stage: Combining Variables into a dataframe and Separating     Dataframes based on GDP PerCapita's percentiles\n",
    "\n",
    "Cleaning data and putting data in this format at this stage enables me to use <a href='#using_pivot_table'>pandas.pivot_table.</a>\n",
    "\n",
    "><ul/>\n",
    "><li/>**First**, calculate the mean for gdp_percapita, exports, imports, fdi and gdp.\n",
    ">Name these columns: mean_gdp_percapita, mean_exports, mean_imports, mean_fdi and\n",
    ">mean_gdp, resectively</li><br>\n",
    "><li/>**Second**, combine these columns into a new dataframe. I name it df_combined.\n",
    "><a href='https://www.dataquest.io/blog/pandas-pivot-table/'/>Refer to this site for the format I want my dataframe to be.</a></li><br>\n",
    "><li/>**Third**, separate dataframes into 1.below_average, 2.average, and \n",
    ">3.above_average. This separation is based upon gdp_percapita's percentiles.\n",
    ">For details, <a href='#sep_columns'/>click here.</a></li>\n",
    "><br><br>\n",
    ">**At the end of this stage, I will have four clean dataframes:**\n",
    "><ol/>\n",
    "><li> df_combined_economic_status -- This df is a dataframe before it is separated into\n",
    ">economic status (based on gdp_percapita's percentiles).</li>\n",
    "><li> df_combined_belowaverage_subset </li>\n",
    "><li> df_combined_50_75_subset</li>\n",
    "><li> df_combined_above75_subset</li>\n",
    "></ul>\n",
    "></ol>"
   ]
  },
  {
   "cell_type": "code",
   "execution_count": 47,
   "metadata": {},
   "outputs": [],
   "source": [
    "# Loading data\n",
    "dfc_exports_T = pd.read_csv('clean/exportsT.csv',index_col=0)  # p of GDP\n",
    "dfc_fdi_T = pd.read_csv('clean/fdiT.csv',index_col=0)  # % of GDP\n",
    "dfc_gdp_percapita_T = pd.read_csv('clean/gdppercapitaT.csv',index_col=0)  # constant2000US\n",
    "dfc_imports_T = pd.read_csv('clean/importsT.csv',index_col=0)  # % of GDP\n",
    "dfc_gdp_market_T = pd.read_csv('clean/gdp_marketT.csv',index_col=0)\n",
    "\n",
    "dfc_exports_M = pd.read_csv('clean/exportsM.csv',index_col=0)  # p of GDP\n",
    "dfc_fdi_M = pd.read_csv('clean/fdiM.csv',index_col=0)  # % of GDP\n",
    "dfc_gdp_percapita_M = pd.read_csv('clean/gdppercapitaM.csv',index_col=0)  # constant2000US\n",
    "dfc_imports_M = pd.read_csv('clean/importsM.csv',index_col=0)  # % of GDP\n",
    "dfc_gdp_market_M = pd.read_csv('clean/gdp_marketM.csv',index_col=0)"
   ]
  },
  {
   "cell_type": "code",
   "execution_count": 48,
   "metadata": {},
   "outputs": [
    {
     "data": {
      "text/html": [
       "<div>\n",
       "<style scoped>\n",
       "    .dataframe tbody tr th:only-of-type {\n",
       "        vertical-align: middle;\n",
       "    }\n",
       "\n",
       "    .dataframe tbody tr th {\n",
       "        vertical-align: top;\n",
       "    }\n",
       "\n",
       "    .dataframe thead th {\n",
       "        text-align: right;\n",
       "    }\n",
       "</style>\n",
       "<table border=\"1\" class=\"dataframe\">\n",
       "  <thead>\n",
       "    <tr style=\"text-align: right;\">\n",
       "      <th></th>\n",
       "      <th>sub-region</th>\n",
       "      <th>1970</th>\n",
       "      <th>1971</th>\n",
       "      <th>1972</th>\n",
       "      <th>1973</th>\n",
       "      <th>1974</th>\n",
       "      <th>1975</th>\n",
       "      <th>1976</th>\n",
       "      <th>1977</th>\n",
       "      <th>1978</th>\n",
       "      <th>...</th>\n",
       "      <th>2001</th>\n",
       "      <th>2002</th>\n",
       "      <th>2003</th>\n",
       "      <th>2004</th>\n",
       "      <th>2005</th>\n",
       "      <th>2006</th>\n",
       "      <th>2007</th>\n",
       "      <th>2008</th>\n",
       "      <th>2009</th>\n",
       "      <th>2010</th>\n",
       "    </tr>\n",
       "    <tr>\n",
       "      <th>name</th>\n",
       "      <th></th>\n",
       "      <th></th>\n",
       "      <th></th>\n",
       "      <th></th>\n",
       "      <th></th>\n",
       "      <th></th>\n",
       "      <th></th>\n",
       "      <th></th>\n",
       "      <th></th>\n",
       "      <th></th>\n",
       "      <th></th>\n",
       "      <th></th>\n",
       "      <th></th>\n",
       "      <th></th>\n",
       "      <th></th>\n",
       "      <th></th>\n",
       "      <th></th>\n",
       "      <th></th>\n",
       "      <th></th>\n",
       "      <th></th>\n",
       "      <th></th>\n",
       "    </tr>\n",
       "  </thead>\n",
       "  <tbody>\n",
       "    <tr>\n",
       "      <th>Algeria</th>\n",
       "      <td>Northern Africa</td>\n",
       "      <td>1436.129775</td>\n",
       "      <td>1235.663803</td>\n",
       "      <td>1527.646365</td>\n",
       "      <td>1538.306425</td>\n",
       "      <td>1603.34962</td>\n",
       "      <td>1632.296018</td>\n",
       "      <td>1714.070053</td>\n",
       "      <td>1747.665127</td>\n",
       "      <td>1848.437508</td>\n",
       "      <td>...</td>\n",
       "      <td>1814.41513</td>\n",
       "      <td>1871.921986</td>\n",
       "      <td>1971.512803</td>\n",
       "      <td>2043.135713</td>\n",
       "      <td>2115.186028</td>\n",
       "      <td>2124.957754</td>\n",
       "      <td>2155.485231</td>\n",
       "      <td>2173.787903</td>\n",
       "      <td>2192.703976</td>\n",
       "      <td>2231.980246</td>\n",
       "    </tr>\n",
       "  </tbody>\n",
       "</table>\n",
       "<p>1 rows × 42 columns</p>\n",
       "</div>"
      ],
      "text/plain": [
       "              sub-region         1970         1971         1972         1973  \\\n",
       "name                                                                           \n",
       "Algeria  Northern Africa  1436.129775  1235.663803  1527.646365  1538.306425   \n",
       "\n",
       "               1974         1975         1976         1977         1978  \\\n",
       "name                                                                      \n",
       "Algeria  1603.34962  1632.296018  1714.070053  1747.665127  1848.437508   \n",
       "\n",
       "            ...             2001         2002         2003         2004  \\\n",
       "name        ...                                                           \n",
       "Algeria     ...       1814.41513  1871.921986  1971.512803  2043.135713   \n",
       "\n",
       "                2005         2006         2007         2008         2009  \\\n",
       "name                                                                       \n",
       "Algeria  2115.186028  2124.957754  2155.485231  2173.787903  2192.703976   \n",
       "\n",
       "                2010  \n",
       "name                  \n",
       "Algeria  2231.980246  \n",
       "\n",
       "[1 rows x 42 columns]"
      ]
     },
     "execution_count": 48,
     "metadata": {},
     "output_type": "execute_result"
    }
   ],
   "source": [
    "dfc_gdp_percapita_M.head(1)"
   ]
  },
  {
   "cell_type": "code",
   "execution_count": 49,
   "metadata": {},
   "outputs": [
    {
     "data": {
      "text/html": [
       "<div>\n",
       "<style scoped>\n",
       "    .dataframe tbody tr th:only-of-type {\n",
       "        vertical-align: middle;\n",
       "    }\n",
       "\n",
       "    .dataframe tbody tr th {\n",
       "        vertical-align: top;\n",
       "    }\n",
       "\n",
       "    .dataframe thead th {\n",
       "        text-align: right;\n",
       "    }\n",
       "</style>\n",
       "<table border=\"1\" class=\"dataframe\">\n",
       "  <thead>\n",
       "    <tr style=\"text-align: right;\">\n",
       "      <th></th>\n",
       "      <th>name</th>\n",
       "      <th>sub-region</th>\n",
       "      <th>1970</th>\n",
       "      <th>1971</th>\n",
       "      <th>1972</th>\n",
       "      <th>1973</th>\n",
       "      <th>1974</th>\n",
       "      <th>1975</th>\n",
       "      <th>1976</th>\n",
       "      <th>1977</th>\n",
       "      <th>...</th>\n",
       "      <th>2003</th>\n",
       "      <th>2004</th>\n",
       "      <th>2005</th>\n",
       "      <th>2006</th>\n",
       "      <th>2007</th>\n",
       "      <th>2008</th>\n",
       "      <th>2009</th>\n",
       "      <th>2010</th>\n",
       "      <th>total_percapita_row</th>\n",
       "      <th>mean_percapita_row</th>\n",
       "    </tr>\n",
       "  </thead>\n",
       "  <tbody>\n",
       "    <tr>\n",
       "      <th>0</th>\n",
       "      <td>Algeria</td>\n",
       "      <td>Northern Africa</td>\n",
       "      <td>1436.129775</td>\n",
       "      <td>1235.663803</td>\n",
       "      <td>1527.646365</td>\n",
       "      <td>1538.306425</td>\n",
       "      <td>1603.34962</td>\n",
       "      <td>1632.296018</td>\n",
       "      <td>1714.070053</td>\n",
       "      <td>1747.665127</td>\n",
       "      <td>...</td>\n",
       "      <td>1971.512803</td>\n",
       "      <td>2043.135713</td>\n",
       "      <td>2115.186028</td>\n",
       "      <td>2124.957754</td>\n",
       "      <td>2155.485231</td>\n",
       "      <td>2173.787903</td>\n",
       "      <td>2192.703976</td>\n",
       "      <td>2231.980246</td>\n",
       "      <td>75174.781784</td>\n",
       "      <td>1833.531263</td>\n",
       "    </tr>\n",
       "  </tbody>\n",
       "</table>\n",
       "<p>1 rows × 45 columns</p>\n",
       "</div>"
      ],
      "text/plain": [
       "      name       sub-region         1970         1971         1972  \\\n",
       "0  Algeria  Northern Africa  1436.129775  1235.663803  1527.646365   \n",
       "\n",
       "          1973        1974         1975         1976         1977  \\\n",
       "0  1538.306425  1603.34962  1632.296018  1714.070053  1747.665127   \n",
       "\n",
       "          ...                 2003         2004         2005         2006  \\\n",
       "0         ...          1971.512803  2043.135713  2115.186028  2124.957754   \n",
       "\n",
       "          2007         2008         2009         2010  total_percapita_row  \\\n",
       "0  2155.485231  2173.787903  2192.703976  2231.980246         75174.781784   \n",
       "\n",
       "   mean_percapita_row  \n",
       "0         1833.531263  \n",
       "\n",
       "[1 rows x 45 columns]"
      ]
     },
     "execution_count": 49,
     "metadata": {},
     "output_type": "execute_result"
    }
   ],
   "source": [
    "# Need to find total and mean gdp_percapita.\n",
    "# Finding the total of gdp_percapita of a country means totaling the row from year 1970 to 2010\n",
    "# Finding the mean of gdp_percapita of a country means dividing the total of that country \n",
    "# divided by the total number of years we take the sample from.\n",
    "total_row,mean_row = find_sum_mean_row(dfc_gdp_percapita_M)\n",
    "dfc_gdp_percapita_M['total_percapita_row'] = total_row\n",
    "dfc_gdp_percapita_M['mean_percapita_row'] = mean_row\n",
    "dfc_gdp_percapita_M.reset_index(inplace=True)\n",
    "dfc_gdp_percapita_M.head(1)"
   ]
  },
  {
   "cell_type": "code",
   "execution_count": 50,
   "metadata": {},
   "outputs": [
    {
     "data": {
      "text/html": [
       "<div>\n",
       "<style scoped>\n",
       "    .dataframe tbody tr th:only-of-type {\n",
       "        vertical-align: middle;\n",
       "    }\n",
       "\n",
       "    .dataframe tbody tr th {\n",
       "        vertical-align: top;\n",
       "    }\n",
       "\n",
       "    .dataframe thead th {\n",
       "        text-align: right;\n",
       "    }\n",
       "</style>\n",
       "<table border=\"1\" class=\"dataframe\">\n",
       "  <thead>\n",
       "    <tr style=\"text-align: right;\">\n",
       "      <th></th>\n",
       "      <th>name</th>\n",
       "      <th>sub-region</th>\n",
       "      <th>1970</th>\n",
       "      <th>1971</th>\n",
       "      <th>1972</th>\n",
       "      <th>1973</th>\n",
       "      <th>1974</th>\n",
       "      <th>1975</th>\n",
       "      <th>1976</th>\n",
       "      <th>1977</th>\n",
       "      <th>...</th>\n",
       "      <th>2003</th>\n",
       "      <th>2004</th>\n",
       "      <th>2005</th>\n",
       "      <th>2006</th>\n",
       "      <th>2007</th>\n",
       "      <th>2008</th>\n",
       "      <th>2009</th>\n",
       "      <th>2010</th>\n",
       "      <th>total_exports_row</th>\n",
       "      <th>mean_exports_row</th>\n",
       "    </tr>\n",
       "  </thead>\n",
       "  <tbody>\n",
       "    <tr>\n",
       "      <th>0</th>\n",
       "      <td>Algeria</td>\n",
       "      <td>Northern Africa</td>\n",
       "      <td>22.072734</td>\n",
       "      <td>18.442519</td>\n",
       "      <td>20.449562</td>\n",
       "      <td>25.503663</td>\n",
       "      <td>38.749044</td>\n",
       "      <td>33.688936</td>\n",
       "      <td>33.054584</td>\n",
       "      <td>30.586567</td>\n",
       "      <td>...</td>\n",
       "      <td>38.26647</td>\n",
       "      <td>40.071885</td>\n",
       "      <td>47.646353</td>\n",
       "      <td>48.607848</td>\n",
       "      <td>46.609494</td>\n",
       "      <td>46.273658</td>\n",
       "      <td>29.289305</td>\n",
       "      <td>30.830405</td>\n",
       "      <td>1216.131812</td>\n",
       "      <td>29.661752</td>\n",
       "    </tr>\n",
       "  </tbody>\n",
       "</table>\n",
       "<p>1 rows × 45 columns</p>\n",
       "</div>"
      ],
      "text/plain": [
       "      name       sub-region       1970       1971       1972       1973  \\\n",
       "0  Algeria  Northern Africa  22.072734  18.442519  20.449562  25.503663   \n",
       "\n",
       "        1974       1975       1976       1977        ...             2003  \\\n",
       "0  38.749044  33.688936  33.054584  30.586567        ...         38.26647   \n",
       "\n",
       "        2004       2005       2006       2007       2008       2009  \\\n",
       "0  40.071885  47.646353  48.607848  46.609494  46.273658  29.289305   \n",
       "\n",
       "        2010  total_exports_row  mean_exports_row  \n",
       "0  30.830405        1216.131812         29.661752  \n",
       "\n",
       "[1 rows x 45 columns]"
      ]
     },
     "execution_count": 50,
     "metadata": {},
     "output_type": "execute_result"
    }
   ],
   "source": [
    "total_row,mean_row = find_sum_mean_row(dfc_exports_M)\n",
    "dfc_exports_M['total_exports_row'] = total_row\n",
    "dfc_exports_M['mean_exports_row'] = mean_row\n",
    "dfc_exports_M.reset_index(inplace=True)\n",
    "dfc_exports_M.head(1)"
   ]
  },
  {
   "cell_type": "code",
   "execution_count": 51,
   "metadata": {},
   "outputs": [
    {
     "data": {
      "text/html": [
       "<div>\n",
       "<style scoped>\n",
       "    .dataframe tbody tr th:only-of-type {\n",
       "        vertical-align: middle;\n",
       "    }\n",
       "\n",
       "    .dataframe tbody tr th {\n",
       "        vertical-align: top;\n",
       "    }\n",
       "\n",
       "    .dataframe thead th {\n",
       "        text-align: right;\n",
       "    }\n",
       "</style>\n",
       "<table border=\"1\" class=\"dataframe\">\n",
       "  <thead>\n",
       "    <tr style=\"text-align: right;\">\n",
       "      <th></th>\n",
       "      <th>name</th>\n",
       "      <th>sub-region</th>\n",
       "      <th>1970</th>\n",
       "      <th>1971</th>\n",
       "      <th>1972</th>\n",
       "      <th>1973</th>\n",
       "      <th>1974</th>\n",
       "      <th>1975</th>\n",
       "      <th>1976</th>\n",
       "      <th>1977</th>\n",
       "      <th>...</th>\n",
       "      <th>2002</th>\n",
       "      <th>2003</th>\n",
       "      <th>2004</th>\n",
       "      <th>2005</th>\n",
       "      <th>2006</th>\n",
       "      <th>2007</th>\n",
       "      <th>2008</th>\n",
       "      <th>2009</th>\n",
       "      <th>2010</th>\n",
       "      <th>mean_imports_row</th>\n",
       "    </tr>\n",
       "  </thead>\n",
       "  <tbody>\n",
       "    <tr>\n",
       "      <th>0</th>\n",
       "      <td>Algeria</td>\n",
       "      <td>Northern Africa</td>\n",
       "      <td>29.152668</td>\n",
       "      <td>27.663778</td>\n",
       "      <td>25.726868</td>\n",
       "      <td>31.589764</td>\n",
       "      <td>35.489776</td>\n",
       "      <td>42.965599</td>\n",
       "      <td>37.118673</td>\n",
       "      <td>41.740317</td>\n",
       "      <td>...</td>\n",
       "      <td>25.399971</td>\n",
       "      <td>23.874279</td>\n",
       "      <td>25.652123</td>\n",
       "      <td>24.269903</td>\n",
       "      <td>21.516682</td>\n",
       "      <td>23.293057</td>\n",
       "      <td>22.90863</td>\n",
       "      <td>24.820752</td>\n",
       "      <td>21.496679</td>\n",
       "      <td>26.967667</td>\n",
       "    </tr>\n",
       "  </tbody>\n",
       "</table>\n",
       "<p>1 rows × 44 columns</p>\n",
       "</div>"
      ],
      "text/plain": [
       "      name       sub-region       1970       1971       1972       1973  \\\n",
       "0  Algeria  Northern Africa  29.152668  27.663778  25.726868  31.589764   \n",
       "\n",
       "        1974       1975       1976       1977        ...              2002  \\\n",
       "0  35.489776  42.965599  37.118673  41.740317        ...         25.399971   \n",
       "\n",
       "        2003       2004       2005       2006       2007      2008       2009  \\\n",
       "0  23.874279  25.652123  24.269903  21.516682  23.293057  22.90863  24.820752   \n",
       "\n",
       "        2010  mean_imports_row  \n",
       "0  21.496679         26.967667  \n",
       "\n",
       "[1 rows x 44 columns]"
      ]
     },
     "execution_count": 51,
     "metadata": {},
     "output_type": "execute_result"
    }
   ],
   "source": [
    "total_row,mean_row = find_sum_mean_row(dfc_imports_M)\n",
    "dfc_imports_M['mean_imports_row'] = mean_row\n",
    "dfc_imports_M.reset_index(inplace=True)\n",
    "dfc_imports_M.head(1)"
   ]
  },
  {
   "cell_type": "code",
   "execution_count": 52,
   "metadata": {},
   "outputs": [
    {
     "data": {
      "text/html": [
       "<div>\n",
       "<style scoped>\n",
       "    .dataframe tbody tr th:only-of-type {\n",
       "        vertical-align: middle;\n",
       "    }\n",
       "\n",
       "    .dataframe tbody tr th {\n",
       "        vertical-align: top;\n",
       "    }\n",
       "\n",
       "    .dataframe thead th {\n",
       "        text-align: right;\n",
       "    }\n",
       "</style>\n",
       "<table border=\"1\" class=\"dataframe\">\n",
       "  <thead>\n",
       "    <tr style=\"text-align: right;\">\n",
       "      <th></th>\n",
       "      <th>name</th>\n",
       "      <th>sub-region</th>\n",
       "      <th>1970</th>\n",
       "      <th>1971</th>\n",
       "      <th>1972</th>\n",
       "      <th>1973</th>\n",
       "      <th>1974</th>\n",
       "      <th>1975</th>\n",
       "      <th>1976</th>\n",
       "      <th>1977</th>\n",
       "      <th>...</th>\n",
       "      <th>2002</th>\n",
       "      <th>2003</th>\n",
       "      <th>2004</th>\n",
       "      <th>2005</th>\n",
       "      <th>2006</th>\n",
       "      <th>2007</th>\n",
       "      <th>2008</th>\n",
       "      <th>2009</th>\n",
       "      <th>2010</th>\n",
       "      <th>mean_fdi_row</th>\n",
       "    </tr>\n",
       "  </thead>\n",
       "  <tbody>\n",
       "    <tr>\n",
       "      <th>0</th>\n",
       "      <td>Algeria</td>\n",
       "      <td>Northern Africa</td>\n",
       "      <td>1.647378</td>\n",
       "      <td>0.011817</td>\n",
       "      <td>0.613595</td>\n",
       "      <td>0.585191</td>\n",
       "      <td>2.710127</td>\n",
       "      <td>0.764883</td>\n",
       "      <td>1.054808</td>\n",
       "      <td>0.850913</td>\n",
       "      <td>...</td>\n",
       "      <td>1.866684</td>\n",
       "      <td>0.931657</td>\n",
       "      <td>1.037359</td>\n",
       "      <td>1.056292</td>\n",
       "      <td>1.532824</td>\n",
       "      <td>1.223827</td>\n",
       "      <td>1.517639</td>\n",
       "      <td>1.998263</td>\n",
       "      <td>1.414501</td>\n",
       "      <td>0.73115</td>\n",
       "    </tr>\n",
       "  </tbody>\n",
       "</table>\n",
       "<p>1 rows × 44 columns</p>\n",
       "</div>"
      ],
      "text/plain": [
       "      name       sub-region      1970      1971      1972      1973      1974  \\\n",
       "0  Algeria  Northern Africa  1.647378  0.011817  0.613595  0.585191  2.710127   \n",
       "\n",
       "       1975      1976      1977      ...           2002      2003      2004  \\\n",
       "0  0.764883  1.054808  0.850913      ...       1.866684  0.931657  1.037359   \n",
       "\n",
       "       2005      2006      2007      2008      2009      2010  mean_fdi_row  \n",
       "0  1.056292  1.532824  1.223827  1.517639  1.998263  1.414501       0.73115  \n",
       "\n",
       "[1 rows x 44 columns]"
      ]
     },
     "execution_count": 52,
     "metadata": {},
     "output_type": "execute_result"
    }
   ],
   "source": [
    "total_row,mean_row = find_sum_mean_row(dfc_fdi_M)\n",
    "dfc_fdi_M['mean_fdi_row'] = mean_row\n",
    "dfc_fdi_M.reset_index(inplace=True)\n",
    "dfc_fdi_M.head(1)"
   ]
  },
  {
   "cell_type": "code",
   "execution_count": 53,
   "metadata": {},
   "outputs": [
    {
     "data": {
      "text/html": [
       "<div>\n",
       "<style scoped>\n",
       "    .dataframe tbody tr th:only-of-type {\n",
       "        vertical-align: middle;\n",
       "    }\n",
       "\n",
       "    .dataframe tbody tr th {\n",
       "        vertical-align: top;\n",
       "    }\n",
       "\n",
       "    .dataframe thead th {\n",
       "        text-align: right;\n",
       "    }\n",
       "</style>\n",
       "<table border=\"1\" class=\"dataframe\">\n",
       "  <thead>\n",
       "    <tr style=\"text-align: right;\">\n",
       "      <th></th>\n",
       "      <th>name</th>\n",
       "      <th>sub-region</th>\n",
       "      <th>1970</th>\n",
       "      <th>1971</th>\n",
       "      <th>1972</th>\n",
       "      <th>1973</th>\n",
       "      <th>1974</th>\n",
       "      <th>1975</th>\n",
       "      <th>1976</th>\n",
       "      <th>1977</th>\n",
       "      <th>...</th>\n",
       "      <th>2002</th>\n",
       "      <th>2003</th>\n",
       "      <th>2004</th>\n",
       "      <th>2005</th>\n",
       "      <th>2006</th>\n",
       "      <th>2007</th>\n",
       "      <th>2008</th>\n",
       "      <th>2009</th>\n",
       "      <th>2010</th>\n",
       "      <th>mean_gdp_row</th>\n",
       "    </tr>\n",
       "  </thead>\n",
       "  <tbody>\n",
       "    <tr>\n",
       "      <th>0</th>\n",
       "      <td>Algeria</td>\n",
       "      <td>Northern Africa</td>\n",
       "      <td>1.974131e+10</td>\n",
       "      <td>1.750428e+10</td>\n",
       "      <td>2.230464e+10</td>\n",
       "      <td>2.315516e+10</td>\n",
       "      <td>2.489062e+10</td>\n",
       "      <td>2.614644e+10</td>\n",
       "      <td>2.833927e+10</td>\n",
       "      <td>2.982952e+10</td>\n",
       "      <td>...</td>\n",
       "      <td>5.885669e+10</td>\n",
       "      <td>6.291780e+10</td>\n",
       "      <td>6.618952e+10</td>\n",
       "      <td>6.956519e+10</td>\n",
       "      <td>7.095649e+10</td>\n",
       "      <td>7.308519e+10</td>\n",
       "      <td>7.483923e+10</td>\n",
       "      <td>7.663537e+10</td>\n",
       "      <td>7.916434e+10</td>\n",
       "      <td>4.637624e+10</td>\n",
       "    </tr>\n",
       "  </tbody>\n",
       "</table>\n",
       "<p>1 rows × 44 columns</p>\n",
       "</div>"
      ],
      "text/plain": [
       "      name       sub-region          1970          1971          1972  \\\n",
       "0  Algeria  Northern Africa  1.974131e+10  1.750428e+10  2.230464e+10   \n",
       "\n",
       "           1973          1974          1975          1976          1977  \\\n",
       "0  2.315516e+10  2.489062e+10  2.614644e+10  2.833927e+10  2.982952e+10   \n",
       "\n",
       "       ...               2002          2003          2004          2005  \\\n",
       "0      ...       5.885669e+10  6.291780e+10  6.618952e+10  6.956519e+10   \n",
       "\n",
       "           2006          2007          2008          2009          2010  \\\n",
       "0  7.095649e+10  7.308519e+10  7.483923e+10  7.663537e+10  7.916434e+10   \n",
       "\n",
       "   mean_gdp_row  \n",
       "0  4.637624e+10  \n",
       "\n",
       "[1 rows x 44 columns]"
      ]
     },
     "execution_count": 53,
     "metadata": {},
     "output_type": "execute_result"
    }
   ],
   "source": [
    "total_row,mean_row = find_sum_mean_row(dfc_gdp_market_M)\n",
    "dfc_gdp_market_M['mean_gdp_row'] = mean_row\n",
    "dfc_gdp_market_M.reset_index(inplace=True)\n",
    "dfc_gdp_market_M.head(1)"
   ]
  },
  {
   "cell_type": "code",
   "execution_count": 54,
   "metadata": {},
   "outputs": [],
   "source": [
    "# Now making it similar to dataquest format!\n",
    "# merging and cleaning stage 3: merging and making the data format similar to the link below \n",
    "# inspiration from https://www.dataquest.io/blog/pandas-pivot-table/"
   ]
  },
  {
   "cell_type": "markdown",
   "metadata": {},
   "source": [
    "<a id='awesome_format'></a>\n",
    "#### Combined Format!"
   ]
  },
  {
   "cell_type": "code",
   "execution_count": 55,
   "metadata": {},
   "outputs": [
    {
     "data": {
      "text/html": [
       "<div>\n",
       "<style scoped>\n",
       "    .dataframe tbody tr th:only-of-type {\n",
       "        vertical-align: middle;\n",
       "    }\n",
       "\n",
       "    .dataframe tbody tr th {\n",
       "        vertical-align: top;\n",
       "    }\n",
       "\n",
       "    .dataframe thead th {\n",
       "        text-align: right;\n",
       "    }\n",
       "</style>\n",
       "<table border=\"1\" class=\"dataframe\">\n",
       "  <thead>\n",
       "    <tr style=\"text-align: right;\">\n",
       "      <th></th>\n",
       "      <th>name</th>\n",
       "      <th>sub-region</th>\n",
       "      <th>mean_gdp_percapita</th>\n",
       "      <th>mean_exports</th>\n",
       "      <th>mean_imports</th>\n",
       "      <th>mean_fdi</th>\n",
       "      <th>mean_gdp</th>\n",
       "    </tr>\n",
       "  </thead>\n",
       "  <tbody>\n",
       "    <tr>\n",
       "      <th>0</th>\n",
       "      <td>Algeria</td>\n",
       "      <td>Northern Africa</td>\n",
       "      <td>1833.531263</td>\n",
       "      <td>29.661752</td>\n",
       "      <td>26.967667</td>\n",
       "      <td>0.73115</td>\n",
       "      <td>4.637624e+10</td>\n",
       "    </tr>\n",
       "    <tr>\n",
       "      <th>1</th>\n",
       "      <td>Antigua and Barbuda</td>\n",
       "      <td>Latin America and the Caribbean</td>\n",
       "      <td>8772.038285</td>\n",
       "      <td>68.531756</td>\n",
       "      <td>78.470846</td>\n",
       "      <td>8.40268</td>\n",
       "      <td>6.481746e+08</td>\n",
       "    </tr>\n",
       "  </tbody>\n",
       "</table>\n",
       "</div>"
      ],
      "text/plain": [
       "                  name                       sub-region  mean_gdp_percapita  \\\n",
       "0              Algeria                  Northern Africa         1833.531263   \n",
       "1  Antigua and Barbuda  Latin America and the Caribbean         8772.038285   \n",
       "\n",
       "   mean_exports  mean_imports  mean_fdi      mean_gdp  \n",
       "0     29.661752     26.967667   0.73115  4.637624e+10  \n",
       "1     68.531756     78.470846   8.40268  6.481746e+08  "
      ]
     },
     "execution_count": 55,
     "metadata": {},
     "output_type": "execute_result"
    }
   ],
   "source": [
    "#initializing DataFrame\n",
    "df_combined = pd.DataFrame()\n",
    "\n",
    "df_combined[['name','sub-region','mean_gdp_percapita']] = \\\n",
    "    dfc_gdp_percapita_M[['name','sub-region','mean_percapita_row']]\n",
    "\n",
    "df_combined['mean_exports'] = dfc_exports_M['mean_exports_row']\n",
    "df_combined['mean_imports'] = dfc_imports_M['mean_imports_row']\n",
    "df_combined['mean_fdi'] = dfc_fdi_M['mean_fdi_row']\n",
    "df_combined['mean_gdp'] = dfc_gdp_market_M['mean_gdp_row']\n",
    "\n",
    "df_combined.head(2)"
   ]
  },
  {
   "cell_type": "markdown",
   "metadata": {},
   "source": [
    "<a id='sep_columns'></a>\n",
    "### Separation of dataframes based on economic status"
   ]
  },
  {
   "cell_type": "code",
   "execution_count": 56,
   "metadata": {},
   "outputs": [],
   "source": [
    "# now separate dataframes into  1. below average, 2.average and 3. above-average countries \n",
    "# based on gdp_percapita's percentiles given below.\n",
    "#   -- data that lies below 50th percentile, I will call it df_combined_belowaverage_subset\n",
    "#   -- data that lies btw. 75th and 50th percentile, I will call it df_combined_50_75_subset\n",
    "#   -- data that lies above 75th percentile, I will call it df_combined_above75_subset"
   ]
  },
  {
   "cell_type": "code",
   "execution_count": 57,
   "metadata": {},
   "outputs": [
    {
     "data": {
      "text/plain": [
       "count      107.000000\n",
       "mean      6261.961865\n",
       "std       8420.718305\n",
       "min        148.155545\n",
       "25%        561.786848\n",
       "50%       1994.330064\n",
       "75%       8307.872727\n",
       "max      33425.532339\n",
       "Name: mean_gdp_percapita, dtype: float64"
      ]
     },
     "execution_count": 57,
     "metadata": {},
     "output_type": "execute_result"
    }
   ],
   "source": [
    "df_combined['mean_gdp_percapita'].describe()"
   ]
  },
  {
   "cell_type": "code",
   "execution_count": 58,
   "metadata": {},
   "outputs": [
    {
     "data": {
      "text/html": [
       "<div>\n",
       "<style scoped>\n",
       "    .dataframe tbody tr th:only-of-type {\n",
       "        vertical-align: middle;\n",
       "    }\n",
       "\n",
       "    .dataframe tbody tr th {\n",
       "        vertical-align: top;\n",
       "    }\n",
       "\n",
       "    .dataframe thead th {\n",
       "        text-align: right;\n",
       "    }\n",
       "</style>\n",
       "<table border=\"1\" class=\"dataframe\">\n",
       "  <thead>\n",
       "    <tr style=\"text-align: right;\">\n",
       "      <th></th>\n",
       "      <th>name</th>\n",
       "      <th>sub-region</th>\n",
       "      <th>mean_gdp_percapita</th>\n",
       "      <th>mean_exports</th>\n",
       "      <th>mean_imports</th>\n",
       "      <th>mean_fdi</th>\n",
       "      <th>mean_gdp</th>\n",
       "      <th>economic_status</th>\n",
       "    </tr>\n",
       "  </thead>\n",
       "  <tbody>\n",
       "    <tr>\n",
       "      <th>0</th>\n",
       "      <td>Algeria</td>\n",
       "      <td>Northern Africa</td>\n",
       "      <td>1833.531263</td>\n",
       "      <td>29.661752</td>\n",
       "      <td>26.967667</td>\n",
       "      <td>0.73115</td>\n",
       "      <td>4.637624e+10</td>\n",
       "      <td>below_average</td>\n",
       "    </tr>\n",
       "    <tr>\n",
       "      <th>1</th>\n",
       "      <td>Antigua and Barbuda</td>\n",
       "      <td>Latin America and the Caribbean</td>\n",
       "      <td>8772.038285</td>\n",
       "      <td>68.531756</td>\n",
       "      <td>78.470846</td>\n",
       "      <td>8.40268</td>\n",
       "      <td>6.481746e+08</td>\n",
       "      <td>above_average</td>\n",
       "    </tr>\n",
       "  </tbody>\n",
       "</table>\n",
       "</div>"
      ],
      "text/plain": [
       "                  name                       sub-region  mean_gdp_percapita  \\\n",
       "0              Algeria                  Northern Africa         1833.531263   \n",
       "1  Antigua and Barbuda  Latin America and the Caribbean         8772.038285   \n",
       "\n",
       "   mean_exports  mean_imports  mean_fdi      mean_gdp economic_status  \n",
       "0     29.661752     26.967667   0.73115  4.637624e+10   below_average  \n",
       "1     68.531756     78.470846   8.40268  6.481746e+08   above_average  "
      ]
     },
     "execution_count": 58,
     "metadata": {},
     "output_type": "execute_result"
    }
   ],
   "source": [
    "df_combined_economic_status = df_combined.copy()\n",
    "for i,value in enumerate(df_combined_economic_status['mean_gdp_percapita']):\n",
    "    if value < 1995:\n",
    "        df_combined_economic_status.loc[i,'economic_status'] = 'below_average'\n",
    "    if (1995 <= value) & (value < 8308):\n",
    "        df_combined_economic_status.loc[i,'economic_status'] = 'average'\n",
    "    if (8308 <= value) & (value < 33426):\n",
    "        df_combined_economic_status.loc[i,'economic_status'] = 'above_average'\n",
    "        \n",
    "df_combined_economic_status.head(2)"
   ]
  },
  {
   "cell_type": "code",
   "execution_count": 59,
   "metadata": {},
   "outputs": [
    {
     "data": {
      "text/plain": [
       "count      107.000000\n",
       "mean      6261.961865\n",
       "std       8420.718305\n",
       "min        148.155545\n",
       "25%        561.786848\n",
       "50%       1994.330064\n",
       "75%       8307.872727\n",
       "max      33425.532339\n",
       "Name: mean_gdp_percapita, dtype: float64"
      ]
     },
     "execution_count": 59,
     "metadata": {},
     "output_type": "execute_result"
    }
   ],
   "source": [
    "df_combined_economic_status['mean_gdp_percapita'].describe()"
   ]
  },
  {
   "cell_type": "code",
   "execution_count": 60,
   "metadata": {},
   "outputs": [],
   "source": [
    "mask_below_average = df_combined_economic_status['mean_gdp_percapita'] < 1995\n",
    "mask_average = (1995 <= df_combined_economic_status['mean_gdp_percapita'])  \\\n",
    "                    & (df_combined_economic_status['mean_gdp_percapita'] < 8308)\n",
    "mask_above_average = (8308 <= df_combined_economic_status['mean_gdp_percapita']) \\\n",
    "                    & (df_combined_economic_status['mean_gdp_percapita'] < 33426)\n",
    "\n",
    "df_combined_belowaverage_subset = df_combined_economic_status[mask_below_average]\n",
    "df_combined_50_75_subset = df_combined_economic_status[mask_average]\n",
    "df_combined_above75_subset = df_combined_economic_status[mask_above_average]"
   ]
  },
  {
   "cell_type": "code",
   "execution_count": 61,
   "metadata": {},
   "outputs": [
    {
     "data": {
      "text/html": [
       "<div>\n",
       "<style scoped>\n",
       "    .dataframe tbody tr th:only-of-type {\n",
       "        vertical-align: middle;\n",
       "    }\n",
       "\n",
       "    .dataframe tbody tr th {\n",
       "        vertical-align: top;\n",
       "    }\n",
       "\n",
       "    .dataframe thead th {\n",
       "        text-align: right;\n",
       "    }\n",
       "</style>\n",
       "<table border=\"1\" class=\"dataframe\">\n",
       "  <thead>\n",
       "    <tr style=\"text-align: right;\">\n",
       "      <th></th>\n",
       "      <th>name</th>\n",
       "      <th>sub-region</th>\n",
       "      <th>mean_gdp_percapita</th>\n",
       "      <th>mean_exports</th>\n",
       "      <th>mean_imports</th>\n",
       "      <th>mean_fdi</th>\n",
       "      <th>mean_gdp</th>\n",
       "      <th>economic_status</th>\n",
       "    </tr>\n",
       "  </thead>\n",
       "  <tbody>\n",
       "    <tr>\n",
       "      <th>0</th>\n",
       "      <td>Algeria</td>\n",
       "      <td>Northern Africa</td>\n",
       "      <td>1833.531263</td>\n",
       "      <td>29.661752</td>\n",
       "      <td>26.967667</td>\n",
       "      <td>0.73115</td>\n",
       "      <td>4.637624e+10</td>\n",
       "      <td>below_average</td>\n",
       "    </tr>\n",
       "  </tbody>\n",
       "</table>\n",
       "</div>"
      ],
      "text/plain": [
       "      name       sub-region  mean_gdp_percapita  mean_exports  mean_imports  \\\n",
       "0  Algeria  Northern Africa         1833.531263     29.661752     26.967667   \n",
       "\n",
       "   mean_fdi      mean_gdp economic_status  \n",
       "0   0.73115  4.637624e+10   below_average  "
      ]
     },
     "execution_count": 61,
     "metadata": {},
     "output_type": "execute_result"
    }
   ],
   "source": [
    "df_combined_belowaverage_subset.head(1)"
   ]
  },
  {
   "cell_type": "code",
   "execution_count": 62,
   "metadata": {},
   "outputs": [
    {
     "data": {
      "text/html": [
       "<div>\n",
       "<style scoped>\n",
       "    .dataframe tbody tr th:only-of-type {\n",
       "        vertical-align: middle;\n",
       "    }\n",
       "\n",
       "    .dataframe tbody tr th {\n",
       "        vertical-align: top;\n",
       "    }\n",
       "\n",
       "    .dataframe thead th {\n",
       "        text-align: right;\n",
       "    }\n",
       "</style>\n",
       "<table border=\"1\" class=\"dataframe\">\n",
       "  <thead>\n",
       "    <tr style=\"text-align: right;\">\n",
       "      <th></th>\n",
       "      <th>name</th>\n",
       "      <th>sub-region</th>\n",
       "      <th>mean_gdp_percapita</th>\n",
       "      <th>mean_exports</th>\n",
       "      <th>mean_imports</th>\n",
       "      <th>mean_fdi</th>\n",
       "      <th>mean_gdp</th>\n",
       "      <th>economic_status</th>\n",
       "    </tr>\n",
       "  </thead>\n",
       "  <tbody>\n",
       "    <tr>\n",
       "      <th>2</th>\n",
       "      <td>Argentina</td>\n",
       "      <td>Latin America and the Caribbean</td>\n",
       "      <td>7326.55029</td>\n",
       "      <td>12.033307</td>\n",
       "      <td>9.834957</td>\n",
       "      <td>1.45672</td>\n",
       "      <td>2.411955e+11</td>\n",
       "      <td>average</td>\n",
       "    </tr>\n",
       "  </tbody>\n",
       "</table>\n",
       "</div>"
      ],
      "text/plain": [
       "        name                       sub-region  mean_gdp_percapita  \\\n",
       "2  Argentina  Latin America and the Caribbean          7326.55029   \n",
       "\n",
       "   mean_exports  mean_imports  mean_fdi      mean_gdp economic_status  \n",
       "2     12.033307      9.834957   1.45672  2.411955e+11         average  "
      ]
     },
     "execution_count": 62,
     "metadata": {},
     "output_type": "execute_result"
    }
   ],
   "source": [
    "df_combined_50_75_subset.head(1)"
   ]
  },
  {
   "cell_type": "code",
   "execution_count": 63,
   "metadata": {},
   "outputs": [
    {
     "data": {
      "text/html": [
       "<div>\n",
       "<style scoped>\n",
       "    .dataframe tbody tr th:only-of-type {\n",
       "        vertical-align: middle;\n",
       "    }\n",
       "\n",
       "    .dataframe tbody tr th {\n",
       "        vertical-align: top;\n",
       "    }\n",
       "\n",
       "    .dataframe thead th {\n",
       "        text-align: right;\n",
       "    }\n",
       "</style>\n",
       "<table border=\"1\" class=\"dataframe\">\n",
       "  <thead>\n",
       "    <tr style=\"text-align: right;\">\n",
       "      <th></th>\n",
       "      <th>name</th>\n",
       "      <th>sub-region</th>\n",
       "      <th>mean_gdp_percapita</th>\n",
       "      <th>mean_exports</th>\n",
       "      <th>mean_imports</th>\n",
       "      <th>mean_fdi</th>\n",
       "      <th>mean_gdp</th>\n",
       "      <th>economic_status</th>\n",
       "    </tr>\n",
       "  </thead>\n",
       "  <tbody>\n",
       "    <tr>\n",
       "      <th>1</th>\n",
       "      <td>Antigua and Barbuda</td>\n",
       "      <td>Latin America and the Caribbean</td>\n",
       "      <td>8772.038285</td>\n",
       "      <td>68.531756</td>\n",
       "      <td>78.470846</td>\n",
       "      <td>8.40268</td>\n",
       "      <td>6.481746e+08</td>\n",
       "      <td>above_average</td>\n",
       "    </tr>\n",
       "  </tbody>\n",
       "</table>\n",
       "</div>"
      ],
      "text/plain": [
       "                  name                       sub-region  mean_gdp_percapita  \\\n",
       "1  Antigua and Barbuda  Latin America and the Caribbean         8772.038285   \n",
       "\n",
       "   mean_exports  mean_imports  mean_fdi      mean_gdp economic_status  \n",
       "1     68.531756     78.470846   8.40268  6.481746e+08   above_average  "
      ]
     },
     "execution_count": 63,
     "metadata": {},
     "output_type": "execute_result"
    }
   ],
   "source": [
    "df_combined_above75_subset.head(1)"
   ]
  },
  {
   "cell_type": "code",
   "execution_count": 64,
   "metadata": {},
   "outputs": [
    {
     "data": {
      "text/plain": [
       "((107, 8), (54, 8), (26, 8), (27, 8))"
      ]
     },
     "execution_count": 64,
     "metadata": {},
     "output_type": "execute_result"
    }
   ],
   "source": [
    "# NOTE:  df_combined_economic_status contains data from all economic status.\n",
    "# while df_combined_belowaverage_subset contains only data for below_average gdp_percapita countries,\n",
    "# df_combined_50_75_subset contains only data for average gdp_percapita countries, \n",
    "# and df_combined_above75_subset contains only data for above-average gdp_percapita countries.\n",
    "# 107 = 54 + 26 + 27\n",
    "\n",
    "df_combined_economic_status.shape,df_combined_belowaverage_subset.shape, \\\n",
    "    df_combined_50_75_subset.shape,df_combined_above75_subset.shape"
   ]
  },
  {
   "cell_type": "code",
   "execution_count": 65,
   "metadata": {},
   "outputs": [],
   "source": [
    "#saving the clean and combined into csv format\n",
    "df_combined_economic_status.to_csv('clean_combined/combined_base.csv')\n",
    "df_combined_belowaverage_subset.to_csv('clean_combined/combined_below_average.csv')\n",
    "df_combined_50_75_subset.to_csv('clean_combined/combined_average.csv')\n",
    "df_combined_above75_subset.to_csv('clean_combined/combined_above_average.csv')"
   ]
  },
  {
   "cell_type": "markdown",
   "metadata": {},
   "source": [
    "<a id='eda'></a>\n",
    "# Exploratory Data Analysis\n",
    "\n",
    "\n",
    "<a id='resquestion1'></a>\n",
    "## Research Question 1 -- Finding out if eating Big-Mac everyday is affordable\n",
    "><a href='https://www.businessinsider.com/big-mac-cost-around-the-world-2017-1/?IR=T'/>According to this site</a>, the price of one Big Mac in the USA is USD\\$5.04. I want to find out\n",
    ">if it is affordable for a person to eat one Big Mac meal for lunch everyday. (Of course,\n",
    ">no one would be able to eat it everyday. I just want to test purchasing powers\n",
    ">of countries categorized as below_average, average and above-average). \n",
    ">\n",
    ">Therefore the price of Big Mac I will be using is USD\\$5.04 x 365 = **USD\\$1,840**\n",
    ">\n",
    "<br>\n",
    "<a href=#first_test>First Test: below-average gdp-percapita countries</a><br>\n",
    "<a href=#second_test>Second Test: average gdp-percapita countries</a><br>\n",
    "<a href=#third_test>Third Test: above-average gdp-percapita countries</a>"
   ]
  },
  {
   "cell_type": "code",
   "execution_count": 66,
   "metadata": {},
   "outputs": [],
   "source": [
    "#Load Data\n",
    "df_combined_economic_status = pd.read_csv('clean_combined/combined_base.csv',index_col=0)\n",
    "df_combined_belowaverage_subset = pd.read_csv('clean_combined/combined_below_average.csv',index_col=0)\n",
    "df_combined_50_75_subset = pd.read_csv('clean_combined/combined_average.csv',index_col=0)\n",
    "df_combined_above75_subset = pd.read_csv('clean_combined/combined_above_average.csv',index_col=0)"
   ]
  },
  {
   "cell_type": "code",
   "execution_count": 67,
   "metadata": {},
   "outputs": [
    {
     "data": {
      "text/html": [
       "<div>\n",
       "<style scoped>\n",
       "    .dataframe tbody tr th:only-of-type {\n",
       "        vertical-align: middle;\n",
       "    }\n",
       "\n",
       "    .dataframe tbody tr th {\n",
       "        vertical-align: top;\n",
       "    }\n",
       "\n",
       "    .dataframe thead th {\n",
       "        text-align: right;\n",
       "    }\n",
       "</style>\n",
       "<table border=\"1\" class=\"dataframe\">\n",
       "  <thead>\n",
       "    <tr style=\"text-align: right;\">\n",
       "      <th></th>\n",
       "      <th>name</th>\n",
       "      <th>sub-region</th>\n",
       "      <th>mean_gdp_percapita</th>\n",
       "      <th>mean_exports</th>\n",
       "      <th>mean_imports</th>\n",
       "      <th>mean_fdi</th>\n",
       "      <th>mean_gdp</th>\n",
       "      <th>economic_status</th>\n",
       "    </tr>\n",
       "  </thead>\n",
       "  <tbody>\n",
       "    <tr>\n",
       "      <th>0</th>\n",
       "      <td>Algeria</td>\n",
       "      <td>Northern Africa</td>\n",
       "      <td>1833.531263</td>\n",
       "      <td>29.661752</td>\n",
       "      <td>26.967667</td>\n",
       "      <td>0.73115</td>\n",
       "      <td>4.637624e+10</td>\n",
       "      <td>below_average</td>\n",
       "    </tr>\n",
       "    <tr>\n",
       "      <th>1</th>\n",
       "      <td>Antigua and Barbuda</td>\n",
       "      <td>Latin America and the Caribbean</td>\n",
       "      <td>8772.038285</td>\n",
       "      <td>68.531756</td>\n",
       "      <td>78.470846</td>\n",
       "      <td>8.40268</td>\n",
       "      <td>6.481746e+08</td>\n",
       "      <td>above_average</td>\n",
       "    </tr>\n",
       "  </tbody>\n",
       "</table>\n",
       "</div>"
      ],
      "text/plain": [
       "                  name                       sub-region  mean_gdp_percapita  \\\n",
       "0              Algeria                  Northern Africa         1833.531263   \n",
       "1  Antigua and Barbuda  Latin America and the Caribbean         8772.038285   \n",
       "\n",
       "   mean_exports  mean_imports  mean_fdi      mean_gdp economic_status  \n",
       "0     29.661752     26.967667   0.73115  4.637624e+10   below_average  \n",
       "1     68.531756     78.470846   8.40268  6.481746e+08   above_average  "
      ]
     },
     "execution_count": 67,
     "metadata": {},
     "output_type": "execute_result"
    }
   ],
   "source": [
    "df_combined_economic_status.head(2)"
   ]
  },
  {
   "cell_type": "code",
   "execution_count": 68,
   "metadata": {},
   "outputs": [
    {
     "data": {
      "text/html": [
       "<div>\n",
       "<style scoped>\n",
       "    .dataframe tbody tr th:only-of-type {\n",
       "        vertical-align: middle;\n",
       "    }\n",
       "\n",
       "    .dataframe tbody tr th {\n",
       "        vertical-align: top;\n",
       "    }\n",
       "\n",
       "    .dataframe thead th {\n",
       "        text-align: right;\n",
       "    }\n",
       "</style>\n",
       "<table border=\"1\" class=\"dataframe\">\n",
       "  <thead>\n",
       "    <tr style=\"text-align: right;\">\n",
       "      <th></th>\n",
       "      <th>name</th>\n",
       "      <th>sub-region</th>\n",
       "      <th>mean_gdp_percapita</th>\n",
       "      <th>mean_exports</th>\n",
       "      <th>mean_imports</th>\n",
       "      <th>mean_fdi</th>\n",
       "      <th>mean_gdp</th>\n",
       "      <th>economic_status</th>\n",
       "    </tr>\n",
       "  </thead>\n",
       "  <tbody>\n",
       "    <tr>\n",
       "      <th>0</th>\n",
       "      <td>Algeria</td>\n",
       "      <td>Northern Africa</td>\n",
       "      <td>1833.531263</td>\n",
       "      <td>29.661752</td>\n",
       "      <td>26.967667</td>\n",
       "      <td>0.731150</td>\n",
       "      <td>4.637624e+10</td>\n",
       "      <td>below_average</td>\n",
       "    </tr>\n",
       "    <tr>\n",
       "      <th>6</th>\n",
       "      <td>Bangladesh</td>\n",
       "      <td>Southern Asia</td>\n",
       "      <td>320.787185</td>\n",
       "      <td>9.633694</td>\n",
       "      <td>16.620701</td>\n",
       "      <td>0.284223</td>\n",
       "      <td>3.594854e+10</td>\n",
       "      <td>below_average</td>\n",
       "    </tr>\n",
       "  </tbody>\n",
       "</table>\n",
       "</div>"
      ],
      "text/plain": [
       "         name       sub-region  mean_gdp_percapita  mean_exports  \\\n",
       "0     Algeria  Northern Africa         1833.531263     29.661752   \n",
       "6  Bangladesh    Southern Asia          320.787185      9.633694   \n",
       "\n",
       "   mean_imports  mean_fdi      mean_gdp economic_status  \n",
       "0     26.967667  0.731150  4.637624e+10   below_average  \n",
       "6     16.620701  0.284223  3.594854e+10   below_average  "
      ]
     },
     "execution_count": 68,
     "metadata": {},
     "output_type": "execute_result"
    }
   ],
   "source": [
    "df_combined_belowaverage_subset.head(2)"
   ]
  },
  {
   "cell_type": "code",
   "execution_count": 69,
   "metadata": {},
   "outputs": [],
   "source": [
    "# Before we delve further into the Big Mac question, first I will standardize the \n",
    "# mean_gdp_percapita for df_combined_belowaverage_subset, df_combined_50_75_subset, and\n",
    "# df_combined_above75_subset dataframes. Dataframe df_combined_economic_status remain \n",
    "# unchanged. I will add a new column called z_mean_gdp_percapita. z_mean_gdp_percapita\n",
    "# is a z-score of mean_gdp_percapita. z-score tells how much a value is from its mean\n",
    "# and is a measure of variability. \n",
    "\n",
    "#standardized mean_gdp_percapita for below average countries\n",
    "mean_belowaverage_val = df_combined_belowaverage_subset['mean_gdp_percapita'].mean()\n",
    "std_belowaverage_val = df_combined_belowaverage_subset['mean_gdp_percapita'].std()\n",
    "df_combined_belowaverage_subset = df_combined_belowaverage_subset.copy()  # with this it works \n",
    "df_combined_belowaverage_subset['z_mean_gdp_percapita'] = \\\n",
    "        df_combined_belowaverage_subset['mean_gdp_percapita'].apply(lambda x: (x-mean_belowaverage_val)/std_belowaverage_val)\n",
    "\n",
    "#standardized mean_gdp_percapita for average countries\n",
    "mean_average_val = df_combined_50_75_subset['mean_gdp_percapita'].mean()\n",
    "std_average_val = df_combined_50_75_subset['mean_gdp_percapita'].std()\n",
    "df_combined_50_75_subset = df_combined_50_75_subset.copy()  # with this it works \n",
    "df_combined_50_75_subset['z_mean_gdp_percapita'] = \\\n",
    "        df_combined_50_75_subset['mean_gdp_percapita'].apply(lambda x: (x-mean_average_val)/std_average_val)\n",
    "\n",
    "#standardized mean_gdp_percapita for above-average countries\n",
    "mean_aboveaverage_val = df_combined_above75_subset['mean_gdp_percapita'].mean()\n",
    "std_aboveaverage_val = df_combined_above75_subset['mean_gdp_percapita'].std()\n",
    "df_combined_above75_subset = df_combined_above75_subset.copy()  # with this it works \n",
    "df_combined_above75_subset['z_mean_gdp_percapita'] = \\\n",
    "        df_combined_above75_subset['mean_gdp_percapita'].apply(lambda x: (x-mean_aboveaverage_val)/std_aboveaverage_val)"
   ]
  },
  {
   "cell_type": "markdown",
   "metadata": {},
   "source": [
    "<a id='clean_dataframes'></a>\n",
    "#### For clarity, I will reproduce the following clean dataframes:"
   ]
  },
  {
   "cell_type": "code",
   "execution_count": 70,
   "metadata": {},
   "outputs": [
    {
     "data": {
      "text/html": [
       "<div>\n",
       "<style scoped>\n",
       "    .dataframe tbody tr th:only-of-type {\n",
       "        vertical-align: middle;\n",
       "    }\n",
       "\n",
       "    .dataframe tbody tr th {\n",
       "        vertical-align: top;\n",
       "    }\n",
       "\n",
       "    .dataframe thead th {\n",
       "        text-align: right;\n",
       "    }\n",
       "</style>\n",
       "<table border=\"1\" class=\"dataframe\">\n",
       "  <thead>\n",
       "    <tr style=\"text-align: right;\">\n",
       "      <th></th>\n",
       "      <th>name</th>\n",
       "      <th>sub-region</th>\n",
       "      <th>mean_gdp_percapita</th>\n",
       "      <th>mean_exports</th>\n",
       "      <th>mean_imports</th>\n",
       "      <th>mean_fdi</th>\n",
       "      <th>mean_gdp</th>\n",
       "      <th>economic_status</th>\n",
       "    </tr>\n",
       "  </thead>\n",
       "  <tbody>\n",
       "    <tr>\n",
       "      <th>0</th>\n",
       "      <td>Algeria</td>\n",
       "      <td>Northern Africa</td>\n",
       "      <td>1833.531263</td>\n",
       "      <td>29.661752</td>\n",
       "      <td>26.967667</td>\n",
       "      <td>0.73115</td>\n",
       "      <td>4.637624e+10</td>\n",
       "      <td>below_average</td>\n",
       "    </tr>\n",
       "    <tr>\n",
       "      <th>1</th>\n",
       "      <td>Antigua and Barbuda</td>\n",
       "      <td>Latin America and the Caribbean</td>\n",
       "      <td>8772.038285</td>\n",
       "      <td>68.531756</td>\n",
       "      <td>78.470846</td>\n",
       "      <td>8.40268</td>\n",
       "      <td>6.481746e+08</td>\n",
       "      <td>above_average</td>\n",
       "    </tr>\n",
       "  </tbody>\n",
       "</table>\n",
       "</div>"
      ],
      "text/plain": [
       "                  name                       sub-region  mean_gdp_percapita  \\\n",
       "0              Algeria                  Northern Africa         1833.531263   \n",
       "1  Antigua and Barbuda  Latin America and the Caribbean         8772.038285   \n",
       "\n",
       "   mean_exports  mean_imports  mean_fdi      mean_gdp economic_status  \n",
       "0     29.661752     26.967667   0.73115  4.637624e+10   below_average  \n",
       "1     68.531756     78.470846   8.40268  6.481746e+08   above_average  "
      ]
     },
     "execution_count": 70,
     "metadata": {},
     "output_type": "execute_result"
    }
   ],
   "source": [
    "# not standardized\n",
    "df_combined_economic_status.head(2)"
   ]
  },
  {
   "cell_type": "code",
   "execution_count": 71,
   "metadata": {},
   "outputs": [
    {
     "data": {
      "text/html": [
       "<div>\n",
       "<style scoped>\n",
       "    .dataframe tbody tr th:only-of-type {\n",
       "        vertical-align: middle;\n",
       "    }\n",
       "\n",
       "    .dataframe tbody tr th {\n",
       "        vertical-align: top;\n",
       "    }\n",
       "\n",
       "    .dataframe thead th {\n",
       "        text-align: right;\n",
       "    }\n",
       "</style>\n",
       "<table border=\"1\" class=\"dataframe\">\n",
       "  <thead>\n",
       "    <tr style=\"text-align: right;\">\n",
       "      <th></th>\n",
       "      <th>name</th>\n",
       "      <th>sub-region</th>\n",
       "      <th>mean_gdp_percapita</th>\n",
       "      <th>mean_exports</th>\n",
       "      <th>mean_imports</th>\n",
       "      <th>mean_fdi</th>\n",
       "      <th>mean_gdp</th>\n",
       "      <th>economic_status</th>\n",
       "      <th>z_mean_gdp_percapita</th>\n",
       "    </tr>\n",
       "  </thead>\n",
       "  <tbody>\n",
       "    <tr>\n",
       "      <th>0</th>\n",
       "      <td>Algeria</td>\n",
       "      <td>Northern Africa</td>\n",
       "      <td>1833.531263</td>\n",
       "      <td>29.661752</td>\n",
       "      <td>26.967667</td>\n",
       "      <td>0.731150</td>\n",
       "      <td>4.637624e+10</td>\n",
       "      <td>below_average</td>\n",
       "      <td>2.052225</td>\n",
       "    </tr>\n",
       "    <tr>\n",
       "      <th>6</th>\n",
       "      <td>Bangladesh</td>\n",
       "      <td>Southern Asia</td>\n",
       "      <td>320.787185</td>\n",
       "      <td>9.633694</td>\n",
       "      <td>16.620701</td>\n",
       "      <td>0.284223</td>\n",
       "      <td>3.594854e+10</td>\n",
       "      <td>below_average</td>\n",
       "      <td>-0.772394</td>\n",
       "    </tr>\n",
       "  </tbody>\n",
       "</table>\n",
       "</div>"
      ],
      "text/plain": [
       "         name       sub-region  mean_gdp_percapita  mean_exports  \\\n",
       "0     Algeria  Northern Africa         1833.531263     29.661752   \n",
       "6  Bangladesh    Southern Asia          320.787185      9.633694   \n",
       "\n",
       "   mean_imports  mean_fdi      mean_gdp economic_status  z_mean_gdp_percapita  \n",
       "0     26.967667  0.731150  4.637624e+10   below_average              2.052225  \n",
       "6     16.620701  0.284223  3.594854e+10   below_average             -0.772394  "
      ]
     },
     "execution_count": 71,
     "metadata": {},
     "output_type": "execute_result"
    }
   ],
   "source": [
    "# standardize mean_gdp_percapita --> z_mean_gdp_percapita\n",
    "df_combined_belowaverage_subset.head(2)"
   ]
  },
  {
   "cell_type": "code",
   "execution_count": 72,
   "metadata": {},
   "outputs": [
    {
     "data": {
      "text/html": [
       "<div>\n",
       "<style scoped>\n",
       "    .dataframe tbody tr th:only-of-type {\n",
       "        vertical-align: middle;\n",
       "    }\n",
       "\n",
       "    .dataframe tbody tr th {\n",
       "        vertical-align: top;\n",
       "    }\n",
       "\n",
       "    .dataframe thead th {\n",
       "        text-align: right;\n",
       "    }\n",
       "</style>\n",
       "<table border=\"1\" class=\"dataframe\">\n",
       "  <thead>\n",
       "    <tr style=\"text-align: right;\">\n",
       "      <th></th>\n",
       "      <th>name</th>\n",
       "      <th>sub-region</th>\n",
       "      <th>mean_gdp_percapita</th>\n",
       "      <th>mean_exports</th>\n",
       "      <th>mean_imports</th>\n",
       "      <th>mean_fdi</th>\n",
       "      <th>mean_gdp</th>\n",
       "      <th>economic_status</th>\n",
       "      <th>z_mean_gdp_percapita</th>\n",
       "    </tr>\n",
       "  </thead>\n",
       "  <tbody>\n",
       "    <tr>\n",
       "      <th>2</th>\n",
       "      <td>Argentina</td>\n",
       "      <td>Latin America and the Caribbean</td>\n",
       "      <td>7326.55029</td>\n",
       "      <td>12.033307</td>\n",
       "      <td>9.834957</td>\n",
       "      <td>1.456720</td>\n",
       "      <td>2.411955e+11</td>\n",
       "      <td>average</td>\n",
       "      <td>1.683925</td>\n",
       "    </tr>\n",
       "    <tr>\n",
       "      <th>7</th>\n",
       "      <td>Barbados</td>\n",
       "      <td>Latin America and the Caribbean</td>\n",
       "      <td>8051.66681</td>\n",
       "      <td>56.974819</td>\n",
       "      <td>61.118973</td>\n",
       "      <td>2.953979</td>\n",
       "      <td>2.046800e+09</td>\n",
       "      <td>average</td>\n",
       "      <td>2.109789</td>\n",
       "    </tr>\n",
       "  </tbody>\n",
       "</table>\n",
       "</div>"
      ],
      "text/plain": [
       "        name                       sub-region  mean_gdp_percapita  \\\n",
       "2  Argentina  Latin America and the Caribbean          7326.55029   \n",
       "7   Barbados  Latin America and the Caribbean          8051.66681   \n",
       "\n",
       "   mean_exports  mean_imports  mean_fdi      mean_gdp economic_status  \\\n",
       "2     12.033307      9.834957  1.456720  2.411955e+11         average   \n",
       "7     56.974819     61.118973  2.953979  2.046800e+09         average   \n",
       "\n",
       "   z_mean_gdp_percapita  \n",
       "2              1.683925  \n",
       "7              2.109789  "
      ]
     },
     "execution_count": 72,
     "metadata": {},
     "output_type": "execute_result"
    }
   ],
   "source": [
    "# standardize mean_gdp_percapita --> z_mean_gdp_percapita\n",
    "df_combined_50_75_subset.head(2)"
   ]
  },
  {
   "cell_type": "code",
   "execution_count": 73,
   "metadata": {},
   "outputs": [
    {
     "data": {
      "text/html": [
       "<div>\n",
       "<style scoped>\n",
       "    .dataframe tbody tr th:only-of-type {\n",
       "        vertical-align: middle;\n",
       "    }\n",
       "\n",
       "    .dataframe tbody tr th {\n",
       "        vertical-align: top;\n",
       "    }\n",
       "\n",
       "    .dataframe thead th {\n",
       "        text-align: right;\n",
       "    }\n",
       "</style>\n",
       "<table border=\"1\" class=\"dataframe\">\n",
       "  <thead>\n",
       "    <tr style=\"text-align: right;\">\n",
       "      <th></th>\n",
       "      <th>name</th>\n",
       "      <th>sub-region</th>\n",
       "      <th>mean_gdp_percapita</th>\n",
       "      <th>mean_exports</th>\n",
       "      <th>mean_imports</th>\n",
       "      <th>mean_fdi</th>\n",
       "      <th>mean_gdp</th>\n",
       "      <th>economic_status</th>\n",
       "      <th>z_mean_gdp_percapita</th>\n",
       "    </tr>\n",
       "  </thead>\n",
       "  <tbody>\n",
       "    <tr>\n",
       "      <th>1</th>\n",
       "      <td>Antigua and Barbuda</td>\n",
       "      <td>Latin America and the Caribbean</td>\n",
       "      <td>8772.038285</td>\n",
       "      <td>68.531756</td>\n",
       "      <td>78.470846</td>\n",
       "      <td>8.402680</td>\n",
       "      <td>6.481746e+08</td>\n",
       "      <td>above_average</td>\n",
       "      <td>-1.467034</td>\n",
       "    </tr>\n",
       "    <tr>\n",
       "      <th>3</th>\n",
       "      <td>Australia</td>\n",
       "      <td>Australia and New Zealand</td>\n",
       "      <td>17987.668661</td>\n",
       "      <td>16.569758</td>\n",
       "      <td>17.398602</td>\n",
       "      <td>1.936223</td>\n",
       "      <td>3.178380e+11</td>\n",
       "      <td>above_average</td>\n",
       "      <td>-0.151997</td>\n",
       "    </tr>\n",
       "  </tbody>\n",
       "</table>\n",
       "</div>"
      ],
      "text/plain": [
       "                  name                       sub-region  mean_gdp_percapita  \\\n",
       "1  Antigua and Barbuda  Latin America and the Caribbean         8772.038285   \n",
       "3            Australia        Australia and New Zealand        17987.668661   \n",
       "\n",
       "   mean_exports  mean_imports  mean_fdi      mean_gdp economic_status  \\\n",
       "1     68.531756     78.470846  8.402680  6.481746e+08   above_average   \n",
       "3     16.569758     17.398602  1.936223  3.178380e+11   above_average   \n",
       "\n",
       "   z_mean_gdp_percapita  \n",
       "1             -1.467034  \n",
       "3             -0.151997  "
      ]
     },
     "execution_count": 73,
     "metadata": {},
     "output_type": "execute_result"
    }
   ],
   "source": [
    "## standardize mean_gdp_percapita --> z_mean_gdp_percapita\n",
    "df_combined_above75_subset.head(2)"
   ]
  },
  {
   "cell_type": "markdown",
   "metadata": {},
   "source": [
    "<a id='first_test'></a>\n",
    "### First, we test below-average gdp-percapita countries"
   ]
  },
  {
   "cell_type": "code",
   "execution_count": 74,
   "metadata": {},
   "outputs": [],
   "source": [
    "#Calculate the Z-score for BIG-MAC everyday in below-average gdp-percapita countries\n",
    "BIG_MAC_EVERYDAY_Z_score = \\\n",
    "    round(calc_z_score_given_value(df_combined_belowaverage_subset['mean_gdp_percapita'],BIG_MAC_EVERYDAY),2)"
   ]
  },
  {
   "cell_type": "markdown",
   "metadata": {},
   "source": [
    ">Because we calculate the z-score of BIG_MAC_EVERYDAY in below-average <br>\n",
    ">gdp-percapita countries, we can immediately tell that this habit -- eating <br> \n",
    ">BIG MAC everyday is very expensive. 2.08 (see result below) means that it is <br> \n",
    ">approximately 2 STDs (standard deviations) away from the mean. Therefore <br>\n",
    ">only the very \"rich\" can afford  this habit. Refer to Fig.1b below."
   ]
  },
  {
   "cell_type": "code",
   "execution_count": 75,
   "metadata": {},
   "outputs": [
    {
     "data": {
      "text/plain": [
       "2.08"
      ]
     },
     "execution_count": 75,
     "metadata": {},
     "output_type": "execute_result"
    }
   ],
   "source": [
    "\n",
    "BIG_MAC_EVERYDAY_Z_score"
   ]
  },
  {
   "cell_type": "code",
   "execution_count": 76,
   "metadata": {},
   "outputs": [],
   "source": [
    "#Calculate Data for plotting graphs\n",
    "mean_val, std1_val, std2_val = \\\n",
    "    calc_mean_within_std1_std2_right(df_combined_belowaverage_subset['mean_gdp_percapita'])\n",
    "mean_val = int(mean_val)\n",
    "std1_val = int(std1_val)\n",
    "std2_val = int(std2_val)"
   ]
  },
  {
   "cell_type": "code",
   "execution_count": 77,
   "metadata": {},
   "outputs": [
    {
     "data": {
      "text/plain": [
       "(734, 1270, 1805)"
      ]
     },
     "execution_count": 77,
     "metadata": {},
     "output_type": "execute_result"
    }
   ],
   "source": [
    "mean_val,std1_val,std2_val"
   ]
  },
  {
   "cell_type": "code",
   "execution_count": 78,
   "metadata": {},
   "outputs": [
    {
     "data": {
      "image/png": "[encoded data removed]",
      "text/plain": [
       "<Figure size 1152x864 with 2 Axes>"
      ]
     },
     "metadata": {},
     "output_type": "display_data"
    }
   ],
   "source": [
    "fig = plt.figure(figsize=(16,12))\n",
    "ax1 = fig.add_subplot(2,1,1)\n",
    "df_combined_belowaverage_subset['mean_gdp_percapita'].plot(kind='kde',ax=ax1,label='')\n",
    "plt.title('Fig.1a: Eating BigMac Everyday in Below-Average GDP-Per-Capita countries',fontsize=15)\n",
    "plt.axvline(x=mean_val,c='black',label='mean: ' + pretty_number(mean_val))\n",
    "plt.axvline(x=std1_val,c='yellow',label='std-1: ' + pretty_number(std1_val))\n",
    "plt.axvline(x=std2_val,c='orange',label='std-2: ' + pretty_number(std2_val))\n",
    "plt.axvline(x=BIG_MAC_EVERYDAY,c='red',label='Big-Mac everyday: ' + money(BIG_MAC_EVERYDAY))\n",
    "plt.xlabel('In US dollars',fontsize=13)\n",
    "common_ticks_legends_format(12,13)\n",
    "\n",
    "#standardized form\n",
    "ax2 = fig.add_subplot(2,1,2)\n",
    "df_combined_belowaverage_subset['z_mean_gdp_percapita'].plot(kind='kde',ax=ax2,label='')\n",
    "plt.title('Fig.1b: Standardized Version of Eating BigMac Everyday in Below-Average GDP-Per-Capita countries',fontsize=15)\n",
    "plt.axvline(BIG_MAC_EVERYDAY_Z_score,c='red',label='Big-Mac Everyday Z-score: ' + str(BIG_MAC_EVERYDAY_Z_score) \\\n",
    "           + ' which equals to: ' + money(BIG_MAC_EVERYDAY))\n",
    "plt.xlabel('Z-score',fontsize=13)\n",
    "common_ticks_legends_format(12,13)\n",
    "\n",
    "plt.show()"
   ]
  },
  {
   "cell_type": "markdown",
   "metadata": {},
   "source": [
    "From Fig.1 above, we can see that eating big-mac everyday is very expensive in below-average gdp-percapita countries. The z-score of eating Big-Mac Everyday is 2.08, which means only approximately (1-0.9812) 1.88% of the population can afford this habit!"
   ]
  },
  {
   "cell_type": "markdown",
   "metadata": {},
   "source": [
    "<a id='second_test'></a>\n",
    "### Second, we test average gdp-percapita countries"
   ]
  },
  {
   "cell_type": "code",
   "execution_count": 79,
   "metadata": {},
   "outputs": [],
   "source": [
    "#Calculate the Z-score for BIG-MAC everyday in average gdp-percapita countries\n",
    "BIG_MAC_EVERYDAY_Z_score = \\\n",
    "    round(calc_z_score_given_value(df_combined_50_75_subset['mean_gdp_percapita'],BIG_MAC_EVERYDAY),2)"
   ]
  },
  {
   "cell_type": "code",
   "execution_count": 80,
   "metadata": {},
   "outputs": [
    {
     "data": {
      "text/plain": [
       "-1.57"
      ]
     },
     "execution_count": 80,
     "metadata": {},
     "output_type": "execute_result"
    }
   ],
   "source": [
    "BIG_MAC_EVERYDAY_Z_score"
   ]
  },
  {
   "cell_type": "markdown",
   "metadata": {},
   "source": [
    ">Now the BIG_MAC_EVERYDAY z-score is -1.57, which means that unlike the z-score above,<br>\n",
    ">it is negative and it quite far away from the mean. This means that majority of people in<br> \n",
    "average gdp_percapita countries can afford BIG MAC meal for lunch everyday.<br>\n",
    ">\n",
    "\n"
   ]
  },
  {
   "cell_type": "code",
   "execution_count": 81,
   "metadata": {},
   "outputs": [],
   "source": [
    "#Calculate Data for plotting graphs\n",
    "mean_val, std1_val, std2_val = \\\n",
    "    calc_mean_within_std1_std2_left(df_combined_50_75_subset['mean_gdp_percapita'])\n",
    "mean_val = int(mean_val)\n",
    "std1_val = int(std1_val)\n",
    "std2_val = int(std2_val)"
   ]
  },
  {
   "cell_type": "code",
   "execution_count": 82,
   "metadata": {},
   "outputs": [
    {
     "data": {
      "text/plain": [
       "(4459, 2756, 1053)"
      ]
     },
     "execution_count": 82,
     "metadata": {},
     "output_type": "execute_result"
    }
   ],
   "source": [
    "mean_val,std1_val,std2_val"
   ]
  },
  {
   "cell_type": "code",
   "execution_count": 83,
   "metadata": {},
   "outputs": [
    {
     "data": {
      "image/png": "[encoded data removed]",
      "text/plain": [
       "<Figure size 1152x864 with 2 Axes>"
      ]
     },
     "metadata": {},
     "output_type": "display_data"
    }
   ],
   "source": [
    "fig = plt.figure(figsize=(16,12))\n",
    "ax1 = fig.add_subplot(2,1,1)\n",
    "df_combined_50_75_subset['mean_gdp_percapita'].plot(kind='kde',ax=ax1,label='')\n",
    "plt.title('Fig.2a: Eating BigMac Everyday in Average GDP-Per-Capita countries',fontsize=15)\n",
    "plt.axvline(x=mean_val,c='black',label='mean: ' + pretty_number(mean_val))\n",
    "plt.axvline(x=std1_val,c='yellow',label='std-1: ' + pretty_number(std1_val))\n",
    "plt.axvline(x=std2_val,c='orange',label='std-2: ' + pretty_number(std2_val))\n",
    "plt.axvline(x=BIG_MAC_EVERYDAY,c='red',label='Big-Mac everyday: ' + money(BIG_MAC_EVERYDAY))\n",
    "plt.xlabel('In US dollars',fontsize=13)\n",
    "common_ticks_legends_format(12,13)\n",
    "\n",
    "#standardized form\n",
    "ax2 = fig.add_subplot(2,1,2)\n",
    "df_combined_50_75_subset['z_mean_gdp_percapita'].plot(kind='kde',ax=ax2,label='')\n",
    "plt.title('Fig.2b: Standardized Version of Eating BigMac Everyday in Average GDP-Per-Capita countries',fontsize=15)\n",
    "plt.axvline(BIG_MAC_EVERYDAY_Z_score,c='red',label='Big-Mac Everyday Z-score: ' + str(BIG_MAC_EVERYDAY_Z_score) \\\n",
    "           + ' which equals to: ' + money(BIG_MAC_EVERYDAY))\n",
    "plt.xlabel('Z-score',fontsize=13)\n",
    "common_ticks_legends_format(12,13)\n",
    "\n",
    "plt.show()"
   ]
  },
  {
   "cell_type": "markdown",
   "metadata": {},
   "source": [
    "From Fig.2, we can see that Big-Mac Everyday Z-score lies within first and second standard deviation with\n",
    "a z-score of -1.57. This means that it is 1.57 standard deviation away from  the mean to the left. Checking Z-table,\n",
    "this corresponds to 5.82%, which approximately means that about 5.28% of the population can't afford eating Big-Mac\n",
    "everyday in average gdp-percapita countries."
   ]
  },
  {
   "cell_type": "markdown",
   "metadata": {},
   "source": [
    "<a id='third_test'></a>\n",
    "### Third, we test above-average gdp-percapita countries"
   ]
  },
  {
   "cell_type": "code",
   "execution_count": 84,
   "metadata": {},
   "outputs": [],
   "source": [
    "#Calculate the Z-score for BIG-MAC everyday in above-average gdp-percapita countries\n",
    "BIG_MAC_EVERYDAY_Z_score = \\\n",
    "    round(calc_z_score_given_value(df_combined_above75_subset['mean_gdp_percapita'],BIG_MAC_EVERYDAY),2)"
   ]
  },
  {
   "cell_type": "code",
   "execution_count": 85,
   "metadata": {},
   "outputs": [
    {
     "data": {
      "text/plain": [
       "-2.5"
      ]
     },
     "execution_count": 85,
     "metadata": {},
     "output_type": "execute_result"
    }
   ],
   "source": [
    "BIG_MAC_EVERYDAY_Z_score"
   ]
  },
  {
   "cell_type": "code",
   "execution_count": 86,
   "metadata": {},
   "outputs": [],
   "source": [
    "#Calculate Data for plotting graphs\n",
    "mean_val, std1_val, std2_val = \\\n",
    "    calc_mean_within_std1_std2_left(df_combined_above75_subset['mean_gdp_percapita'])\n",
    "mean_val = int(mean_val)\n",
    "std1_val = int(std1_val)\n",
    "std2_val = int(std2_val)"
   ]
  },
  {
   "cell_type": "code",
   "execution_count": 87,
   "metadata": {},
   "outputs": [
    {
     "data": {
      "text/plain": [
       "(19052, 12044, 5037)"
      ]
     },
     "execution_count": 87,
     "metadata": {},
     "output_type": "execute_result"
    }
   ],
   "source": [
    "mean_val,std1_val,std2_val"
   ]
  },
  {
   "cell_type": "code",
   "execution_count": 88,
   "metadata": {},
   "outputs": [
    {
     "data": {
      "image/png": "[encoded data removed]",
      "text/plain": [
       "<Figure size 1152x864 with 2 Axes>"
      ]
     },
     "metadata": {},
     "output_type": "display_data"
    }
   ],
   "source": [
    "fig = plt.figure(figsize=(16,12))\n",
    "ax1 = fig.add_subplot(2,1,1)\n",
    "df_combined_above75_subset['mean_gdp_percapita'].plot(kind='kde',ax=ax1,label='')\n",
    "plt.title('Fig.3a: Eating BigMac Everyday in Above-Average GDP-Per-Capita countries',fontsize=15)\n",
    "plt.axvline(x=mean_val,c='black',label='mean: ' + pretty_number(mean_val))\n",
    "plt.axvline(x=std1_val,c='yellow',label='std-1: ' + pretty_number(std1_val))\n",
    "plt.axvline(x=std2_val,c='orange',label='std-2: ' + pretty_number(std2_val))\n",
    "plt.axvline(x=BIG_MAC_EVERYDAY,c='red',label='Big-Mac everyday: ' + money(BIG_MAC_EVERYDAY))\n",
    "plt.xlabel('In US dollars',fontsize=13)\n",
    "common_ticks_legends_format(12,13)\n",
    "\n",
    "#standardized form\n",
    "ax2 = fig.add_subplot(2,1,2)\n",
    "df_combined_above75_subset['z_mean_gdp_percapita'].plot(kind='kde',ax=ax2,label='')\n",
    "plt.title('Fig.3b: Standardized Version of Eating BigMac Everyday in Above-Average GDP-Per-Capita countries',fontsize=15)\n",
    "plt.axvline(BIG_MAC_EVERYDAY_Z_score,c='red',label='Big-Mac Everyday Z-score: ' + str(BIG_MAC_EVERYDAY_Z_score) \\\n",
    "           + ' which equals to: ' + money(BIG_MAC_EVERYDAY))\n",
    "plt.xlabel('Z-score',fontsize=13)\n",
    "common_ticks_legends_format(12,13)\n",
    "\n",
    "plt.show()"
   ]
  },
  {
   "cell_type": "markdown",
   "metadata": {},
   "source": [
    "From Fig.3, we can see that eating big-mac everyday is very affordable in above-average\n",
    "gdp-percapita countries. The z-score of eating Big-Mac Everyday is -2.5, which means that\n",
    "only approximately 0.62% of its population can't afford this habit."
   ]
  },
  {
   "cell_type": "markdown",
   "metadata": {},
   "source": [
    "<a id='resquestion2'></a>\n",
    "### Research Question 2  -- Investigating Correlation"
   ]
  },
  {
   "cell_type": "code",
   "execution_count": 89,
   "metadata": {},
   "outputs": [
    {
     "data": {
      "text/html": [
       "<div>\n",
       "<style scoped>\n",
       "    .dataframe tbody tr th:only-of-type {\n",
       "        vertical-align: middle;\n",
       "    }\n",
       "\n",
       "    .dataframe tbody tr th {\n",
       "        vertical-align: top;\n",
       "    }\n",
       "\n",
       "    .dataframe thead th {\n",
       "        text-align: right;\n",
       "    }\n",
       "</style>\n",
       "<table border=\"1\" class=\"dataframe\">\n",
       "  <thead>\n",
       "    <tr style=\"text-align: right;\">\n",
       "      <th></th>\n",
       "      <th>name</th>\n",
       "      <th>sub-region</th>\n",
       "      <th>mean_gdp_percapita</th>\n",
       "      <th>mean_exports</th>\n",
       "      <th>mean_imports</th>\n",
       "      <th>mean_fdi</th>\n",
       "      <th>mean_gdp</th>\n",
       "      <th>economic_status</th>\n",
       "    </tr>\n",
       "  </thead>\n",
       "  <tbody>\n",
       "    <tr>\n",
       "      <th>0</th>\n",
       "      <td>Algeria</td>\n",
       "      <td>Northern Africa</td>\n",
       "      <td>1833.531263</td>\n",
       "      <td>29.661752</td>\n",
       "      <td>26.967667</td>\n",
       "      <td>0.73115</td>\n",
       "      <td>4.637624e+10</td>\n",
       "      <td>below_average</td>\n",
       "    </tr>\n",
       "    <tr>\n",
       "      <th>1</th>\n",
       "      <td>Antigua and Barbuda</td>\n",
       "      <td>Latin America and the Caribbean</td>\n",
       "      <td>8772.038285</td>\n",
       "      <td>68.531756</td>\n",
       "      <td>78.470846</td>\n",
       "      <td>8.40268</td>\n",
       "      <td>6.481746e+08</td>\n",
       "      <td>above_average</td>\n",
       "    </tr>\n",
       "    <tr>\n",
       "      <th>2</th>\n",
       "      <td>Argentina</td>\n",
       "      <td>Latin America and the Caribbean</td>\n",
       "      <td>7326.550290</td>\n",
       "      <td>12.033307</td>\n",
       "      <td>9.834957</td>\n",
       "      <td>1.45672</td>\n",
       "      <td>2.411955e+11</td>\n",
       "      <td>average</td>\n",
       "    </tr>\n",
       "  </tbody>\n",
       "</table>\n",
       "</div>"
      ],
      "text/plain": [
       "                  name                       sub-region  mean_gdp_percapita  \\\n",
       "0              Algeria                  Northern Africa         1833.531263   \n",
       "1  Antigua and Barbuda  Latin America and the Caribbean         8772.038285   \n",
       "2            Argentina  Latin America and the Caribbean         7326.550290   \n",
       "\n",
       "   mean_exports  mean_imports  mean_fdi      mean_gdp economic_status  \n",
       "0     29.661752     26.967667   0.73115  4.637624e+10   below_average  \n",
       "1     68.531756     78.470846   8.40268  6.481746e+08   above_average  \n",
       "2     12.033307      9.834957   1.45672  2.411955e+11         average  "
      ]
     },
     "execution_count": 89,
     "metadata": {},
     "output_type": "execute_result"
    }
   ],
   "source": [
    "# For the first correlation investigation, I will use df_combined_economic_status dataframe\n",
    "# Recall that this dataframe contains ALL data -- below_average gdp_percapita, \n",
    "# average gdp_percapita and above_average gdp_percapita. \n",
    "df_combined_economic_status.head(3)"
   ]
  },
  {
   "cell_type": "markdown",
   "metadata": {},
   "source": [
    "#### Table 1: combined gdp_percapita correlation"
   ]
  },
  {
   "cell_type": "code",
   "execution_count": 90,
   "metadata": {},
   "outputs": [
    {
     "data": {
      "text/html": [
       "<div>\n",
       "<style scoped>\n",
       "    .dataframe tbody tr th:only-of-type {\n",
       "        vertical-align: middle;\n",
       "    }\n",
       "\n",
       "    .dataframe tbody tr th {\n",
       "        vertical-align: top;\n",
       "    }\n",
       "\n",
       "    .dataframe thead th {\n",
       "        text-align: right;\n",
       "    }\n",
       "</style>\n",
       "<table border=\"1\" class=\"dataframe\">\n",
       "  <thead>\n",
       "    <tr style=\"text-align: right;\">\n",
       "      <th></th>\n",
       "      <th>mean_exports</th>\n",
       "      <th>mean_imports</th>\n",
       "      <th>mean_fdi</th>\n",
       "      <th>mean_gdp</th>\n",
       "      <th>mean_gdp_percapita</th>\n",
       "    </tr>\n",
       "  </thead>\n",
       "  <tbody>\n",
       "    <tr>\n",
       "      <th>mean_exports</th>\n",
       "      <td>1.000000</td>\n",
       "      <td>0.863527</td>\n",
       "      <td>0.442173</td>\n",
       "      <td>-0.190675</td>\n",
       "      <td>0.233305</td>\n",
       "    </tr>\n",
       "    <tr>\n",
       "      <th>mean_imports</th>\n",
       "      <td>0.863527</td>\n",
       "      <td>1.000000</td>\n",
       "      <td>0.344363</td>\n",
       "      <td>-0.239082</td>\n",
       "      <td>0.043713</td>\n",
       "    </tr>\n",
       "    <tr>\n",
       "      <th>mean_fdi</th>\n",
       "      <td>0.442173</td>\n",
       "      <td>0.344363</td>\n",
       "      <td>1.000000</td>\n",
       "      <td>-0.044569</td>\n",
       "      <td>0.311620</td>\n",
       "    </tr>\n",
       "    <tr>\n",
       "      <th>mean_gdp</th>\n",
       "      <td>-0.190675</td>\n",
       "      <td>-0.239082</td>\n",
       "      <td>-0.044569</td>\n",
       "      <td>1.000000</td>\n",
       "      <td>0.453384</td>\n",
       "    </tr>\n",
       "    <tr>\n",
       "      <th>mean_gdp_percapita</th>\n",
       "      <td>0.233305</td>\n",
       "      <td>0.043713</td>\n",
       "      <td>0.311620</td>\n",
       "      <td>0.453384</td>\n",
       "      <td>1.000000</td>\n",
       "    </tr>\n",
       "  </tbody>\n",
       "</table>\n",
       "</div>"
      ],
      "text/plain": [
       "                    mean_exports  mean_imports  mean_fdi  mean_gdp  \\\n",
       "mean_exports            1.000000      0.863527  0.442173 -0.190675   \n",
       "mean_imports            0.863527      1.000000  0.344363 -0.239082   \n",
       "mean_fdi                0.442173      0.344363  1.000000 -0.044569   \n",
       "mean_gdp               -0.190675     -0.239082 -0.044569  1.000000   \n",
       "mean_gdp_percapita      0.233305      0.043713  0.311620  0.453384   \n",
       "\n",
       "                    mean_gdp_percapita  \n",
       "mean_exports                  0.233305  \n",
       "mean_imports                  0.043713  \n",
       "mean_fdi                      0.311620  \n",
       "mean_gdp                      0.453384  \n",
       "mean_gdp_percapita            1.000000  "
      ]
     },
     "execution_count": 90,
     "metadata": {},
     "output_type": "execute_result"
    }
   ],
   "source": [
    "# I will do a bi-variate correlation / linear regression analysis.\n",
    "# Correlation can be found using this:\n",
    "results_corr_combined = \\\n",
    "    df_combined_economic_status[['mean_exports','mean_imports','mean_fdi','mean_gdp','mean_gdp_percapita']].corr()\n",
    "results_corr_combined"
   ]
  },
  {
   "cell_type": "code",
   "execution_count": 91,
   "metadata": {},
   "outputs": [
    {
     "data": {
      "text/plain": [
       "(0.23, 0.04, 0.31, 0.45)"
      ]
     },
     "execution_count": 91,
     "metadata": {},
     "output_type": "execute_result"
    }
   ],
   "source": [
    "# correlation between exports and gdp_percapita\n",
    "combined_exports_gdp_percapita_r = \\\n",
    "        round(results_corr_combined.loc['mean_exports']['mean_gdp_percapita'],2)\n",
    "# correlation btw imports and gdp_percapita\n",
    "combined_imports_gdp_percapita_r = \\\n",
    "        round(results_corr_combined.loc['mean_imports']['mean_gdp_percapita'],2)\n",
    "# correlation btw fdi and gdp_percapita\n",
    "combined_fdi_gdp_percapita_r = \\\n",
    "        round(results_corr_combined.loc['mean_fdi']['mean_gdp_percapita'],2)\n",
    "# correlation btw gdp and gdp_percapita\n",
    "combined_gdp_gdp_percapita_r = \\\n",
    "        round(results_corr_combined.loc['mean_gdp']['mean_gdp_percapita'],2)\n",
    "\n",
    "# show results in tuple\n",
    "# these results will be used in the plot below\n",
    "combined_exports_gdp_percapita_r, combined_imports_gdp_percapita_r, \\\n",
    "    combined_fdi_gdp_percapita_r, combined_gdp_gdp_percapita_r"
   ]
  },
  {
   "cell_type": "code",
   "execution_count": 92,
   "metadata": {},
   "outputs": [
    {
     "data": {
      "image/png": "[encoded data removed]",
      "text/plain": [
       "<Figure size 1008x936 with 4 Axes>"
      ]
     },
     "metadata": {},
     "output_type": "display_data"
    }
   ],
   "source": [
    "fig = plt.figure(figsize=(14,13))\n",
    "\n",
    "ax1 = fig.add_subplot(2,2,1)\n",
    "df_combined_economic_status.plot(x='mean_exports',y='mean_gdp_percapita',kind='scatter',ax=ax1, \\\n",
    "                xlim=(0,120),label='')\n",
    "plt.title('Fig.4a: mean_exports and mean_gdp_percapita r=' + str(combined_exports_gdp_percapita_r),fontsize=14)\n",
    "plt.ylabel('mean_gdp_percapita',fontsize=13)\n",
    "plt.xlabel('mean_exports',fontsize=13)\n",
    "common_ticks_format(13)\n",
    "\n",
    "ax2 = fig.add_subplot(2,2,2)\n",
    "df_combined_economic_status.plot(x='mean_imports',y='mean_gdp_percapita',kind='scatter',ax=ax2, \\\n",
    "                xlim=(0,120),label='')\n",
    "plt.title('Fig.4b: mean_imports and mean_gdp_percapita r=' + \\\n",
    "              str(combined_imports_gdp_percapita_r),fontsize=14)\n",
    "plt.ylabel('mean_gdp_percapita',fontsize=13)\n",
    "plt.xlabel('mean_imports',fontsize=13)\n",
    "common_ticks_format(13)\n",
    "\n",
    "ax3 = fig.add_subplot(2,2,3)\n",
    "df_combined_economic_status.plot(x='mean_fdi',y='mean_gdp_percapita',kind='scatter',ax=ax3, \\\n",
    "                xlim=(0,7.5),label='')\n",
    "plt.title('Fig.4c: mean_fdi and mean_gdp_percapita r=' + \\\n",
    "          str(combined_fdi_gdp_percapita_r),fontsize=14)\n",
    "plt.ylabel('mean_gdp_percapita',fontsize=13)\n",
    "plt.xlabel('mean_fdi',fontsize=13)\n",
    "common_ticks_format(13)\n",
    "\n",
    "ax4 = fig.add_subplot(2,2,4)\n",
    "df_combined_economic_status.plot(x='mean_gdp',y='mean_gdp_percapita',kind='scatter',ax=ax4, \\\n",
    "                xlim=(0,150000000000),label='')\n",
    "plt.title('Fig.4d: mean_gdp and mean_gdp_percapita r=' + \\\n",
    "          str(combined_gdp_gdp_percapita_r),fontsize=14)\n",
    "plt.ylabel('mean_gdp_percapita',fontsize=13)\n",
    "plt.xlabel('mean_gdp',fontsize=13)\n",
    "common_ticks_format(13)\n",
    "plt.show()"
   ]
  },
  {
   "cell_type": "markdown",
   "metadata": {},
   "source": [
    ">Referring to Fig.4c and Fig.4d, correlations between mean_fdi and mean_gdp_percapita is 0.31\n",
    "and correlations between mean_gdp and mean_gdp_percapita is 0.45 respectively. This is a \n",
    "moderate correlation. In other words, if there is a rise in mean_fdi or mean_gdp, there is\n",
    "a corresponding rise in mean_gdp_percapita. \n",
    ">\n",
    ">No such relation though for mean_exports and mean_gdp_percapita. Refer to Fig.4a and 4b above. Recall from the outset \n",
    "that I'm trying to prove there is a relationship between these variables -- exports\n",
    "and gdp_percapita through my statement \"Export-led economic growth\". \n",
    ">\n",
    ">However, looking closely at Fig.4a, there is a cluster of data points under 5,000 between\n",
    "mean_exports 20 and 80. If there's a way to remove these \"outliers\", correlations btw.\n",
    "export and gdp_percapita will be strong. This point will be discussed again later below."
   ]
  },
  {
   "cell_type": "markdown",
   "metadata": {},
   "source": [
    "#### Table 2: below_average gdp_percapita correlation"
   ]
  },
  {
   "cell_type": "code",
   "execution_count": 93,
   "metadata": {},
   "outputs": [
    {
     "data": {
      "text/html": [
       "<div>\n",
       "<style scoped>\n",
       "    .dataframe tbody tr th:only-of-type {\n",
       "        vertical-align: middle;\n",
       "    }\n",
       "\n",
       "    .dataframe tbody tr th {\n",
       "        vertical-align: top;\n",
       "    }\n",
       "\n",
       "    .dataframe thead th {\n",
       "        text-align: right;\n",
       "    }\n",
       "</style>\n",
       "<table border=\"1\" class=\"dataframe\">\n",
       "  <thead>\n",
       "    <tr style=\"text-align: right;\">\n",
       "      <th></th>\n",
       "      <th>mean_exports</th>\n",
       "      <th>mean_imports</th>\n",
       "      <th>mean_fdi</th>\n",
       "      <th>mean_gdp</th>\n",
       "      <th>mean_gdp_percapita</th>\n",
       "    </tr>\n",
       "  </thead>\n",
       "  <tbody>\n",
       "    <tr>\n",
       "      <th>mean_exports</th>\n",
       "      <td>1.000000</td>\n",
       "      <td>0.700948</td>\n",
       "      <td>0.539160</td>\n",
       "      <td>-0.199878</td>\n",
       "      <td>0.340708</td>\n",
       "    </tr>\n",
       "    <tr>\n",
       "      <th>mean_imports</th>\n",
       "      <td>0.700948</td>\n",
       "      <td>1.000000</td>\n",
       "      <td>0.525051</td>\n",
       "      <td>-0.290582</td>\n",
       "      <td>0.092841</td>\n",
       "    </tr>\n",
       "    <tr>\n",
       "      <th>mean_fdi</th>\n",
       "      <td>0.539160</td>\n",
       "      <td>0.525051</td>\n",
       "      <td>1.000000</td>\n",
       "      <td>-0.061393</td>\n",
       "      <td>-0.034751</td>\n",
       "    </tr>\n",
       "    <tr>\n",
       "      <th>mean_gdp</th>\n",
       "      <td>-0.199878</td>\n",
       "      <td>-0.290582</td>\n",
       "      <td>-0.061393</td>\n",
       "      <td>1.000000</td>\n",
       "      <td>0.019450</td>\n",
       "    </tr>\n",
       "    <tr>\n",
       "      <th>mean_gdp_percapita</th>\n",
       "      <td>0.340708</td>\n",
       "      <td>0.092841</td>\n",
       "      <td>-0.034751</td>\n",
       "      <td>0.019450</td>\n",
       "      <td>1.000000</td>\n",
       "    </tr>\n",
       "  </tbody>\n",
       "</table>\n",
       "</div>"
      ],
      "text/plain": [
       "                    mean_exports  mean_imports  mean_fdi  mean_gdp  \\\n",
       "mean_exports            1.000000      0.700948  0.539160 -0.199878   \n",
       "mean_imports            0.700948      1.000000  0.525051 -0.290582   \n",
       "mean_fdi                0.539160      0.525051  1.000000 -0.061393   \n",
       "mean_gdp               -0.199878     -0.290582 -0.061393  1.000000   \n",
       "mean_gdp_percapita      0.340708      0.092841 -0.034751  0.019450   \n",
       "\n",
       "                    mean_gdp_percapita  \n",
       "mean_exports                  0.340708  \n",
       "mean_imports                  0.092841  \n",
       "mean_fdi                     -0.034751  \n",
       "mean_gdp                      0.019450  \n",
       "mean_gdp_percapita            1.000000  "
      ]
     },
     "execution_count": 93,
     "metadata": {},
     "output_type": "execute_result"
    }
   ],
   "source": [
    "results_corr_below_average = \\\n",
    "df_combined_belowaverage_subset[['mean_exports','mean_imports','mean_fdi','mean_gdp','mean_gdp_percapita']].corr()\n",
    "results_corr_below_average"
   ]
  },
  {
   "cell_type": "markdown",
   "metadata": {},
   "source": [
    "#### Table 3: average gdp_percapita correlation"
   ]
  },
  {
   "cell_type": "code",
   "execution_count": 94,
   "metadata": {},
   "outputs": [
    {
     "data": {
      "text/html": [
       "<div>\n",
       "<style scoped>\n",
       "    .dataframe tbody tr th:only-of-type {\n",
       "        vertical-align: middle;\n",
       "    }\n",
       "\n",
       "    .dataframe tbody tr th {\n",
       "        vertical-align: top;\n",
       "    }\n",
       "\n",
       "    .dataframe thead th {\n",
       "        text-align: right;\n",
       "    }\n",
       "</style>\n",
       "<table border=\"1\" class=\"dataframe\">\n",
       "  <thead>\n",
       "    <tr style=\"text-align: right;\">\n",
       "      <th></th>\n",
       "      <th>mean_exports</th>\n",
       "      <th>mean_imports</th>\n",
       "      <th>mean_fdi</th>\n",
       "      <th>mean_gdp</th>\n",
       "      <th>mean_gdp_percapita</th>\n",
       "    </tr>\n",
       "  </thead>\n",
       "  <tbody>\n",
       "    <tr>\n",
       "      <th>mean_exports</th>\n",
       "      <td>1.000000</td>\n",
       "      <td>0.902034</td>\n",
       "      <td>0.442421</td>\n",
       "      <td>-0.601148</td>\n",
       "      <td>0.253545</td>\n",
       "    </tr>\n",
       "    <tr>\n",
       "      <th>mean_imports</th>\n",
       "      <td>0.902034</td>\n",
       "      <td>1.000000</td>\n",
       "      <td>0.517836</td>\n",
       "      <td>-0.598900</td>\n",
       "      <td>0.141065</td>\n",
       "    </tr>\n",
       "    <tr>\n",
       "      <th>mean_fdi</th>\n",
       "      <td>0.442421</td>\n",
       "      <td>0.517836</td>\n",
       "      <td>1.000000</td>\n",
       "      <td>-0.213125</td>\n",
       "      <td>0.291969</td>\n",
       "    </tr>\n",
       "    <tr>\n",
       "      <th>mean_gdp</th>\n",
       "      <td>-0.601148</td>\n",
       "      <td>-0.598900</td>\n",
       "      <td>-0.213125</td>\n",
       "      <td>1.000000</td>\n",
       "      <td>-0.040297</td>\n",
       "    </tr>\n",
       "    <tr>\n",
       "      <th>mean_gdp_percapita</th>\n",
       "      <td>0.253545</td>\n",
       "      <td>0.141065</td>\n",
       "      <td>0.291969</td>\n",
       "      <td>-0.040297</td>\n",
       "      <td>1.000000</td>\n",
       "    </tr>\n",
       "  </tbody>\n",
       "</table>\n",
       "</div>"
      ],
      "text/plain": [
       "                    mean_exports  mean_imports  mean_fdi  mean_gdp  \\\n",
       "mean_exports            1.000000      0.902034  0.442421 -0.601148   \n",
       "mean_imports            0.902034      1.000000  0.517836 -0.598900   \n",
       "mean_fdi                0.442421      0.517836  1.000000 -0.213125   \n",
       "mean_gdp               -0.601148     -0.598900 -0.213125  1.000000   \n",
       "mean_gdp_percapita      0.253545      0.141065  0.291969 -0.040297   \n",
       "\n",
       "                    mean_gdp_percapita  \n",
       "mean_exports                  0.253545  \n",
       "mean_imports                  0.141065  \n",
       "mean_fdi                      0.291969  \n",
       "mean_gdp                     -0.040297  \n",
       "mean_gdp_percapita            1.000000  "
      ]
     },
     "execution_count": 94,
     "metadata": {},
     "output_type": "execute_result"
    }
   ],
   "source": [
    "results_corr_average = \\\n",
    "df_combined_50_75_subset[['mean_exports','mean_imports','mean_fdi','mean_gdp','mean_gdp_percapita']].corr()\n",
    "results_corr_average"
   ]
  },
  {
   "cell_type": "markdown",
   "metadata": {},
   "source": [
    "#### Table 4: above-average gdp_percapita correlation"
   ]
  },
  {
   "cell_type": "code",
   "execution_count": 95,
   "metadata": {},
   "outputs": [
    {
     "data": {
      "text/html": [
       "<div>\n",
       "<style scoped>\n",
       "    .dataframe tbody tr th:only-of-type {\n",
       "        vertical-align: middle;\n",
       "    }\n",
       "\n",
       "    .dataframe tbody tr th {\n",
       "        vertical-align: top;\n",
       "    }\n",
       "\n",
       "    .dataframe thead th {\n",
       "        text-align: right;\n",
       "    }\n",
       "</style>\n",
       "<table border=\"1\" class=\"dataframe\">\n",
       "  <thead>\n",
       "    <tr style=\"text-align: right;\">\n",
       "      <th></th>\n",
       "      <th>mean_exports</th>\n",
       "      <th>mean_imports</th>\n",
       "      <th>mean_fdi</th>\n",
       "      <th>mean_gdp</th>\n",
       "      <th>mean_gdp_percapita</th>\n",
       "    </tr>\n",
       "  </thead>\n",
       "  <tbody>\n",
       "    <tr>\n",
       "      <th>mean_exports</th>\n",
       "      <td>1.000000</td>\n",
       "      <td>0.979928</td>\n",
       "      <td>0.495640</td>\n",
       "      <td>-0.330215</td>\n",
       "      <td>0.056327</td>\n",
       "    </tr>\n",
       "    <tr>\n",
       "      <th>mean_imports</th>\n",
       "      <td>0.979928</td>\n",
       "      <td>1.000000</td>\n",
       "      <td>0.424612</td>\n",
       "      <td>-0.344163</td>\n",
       "      <td>-0.035815</td>\n",
       "    </tr>\n",
       "    <tr>\n",
       "      <th>mean_fdi</th>\n",
       "      <td>0.495640</td>\n",
       "      <td>0.424612</td>\n",
       "      <td>1.000000</td>\n",
       "      <td>-0.112359</td>\n",
       "      <td>0.386282</td>\n",
       "    </tr>\n",
       "    <tr>\n",
       "      <th>mean_gdp</th>\n",
       "      <td>-0.330215</td>\n",
       "      <td>-0.344163</td>\n",
       "      <td>-0.112359</td>\n",
       "      <td>1.000000</td>\n",
       "      <td>0.378767</td>\n",
       "    </tr>\n",
       "    <tr>\n",
       "      <th>mean_gdp_percapita</th>\n",
       "      <td>0.056327</td>\n",
       "      <td>-0.035815</td>\n",
       "      <td>0.386282</td>\n",
       "      <td>0.378767</td>\n",
       "      <td>1.000000</td>\n",
       "    </tr>\n",
       "  </tbody>\n",
       "</table>\n",
       "</div>"
      ],
      "text/plain": [
       "                    mean_exports  mean_imports  mean_fdi  mean_gdp  \\\n",
       "mean_exports            1.000000      0.979928  0.495640 -0.330215   \n",
       "mean_imports            0.979928      1.000000  0.424612 -0.344163   \n",
       "mean_fdi                0.495640      0.424612  1.000000 -0.112359   \n",
       "mean_gdp               -0.330215     -0.344163 -0.112359  1.000000   \n",
       "mean_gdp_percapita      0.056327     -0.035815  0.386282  0.378767   \n",
       "\n",
       "                    mean_gdp_percapita  \n",
       "mean_exports                  0.056327  \n",
       "mean_imports                 -0.035815  \n",
       "mean_fdi                      0.386282  \n",
       "mean_gdp                      0.378767  \n",
       "mean_gdp_percapita            1.000000  "
      ]
     },
     "execution_count": 95,
     "metadata": {},
     "output_type": "execute_result"
    }
   ],
   "source": [
    "results_corr_ab_average = \\\n",
    "df_combined_above75_subset[['mean_exports','mean_imports','mean_fdi','mean_gdp','mean_gdp_percapita']].corr()\n",
    "results_corr_ab_average"
   ]
  },
  {
   "cell_type": "code",
   "execution_count": 96,
   "metadata": {},
   "outputs": [
    {
     "data": {
      "text/plain": [
       "(0.23, 0.04, 0.31, 0.45)"
      ]
     },
     "execution_count": 96,
     "metadata": {},
     "output_type": "execute_result"
    }
   ],
   "source": [
    "# getting correlation data for df_combined_economic_status\n",
    "combined_exports_gdp_percapita_r = \\\n",
    "        round(results_corr_combined.loc['mean_exports']['mean_gdp_percapita'],2)\n",
    "combined_imports_gdp_percapita_r = \\\n",
    "        round(results_corr_combined.loc['mean_imports']['mean_gdp_percapita'],2)\n",
    "combined_fdi_gdp_percapita_r = \\\n",
    "        round(results_corr_combined.loc['mean_fdi']['mean_gdp_percapita'],2)\n",
    "combined_gdp_gdp_percapita_r = \\\n",
    "        round(results_corr_combined.loc['mean_gdp']['mean_gdp_percapita'],2)\n",
    "\n",
    "# show results in tuple\n",
    "# these results will be used in the plot below\n",
    "combined_list = [combined_exports_gdp_percapita_r, combined_imports_gdp_percapita_r, \\\n",
    "                combined_fdi_gdp_percapita_r, combined_gdp_gdp_percapita_r]\n",
    "combined_exports_gdp_percapita_r, combined_imports_gdp_percapita_r, \\\n",
    "    combined_fdi_gdp_percapita_r, combined_gdp_gdp_percapita_r"
   ]
  },
  {
   "cell_type": "code",
   "execution_count": 97,
   "metadata": {},
   "outputs": [
    {
     "data": {
      "text/plain": [
       "(0.34, 0.09, -0.03, 0.02)"
      ]
     },
     "execution_count": 97,
     "metadata": {},
     "output_type": "execute_result"
    }
   ],
   "source": [
    "# getting correlation data for (below-average subset) df_combined_below_average_subset\n",
    "b_average_exports_gdp_percapita_r = \\\n",
    "        round(results_corr_below_average.loc['mean_exports']['mean_gdp_percapita'],2)\n",
    "b_average_imports_gdp_percapita_r = \\\n",
    "        round(results_corr_below_average.loc['mean_imports']['mean_gdp_percapita'],2)\n",
    "b_average_fdi_gdp_percapita_r = \\\n",
    "        round(results_corr_below_average.loc['mean_fdi']['mean_gdp_percapita'],2)\n",
    "b_average_gdp_gdp_percapita_r = \\\n",
    "        round(results_corr_below_average.loc['mean_gdp']['mean_gdp_percapita'],2)\n",
    "\n",
    "# show results in tuple\n",
    "b_average_list = [b_average_exports_gdp_percapita_r, b_average_imports_gdp_percapita_r, \\\n",
    "                 b_average_fdi_gdp_percapita_r, b_average_gdp_gdp_percapita_r]\n",
    "b_average_exports_gdp_percapita_r, b_average_imports_gdp_percapita_r, \\\n",
    "    b_average_fdi_gdp_percapita_r, b_average_gdp_gdp_percapita_r"
   ]
  },
  {
   "cell_type": "code",
   "execution_count": 98,
   "metadata": {},
   "outputs": [
    {
     "data": {
      "text/plain": [
       "(0.25, 0.14, 0.29, -0.04)"
      ]
     },
     "execution_count": 98,
     "metadata": {},
     "output_type": "execute_result"
    }
   ],
   "source": [
    "# getting correlation data for (average subset) df_combined_50_75_subset\n",
    "average_exports_gdp_percapita_r = \\\n",
    "        round(results_corr_average.loc['mean_exports']['mean_gdp_percapita'],2)\n",
    "average_imports_gdp_percapita_r = \\\n",
    "        round(results_corr_average.loc['mean_imports']['mean_gdp_percapita'],2)\n",
    "average_fdi_gdp_percapita_r = \\\n",
    "        round(results_corr_average.loc['mean_fdi']['mean_gdp_percapita'],2)\n",
    "average_gdp_gdp_percapita_r = \\\n",
    "        round(results_corr_average.loc['mean_gdp']['mean_gdp_percapita'],2)\n",
    "\n",
    "# show results in tuple\n",
    "average_list = [average_exports_gdp_percapita_r, average_imports_gdp_percapita_r, \\\n",
    "                 average_fdi_gdp_percapita_r, average_gdp_gdp_percapita_r]\n",
    "average_exports_gdp_percapita_r, average_imports_gdp_percapita_r, \\\n",
    "    average_fdi_gdp_percapita_r, average_gdp_gdp_percapita_r"
   ]
  },
  {
   "cell_type": "code",
   "execution_count": 99,
   "metadata": {},
   "outputs": [
    {
     "data": {
      "text/plain": [
       "(0.06, -0.04, 0.39, 0.38)"
      ]
     },
     "execution_count": 99,
     "metadata": {},
     "output_type": "execute_result"
    }
   ],
   "source": [
    "# getting correlation data for (above-average subset) df_combined_above_75_subset\n",
    "ab_average_exports_gdp_percapita_r = \\\n",
    "        round(results_corr_ab_average.loc['mean_exports']['mean_gdp_percapita'],2)\n",
    "ab_average_imports_gdp_percapita_r = \\\n",
    "        round(results_corr_ab_average.loc['mean_imports']['mean_gdp_percapita'],2)\n",
    "ab_average_fdi_gdp_percapita_r = \\\n",
    "        round(results_corr_ab_average.loc['mean_fdi']['mean_gdp_percapita'],2)\n",
    "ab_average_gdp_gdp_percapita_r = \\\n",
    "        round(results_corr_ab_average.loc['mean_gdp']['mean_gdp_percapita'],2)\n",
    "\n",
    "# show results in tuple\n",
    "ab_average_list = [ab_average_exports_gdp_percapita_r, ab_average_imports_gdp_percapita_r, \\\n",
    "                 ab_average_fdi_gdp_percapita_r, ab_average_gdp_gdp_percapita_r]\n",
    "ab_average_exports_gdp_percapita_r, ab_average_imports_gdp_percapita_r, \\\n",
    "    ab_average_fdi_gdp_percapita_r, ab_average_gdp_gdp_percapita_r"
   ]
  },
  {
   "cell_type": "markdown",
   "metadata": {},
   "source": [
    "<a id='combined_fig_5'></a>\n",
    "### Combine data from table 1,  table 2, table 3 and table 4 into one plot!"
   ]
  },
  {
   "cell_type": "code",
   "execution_count": 100,
   "metadata": {},
   "outputs": [
    {
     "data": {
      "image/png": "[encoded data removed]",
      "text/plain": [
       "<Figure size 864x576 with 1 Axes>"
      ]
     },
     "metadata": {},
     "output_type": "display_data"
    }
   ],
   "source": [
    "# Inspired by Graphing Technique from Case Study 1\n",
    "x = np.arange(0,4)\n",
    "width=0.15\n",
    "\n",
    "fig = plt.figure(figsize=(12,8))\n",
    "ax1 = fig.add_subplot(1,1,1)\n",
    "ax1.bar(x,combined_list,width,color='grey',label='Combined',alpha=0.7)\n",
    "ax1.bar(x+width,b_average_list,width,color='r',label='Below Average',alpha=.7)\n",
    "ax1.bar(x+(2*width),average_list,width,color='y',label='Average',alpha=0.7)\n",
    "ax1.bar(x+(3*width),ab_average_list,width,color='orange',label='Above Average',alpha=0.7)\n",
    "\n",
    "plt.title('Fig.5: Correlations from different dataframes',fontsize=14)\n",
    "xlabels = ['Exports_PerCapita','Imports_PerCapita','FDI_PerCapita','GDP_PerCapita']\n",
    "x_tick_location = x + width/2\n",
    "plt.xticks(x_tick_location,xlabels,rotation=45,fontsize=13)\n",
    "plt.axhline(0.3,label='Moderate Correlation',c='black')\n",
    "plt.yticks(fontsize=13)\n",
    "plt.legend(fontsize=13)\n",
    "plt.show()"
   ]
  },
  {
   "cell_type": "markdown",
   "metadata": {},
   "source": [
    ">Recall that I want to show that countries got rich through \n",
    ">export-led growth following the example of Four Asian Tigers -- Singapore,\n",
    ">South Korea, Taiwan and Hong Kong. However from Fig.5 above, the correlation\n",
    ">of Exports and PerCapitaGDP in Above-Average (rich) countries (orange bar) is very low at\n",
    ">less than 0.1 while the correlation (Exports and PerCapitaGDP) in below_average (poor)\n",
    ">countries (red bar) is moderate at 0.31.\n",
    ">\n",
    ">The low correlation (of Exports and PerCapitaGDP) in rich countries seem to suggest\n",
    ">that exports (as proportions of GPD) in rich countries are low. However, Fig.6 below\n",
    ">shows otherwise. In fact, the mean \"Exports as proportion of GDP\" in above-average\n",
    ">(rich) countries is around 41% (Refer to Fig.6). This is a high number relative to \n",
    ">below_average countries. \n",
    ">\n",
    ">**Why the correllation of Exports (as proportion of GDP) and PerCapitaGDP in rich\n",
    ">countries (Fig.5) doesn't reflect this relative high number of Exports as proportion of \n",
    ">GDP (Fig.6)?** \n",
    ">\n",
    ">If you look closer at Fig.4a, you can see there are \n",
    ">clusters of low mean_gdp_percapita data points (below USD 5000) hovering from 20%\n",
    ">to approx. 80% of mean_exports (as proportion of GDP). If these outliers can be\n",
    ">taken out from the plot, correlation of mean_exports and mean_gdp_percapita will definitely\n",
    ">get stronger. To remove these outliers, we cannot just get rid of them willy-nilly. There \n",
    ">are just too many outliers.\n",
    ">We need other independent(explanatory) variables such as education level, manufacturing data,\n",
    ">agricultural data and breakdown of exports -- exports that come from manufacturing sector, \n",
    ">agricultural sector or primary sector such as coals,oil and diamonds -- to filter these\n",
    ">outliers.\n",
    ">\n",
    ">The low correlation of imports (as a proportion of GDP) and gdp_percapita in Fig.5 also doesn't\n",
    ">reflect the high number of imports as a proportion of GDP in Fig.7. Again this is due to many\n",
    ">outliers that can be seen in Fig.4b. We need more independent (explanatory) variables to filter\n",
    ">these outliers as discussed above.\n",
    ">\n",
    ">FDI and GDPPercapita correlation number in Fig.5 though somewhat agrees with the\n",
    ">FDI (as a proportion of GDP) in Fig.8 The correlation of 0.4 in above-average \n",
    ">gdp_percapita countries agree with the high number of FDI as a proportion of GDP \n",
    ">in rich countries (above-average gdppercapita). Filtering outliers out will make\n",
    ">this correlation more pronounced in my opinion.\n",
    ">\n",
    ">The highest correlation occurs in GDP and GDP_percapita. This is not surprising since gdp_percapita and gdp is related. gdp_percapita is calculated by dividing gdp by the country's population.\n",
    ">"
   ]
  },
  {
   "cell_type": "markdown",
   "metadata": {},
   "source": [
    "<a id='using_pivot_table'></a>\n",
    "All the efforts and time to <a href='#CleaningThirdStage'>clean data </a> has enabled me to use pandas.pivot_table() below.\n",
    "It's a real time-saver."
   ]
  },
  {
   "cell_type": "code",
   "execution_count": 101,
   "metadata": {},
   "outputs": [
    {
     "data": {
      "image/png": "[encoded data removed]",
      "text/plain": [
       "<Figure size 720x432 with 1 Axes>"
      ]
     },
     "metadata": {},
     "output_type": "display_data"
    }
   ],
   "source": [
    "pd.pivot_table(df_combined_economic_status,index=['economic_status'],values='mean_exports')\\\n",
    "        .plot(kind='barh',figsize=(10,6))\n",
    "plt.title('Fig.6: Exports as proportion of GDP grouped by economic status',fontsize=13)\n",
    "plt.xlabel('Exports as proportion of GDP in %',fontsize=13)\n",
    "common_ticks_legends_format(13,13)\n",
    "plt.ylabel('economic_status',fontsize=13)\n",
    "plt.show()"
   ]
  },
  {
   "cell_type": "code",
   "execution_count": 102,
   "metadata": {},
   "outputs": [
    {
     "data": {
      "image/png": "[encoded data removed]",
      "text/plain": [
       "<Figure size 720x432 with 1 Axes>"
      ]
     },
     "metadata": {},
     "output_type": "display_data"
    }
   ],
   "source": [
    "pd.pivot_table(df_combined_economic_status,index=['economic_status'],values='mean_imports')\\\n",
    "        .plot(kind='barh',figsize=(10,6))\n",
    "plt.title('Fig.7: Imports as proportion of GDP grouped by economic status',fontsize=13)\n",
    "plt.xlabel('Imports as proportion of GDP in %',fontsize=13)\n",
    "common_ticks_legends_format(13,13)\n",
    "plt.ylabel('economic_status',fontsize=13)\n",
    "plt.show()"
   ]
  },
  {
   "cell_type": "code",
   "execution_count": 103,
   "metadata": {},
   "outputs": [
    {
     "data": {
      "image/png": "[encoded data removed]",
      "text/plain": [
       "<Figure size 720x432 with 1 Axes>"
      ]
     },
     "metadata": {},
     "output_type": "display_data"
    }
   ],
   "source": [
    "pd.pivot_table(df_combined_economic_status,index=['economic_status'],values='mean_fdi')\\\n",
    "        .plot(kind='barh',figsize=(10,6))\n",
    "plt.title('Fig.8: FDI as proportion of GDP grouped by economic status',fontsize=13)\n",
    "plt.xlabel('FDI as proportion of GDP in %',fontsize=13)\n",
    "common_ticks_legends_format(13,13)\n",
    "plt.ylabel('economic_status',fontsize=13)\n",
    "plt.show()"
   ]
  },
  {
   "cell_type": "markdown",
   "metadata": {},
   "source": [
    "<a id='resquestion3'></a>\n",
    "### Research Question 3  -- Investigating Single DataPoint: Singapore"
   ]
  },
  {
   "cell_type": "code",
   "execution_count": 104,
   "metadata": {},
   "outputs": [],
   "source": [
    "# I only plot Singapore data. There is no data for Taiwan, hongkong and South Korea"
   ]
  },
  {
   "cell_type": "code",
   "execution_count": 105,
   "metadata": {},
   "outputs": [
    {
     "data": {
      "text/html": [
       "<div>\n",
       "<style scoped>\n",
       "    .dataframe tbody tr th:only-of-type {\n",
       "        vertical-align: middle;\n",
       "    }\n",
       "\n",
       "    .dataframe tbody tr th {\n",
       "        vertical-align: top;\n",
       "    }\n",
       "\n",
       "    .dataframe thead th {\n",
       "        text-align: right;\n",
       "    }\n",
       "</style>\n",
       "<table border=\"1\" class=\"dataframe\">\n",
       "  <thead>\n",
       "    <tr style=\"text-align: right;\">\n",
       "      <th></th>\n",
       "      <th>Antigua and Barbuda</th>\n",
       "      <th>Australia</th>\n",
       "      <th>Austria</th>\n",
       "      <th>Bahamas</th>\n",
       "      <th>Canada</th>\n",
       "      <th>Cyprus</th>\n",
       "      <th>Denmark</th>\n",
       "      <th>Finland</th>\n",
       "      <th>France</th>\n",
       "      <th>Germany</th>\n",
       "      <th>...</th>\n",
       "      <th>New Zealand</th>\n",
       "      <th>Norway</th>\n",
       "      <th>Portugal</th>\n",
       "      <th>Saudi Arabia</th>\n",
       "      <th>Singapore</th>\n",
       "      <th>Spain</th>\n",
       "      <th>Sweden</th>\n",
       "      <th>Switzerland</th>\n",
       "      <th>United Kingdom</th>\n",
       "      <th>United States</th>\n",
       "    </tr>\n",
       "  </thead>\n",
       "  <tbody>\n",
       "    <tr>\n",
       "      <th>1970</th>\n",
       "      <td>NaN</td>\n",
       "      <td>NaN</td>\n",
       "      <td>NaN</td>\n",
       "      <td>NaN</td>\n",
       "      <td>NaN</td>\n",
       "      <td>NaN</td>\n",
       "      <td>NaN</td>\n",
       "      <td>NaN</td>\n",
       "      <td>NaN</td>\n",
       "      <td>NaN</td>\n",
       "      <td>...</td>\n",
       "      <td>NaN</td>\n",
       "      <td>NaN</td>\n",
       "      <td>NaN</td>\n",
       "      <td>NaN</td>\n",
       "      <td>NaN</td>\n",
       "      <td>NaN</td>\n",
       "      <td>NaN</td>\n",
       "      <td>NaN</td>\n",
       "      <td>NaN</td>\n",
       "      <td>NaN</td>\n",
       "    </tr>\n",
       "    <tr>\n",
       "      <th>1971</th>\n",
       "      <td>0.0</td>\n",
       "      <td>0.040192</td>\n",
       "      <td>0.051150</td>\n",
       "      <td>0.016265</td>\n",
       "      <td>0.041177</td>\n",
       "      <td>0.0</td>\n",
       "      <td>0.030019</td>\n",
       "      <td>0.023569</td>\n",
       "      <td>0.053306</td>\n",
       "      <td>0.031327</td>\n",
       "      <td>...</td>\n",
       "      <td>0.0</td>\n",
       "      <td>0.056178</td>\n",
       "      <td>0.066317</td>\n",
       "      <td>0.199427</td>\n",
       "      <td>0.120502</td>\n",
       "      <td>0.046495</td>\n",
       "      <td>0.009446</td>\n",
       "      <td>0.0</td>\n",
       "      <td>0.020242</td>\n",
       "      <td>0.034580</td>\n",
       "    </tr>\n",
       "    <tr>\n",
       "      <th>1972</th>\n",
       "      <td>0.0</td>\n",
       "      <td>0.039312</td>\n",
       "      <td>0.062079</td>\n",
       "      <td>-0.034973</td>\n",
       "      <td>0.054459</td>\n",
       "      <td>0.0</td>\n",
       "      <td>0.041750</td>\n",
       "      <td>0.077355</td>\n",
       "      <td>0.045374</td>\n",
       "      <td>0.043003</td>\n",
       "      <td>...</td>\n",
       "      <td>0.0</td>\n",
       "      <td>0.052680</td>\n",
       "      <td>0.080157</td>\n",
       "      <td>0.234938</td>\n",
       "      <td>0.135030</td>\n",
       "      <td>0.081497</td>\n",
       "      <td>0.022887</td>\n",
       "      <td>0.0</td>\n",
       "      <td>0.035665</td>\n",
       "      <td>0.055218</td>\n",
       "    </tr>\n",
       "  </tbody>\n",
       "</table>\n",
       "<p>3 rows × 27 columns</p>\n",
       "</div>"
      ],
      "text/plain": [
       "      Antigua and Barbuda  Australia   Austria   Bahamas    Canada  Cyprus  \\\n",
       "1970                  NaN        NaN       NaN       NaN       NaN     NaN   \n",
       "1971                  0.0   0.040192  0.051150  0.016265  0.041177     0.0   \n",
       "1972                  0.0   0.039312  0.062079 -0.034973  0.054459     0.0   \n",
       "\n",
       "       Denmark   Finland    France   Germany      ...        New Zealand  \\\n",
       "1970       NaN       NaN       NaN       NaN      ...                NaN   \n",
       "1971  0.030019  0.023569  0.053306  0.031327      ...                0.0   \n",
       "1972  0.041750  0.077355  0.045374  0.043003      ...                0.0   \n",
       "\n",
       "        Norway  Portugal  Saudi Arabia  Singapore     Spain    Sweden  \\\n",
       "1970       NaN       NaN           NaN        NaN       NaN       NaN   \n",
       "1971  0.056178  0.066317      0.199427   0.120502  0.046495  0.009446   \n",
       "1972  0.052680  0.080157      0.234938   0.135030  0.081497  0.022887   \n",
       "\n",
       "      Switzerland  United Kingdom  United States  \n",
       "1970          NaN             NaN            NaN  \n",
       "1971          0.0        0.020242       0.034580  \n",
       "1972          0.0        0.035665       0.055218  \n",
       "\n",
       "[3 rows x 27 columns]"
      ]
     },
     "execution_count": 105,
     "metadata": {},
     "output_type": "execute_result"
    }
   ],
   "source": [
    "#Getting the gdp growth of Singapore\n",
    "df_gdp_market_above_average = dfc_gdp_market_T[df_combined_above75_subset['name']]\n",
    "df_gdp_rate_above_average = df_gdp_market_above_average.pct_change()\n",
    "df_gdp_rate_above_average.head(3)"
   ]
  },
  {
   "cell_type": "code",
   "execution_count": 106,
   "metadata": {},
   "outputs": [
    {
     "data": {
      "text/plain": [
       "7.45"
      ]
     },
     "execution_count": 106,
     "metadata": {},
     "output_type": "execute_result"
    }
   ],
   "source": [
    "singapore_gdp_rate = round(df_gdp_rate_above_average.mean()['Singapore'] * 100,2)\n",
    "singapore_gdp_rate"
   ]
  },
  {
   "cell_type": "code",
   "execution_count": 107,
   "metadata": {},
   "outputs": [],
   "source": [
    "#to read moving average: https://www.youtube.com/watch?time_continue=89&v=T2mQiesnx8s\n",
    "# format xticks:\n",
    "# link: https://stackoverflow.com/questions/25973581/how-do-i-format-axis-number-format-to-thousands-with-a-comma-in-matplotlib"
   ]
  },
  {
   "cell_type": "code",
   "execution_count": 108,
   "metadata": {},
   "outputs": [
    {
     "data": {
      "text/html": [
       "<div>\n",
       "<style scoped>\n",
       "    .dataframe tbody tr th:only-of-type {\n",
       "        vertical-align: middle;\n",
       "    }\n",
       "\n",
       "    .dataframe tbody tr th {\n",
       "        vertical-align: top;\n",
       "    }\n",
       "\n",
       "    .dataframe thead th {\n",
       "        text-align: right;\n",
       "    }\n",
       "</style>\n",
       "<table border=\"1\" class=\"dataframe\">\n",
       "  <thead>\n",
       "    <tr style=\"text-align: right;\">\n",
       "      <th></th>\n",
       "      <th>index</th>\n",
       "      <th>Antigua and Barbuda</th>\n",
       "      <th>Australia</th>\n",
       "      <th>Austria</th>\n",
       "      <th>Bahamas</th>\n",
       "      <th>Canada</th>\n",
       "      <th>Cyprus</th>\n",
       "      <th>Denmark</th>\n",
       "      <th>Finland</th>\n",
       "      <th>France</th>\n",
       "      <th>...</th>\n",
       "      <th>New Zealand</th>\n",
       "      <th>Norway</th>\n",
       "      <th>Portugal</th>\n",
       "      <th>Saudi Arabia</th>\n",
       "      <th>Singapore</th>\n",
       "      <th>Spain</th>\n",
       "      <th>Sweden</th>\n",
       "      <th>Switzerland</th>\n",
       "      <th>United Kingdom</th>\n",
       "      <th>United States</th>\n",
       "    </tr>\n",
       "  </thead>\n",
       "  <tbody>\n",
       "    <tr>\n",
       "      <th>39</th>\n",
       "      <td>2009</td>\n",
       "      <td>-0.103457</td>\n",
       "      <td>0.014484</td>\n",
       "      <td>-0.038100</td>\n",
       "      <td>-0.048600</td>\n",
       "      <td>-0.027698</td>\n",
       "      <td>-0.016662</td>\n",
       "      <td>-0.058337</td>\n",
       "      <td>-0.083543</td>\n",
       "      <td>-0.031471</td>\n",
       "      <td>...</td>\n",
       "      <td>-0.004707</td>\n",
       "      <td>-0.016671</td>\n",
       "      <td>-0.029084</td>\n",
       "      <td>0.000965</td>\n",
       "      <td>-0.009797</td>\n",
       "      <td>-0.037408</td>\n",
       "      <td>-0.050277</td>\n",
       "      <td>-0.01878</td>\n",
       "      <td>-0.043733</td>\n",
       "      <td>-0.035275</td>\n",
       "    </tr>\n",
       "    <tr>\n",
       "      <th>40</th>\n",
       "      <td>2010</td>\n",
       "      <td>-0.088820</td>\n",
       "      <td>0.022569</td>\n",
       "      <td>0.023147</td>\n",
       "      <td>0.001787</td>\n",
       "      <td>0.032149</td>\n",
       "      <td>0.011400</td>\n",
       "      <td>0.012956</td>\n",
       "      <td>0.037315</td>\n",
       "      <td>0.016631</td>\n",
       "      <td>...</td>\n",
       "      <td>0.019000</td>\n",
       "      <td>0.006765</td>\n",
       "      <td>0.014013</td>\n",
       "      <td>0.046419</td>\n",
       "      <td>0.147632</td>\n",
       "      <td>-0.000695</td>\n",
       "      <td>0.061527</td>\n",
       "      <td>0.02714</td>\n",
       "      <td>0.020922</td>\n",
       "      <td>0.030217</td>\n",
       "    </tr>\n",
       "  </tbody>\n",
       "</table>\n",
       "<p>2 rows × 28 columns</p>\n",
       "</div>"
      ],
      "text/plain": [
       "    index  Antigua and Barbuda  Australia   Austria   Bahamas    Canada  \\\n",
       "39   2009            -0.103457   0.014484 -0.038100 -0.048600 -0.027698   \n",
       "40   2010            -0.088820   0.022569  0.023147  0.001787  0.032149   \n",
       "\n",
       "      Cyprus   Denmark   Finland    France      ...        New Zealand  \\\n",
       "39 -0.016662 -0.058337 -0.083543 -0.031471      ...          -0.004707   \n",
       "40  0.011400  0.012956  0.037315  0.016631      ...           0.019000   \n",
       "\n",
       "      Norway  Portugal  Saudi Arabia  Singapore     Spain    Sweden  \\\n",
       "39 -0.016671 -0.029084      0.000965  -0.009797 -0.037408 -0.050277   \n",
       "40  0.006765  0.014013      0.046419   0.147632 -0.000695  0.061527   \n",
       "\n",
       "    Switzerland  United Kingdom  United States  \n",
       "39     -0.01878       -0.043733      -0.035275  \n",
       "40      0.02714        0.020922       0.030217  \n",
       "\n",
       "[2 rows x 28 columns]"
      ]
     },
     "execution_count": 108,
     "metadata": {},
     "output_type": "execute_result"
    }
   ],
   "source": [
    "df_gdp_rate_above_average.reset_index(inplace=True)\n",
    "df_gdp_rate_above_average.tail(2)"
   ]
  },
  {
   "cell_type": "code",
   "execution_count": 109,
   "metadata": {},
   "outputs": [],
   "source": [
    "# Using the technique from Project 1 -- Moving Average\n",
    "# Calculating Moving Average for Singapore GDP Rate\n",
    "rollingWindow = 8\n",
    "df_movingAverage = simplifiedRollingMean(rollingWindow, df_gdp_rate_above_average)\n",
    "#df_movingAverage.head()"
   ]
  },
  {
   "cell_type": "code",
   "execution_count": 110,
   "metadata": {},
   "outputs": [
    {
     "data": {
      "image/png": "[encoded data removed]",
      "text/plain": [
       "<Figure size 864x1008 with 2 Axes>"
      ]
     },
     "metadata": {},
     "output_type": "display_data"
    }
   ],
   "source": [
    "\n",
    "fig = plt.figure(figsize=(12,14))\n",
    "ax1 = fig.add_subplot(2,1,1)\n",
    "dfc_gdp_market_T['Singapore'].apply(lambda x: x /1000000).plot(ax=ax1,label='Singapore GDP in millions')\n",
    "plt.title('Fig.9a: GDP of Singapore in US Dollars',fontsize=14)\n",
    "plt.ylabel('US Dollars in millions',fontsize=13)\n",
    "plt.xlabel('Year',fontsize=14)\n",
    "ax1.get_yaxis().set_major_formatter( \\\n",
    "                    matplotlib.ticker.FuncFormatter(lambda x,p: format(int(x),',')))\n",
    "common_ticks_legends_format(13,13)\n",
    "\n",
    "ax2 = fig.add_subplot(2,1,2)\n",
    "#df_gdp_rate_above_average['Singapore'].plot(ax=ax2,label='Mean GDP rate: ' + str(singapore_gdp_rate) + '%')\n",
    "ax2.plot(df_movingAverage['index'],df_movingAverage['Singapore'], \\\n",
    "            label='Mean GDP rate: ' + str(singapore_gdp_rate) + '%')\n",
    "plt.title('Fig.9b: Singapore GDP Rate',fontsize=14)\n",
    "plt.ylabel('GDP Rate in %',fontsize=13)\n",
    "plt.xlabel('Year',fontsize=13)\n",
    "common_ticks_legends_format(13,13)\n",
    "\n",
    "plt.show()"
   ]
  },
  {
   "cell_type": "markdown",
   "metadata": {},
   "source": [
    "<a id='table_5'></a>\n",
    "#### Table 5: Singapore Data among South-eastern Asia nations"
   ]
  },
  {
   "cell_type": "code",
   "execution_count": 111,
   "metadata": {},
   "outputs": [
    {
     "data": {
      "text/html": [
       "<div>\n",
       "<style scoped>\n",
       "    .dataframe tbody tr th:only-of-type {\n",
       "        vertical-align: middle;\n",
       "    }\n",
       "\n",
       "    .dataframe tbody tr th {\n",
       "        vertical-align: top;\n",
       "    }\n",
       "\n",
       "    .dataframe thead th {\n",
       "        text-align: right;\n",
       "    }\n",
       "</style>\n",
       "<table border=\"1\" class=\"dataframe\">\n",
       "  <thead>\n",
       "    <tr style=\"text-align: right;\">\n",
       "      <th></th>\n",
       "      <th>name</th>\n",
       "      <th>sub-region</th>\n",
       "      <th>mean_gdp_percapita</th>\n",
       "      <th>mean_exports</th>\n",
       "      <th>mean_imports</th>\n",
       "      <th>mean_fdi</th>\n",
       "      <th>mean_gdp</th>\n",
       "      <th>economic_status</th>\n",
       "    </tr>\n",
       "  </thead>\n",
       "  <tbody>\n",
       "    <tr>\n",
       "      <th>46</th>\n",
       "      <td>Indonesia</td>\n",
       "      <td>South-eastern Asia</td>\n",
       "      <td>614.119061</td>\n",
       "      <td>27.490039</td>\n",
       "      <td>23.937109</td>\n",
       "      <td>0.713812</td>\n",
       "      <td>1.211541e+11</td>\n",
       "      <td>below_average</td>\n",
       "    </tr>\n",
       "    <tr>\n",
       "      <th>60</th>\n",
       "      <td>Malaysia</td>\n",
       "      <td>South-eastern Asia</td>\n",
       "      <td>2914.168937</td>\n",
       "      <td>75.682001</td>\n",
       "      <td>68.180029</td>\n",
       "      <td>3.725821</td>\n",
       "      <td>6.140845e+10</td>\n",
       "      <td>average</td>\n",
       "    </tr>\n",
       "    <tr>\n",
       "      <th>79</th>\n",
       "      <td>Philippines</td>\n",
       "      <td>South-eastern Asia</td>\n",
       "      <td>1036.955532</td>\n",
       "      <td>31.927447</td>\n",
       "      <td>35.567929</td>\n",
       "      <td>1.064964</td>\n",
       "      <td>6.648164e+10</td>\n",
       "      <td>below_average</td>\n",
       "    </tr>\n",
       "    <tr>\n",
       "      <th>86</th>\n",
       "      <td>Singapore</td>\n",
       "      <td>South-eastern Asia</td>\n",
       "      <td>16638.283681</td>\n",
       "      <td>176.475260</td>\n",
       "      <td>168.059919</td>\n",
       "      <td>10.528263</td>\n",
       "      <td>6.135172e+10</td>\n",
       "      <td>above_average</td>\n",
       "    </tr>\n",
       "    <tr>\n",
       "      <th>96</th>\n",
       "      <td>Thailand</td>\n",
       "      <td>South-eastern Asia</td>\n",
       "      <td>1446.039028</td>\n",
       "      <td>40.218997</td>\n",
       "      <td>40.484161</td>\n",
       "      <td>1.951779</td>\n",
       "      <td>8.632533e+10</td>\n",
       "      <td>below_average</td>\n",
       "    </tr>\n",
       "  </tbody>\n",
       "</table>\n",
       "</div>"
      ],
      "text/plain": [
       "           name          sub-region  mean_gdp_percapita  mean_exports  \\\n",
       "46    Indonesia  South-eastern Asia          614.119061     27.490039   \n",
       "60     Malaysia  South-eastern Asia         2914.168937     75.682001   \n",
       "79  Philippines  South-eastern Asia         1036.955532     31.927447   \n",
       "86    Singapore  South-eastern Asia        16638.283681    176.475260   \n",
       "96     Thailand  South-eastern Asia         1446.039028     40.218997   \n",
       "\n",
       "    mean_imports   mean_fdi      mean_gdp economic_status  \n",
       "46     23.937109   0.713812  1.211541e+11   below_average  \n",
       "60     68.180029   3.725821  6.140845e+10         average  \n",
       "79     35.567929   1.064964  6.648164e+10   below_average  \n",
       "86    168.059919  10.528263  6.135172e+10   above_average  \n",
       "96     40.484161   1.951779  8.632533e+10   below_average  "
      ]
     },
     "execution_count": 111,
     "metadata": {},
     "output_type": "execute_result"
    }
   ],
   "source": [
    "df_combined_economic_status[df_combined_economic_status['sub-region']=='South-eastern Asia']"
   ]
  },
  {
   "cell_type": "code",
   "execution_count": 112,
   "metadata": {},
   "outputs": [
    {
     "data": {
      "text/plain": [
       "('9,603,756,795', '165,706,962,574')"
      ]
     },
     "execution_count": 112,
     "metadata": {},
     "output_type": "execute_result"
    }
   ],
   "source": [
    "# Calculation for Singapore MIN and MAX GDP\n",
    "pretty_number(dfc_gdp_market_T['Singapore'].min()),pretty_number(dfc_gdp_market_T['Singapore'].max())"
   ]
  },
  {
   "cell_type": "markdown",
   "metadata": {},
   "source": [
    "> From the calculation above, the Singapore has a MIN GDP of 9.6 billion USD and <br>\n",
    "> a MAX GDP of 165.7 billion USD at the end of data point of Year 2010. Therefore, <br>\n",
    "> Singapore grow by a factor of 16 ((165-9.6)/9.6) in 40 years (1970 - 2010).\n",
    ">\n",
    "> In addition to phenomenal growth rate, Singapore has exceptional Exports, Imports and <br>\n",
    "> FDI (as proportions of GDP).\n",
    "> \n",
    "> From Table 5, Exports (as a proportion of GDP) is 1.76 times its own GDP. Compare this<br>\n",
    "> with Fig.6 where the average exports (as a proportion of GDP) is just around 0.42 times <br>\n",
    "> its own GDP for above_average category.\n",
    ">\n",
    "> From Table 5, Imports (as a proportion of GDP) is 1.68 times its own GDP. Compare this<br>\n",
    "> with Fig.7 where the average imports (as a proportion of GDP) is just around 0.42 times its<br>\n",
    "> own GDP for above-average category.\n",
    ">\n",
    "> From Table 5, FDI (as a proportion of GDP) is around 0.1 its own GDP. This may seem like a small<br>\n",
    "> number when comparing with figures for Exports and Imports above. However, when comparing with <br>\n",
    "> Fig.8, the highest mean imports (as a proportion of GDP) is only 0.72 times its own GDP. <br>\n",
    "> Singapore's FDI is still high.\n",
    ">\n",
    "> Therefore, there is a clear correlation between high GDP per capita and exports level for <br>\n",
    "> Singapore. The story of prosperity through export-led growth is indeed true.<br>\n",
    "> The question now is how to attain this high exports, FDI and imports for a country. <br>\n",
    "> To answer this, we have to dig other independent(explanatory) variables such as education, <br> manufacturing, agriculture, natural resources and quality of exports -- whether it is dependent on manufacture, agricultural products or raw materials such as coal, oil and diamonds.\n",
    ">\n",
    ">\n",
    ">\n"
   ]
  },
  {
   "cell_type": "markdown",
   "metadata": {},
   "source": [
    "<a id='conclusions'></a>\n",
    "## Conclusions\n",
    "\n",
    "> Wrangling data has taken approximately 60% of the project's time. Gathering and assembling data\n",
    "> in <a href='#awesome_format'/>a combined format </a>has been worth the time. Refer to <a href='#combined_fig_5'/>Figure 5</a> and <a href='#using_pivot_table'/>using pivot table to plot graph.</a> Usually this will involve counting instances in a dictionary in a for loop. With pivot_table, plotting this type of graph is so much easier. Of course before you use the pivot_table,\n",
    "you have to assemble the underlying data in a combined format.\n",
    "\n",
    "> Eating Big Mac everyday is affordable in average and rich (above-average) countries but <a href='#first_test'/>very expensive in below-average countries.</a> Converting nominal value into z-score can be very useful. For example, the Big-Mac Everyday z-score for below-average country is 2.08. We can immediately tell that only 1.88% of the population can afford this habit.\n",
    "\n",
    "> I also posed a question from what I read frequently from articles -- hardcopy and online alike. **Success story of Four Asian Tigers through export-led growth.** From the dissection of single-data point -- Singapore, the question posed is indeed true and more. Not only is the Export (as a proportion of GDP) value high, the value of Import and FDI (as a proportion of GDP) is also very high (especially compared to countries in the same and different economic category). Refer to <a href='#table_5'/>Table 5</a> and <a href='#using_pivot_table'/>pivot table graphs.</a>\n",
    "> \n",
    "\n",
    "> So we know there is a strong positive correlation of rich country (high gdp_percapita) and export value based on data from Singapore. Does this correlation hold true for other countries? If countries have high Export (as a proportion of GDP) values, can we conclude that those countries are rich (high gdp_percapita)?\n",
    ">\n",
    "\n",
    "> **If we look only** at <a href='#using_pivot_table'/>From Fig.6, 7 and 8</a>, the answer is **TENTATIVELY** yes. Not only do average and above-average countries have high Export values, they also have high Import and FDI values (as a proportion of GDP). However if you look at <a href='#combined_fig_5'/>Fig.5</a>, the correlation between export and gdp_percapita is very low (less than 0.1) in rich (above-average; orange bar) countries. Why? This can be explained if you look at Fig.4a. (I realize that Fig.4a is obtained from df_combined_economic_status dataset and not from df_combined_above75_subset dataset but I still reckon that they will have the same shape because of its low correlation number). Looking closer at Fig.4a, you can see there are clusters of low mean_gdp_percapita data points (below USD 5000) hovering from 20% to approx. 80% of mean_exports (as proportion of GDP). If these outliers can be taken out from the plot, correlation of mean_exports and mean_gdp_percapita will definitely get stronger. To remove these outliers, we cannot just get rid of them willy-nilly. There are just too many outliers. We need other independent(explanatory) variables such as education level, manufacturing data, agricultural data and breakdown of exports -- exports that come from manufacturing sector, agricultural sector or primary sector such as coals,oil and diamonds to filter -- these outliers.\n",
    ">\n",
    "> Therefore we cannot conclusively say that countries are rich if they have high export values. We need more data to fine-tune our Export, Import and FDI values. Having said that, other countries can still learn from the success story of Singapore. <a href='https://www.straitstimes.com/singapore/singapores-visionary-mr-lee-kuan-yew-inspires-followers-in-africa-including-rwanda'/>Rwanda's Paul Kagame has been known to take a page from Singapore's Lee Kuan Yew.</a>"
   ]
  },
  {
   "cell_type": "code",
   "execution_count": null,
   "metadata": {},
   "outputs": [],
   "source": []
  },
  {
   "cell_type": "code",
   "execution_count": null,
   "metadata": {},
   "outputs": [],
   "source": []
  },
  {
   "cell_type": "code",
   "execution_count": null,
   "metadata": {},
   "outputs": [],
   "source": []
  },
  {
   "cell_type": "code",
   "execution_count": null,
   "metadata": {},
   "outputs": [],
   "source": []
  },
  {
   "cell_type": "code",
   "execution_count": null,
   "metadata": {},
   "outputs": [],
   "source": []
  },
  {
   "cell_type": "code",
   "execution_count": null,
   "metadata": {},
   "outputs": [],
   "source": []
  },
  {
   "cell_type": "code",
   "execution_count": null,
   "metadata": {},
   "outputs": [],
   "source": []
  },
  {
   "cell_type": "code",
   "execution_count": null,
   "metadata": {},
   "outputs": [],
   "source": []
  }
 ],
 "metadata": {
  "kernelspec": {
   "display_name": "Python 3",
   "language": "python",
   "name": "python3"
  },
  "language_info": {
   "codemirror_mode": {
    "name": "ipython",
    "version": 3
   },
   "file_extension": ".py",
   "mimetype": "text/x-python",
   "name": "python",
   "nbconvert_exporter": "python",
   "pygments_lexer": "ipython3",
   "version": "3.6.5"
  }
 },
 "nbformat": 4,
 "nbformat_minor": 2
}
