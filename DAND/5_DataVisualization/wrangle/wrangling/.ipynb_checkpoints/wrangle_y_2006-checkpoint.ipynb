{
 "cells": [
  {
   "cell_type": "code",
   "execution_count": 1,
   "metadata": {},
   "outputs": [],
   "source": [
    "import numpy as np\n",
    "import pandas as pd\n",
    "import matplotlib.pyplot as plt\n",
    "import seaborn as sb\n",
    "\n",
    "%matplotlib inline\n",
    "\n",
    "import matplotlib as mpl  # for formatting xticks into thousands\n",
    "import operator # for sorting dict. NOTE: becomes list of tuples\n",
    "from tqdm import *\n",
    "import pickle\n",
    "from datetime import datetime\n",
    "import datetime # redundant? \n",
    "import plotly.plotly as py"
   ]
  },
  {
   "cell_type": "code",
   "execution_count": 2,
   "metadata": {},
   "outputs": [],
   "source": [
    "# you need to login to plotpl api key\n",
    "import plotly as py1\n",
    "py1.tools.set_credentials_file(username='CleanData',api_key='tt3PmRCW8uc3FowXCDZ7')"
   ]
  },
  {
   "cell_type": "code",
   "execution_count": 3,
   "metadata": {},
   "outputs": [],
   "source": [
    "def set_my_palette():\n",
    "    sb.set()\n",
    "    current_palette = sb.color_palette(my_palette)\n",
    "    sb.set_palette(current_palette)"
   ]
  },
  {
   "cell_type": "code",
   "execution_count": 4,
   "metadata": {},
   "outputs": [],
   "source": [
    "# choose color https://www.w3schools.com/colors/colors_picker.asp\n",
    "my_palette = ['#4da6ff', '#00b386', '#ff6666', '#ffff66', '#8c66ff', '#4dffd2']\n",
    "set_my_palette()\n",
    "sb.set_context(\"talk\")"
   ]
  },
  {
   "cell_type": "code",
   "execution_count": 5,
   "metadata": {},
   "outputs": [],
   "source": [
    "base_color = sb.color_palette()[0]"
   ]
  },
  {
   "cell_type": "code",
   "execution_count": 6,
   "metadata": {},
   "outputs": [],
   "source": [
    "def pretty_number(x):\n",
    "     return \"{:,.0f}\".format(x)   \n",
    "    \n"
   ]
  },
  {
   "cell_type": "code",
   "execution_count": 7,
   "metadata": {},
   "outputs": [],
   "source": [
    "y_2006_full_df = pd.read_csv('../raw_data/2006/2006.csv')\n",
    "carriers_df = pd.read_csv('../raw_data/supplement/carriers.csv')\n",
    "airports_df = pd.read_csv('../raw_data/supplement/airports.csv')"
   ]
  },
  {
   "cell_type": "code",
   "execution_count": 8,
   "metadata": {},
   "outputs": [],
   "source": [
    "#y_2008_df = y_2008_full_df.sample(frac=0.1,replace=False)\n",
    "#y_2008_df = y_2008_full_df.sample(frac=0.025,replace=False)\n",
    "y_2006_df = y_2006_full_df.sample(frac=0.01,replace=False)"
   ]
  },
  {
   "cell_type": "markdown",
   "metadata": {},
   "source": [
    "#### <a href='https://docs.google.com/document/d/e/2PACX-1vQmkX4iOT6Rcrin42vslquX2_wQCjIa_hbwD0xmxrERPSOJYDtpNc_3wwK_p9_KpOsfA6QVyEHdxxq7/pub?embedded=True'>Link to data</a>"
   ]
  },
  {
   "cell_type": "markdown",
   "metadata": {},
   "source": [
    "# Preliminary"
   ]
  },
  {
   "cell_type": "code",
   "execution_count": 9,
   "metadata": {},
   "outputs": [
    {
     "data": {
      "text/html": [
       "<div>\n",
       "<style scoped>\n",
       "    .dataframe tbody tr th:only-of-type {\n",
       "        vertical-align: middle;\n",
       "    }\n",
       "\n",
       "    .dataframe tbody tr th {\n",
       "        vertical-align: top;\n",
       "    }\n",
       "\n",
       "    .dataframe thead th {\n",
       "        text-align: right;\n",
       "    }\n",
       "</style>\n",
       "<table border=\"1\" class=\"dataframe\">\n",
       "  <thead>\n",
       "    <tr style=\"text-align: right;\">\n",
       "      <th></th>\n",
       "      <th>Year</th>\n",
       "      <th>Month</th>\n",
       "      <th>DayofMonth</th>\n",
       "      <th>DayOfWeek</th>\n",
       "      <th>DepTime</th>\n",
       "      <th>CRSDepTime</th>\n",
       "      <th>ArrTime</th>\n",
       "      <th>CRSArrTime</th>\n",
       "      <th>UniqueCarrier</th>\n",
       "      <th>FlightNum</th>\n",
       "      <th>...</th>\n",
       "      <th>TaxiIn</th>\n",
       "      <th>TaxiOut</th>\n",
       "      <th>Cancelled</th>\n",
       "      <th>CancellationCode</th>\n",
       "      <th>Diverted</th>\n",
       "      <th>CarrierDelay</th>\n",
       "      <th>WeatherDelay</th>\n",
       "      <th>NASDelay</th>\n",
       "      <th>SecurityDelay</th>\n",
       "      <th>LateAircraftDelay</th>\n",
       "    </tr>\n",
       "  </thead>\n",
       "  <tbody>\n",
       "    <tr>\n",
       "      <th>689539</th>\n",
       "      <td>2006</td>\n",
       "      <td>2</td>\n",
       "      <td>28</td>\n",
       "      <td>2</td>\n",
       "      <td>1745.0</td>\n",
       "      <td>1745</td>\n",
       "      <td>2.0</td>\n",
       "      <td>15</td>\n",
       "      <td>WN</td>\n",
       "      <td>834</td>\n",
       "      <td>...</td>\n",
       "      <td>7</td>\n",
       "      <td>15</td>\n",
       "      <td>0</td>\n",
       "      <td>NaN</td>\n",
       "      <td>0</td>\n",
       "      <td>0</td>\n",
       "      <td>0</td>\n",
       "      <td>0</td>\n",
       "      <td>0</td>\n",
       "      <td>0</td>\n",
       "    </tr>\n",
       "    <tr>\n",
       "      <th>6283084</th>\n",
       "      <td>2006</td>\n",
       "      <td>11</td>\n",
       "      <td>13</td>\n",
       "      <td>1</td>\n",
       "      <td>1910.0</td>\n",
       "      <td>1908</td>\n",
       "      <td>1957.0</td>\n",
       "      <td>2011</td>\n",
       "      <td>FL</td>\n",
       "      <td>619</td>\n",
       "      <td>...</td>\n",
       "      <td>7</td>\n",
       "      <td>15</td>\n",
       "      <td>0</td>\n",
       "      <td>NaN</td>\n",
       "      <td>0</td>\n",
       "      <td>0</td>\n",
       "      <td>0</td>\n",
       "      <td>0</td>\n",
       "      <td>0</td>\n",
       "      <td>0</td>\n",
       "    </tr>\n",
       "  </tbody>\n",
       "</table>\n",
       "<p>2 rows × 29 columns</p>\n",
       "</div>"
      ],
      "text/plain": [
       "         Year  Month  DayofMonth  DayOfWeek  DepTime  CRSDepTime  ArrTime  \\\n",
       "689539   2006      2          28          2   1745.0        1745      2.0   \n",
       "6283084  2006     11          13          1   1910.0        1908   1957.0   \n",
       "\n",
       "         CRSArrTime UniqueCarrier  FlightNum        ...         TaxiIn  \\\n",
       "689539           15            WN        834        ...              7   \n",
       "6283084        2011            FL        619        ...              7   \n",
       "\n",
       "         TaxiOut  Cancelled  CancellationCode  Diverted  CarrierDelay  \\\n",
       "689539        15          0               NaN         0             0   \n",
       "6283084       15          0               NaN         0             0   \n",
       "\n",
       "        WeatherDelay NASDelay  SecurityDelay  LateAircraftDelay  \n",
       "689539             0        0              0                  0  \n",
       "6283084            0        0              0                  0  \n",
       "\n",
       "[2 rows x 29 columns]"
      ]
     },
     "execution_count": 9,
     "metadata": {},
     "output_type": "execute_result"
    }
   ],
   "source": [
    "y_2006_df.head(2)"
   ]
  },
  {
   "cell_type": "code",
   "execution_count": 10,
   "metadata": {},
   "outputs": [
    {
     "data": {
      "text/html": [
       "<div>\n",
       "<style scoped>\n",
       "    .dataframe tbody tr th:only-of-type {\n",
       "        vertical-align: middle;\n",
       "    }\n",
       "\n",
       "    .dataframe tbody tr th {\n",
       "        vertical-align: top;\n",
       "    }\n",
       "\n",
       "    .dataframe thead th {\n",
       "        text-align: right;\n",
       "    }\n",
       "</style>\n",
       "<table border=\"1\" class=\"dataframe\">\n",
       "  <thead>\n",
       "    <tr style=\"text-align: right;\">\n",
       "      <th></th>\n",
       "      <th>Year</th>\n",
       "      <th>Month</th>\n",
       "      <th>DayofMonth</th>\n",
       "      <th>DayOfWeek</th>\n",
       "      <th>DepTime</th>\n",
       "      <th>CRSDepTime</th>\n",
       "      <th>ArrTime</th>\n",
       "      <th>CRSArrTime</th>\n",
       "      <th>UniqueCarrier</th>\n",
       "      <th>FlightNum</th>\n",
       "      <th>...</th>\n",
       "      <th>TaxiIn</th>\n",
       "      <th>TaxiOut</th>\n",
       "      <th>Cancelled</th>\n",
       "      <th>CancellationCode</th>\n",
       "      <th>Diverted</th>\n",
       "      <th>CarrierDelay</th>\n",
       "      <th>WeatherDelay</th>\n",
       "      <th>NASDelay</th>\n",
       "      <th>SecurityDelay</th>\n",
       "      <th>LateAircraftDelay</th>\n",
       "    </tr>\n",
       "  </thead>\n",
       "  <tbody>\n",
       "    <tr>\n",
       "      <th>0</th>\n",
       "      <td>2006</td>\n",
       "      <td>2</td>\n",
       "      <td>28</td>\n",
       "      <td>2</td>\n",
       "      <td>1745.0</td>\n",
       "      <td>1745</td>\n",
       "      <td>2.0</td>\n",
       "      <td>15</td>\n",
       "      <td>WN</td>\n",
       "      <td>834</td>\n",
       "      <td>...</td>\n",
       "      <td>7</td>\n",
       "      <td>15</td>\n",
       "      <td>0</td>\n",
       "      <td>NaN</td>\n",
       "      <td>0</td>\n",
       "      <td>0</td>\n",
       "      <td>0</td>\n",
       "      <td>0</td>\n",
       "      <td>0</td>\n",
       "      <td>0</td>\n",
       "    </tr>\n",
       "    <tr>\n",
       "      <th>1</th>\n",
       "      <td>2006</td>\n",
       "      <td>11</td>\n",
       "      <td>13</td>\n",
       "      <td>1</td>\n",
       "      <td>1910.0</td>\n",
       "      <td>1908</td>\n",
       "      <td>1957.0</td>\n",
       "      <td>2011</td>\n",
       "      <td>FL</td>\n",
       "      <td>619</td>\n",
       "      <td>...</td>\n",
       "      <td>7</td>\n",
       "      <td>15</td>\n",
       "      <td>0</td>\n",
       "      <td>NaN</td>\n",
       "      <td>0</td>\n",
       "      <td>0</td>\n",
       "      <td>0</td>\n",
       "      <td>0</td>\n",
       "      <td>0</td>\n",
       "      <td>0</td>\n",
       "    </tr>\n",
       "  </tbody>\n",
       "</table>\n",
       "<p>2 rows × 29 columns</p>\n",
       "</div>"
      ],
      "text/plain": [
       "   Year  Month  DayofMonth  DayOfWeek  DepTime  CRSDepTime  ArrTime  \\\n",
       "0  2006      2          28          2   1745.0        1745      2.0   \n",
       "1  2006     11          13          1   1910.0        1908   1957.0   \n",
       "\n",
       "   CRSArrTime UniqueCarrier  FlightNum        ...         TaxiIn  TaxiOut  \\\n",
       "0          15            WN        834        ...              7       15   \n",
       "1        2011            FL        619        ...              7       15   \n",
       "\n",
       "   Cancelled  CancellationCode  Diverted  CarrierDelay WeatherDelay NASDelay  \\\n",
       "0          0               NaN         0             0            0        0   \n",
       "1          0               NaN         0             0            0        0   \n",
       "\n",
       "   SecurityDelay  LateAircraftDelay  \n",
       "0              0                  0  \n",
       "1              0                  0  \n",
       "\n",
       "[2 rows x 29 columns]"
      ]
     },
     "execution_count": 10,
     "metadata": {},
     "output_type": "execute_result"
    }
   ],
   "source": [
    "y_2006_df = y_2006_df.reset_index().drop('index',axis=1)\n",
    "y_2006_df.head(2)"
   ]
  },
  {
   "cell_type": "code",
   "execution_count": 11,
   "metadata": {},
   "outputs": [
    {
     "data": {
      "text/plain": [
       "71419"
      ]
     },
     "execution_count": 11,
     "metadata": {},
     "output_type": "execute_result"
    }
   ],
   "source": [
    "y_2006_df.shape[0]"
   ]
  },
  {
   "cell_type": "code",
   "execution_count": 12,
   "metadata": {},
   "outputs": [
    {
     "name": "stdout",
     "output_type": "stream",
     "text": [
      "<class 'pandas.core.frame.DataFrame'>\n",
      "RangeIndex: 71419 entries, 0 to 71418\n",
      "Data columns (total 29 columns):\n",
      "Year                 71419 non-null int64\n",
      "Month                71419 non-null int64\n",
      "DayofMonth           71419 non-null int64\n",
      "DayOfWeek            71419 non-null int64\n",
      "DepTime              70122 non-null float64\n",
      "CRSDepTime           71419 non-null int64\n",
      "ArrTime              69967 non-null float64\n",
      "CRSArrTime           71419 non-null int64\n",
      "UniqueCarrier        71419 non-null object\n",
      "FlightNum            71419 non-null int64\n",
      "TailNum              71419 non-null object\n",
      "ActualElapsedTime    69967 non-null float64\n",
      "CRSElapsedTime       71419 non-null float64\n",
      "AirTime              69967 non-null float64\n",
      "ArrDelay             69967 non-null float64\n",
      "DepDelay             70122 non-null float64\n",
      "Origin               71419 non-null object\n",
      "Dest                 71419 non-null object\n",
      "Distance             71419 non-null int64\n",
      "TaxiIn               71419 non-null int64\n",
      "TaxiOut              71419 non-null int64\n",
      "Cancelled            71419 non-null int64\n",
      "CancellationCode     1297 non-null object\n",
      "Diverted             71419 non-null int64\n",
      "CarrierDelay         71419 non-null int64\n",
      "WeatherDelay         71419 non-null int64\n",
      "NASDelay             71419 non-null int64\n",
      "SecurityDelay        71419 non-null int64\n",
      "LateAircraftDelay    71419 non-null int64\n",
      "dtypes: float64(7), int64(17), object(5)\n",
      "memory usage: 15.8+ MB\n"
     ]
    }
   ],
   "source": [
    "y_2006_df.info()"
   ]
  },
  {
   "cell_type": "markdown",
   "metadata": {},
   "source": [
    "# Investigating DepDelay and ArrDelay\n",
    "- Because Delays are one of our main topic of interests, I would begin by investigating DepDelay and ArrDelay."
   ]
  },
  {
   "cell_type": "code",
   "execution_count": 13,
   "metadata": {},
   "outputs": [
    {
     "data": {
      "text/plain": [
       "(dtype('float64'), dtype('float64'))"
      ]
     },
     "execution_count": 13,
     "metadata": {},
     "output_type": "execute_result"
    }
   ],
   "source": [
    "y_2006_df.DepDelay.dtypes, y_2006_df.ArrDelay.dtypes"
   ]
  },
  {
   "cell_type": "markdown",
   "metadata": {},
   "source": [
    "> Both are floats. So can perform addition and subtraction on them"
   ]
  },
  {
   "cell_type": "code",
   "execution_count": 14,
   "metadata": {},
   "outputs": [],
   "source": [
    "cols = ['DepTime','CRSDepTime','DepDelay','ArrTime','CRSArrTime','ArrDelay']"
   ]
  },
  {
   "cell_type": "code",
   "execution_count": 15,
   "metadata": {},
   "outputs": [
    {
     "data": {
      "text/html": [
       "<div>\n",
       "<style scoped>\n",
       "    .dataframe tbody tr th:only-of-type {\n",
       "        vertical-align: middle;\n",
       "    }\n",
       "\n",
       "    .dataframe tbody tr th {\n",
       "        vertical-align: top;\n",
       "    }\n",
       "\n",
       "    .dataframe thead th {\n",
       "        text-align: right;\n",
       "    }\n",
       "</style>\n",
       "<table border=\"1\" class=\"dataframe\">\n",
       "  <thead>\n",
       "    <tr style=\"text-align: right;\">\n",
       "      <th></th>\n",
       "      <th>DepTime</th>\n",
       "      <th>CRSDepTime</th>\n",
       "      <th>DepDelay</th>\n",
       "      <th>ArrTime</th>\n",
       "      <th>CRSArrTime</th>\n",
       "      <th>ArrDelay</th>\n",
       "    </tr>\n",
       "  </thead>\n",
       "  <tbody>\n",
       "    <tr>\n",
       "      <th>0</th>\n",
       "      <td>1745.0</td>\n",
       "      <td>1745</td>\n",
       "      <td>0.0</td>\n",
       "      <td>2.0</td>\n",
       "      <td>15</td>\n",
       "      <td>-13.0</td>\n",
       "    </tr>\n",
       "    <tr>\n",
       "      <th>1</th>\n",
       "      <td>1910.0</td>\n",
       "      <td>1908</td>\n",
       "      <td>2.0</td>\n",
       "      <td>1957.0</td>\n",
       "      <td>2011</td>\n",
       "      <td>-14.0</td>\n",
       "    </tr>\n",
       "    <tr>\n",
       "      <th>2</th>\n",
       "      <td>1033.0</td>\n",
       "      <td>1035</td>\n",
       "      <td>-2.0</td>\n",
       "      <td>1131.0</td>\n",
       "      <td>1143</td>\n",
       "      <td>-12.0</td>\n",
       "    </tr>\n",
       "    <tr>\n",
       "      <th>3</th>\n",
       "      <td>2100.0</td>\n",
       "      <td>2055</td>\n",
       "      <td>5.0</td>\n",
       "      <td>2221.0</td>\n",
       "      <td>2225</td>\n",
       "      <td>-4.0</td>\n",
       "    </tr>\n",
       "    <tr>\n",
       "      <th>4</th>\n",
       "      <td>1651.0</td>\n",
       "      <td>1700</td>\n",
       "      <td>-9.0</td>\n",
       "      <td>2107.0</td>\n",
       "      <td>2114</td>\n",
       "      <td>-7.0</td>\n",
       "    </tr>\n",
       "    <tr>\n",
       "      <th>5</th>\n",
       "      <td>1329.0</td>\n",
       "      <td>1330</td>\n",
       "      <td>-1.0</td>\n",
       "      <td>1525.0</td>\n",
       "      <td>1530</td>\n",
       "      <td>-5.0</td>\n",
       "    </tr>\n",
       "    <tr>\n",
       "      <th>6</th>\n",
       "      <td>838.0</td>\n",
       "      <td>845</td>\n",
       "      <td>-7.0</td>\n",
       "      <td>930.0</td>\n",
       "      <td>949</td>\n",
       "      <td>-19.0</td>\n",
       "    </tr>\n",
       "    <tr>\n",
       "      <th>7</th>\n",
       "      <td>1055.0</td>\n",
       "      <td>1058</td>\n",
       "      <td>-3.0</td>\n",
       "      <td>1200.0</td>\n",
       "      <td>1205</td>\n",
       "      <td>-5.0</td>\n",
       "    </tr>\n",
       "    <tr>\n",
       "      <th>8</th>\n",
       "      <td>1754.0</td>\n",
       "      <td>1757</td>\n",
       "      <td>-3.0</td>\n",
       "      <td>1856.0</td>\n",
       "      <td>1900</td>\n",
       "      <td>-4.0</td>\n",
       "    </tr>\n",
       "    <tr>\n",
       "      <th>9</th>\n",
       "      <td>929.0</td>\n",
       "      <td>930</td>\n",
       "      <td>-1.0</td>\n",
       "      <td>1143.0</td>\n",
       "      <td>1140</td>\n",
       "      <td>3.0</td>\n",
       "    </tr>\n",
       "  </tbody>\n",
       "</table>\n",
       "</div>"
      ],
      "text/plain": [
       "   DepTime  CRSDepTime  DepDelay  ArrTime  CRSArrTime  ArrDelay\n",
       "0   1745.0        1745       0.0      2.0          15     -13.0\n",
       "1   1910.0        1908       2.0   1957.0        2011     -14.0\n",
       "2   1033.0        1035      -2.0   1131.0        1143     -12.0\n",
       "3   2100.0        2055       5.0   2221.0        2225      -4.0\n",
       "4   1651.0        1700      -9.0   2107.0        2114      -7.0\n",
       "5   1329.0        1330      -1.0   1525.0        1530      -5.0\n",
       "6    838.0         845      -7.0    930.0         949     -19.0\n",
       "7   1055.0        1058      -3.0   1200.0        1205      -5.0\n",
       "8   1754.0        1757      -3.0   1856.0        1900      -4.0\n",
       "9    929.0         930      -1.0   1143.0        1140       3.0"
      ]
     },
     "execution_count": 15,
     "metadata": {},
     "output_type": "execute_result"
    }
   ],
   "source": [
    "y_2006_df[cols].head(10)"
   ]
  },
  {
   "cell_type": "code",
   "execution_count": 16,
   "metadata": {},
   "outputs": [
    {
     "data": {
      "text/plain": [
       "0     0.0\n",
       "1     2.0\n",
       "2    -2.0\n",
       "3    45.0\n",
       "4   -49.0\n",
       "5    -1.0\n",
       "6    -7.0\n",
       "7    -3.0\n",
       "8    -3.0\n",
       "9    -1.0\n",
       "dtype: float64"
      ]
     },
     "execution_count": 16,
     "metadata": {},
     "output_type": "execute_result"
    }
   ],
   "source": [
    "y_2006_df.DepTime[:10] - y_2006_df.CRSDepTime[:10]"
   ]
  },
  {
   "cell_type": "code",
   "execution_count": 17,
   "metadata": {},
   "outputs": [
    {
     "data": {
      "text/plain": [
       "0   -13.0\n",
       "1   -54.0\n",
       "2   -12.0\n",
       "3    -4.0\n",
       "4    -7.0\n",
       "5    -5.0\n",
       "6   -19.0\n",
       "7    -5.0\n",
       "8   -44.0\n",
       "9     3.0\n",
       "dtype: float64"
      ]
     },
     "execution_count": 17,
     "metadata": {},
     "output_type": "execute_result"
    }
   ],
   "source": [
    "y_2006_df.ArrTime[:10] - y_2006_df.CRSArrTime[:10]"
   ]
  },
  {
   "cell_type": "markdown",
   "metadata": {},
   "source": [
    "> Compare with above table. There are errors. So I have to manuually calculate DepDelay and ArrDelay"
   ]
  },
  {
   "cell_type": "markdown",
   "metadata": {},
   "source": [
    "# 2. Convert into DateTime Object\n",
    "https://towardsdatascience.com/basic-time-series-manipulation-with-pandas-4432afee64ea\n",
    "\n",
    "- To calculate DepDelay and ArrDelay manually, we need to reformat our data into datetime object. Without reformatting, it would be downright difficult to do it."
   ]
  },
  {
   "cell_type": "markdown",
   "metadata": {},
   "source": [
    "## 2.1 Combine Year, Month and DayofMonth"
   ]
  },
  {
   "cell_type": "code",
   "execution_count": 18,
   "metadata": {},
   "outputs": [
    {
     "data": {
      "text/plain": [
       "Year                   int64\n",
       "Month                  int64\n",
       "DayofMonth             int64\n",
       "DayOfWeek              int64\n",
       "DepTime              float64\n",
       "CRSDepTime             int64\n",
       "ArrTime              float64\n",
       "CRSArrTime             int64\n",
       "UniqueCarrier         object\n",
       "FlightNum              int64\n",
       "TailNum               object\n",
       "ActualElapsedTime    float64\n",
       "CRSElapsedTime       float64\n",
       "AirTime              float64\n",
       "ArrDelay             float64\n",
       "DepDelay             float64\n",
       "Origin                object\n",
       "Dest                  object\n",
       "Distance               int64\n",
       "TaxiIn                 int64\n",
       "TaxiOut                int64\n",
       "Cancelled              int64\n",
       "CancellationCode      object\n",
       "Diverted               int64\n",
       "CarrierDelay           int64\n",
       "WeatherDelay           int64\n",
       "NASDelay               int64\n",
       "SecurityDelay          int64\n",
       "LateAircraftDelay      int64\n",
       "dtype: object"
      ]
     },
     "execution_count": 18,
     "metadata": {},
     "output_type": "execute_result"
    }
   ],
   "source": [
    "y_2006_df.dtypes"
   ]
  },
  {
   "cell_type": "code",
   "execution_count": 19,
   "metadata": {},
   "outputs": [
    {
     "data": {
      "text/html": [
       "<div>\n",
       "<style scoped>\n",
       "    .dataframe tbody tr th:only-of-type {\n",
       "        vertical-align: middle;\n",
       "    }\n",
       "\n",
       "    .dataframe tbody tr th {\n",
       "        vertical-align: top;\n",
       "    }\n",
       "\n",
       "    .dataframe thead th {\n",
       "        text-align: right;\n",
       "    }\n",
       "</style>\n",
       "<table border=\"1\" class=\"dataframe\">\n",
       "  <thead>\n",
       "    <tr style=\"text-align: right;\">\n",
       "      <th></th>\n",
       "      <th>Year</th>\n",
       "      <th>Month</th>\n",
       "      <th>DayofMonth</th>\n",
       "      <th>DayOfWeek</th>\n",
       "      <th>DepTime</th>\n",
       "      <th>CRSDepTime</th>\n",
       "      <th>ArrTime</th>\n",
       "      <th>CRSArrTime</th>\n",
       "      <th>UniqueCarrier</th>\n",
       "      <th>FlightNum</th>\n",
       "      <th>...</th>\n",
       "      <th>TaxiIn</th>\n",
       "      <th>TaxiOut</th>\n",
       "      <th>Cancelled</th>\n",
       "      <th>CancellationCode</th>\n",
       "      <th>Diverted</th>\n",
       "      <th>CarrierDelay</th>\n",
       "      <th>WeatherDelay</th>\n",
       "      <th>NASDelay</th>\n",
       "      <th>SecurityDelay</th>\n",
       "      <th>LateAircraftDelay</th>\n",
       "    </tr>\n",
       "  </thead>\n",
       "  <tbody>\n",
       "    <tr>\n",
       "      <th>0</th>\n",
       "      <td>2006</td>\n",
       "      <td>2</td>\n",
       "      <td>28</td>\n",
       "      <td>2</td>\n",
       "      <td>1745.0</td>\n",
       "      <td>1745</td>\n",
       "      <td>2.0</td>\n",
       "      <td>15</td>\n",
       "      <td>WN</td>\n",
       "      <td>834</td>\n",
       "      <td>...</td>\n",
       "      <td>7</td>\n",
       "      <td>15</td>\n",
       "      <td>0</td>\n",
       "      <td>NaN</td>\n",
       "      <td>0</td>\n",
       "      <td>0</td>\n",
       "      <td>0</td>\n",
       "      <td>0</td>\n",
       "      <td>0</td>\n",
       "      <td>0</td>\n",
       "    </tr>\n",
       "    <tr>\n",
       "      <th>1</th>\n",
       "      <td>2006</td>\n",
       "      <td>11</td>\n",
       "      <td>13</td>\n",
       "      <td>1</td>\n",
       "      <td>1910.0</td>\n",
       "      <td>1908</td>\n",
       "      <td>1957.0</td>\n",
       "      <td>2011</td>\n",
       "      <td>FL</td>\n",
       "      <td>619</td>\n",
       "      <td>...</td>\n",
       "      <td>7</td>\n",
       "      <td>15</td>\n",
       "      <td>0</td>\n",
       "      <td>NaN</td>\n",
       "      <td>0</td>\n",
       "      <td>0</td>\n",
       "      <td>0</td>\n",
       "      <td>0</td>\n",
       "      <td>0</td>\n",
       "      <td>0</td>\n",
       "    </tr>\n",
       "  </tbody>\n",
       "</table>\n",
       "<p>2 rows × 29 columns</p>\n",
       "</div>"
      ],
      "text/plain": [
       "   Year  Month  DayofMonth  DayOfWeek  DepTime  CRSDepTime  ArrTime  \\\n",
       "0  2006      2          28          2   1745.0        1745      2.0   \n",
       "1  2006     11          13          1   1910.0        1908   1957.0   \n",
       "\n",
       "   CRSArrTime UniqueCarrier  FlightNum        ...         TaxiIn  TaxiOut  \\\n",
       "0          15            WN        834        ...              7       15   \n",
       "1        2011            FL        619        ...              7       15   \n",
       "\n",
       "   Cancelled  CancellationCode  Diverted  CarrierDelay WeatherDelay NASDelay  \\\n",
       "0          0               NaN         0             0            0        0   \n",
       "1          0               NaN         0             0            0        0   \n",
       "\n",
       "   SecurityDelay  LateAircraftDelay  \n",
       "0              0                  0  \n",
       "1              0                  0  \n",
       "\n",
       "[2 rows x 29 columns]"
      ]
     },
     "execution_count": 19,
     "metadata": {},
     "output_type": "execute_result"
    }
   ],
   "source": [
    "y_2006_df.head(2)"
   ]
  },
  {
   "cell_type": "markdown",
   "metadata": {},
   "source": [
    "#### Define"
   ]
  },
  {
   "cell_type": "markdown",
   "metadata": {},
   "source": [
    "- We want to combine columns Year, Month and DayofMonth.\n",
    "- For example: 2008-05-02"
   ]
  },
  {
   "cell_type": "markdown",
   "metadata": {},
   "source": [
    "#### Code"
   ]
  },
  {
   "cell_type": "code",
   "execution_count": 20,
   "metadata": {},
   "outputs": [],
   "source": [
    "y_2006_df.Year = y_2006_df.Year.astype('str')\n",
    "y_2006_df.Month = y_2006_df.Month.astype('str')\n",
    "y_2006_df.DayofMonth = y_2006_df.DayofMonth.astype('str')"
   ]
  },
  {
   "cell_type": "code",
   "execution_count": 21,
   "metadata": {},
   "outputs": [],
   "source": [
    "combined_date = y_2006_df.Year + \"-\" + y_2006_df.Month + \"-\" + y_2006_df.DayofMonth"
   ]
  },
  {
   "cell_type": "code",
   "execution_count": 22,
   "metadata": {},
   "outputs": [],
   "source": [
    "# then make it into datetime object\n",
    "y_2006_df['CombinedDate'] = pd.to_datetime(combined_date)"
   ]
  },
  {
   "cell_type": "markdown",
   "metadata": {},
   "source": [
    "#### Test"
   ]
  },
  {
   "cell_type": "code",
   "execution_count": 23,
   "metadata": {},
   "outputs": [],
   "source": [
    "cols_to_test = ['Year','Month','DayofMonth','CombinedDate']"
   ]
  },
  {
   "cell_type": "code",
   "execution_count": 24,
   "metadata": {},
   "outputs": [
    {
     "data": {
      "text/html": [
       "<div>\n",
       "<style scoped>\n",
       "    .dataframe tbody tr th:only-of-type {\n",
       "        vertical-align: middle;\n",
       "    }\n",
       "\n",
       "    .dataframe tbody tr th {\n",
       "        vertical-align: top;\n",
       "    }\n",
       "\n",
       "    .dataframe thead th {\n",
       "        text-align: right;\n",
       "    }\n",
       "</style>\n",
       "<table border=\"1\" class=\"dataframe\">\n",
       "  <thead>\n",
       "    <tr style=\"text-align: right;\">\n",
       "      <th></th>\n",
       "      <th>Year</th>\n",
       "      <th>Month</th>\n",
       "      <th>DayofMonth</th>\n",
       "      <th>CombinedDate</th>\n",
       "    </tr>\n",
       "  </thead>\n",
       "  <tbody>\n",
       "    <tr>\n",
       "      <th>0</th>\n",
       "      <td>2006</td>\n",
       "      <td>2</td>\n",
       "      <td>28</td>\n",
       "      <td>2006-02-28</td>\n",
       "    </tr>\n",
       "    <tr>\n",
       "      <th>1</th>\n",
       "      <td>2006</td>\n",
       "      <td>11</td>\n",
       "      <td>13</td>\n",
       "      <td>2006-11-13</td>\n",
       "    </tr>\n",
       "    <tr>\n",
       "      <th>2</th>\n",
       "      <td>2006</td>\n",
       "      <td>1</td>\n",
       "      <td>30</td>\n",
       "      <td>2006-01-30</td>\n",
       "    </tr>\n",
       "    <tr>\n",
       "      <th>3</th>\n",
       "      <td>2006</td>\n",
       "      <td>12</td>\n",
       "      <td>11</td>\n",
       "      <td>2006-12-11</td>\n",
       "    </tr>\n",
       "    <tr>\n",
       "      <th>4</th>\n",
       "      <td>2006</td>\n",
       "      <td>3</td>\n",
       "      <td>26</td>\n",
       "      <td>2006-03-26</td>\n",
       "    </tr>\n",
       "    <tr>\n",
       "      <th>5</th>\n",
       "      <td>2006</td>\n",
       "      <td>10</td>\n",
       "      <td>3</td>\n",
       "      <td>2006-10-03</td>\n",
       "    </tr>\n",
       "    <tr>\n",
       "      <th>6</th>\n",
       "      <td>2006</td>\n",
       "      <td>4</td>\n",
       "      <td>30</td>\n",
       "      <td>2006-04-30</td>\n",
       "    </tr>\n",
       "    <tr>\n",
       "      <th>7</th>\n",
       "      <td>2006</td>\n",
       "      <td>12</td>\n",
       "      <td>13</td>\n",
       "      <td>2006-12-13</td>\n",
       "    </tr>\n",
       "    <tr>\n",
       "      <th>8</th>\n",
       "      <td>2006</td>\n",
       "      <td>6</td>\n",
       "      <td>30</td>\n",
       "      <td>2006-06-30</td>\n",
       "    </tr>\n",
       "    <tr>\n",
       "      <th>9</th>\n",
       "      <td>2006</td>\n",
       "      <td>8</td>\n",
       "      <td>28</td>\n",
       "      <td>2006-08-28</td>\n",
       "    </tr>\n",
       "  </tbody>\n",
       "</table>\n",
       "</div>"
      ],
      "text/plain": [
       "   Year Month DayofMonth CombinedDate\n",
       "0  2006     2         28   2006-02-28\n",
       "1  2006    11         13   2006-11-13\n",
       "2  2006     1         30   2006-01-30\n",
       "3  2006    12         11   2006-12-11\n",
       "4  2006     3         26   2006-03-26\n",
       "5  2006    10          3   2006-10-03\n",
       "6  2006     4         30   2006-04-30\n",
       "7  2006    12         13   2006-12-13\n",
       "8  2006     6         30   2006-06-30\n",
       "9  2006     8         28   2006-08-28"
      ]
     },
     "execution_count": 24,
     "metadata": {},
     "output_type": "execute_result"
    }
   ],
   "source": [
    "y_2006_df[cols_to_test].head(10)"
   ]
  },
  {
   "cell_type": "code",
   "execution_count": 25,
   "metadata": {},
   "outputs": [
    {
     "data": {
      "text/plain": [
       "0"
      ]
     },
     "execution_count": 25,
     "metadata": {},
     "output_type": "execute_result"
    }
   ],
   "source": [
    "y_2006_df.CombinedDate.isnull().sum()"
   ]
  },
  {
   "cell_type": "markdown",
   "metadata": {},
   "source": [
    "- Great! All converted into datetime object. And there is no null values."
   ]
  },
  {
   "cell_type": "markdown",
   "metadata": {},
   "source": [
    "## 2.2 Convert DepTime into DateTime object"
   ]
  },
  {
   "cell_type": "code",
   "execution_count": 26,
   "metadata": {},
   "outputs": [
    {
     "data": {
      "text/html": [
       "<div>\n",
       "<style scoped>\n",
       "    .dataframe tbody tr th:only-of-type {\n",
       "        vertical-align: middle;\n",
       "    }\n",
       "\n",
       "    .dataframe tbody tr th {\n",
       "        vertical-align: top;\n",
       "    }\n",
       "\n",
       "    .dataframe thead th {\n",
       "        text-align: right;\n",
       "    }\n",
       "</style>\n",
       "<table border=\"1\" class=\"dataframe\">\n",
       "  <thead>\n",
       "    <tr style=\"text-align: right;\">\n",
       "      <th></th>\n",
       "      <th>CombinedDate</th>\n",
       "      <th>DepTime</th>\n",
       "    </tr>\n",
       "  </thead>\n",
       "  <tbody>\n",
       "    <tr>\n",
       "      <th>0</th>\n",
       "      <td>2006-02-28</td>\n",
       "      <td>1745.0</td>\n",
       "    </tr>\n",
       "    <tr>\n",
       "      <th>1</th>\n",
       "      <td>2006-11-13</td>\n",
       "      <td>1910.0</td>\n",
       "    </tr>\n",
       "    <tr>\n",
       "      <th>2</th>\n",
       "      <td>2006-01-30</td>\n",
       "      <td>1033.0</td>\n",
       "    </tr>\n",
       "    <tr>\n",
       "      <th>3</th>\n",
       "      <td>2006-12-11</td>\n",
       "      <td>2100.0</td>\n",
       "    </tr>\n",
       "    <tr>\n",
       "      <th>4</th>\n",
       "      <td>2006-03-26</td>\n",
       "      <td>1651.0</td>\n",
       "    </tr>\n",
       "  </tbody>\n",
       "</table>\n",
       "</div>"
      ],
      "text/plain": [
       "  CombinedDate  DepTime\n",
       "0   2006-02-28   1745.0\n",
       "1   2006-11-13   1910.0\n",
       "2   2006-01-30   1033.0\n",
       "3   2006-12-11   2100.0\n",
       "4   2006-03-26   1651.0"
      ]
     },
     "execution_count": 26,
     "metadata": {},
     "output_type": "execute_result"
    }
   ],
   "source": [
    "y_2006_df[['CombinedDate','DepTime']].head(5)"
   ]
  },
  {
   "cell_type": "markdown",
   "metadata": {},
   "source": [
    "#### Define\n",
    "- We want to convert DepTime into DateTime object.\n",
    "- For example: 2008-05-02 05:54"
   ]
  },
  {
   "cell_type": "markdown",
   "metadata": {},
   "source": [
    "#### Code"
   ]
  },
  {
   "cell_type": "code",
   "execution_count": 27,
   "metadata": {},
   "outputs": [],
   "source": [
    "# convert into string\n",
    "y_2006_df.DepTime = y_2006_df.DepTime.astype('str')"
   ]
  },
  {
   "cell_type": "code",
   "execution_count": 28,
   "metadata": {},
   "outputs": [
    {
     "data": {
      "text/plain": [
       "0    1745.0\n",
       "1    1910.0\n",
       "2    1033.0\n",
       "Name: DepTime, dtype: object"
      ]
     },
     "execution_count": 28,
     "metadata": {},
     "output_type": "execute_result"
    }
   ],
   "source": [
    "y_2006_df.DepTime.head(3)"
   ]
  },
  {
   "cell_type": "code",
   "execution_count": 29,
   "metadata": {},
   "outputs": [
    {
     "data": {
      "text/plain": [
       "0    1745\n",
       "1    1910\n",
       "2    1033\n",
       "Name: DepTime, dtype: object"
      ]
     },
     "execution_count": 29,
     "metadata": {},
     "output_type": "execute_result"
    }
   ],
   "source": [
    "# split string by a period.  get the first element\n",
    "y_2006_df.DepTime.str.split('.').apply(lambda x: x[0]).head(3)"
   ]
  },
  {
   "cell_type": "code",
   "execution_count": 30,
   "metadata": {},
   "outputs": [],
   "source": [
    "# inplace = True\n",
    "y_2006_df.DepTime = y_2006_df.DepTime.str.split('.').apply(lambda x: x[0])"
   ]
  },
  {
   "cell_type": "code",
   "execution_count": 31,
   "metadata": {},
   "outputs": [],
   "source": [
    "def add_leading_zeros(element):\n",
    "    numStr=element\n",
    "    if numStr=='nan':\n",
    "        numStr = np.NaN\n",
    "    else:\n",
    "        numStr = element.rjust(4,'0')\n",
    "    #print(numStr)\n",
    "    return numStr"
   ]
  },
  {
   "cell_type": "code",
   "execution_count": 32,
   "metadata": {},
   "outputs": [],
   "source": [
    "# add leading zeros\n",
    "y_2006_df.DepTime = y_2006_df.DepTime.apply(add_leading_zeros)"
   ]
  },
  {
   "cell_type": "code",
   "execution_count": 33,
   "metadata": {},
   "outputs": [
    {
     "data": {
      "text/plain": [
       "69293    1546\n",
       "2670     0600\n",
       "38038    1625\n",
       "25129    1152\n",
       "50575    0948\n",
       "Name: DepTime, dtype: object"
      ]
     },
     "execution_count": 33,
     "metadata": {},
     "output_type": "execute_result"
    }
   ],
   "source": [
    "y_2006_df.DepTime.sample(5)"
   ]
  },
  {
   "cell_type": "code",
   "execution_count": 34,
   "metadata": {},
   "outputs": [],
   "source": [
    "# now add colon"
   ]
  },
  {
   "cell_type": "code",
   "execution_count": 35,
   "metadata": {},
   "outputs": [],
   "source": [
    "def add_colon(element):\n",
    "    element = str(element)\n",
    "    numStr = element\n",
    "    if element == 'nan':\n",
    "        numStr=np.NaN\n",
    "    else:\n",
    "        element = str(element)\n",
    "        numStr = element[:2]+':'+element[2:]\n",
    "    return numStr"
   ]
  },
  {
   "cell_type": "code",
   "execution_count": 36,
   "metadata": {},
   "outputs": [
    {
     "data": {
      "text/plain": [
       "5467     13:22\n",
       "28808    06:55\n",
       "4647     14:22\n",
       "46383    14:09\n",
       "39626    20:42\n",
       "Name: DepTime, dtype: object"
      ]
     },
     "execution_count": 36,
     "metadata": {},
     "output_type": "execute_result"
    }
   ],
   "source": [
    "y_2006_df.DepTime = y_2006_df.DepTime.apply(add_colon)\n",
    "y_2006_df.DepTime.sample(5)"
   ]
  },
  {
   "cell_type": "code",
   "execution_count": 37,
   "metadata": {},
   "outputs": [],
   "source": [
    "# Now combine CombineDateTime and DepTime and make it a datetime object"
   ]
  },
  {
   "cell_type": "code",
   "execution_count": 38,
   "metadata": {},
   "outputs": [],
   "source": [
    "date_list = []\n",
    "for indx,val in enumerate(y_2006_df.DepTime):\n",
    "    #print(val)\n",
    "    if val == 0:\n",
    "        #print('null')\n",
    "        date_list.append(pd.NaT)  # somehow for datetime NaT is equivalent to NaN\n",
    "    else:\n",
    "        date_list.append( y_2006_df.loc[indx,'Year'] + \"-\" + y_2006_df.loc[indx,'Month']\\\n",
    "                 + \"-\" + y_2006_df.loc[indx,'DayofMonth'] + \" \" + str(val))\n",
    "        "
   ]
  },
  {
   "cell_type": "code",
   "execution_count": 39,
   "metadata": {},
   "outputs": [],
   "source": [
    "y_2006_df['DepTime'] = date_list"
   ]
  },
  {
   "cell_type": "code",
   "execution_count": 40,
   "metadata": {},
   "outputs": [],
   "source": [
    "# convert into DateTime object\n",
    "y_2006_df['DepTime']=pd.to_datetime(y_2006_df.DepTime,errors='coerce')"
   ]
  },
  {
   "cell_type": "markdown",
   "metadata": {},
   "source": [
    "#### Test"
   ]
  },
  {
   "cell_type": "code",
   "execution_count": 41,
   "metadata": {},
   "outputs": [
    {
     "data": {
      "text/plain": [
       "59797   2006-03-20 15:22:00\n",
       "32277   2006-01-08 13:55:00\n",
       "52004   2006-05-30 17:38:00\n",
       "61507   2006-08-08 10:03:00\n",
       "13237   2006-01-19 06:36:00\n",
       "Name: DepTime, dtype: datetime64[ns]"
      ]
     },
     "execution_count": 41,
     "metadata": {},
     "output_type": "execute_result"
    }
   ],
   "source": [
    "y_2006_df.DepTime.sample(5)"
   ]
  },
  {
   "cell_type": "markdown",
   "metadata": {},
   "source": [
    "## 2.3 Convert ArrTime into DateTime object"
   ]
  },
  {
   "cell_type": "code",
   "execution_count": 42,
   "metadata": {},
   "outputs": [
    {
     "data": {
      "text/html": [
       "<div>\n",
       "<style scoped>\n",
       "    .dataframe tbody tr th:only-of-type {\n",
       "        vertical-align: middle;\n",
       "    }\n",
       "\n",
       "    .dataframe tbody tr th {\n",
       "        vertical-align: top;\n",
       "    }\n",
       "\n",
       "    .dataframe thead th {\n",
       "        text-align: right;\n",
       "    }\n",
       "</style>\n",
       "<table border=\"1\" class=\"dataframe\">\n",
       "  <thead>\n",
       "    <tr style=\"text-align: right;\">\n",
       "      <th></th>\n",
       "      <th>CombinedDate</th>\n",
       "      <th>ArrTime</th>\n",
       "    </tr>\n",
       "  </thead>\n",
       "  <tbody>\n",
       "    <tr>\n",
       "      <th>0</th>\n",
       "      <td>2006-02-28</td>\n",
       "      <td>2.0</td>\n",
       "    </tr>\n",
       "    <tr>\n",
       "      <th>1</th>\n",
       "      <td>2006-11-13</td>\n",
       "      <td>1957.0</td>\n",
       "    </tr>\n",
       "    <tr>\n",
       "      <th>2</th>\n",
       "      <td>2006-01-30</td>\n",
       "      <td>1131.0</td>\n",
       "    </tr>\n",
       "    <tr>\n",
       "      <th>3</th>\n",
       "      <td>2006-12-11</td>\n",
       "      <td>2221.0</td>\n",
       "    </tr>\n",
       "    <tr>\n",
       "      <th>4</th>\n",
       "      <td>2006-03-26</td>\n",
       "      <td>2107.0</td>\n",
       "    </tr>\n",
       "  </tbody>\n",
       "</table>\n",
       "</div>"
      ],
      "text/plain": [
       "  CombinedDate  ArrTime\n",
       "0   2006-02-28      2.0\n",
       "1   2006-11-13   1957.0\n",
       "2   2006-01-30   1131.0\n",
       "3   2006-12-11   2221.0\n",
       "4   2006-03-26   2107.0"
      ]
     },
     "execution_count": 42,
     "metadata": {},
     "output_type": "execute_result"
    }
   ],
   "source": [
    "y_2006_df[['CombinedDate','ArrTime']].head(5)"
   ]
  },
  {
   "cell_type": "markdown",
   "metadata": {},
   "source": [
    "#### Define\n",
    "- We want to convert ArrTime into DateTime object.\n",
    "- For example: 2008-08-17 14:08"
   ]
  },
  {
   "cell_type": "markdown",
   "metadata": {},
   "source": [
    "#### Code"
   ]
  },
  {
   "cell_type": "code",
   "execution_count": 43,
   "metadata": {},
   "outputs": [],
   "source": [
    "# convert into string\n",
    "y_2006_df.ArrTime = y_2006_df.ArrTime.astype('str')"
   ]
  },
  {
   "cell_type": "code",
   "execution_count": 44,
   "metadata": {},
   "outputs": [
    {
     "data": {
      "text/plain": [
       "0       2.0\n",
       "1    1957.0\n",
       "2    1131.0\n",
       "Name: ArrTime, dtype: object"
      ]
     },
     "execution_count": 44,
     "metadata": {},
     "output_type": "execute_result"
    }
   ],
   "source": [
    "y_2006_df.ArrTime.head(3)"
   ]
  },
  {
   "cell_type": "code",
   "execution_count": 45,
   "metadata": {},
   "outputs": [
    {
     "data": {
      "text/plain": [
       "0       2\n",
       "1    1957\n",
       "2    1131\n",
       "Name: ArrTime, dtype: object"
      ]
     },
     "execution_count": 45,
     "metadata": {},
     "output_type": "execute_result"
    }
   ],
   "source": [
    "# split string by a period.  get the first element\n",
    "y_2006_df.ArrTime.str.split('.').apply(lambda x: x[0]).head(3)"
   ]
  },
  {
   "cell_type": "code",
   "execution_count": 46,
   "metadata": {},
   "outputs": [],
   "source": [
    "# inplace = True\n",
    "y_2006_df.ArrTime = y_2006_df.ArrTime.str.split('.').apply(lambda x: x[0])"
   ]
  },
  {
   "cell_type": "code",
   "execution_count": 47,
   "metadata": {},
   "outputs": [],
   "source": [
    "# add leading zeros\n",
    "y_2006_df.ArrTime = y_2006_df.ArrTime.apply(add_leading_zeros)"
   ]
  },
  {
   "cell_type": "code",
   "execution_count": 48,
   "metadata": {},
   "outputs": [
    {
     "data": {
      "text/plain": [
       "35060    1609\n",
       "55459    1231\n",
       "51327    0550\n",
       "4073     1050\n",
       "38273    1315\n",
       "Name: ArrTime, dtype: object"
      ]
     },
     "execution_count": 48,
     "metadata": {},
     "output_type": "execute_result"
    }
   ],
   "source": [
    "y_2006_df.ArrTime.sample(5)"
   ]
  },
  {
   "cell_type": "code",
   "execution_count": 49,
   "metadata": {},
   "outputs": [],
   "source": [
    "# Now add colon"
   ]
  },
  {
   "cell_type": "code",
   "execution_count": 50,
   "metadata": {},
   "outputs": [
    {
     "data": {
      "text/plain": [
       "25801    09:15\n",
       "58030    21:28\n",
       "64661    22:57\n",
       "7896     18:14\n",
       "35913    19:20\n",
       "Name: ArrTime, dtype: object"
      ]
     },
     "execution_count": 50,
     "metadata": {},
     "output_type": "execute_result"
    }
   ],
   "source": [
    "y_2006_df.ArrTime = y_2006_df.ArrTime.apply(add_colon)\n",
    "y_2006_df.ArrTime.sample(5)"
   ]
  },
  {
   "cell_type": "code",
   "execution_count": 51,
   "metadata": {},
   "outputs": [],
   "source": [
    "# Now combine CombineDateTime and ArrTime and make it a datetime object"
   ]
  },
  {
   "cell_type": "code",
   "execution_count": 52,
   "metadata": {},
   "outputs": [],
   "source": [
    "date_list = []\n",
    "for indx,val in enumerate(y_2006_df.ArrTime):\n",
    "    #print(val)\n",
    "    if val == 0:\n",
    "        #print('null')\n",
    "        date_list.append(pd.NaT)  # somehow for datetime NaT is equivalent to NaN\n",
    "    else:\n",
    "        date_list.append( y_2006_df.loc[indx,'Year'] + \"-\" + y_2006_df.loc[indx,'Month']\\\n",
    "                 + \"-\" + y_2006_df.loc[indx,'DayofMonth'] + \" \" + str(val))"
   ]
  },
  {
   "cell_type": "code",
   "execution_count": 53,
   "metadata": {},
   "outputs": [],
   "source": [
    "y_2006_df['ArrTime'] = date_list"
   ]
  },
  {
   "cell_type": "code",
   "execution_count": 54,
   "metadata": {},
   "outputs": [],
   "source": [
    "# convert into DateTime object\n",
    "y_2006_df['ArrTime']=pd.to_datetime(y_2006_df.ArrTime,errors='coerce')"
   ]
  },
  {
   "cell_type": "markdown",
   "metadata": {},
   "source": [
    "#### Test"
   ]
  },
  {
   "cell_type": "code",
   "execution_count": 55,
   "metadata": {},
   "outputs": [
    {
     "data": {
      "text/plain": [
       "22555   2006-12-19 21:11:00\n",
       "13117   2006-06-14 08:23:00\n",
       "33562   2006-05-13 09:21:00\n",
       "6119    2006-09-14 20:05:00\n",
       "56924   2006-12-10 17:09:00\n",
       "Name: ArrTime, dtype: datetime64[ns]"
      ]
     },
     "execution_count": 55,
     "metadata": {},
     "output_type": "execute_result"
    }
   ],
   "source": [
    "y_2006_df.ArrTime.sample(5)"
   ]
  },
  {
   "cell_type": "markdown",
   "metadata": {},
   "source": [
    "## 2.4 Convert CRSDepTime into DateTime object"
   ]
  },
  {
   "cell_type": "markdown",
   "metadata": {},
   "source": [
    "#### Define\n",
    "- We want to convert CRSDepTime into DateTime object."
   ]
  },
  {
   "cell_type": "markdown",
   "metadata": {},
   "source": [
    "#### Code"
   ]
  },
  {
   "cell_type": "code",
   "execution_count": 56,
   "metadata": {},
   "outputs": [],
   "source": [
    "# convert into string\n",
    "y_2006_df.CRSDepTime = y_2006_df.CRSDepTime.astype('str')"
   ]
  },
  {
   "cell_type": "code",
   "execution_count": 57,
   "metadata": {},
   "outputs": [],
   "source": [
    "# inplace = True\n",
    "y_2006_df.CRSDepTime = y_2006_df.CRSDepTime.str.split('.').apply(lambda x: x[0])"
   ]
  },
  {
   "cell_type": "code",
   "execution_count": 58,
   "metadata": {},
   "outputs": [],
   "source": [
    "# add leading zeros\n",
    "y_2006_df.CRSDepTime = y_2006_df.CRSDepTime.apply(add_leading_zeros)"
   ]
  },
  {
   "cell_type": "code",
   "execution_count": 59,
   "metadata": {},
   "outputs": [
    {
     "data": {
      "text/plain": [
       "52597    17:22\n",
       "66063    06:00\n",
       "7743     13:30\n",
       "17239    13:21\n",
       "15229    17:30\n",
       "Name: CRSDepTime, dtype: object"
      ]
     },
     "execution_count": 59,
     "metadata": {},
     "output_type": "execute_result"
    }
   ],
   "source": [
    "y_2006_df.CRSDepTime = y_2006_df.CRSDepTime.apply(add_colon)\n",
    "y_2006_df.CRSDepTime.sample(5)"
   ]
  },
  {
   "cell_type": "code",
   "execution_count": 60,
   "metadata": {},
   "outputs": [],
   "source": [
    "# Now combine CombineDateTime and CRSDepTime and make it a datetime object"
   ]
  },
  {
   "cell_type": "code",
   "execution_count": 61,
   "metadata": {},
   "outputs": [],
   "source": [
    "date_list = []\n",
    "for indx,val in enumerate(y_2006_df.CRSDepTime):\n",
    "    #print(val)\n",
    "    if val == 0:\n",
    "        #print('null')\n",
    "        date_list.append(pd.NaT)  # somehow for datetime NaT is equivalent to NaN\n",
    "    else:\n",
    "        date_list.append( y_2006_df.loc[indx,'Year'] + \"-\" + y_2006_df.loc[indx,'Month']\\\n",
    "                 + \"-\" + y_2006_df.loc[indx,'DayofMonth'] + \" \" + str(val))"
   ]
  },
  {
   "cell_type": "code",
   "execution_count": 62,
   "metadata": {},
   "outputs": [],
   "source": [
    "y_2006_df['CRSDepTime'] = date_list"
   ]
  },
  {
   "cell_type": "code",
   "execution_count": 63,
   "metadata": {},
   "outputs": [],
   "source": [
    "# convert into DateTime object\n",
    "y_2006_df['CRSDepTime']=pd.to_datetime(y_2006_df.CRSDepTime,errors='coerce')"
   ]
  },
  {
   "cell_type": "markdown",
   "metadata": {},
   "source": [
    "#### Test"
   ]
  },
  {
   "cell_type": "code",
   "execution_count": 64,
   "metadata": {},
   "outputs": [
    {
     "data": {
      "text/plain": [
       "17531   2006-03-02 08:45:00\n",
       "58198   2006-04-03 09:03:00\n",
       "14338   2006-02-12 14:40:00\n",
       "65430   2006-03-03 15:10:00\n",
       "24991   2006-07-20 09:16:00\n",
       "Name: CRSDepTime, dtype: datetime64[ns]"
      ]
     },
     "execution_count": 64,
     "metadata": {},
     "output_type": "execute_result"
    }
   ],
   "source": [
    "y_2006_df.CRSDepTime.sample(5)"
   ]
  },
  {
   "cell_type": "markdown",
   "metadata": {},
   "source": [
    "## 2.5 Convert CRSArrTime into DateTime object"
   ]
  },
  {
   "cell_type": "markdown",
   "metadata": {},
   "source": [
    "#### Define\n",
    "- We want to convert CRSArrTime into DateTime object."
   ]
  },
  {
   "cell_type": "markdown",
   "metadata": {},
   "source": [
    "#### Code"
   ]
  },
  {
   "cell_type": "code",
   "execution_count": 65,
   "metadata": {},
   "outputs": [],
   "source": [
    "# convert into string\n",
    "y_2006_df.CRSArrTime = y_2006_df.CRSArrTime.astype('str')"
   ]
  },
  {
   "cell_type": "code",
   "execution_count": 66,
   "metadata": {},
   "outputs": [],
   "source": [
    "# inplace = True\n",
    "y_2006_df.CRSArrTime = y_2006_df.CRSArrTime.str.split('.').apply(lambda x: x[0])"
   ]
  },
  {
   "cell_type": "code",
   "execution_count": 67,
   "metadata": {},
   "outputs": [],
   "source": [
    "# add leading zeros\n",
    "y_2006_df.CRSArrTime = y_2006_df.CRSArrTime.apply(add_leading_zeros)"
   ]
  },
  {
   "cell_type": "code",
   "execution_count": 68,
   "metadata": {},
   "outputs": [
    {
     "data": {
      "text/plain": [
       "44621    22:35\n",
       "59849    15:10\n",
       "55497    20:33\n",
       "4178     14:41\n",
       "45673    07:35\n",
       "Name: CRSArrTime, dtype: object"
      ]
     },
     "execution_count": 68,
     "metadata": {},
     "output_type": "execute_result"
    }
   ],
   "source": [
    "y_2006_df.CRSArrTime = y_2006_df.CRSArrTime.apply(add_colon)\n",
    "y_2006_df.CRSArrTime.sample(5)"
   ]
  },
  {
   "cell_type": "code",
   "execution_count": 69,
   "metadata": {},
   "outputs": [],
   "source": [
    "# Now combine CombineDateTime and CRSArrTime and make it a datetime object"
   ]
  },
  {
   "cell_type": "code",
   "execution_count": 70,
   "metadata": {},
   "outputs": [],
   "source": [
    "date_list = []\n",
    "for indx,val in enumerate(y_2006_df.CRSArrTime):\n",
    "    #print(val)\n",
    "    if val == 0:\n",
    "        #print('null')\n",
    "        date_list.append(pd.NaT)  # somehow for datetime NaT is equivalent to NaN\n",
    "    else:\n",
    "        date_list.append( y_2006_df.loc[indx,'Year'] + \"-\" + y_2006_df.loc[indx,'Month']\\\n",
    "                 + \"-\" + y_2006_df.loc[indx,'DayofMonth'] + \" \" + str(val))"
   ]
  },
  {
   "cell_type": "code",
   "execution_count": 71,
   "metadata": {},
   "outputs": [],
   "source": [
    "y_2006_df['CRSArrTime'] = date_list"
   ]
  },
  {
   "cell_type": "code",
   "execution_count": 72,
   "metadata": {},
   "outputs": [],
   "source": [
    "# convert into DateTime object\n",
    "y_2006_df['CRSArrTime']=pd.to_datetime(y_2006_df.CRSArrTime,errors='coerce')"
   ]
  },
  {
   "cell_type": "markdown",
   "metadata": {},
   "source": [
    "#### Test"
   ]
  },
  {
   "cell_type": "code",
   "execution_count": 73,
   "metadata": {},
   "outputs": [
    {
     "data": {
      "text/plain": [
       "44959   2006-07-15 16:20:00\n",
       "50582   2006-05-07 13:57:00\n",
       "4066    2006-08-25 10:55:00\n",
       "47213   2006-03-31 08:45:00\n",
       "49433   2006-05-10 08:26:00\n",
       "Name: CRSArrTime, dtype: datetime64[ns]"
      ]
     },
     "execution_count": 73,
     "metadata": {},
     "output_type": "execute_result"
    }
   ],
   "source": [
    "y_2006_df.CRSArrTime.sample(5)"
   ]
  },
  {
   "cell_type": "markdown",
   "metadata": {},
   "source": [
    "# 3. Manually Calculating DepDelay and ArrDelay\n",
    "- Now that we have converted necessary columns into DateTime object, it's time to manually calculuate DepDelay and ArrDelay."
   ]
  },
  {
   "cell_type": "code",
   "execution_count": 74,
   "metadata": {},
   "outputs": [],
   "source": [
    "# return in minutes between two dates -- d1 - d2\n",
    "def days_between(d1,d2):\n",
    "    if (pd.isnull(d1)) | (pd.isnull(d2)):\n",
    "        #print('null')\n",
    "        return np.NaN\n",
    "    return ((d1 - d2).total_seconds())/60"
   ]
  },
  {
   "cell_type": "markdown",
   "metadata": {},
   "source": [
    "## 3.1 DepDelay\n",
    "#### Define\n",
    "- Calculate manually DepDelay by subtracting DepTime from CRSDepTime"
   ]
  },
  {
   "cell_type": "code",
   "execution_count": 75,
   "metadata": {},
   "outputs": [
    {
     "data": {
      "text/plain": [
       "(Timestamp('2006-02-28 17:45:00'), Timestamp('2006-02-28 17:45:00'))"
      ]
     },
     "execution_count": 75,
     "metadata": {},
     "output_type": "execute_result"
    }
   ],
   "source": [
    "y_2006_df.DepTime[0],y_2006_df.CRSDepTime[0]"
   ]
  },
  {
   "cell_type": "code",
   "execution_count": 76,
   "metadata": {},
   "outputs": [
    {
     "data": {
      "text/plain": [
       "0.0"
      ]
     },
     "execution_count": 76,
     "metadata": {},
     "output_type": "execute_result"
    }
   ],
   "source": [
    "days_between(y_2006_df.DepTime[0],y_2006_df.CRSDepTime[0])"
   ]
  },
  {
   "cell_type": "markdown",
   "metadata": {},
   "source": [
    "- Inspect the above result. Is the answer correct?\n",
    "- Now do this for all rows !"
   ]
  },
  {
   "cell_type": "markdown",
   "metadata": {},
   "source": [
    "#### Code"
   ]
  },
  {
   "cell_type": "code",
   "execution_count": 77,
   "metadata": {},
   "outputs": [],
   "source": [
    "# Calculate DepDelays for all rows manually\n",
    "diff_list = []\n",
    "for val1,val2 in zip(y_2006_df.DepTime,y_2006_df.CRSDepTime):\n",
    "    diff_list.append(days_between(val1,val2))"
   ]
  },
  {
   "cell_type": "code",
   "execution_count": 78,
   "metadata": {},
   "outputs": [],
   "source": [
    "# Create a new column 'DepDelayM' and store the new calculated Delays\n",
    "y_2006_df['DepDelayM']=diff_list"
   ]
  },
  {
   "cell_type": "markdown",
   "metadata": {},
   "source": [
    "#### Visual Inspection"
   ]
  },
  {
   "cell_type": "code",
   "execution_count": 79,
   "metadata": {},
   "outputs": [
    {
     "data": {
      "text/html": [
       "<div>\n",
       "<style scoped>\n",
       "    .dataframe tbody tr th:only-of-type {\n",
       "        vertical-align: middle;\n",
       "    }\n",
       "\n",
       "    .dataframe tbody tr th {\n",
       "        vertical-align: top;\n",
       "    }\n",
       "\n",
       "    .dataframe thead th {\n",
       "        text-align: right;\n",
       "    }\n",
       "</style>\n",
       "<table border=\"1\" class=\"dataframe\">\n",
       "  <thead>\n",
       "    <tr style=\"text-align: right;\">\n",
       "      <th></th>\n",
       "      <th>DepTime</th>\n",
       "      <th>CRSDepTime</th>\n",
       "      <th>DepDelayM</th>\n",
       "      <th>DepDelay</th>\n",
       "    </tr>\n",
       "  </thead>\n",
       "  <tbody>\n",
       "    <tr>\n",
       "      <th>0</th>\n",
       "      <td>2006-02-28 17:45:00</td>\n",
       "      <td>2006-02-28 17:45:00</td>\n",
       "      <td>0.0</td>\n",
       "      <td>0.0</td>\n",
       "    </tr>\n",
       "    <tr>\n",
       "      <th>1</th>\n",
       "      <td>2006-11-13 19:10:00</td>\n",
       "      <td>2006-11-13 19:08:00</td>\n",
       "      <td>2.0</td>\n",
       "      <td>2.0</td>\n",
       "    </tr>\n",
       "    <tr>\n",
       "      <th>2</th>\n",
       "      <td>2006-01-30 10:33:00</td>\n",
       "      <td>2006-01-30 10:35:00</td>\n",
       "      <td>-2.0</td>\n",
       "      <td>-2.0</td>\n",
       "    </tr>\n",
       "    <tr>\n",
       "      <th>3</th>\n",
       "      <td>2006-12-11 21:00:00</td>\n",
       "      <td>2006-12-11 20:55:00</td>\n",
       "      <td>5.0</td>\n",
       "      <td>5.0</td>\n",
       "    </tr>\n",
       "    <tr>\n",
       "      <th>4</th>\n",
       "      <td>2006-03-26 16:51:00</td>\n",
       "      <td>2006-03-26 17:00:00</td>\n",
       "      <td>-9.0</td>\n",
       "      <td>-9.0</td>\n",
       "    </tr>\n",
       "    <tr>\n",
       "      <th>5</th>\n",
       "      <td>2006-10-03 13:29:00</td>\n",
       "      <td>2006-10-03 13:30:00</td>\n",
       "      <td>-1.0</td>\n",
       "      <td>-1.0</td>\n",
       "    </tr>\n",
       "    <tr>\n",
       "      <th>6</th>\n",
       "      <td>2006-04-30 08:38:00</td>\n",
       "      <td>2006-04-30 08:45:00</td>\n",
       "      <td>-7.0</td>\n",
       "      <td>-7.0</td>\n",
       "    </tr>\n",
       "    <tr>\n",
       "      <th>7</th>\n",
       "      <td>2006-12-13 10:55:00</td>\n",
       "      <td>2006-12-13 10:58:00</td>\n",
       "      <td>-3.0</td>\n",
       "      <td>-3.0</td>\n",
       "    </tr>\n",
       "    <tr>\n",
       "      <th>8</th>\n",
       "      <td>2006-06-30 17:54:00</td>\n",
       "      <td>2006-06-30 17:57:00</td>\n",
       "      <td>-3.0</td>\n",
       "      <td>-3.0</td>\n",
       "    </tr>\n",
       "    <tr>\n",
       "      <th>9</th>\n",
       "      <td>2006-08-28 09:29:00</td>\n",
       "      <td>2006-08-28 09:30:00</td>\n",
       "      <td>-1.0</td>\n",
       "      <td>-1.0</td>\n",
       "    </tr>\n",
       "  </tbody>\n",
       "</table>\n",
       "</div>"
      ],
      "text/plain": [
       "              DepTime          CRSDepTime  DepDelayM  DepDelay\n",
       "0 2006-02-28 17:45:00 2006-02-28 17:45:00        0.0       0.0\n",
       "1 2006-11-13 19:10:00 2006-11-13 19:08:00        2.0       2.0\n",
       "2 2006-01-30 10:33:00 2006-01-30 10:35:00       -2.0      -2.0\n",
       "3 2006-12-11 21:00:00 2006-12-11 20:55:00        5.0       5.0\n",
       "4 2006-03-26 16:51:00 2006-03-26 17:00:00       -9.0      -9.0\n",
       "5 2006-10-03 13:29:00 2006-10-03 13:30:00       -1.0      -1.0\n",
       "6 2006-04-30 08:38:00 2006-04-30 08:45:00       -7.0      -7.0\n",
       "7 2006-12-13 10:55:00 2006-12-13 10:58:00       -3.0      -3.0\n",
       "8 2006-06-30 17:54:00 2006-06-30 17:57:00       -3.0      -3.0\n",
       "9 2006-08-28 09:29:00 2006-08-28 09:30:00       -1.0      -1.0"
      ]
     },
     "execution_count": 79,
     "metadata": {},
     "output_type": "execute_result"
    }
   ],
   "source": [
    "cols = ['DepTime','CRSDepTime','DepDelayM','DepDelay']\n",
    "y_2006_df[cols].head(10)"
   ]
  },
  {
   "cell_type": "markdown",
   "metadata": {},
   "source": [
    "- Mostly identical DepDelay and DepDelayM columns"
   ]
  },
  {
   "cell_type": "markdown",
   "metadata": {},
   "source": [
    "#### Now what is the percentage of identical DepDelayM and DepDelay?"
   ]
  },
  {
   "cell_type": "code",
   "execution_count": 80,
   "metadata": {},
   "outputs": [
    {
     "data": {
      "text/html": [
       "<div>\n",
       "<style scoped>\n",
       "    .dataframe tbody tr th:only-of-type {\n",
       "        vertical-align: middle;\n",
       "    }\n",
       "\n",
       "    .dataframe tbody tr th {\n",
       "        vertical-align: top;\n",
       "    }\n",
       "\n",
       "    .dataframe thead th {\n",
       "        text-align: right;\n",
       "    }\n",
       "</style>\n",
       "<table border=\"1\" class=\"dataframe\">\n",
       "  <thead>\n",
       "    <tr style=\"text-align: right;\">\n",
       "      <th></th>\n",
       "      <th>DepTime</th>\n",
       "      <th>CRSDepTime</th>\n",
       "      <th>DepDelayM</th>\n",
       "      <th>DepDelay</th>\n",
       "    </tr>\n",
       "  </thead>\n",
       "  <tbody>\n",
       "    <tr>\n",
       "      <th>17301</th>\n",
       "      <td>2006-12-08 12:48:00</td>\n",
       "      <td>2006-12-08 12:50:00</td>\n",
       "      <td>-2.0</td>\n",
       "      <td>-2.0</td>\n",
       "    </tr>\n",
       "    <tr>\n",
       "      <th>25002</th>\n",
       "      <td>2006-07-15 06:29:00</td>\n",
       "      <td>2006-07-15 06:30:00</td>\n",
       "      <td>-1.0</td>\n",
       "      <td>-1.0</td>\n",
       "    </tr>\n",
       "    <tr>\n",
       "      <th>15015</th>\n",
       "      <td>2006-06-03 08:16:00</td>\n",
       "      <td>2006-06-03 08:20:00</td>\n",
       "      <td>-4.0</td>\n",
       "      <td>-4.0</td>\n",
       "    </tr>\n",
       "    <tr>\n",
       "      <th>8599</th>\n",
       "      <td>2006-10-23 12:37:00</td>\n",
       "      <td>2006-10-23 11:41:00</td>\n",
       "      <td>56.0</td>\n",
       "      <td>56.0</td>\n",
       "    </tr>\n",
       "    <tr>\n",
       "      <th>59047</th>\n",
       "      <td>2006-12-16 08:47:00</td>\n",
       "      <td>2006-12-16 08:45:00</td>\n",
       "      <td>2.0</td>\n",
       "      <td>2.0</td>\n",
       "    </tr>\n",
       "  </tbody>\n",
       "</table>\n",
       "</div>"
      ],
      "text/plain": [
       "                  DepTime          CRSDepTime  DepDelayM  DepDelay\n",
       "17301 2006-12-08 12:48:00 2006-12-08 12:50:00       -2.0      -2.0\n",
       "25002 2006-07-15 06:29:00 2006-07-15 06:30:00       -1.0      -1.0\n",
       "15015 2006-06-03 08:16:00 2006-06-03 08:20:00       -4.0      -4.0\n",
       "8599  2006-10-23 12:37:00 2006-10-23 11:41:00       56.0      56.0\n",
       "59047 2006-12-16 08:47:00 2006-12-16 08:45:00        2.0       2.0"
      ]
     },
     "execution_count": 80,
     "metadata": {},
     "output_type": "execute_result"
    }
   ],
   "source": [
    "y_2006_df[(y_2006_df.DepDelay == y_2006_df.DepDelayM)\\\n",
    "             &(~y_2006_df.DepDelay.isnull())\\\n",
    "             &(~y_2006_df.DepDelayM.isnull())][cols].sample(5)"
   ]
  },
  {
   "cell_type": "code",
   "execution_count": 81,
   "metadata": {},
   "outputs": [
    {
     "data": {
      "text/plain": [
       "(69939, 71419)"
      ]
     },
     "execution_count": 81,
     "metadata": {},
     "output_type": "execute_result"
    }
   ],
   "source": [
    "y_2006_df[(y_2006_df.DepDelay == y_2006_df.DepDelayM)\\\n",
    "             &(~y_2006_df.DepDelay.isnull())\\\n",
    "             &(~y_2006_df.DepDelayM.isnull())].shape[0], y_2006_df.shape[0]"
   ]
  },
  {
   "cell_type": "markdown",
   "metadata": {},
   "source": [
    "- Around 95% is identical. \n",
    "- Therefore we still need to investigate the differences in columns between DepDelay and DepDelayM"
   ]
  },
  {
   "cell_type": "markdown",
   "metadata": {},
   "source": [
    "#### What is the percentage of non-identical DepDelayM and DepDelay?"
   ]
  },
  {
   "cell_type": "code",
   "execution_count": 82,
   "metadata": {},
   "outputs": [
    {
     "data": {
      "text/plain": [
       "(171, 71419)"
      ]
     },
     "execution_count": 82,
     "metadata": {},
     "output_type": "execute_result"
    }
   ],
   "source": [
    "y_2006_df[(y_2006_df.DepDelay != y_2006_df.DepDelayM)\\\n",
    "             &(~y_2006_df.DepDelay.isnull())\\\n",
    "             &(~y_2006_df.DepDelayM.isnull())].shape[0], y_2006_df.shape[0]"
   ]
  },
  {
   "cell_type": "markdown",
   "metadata": {},
   "source": [
    "- 0.3% where DepDelayM and DepDelay is not identical!"
   ]
  },
  {
   "cell_type": "code",
   "execution_count": 83,
   "metadata": {},
   "outputs": [
    {
     "data": {
      "text/html": [
       "<div>\n",
       "<style scoped>\n",
       "    .dataframe tbody tr th:only-of-type {\n",
       "        vertical-align: middle;\n",
       "    }\n",
       "\n",
       "    .dataframe tbody tr th {\n",
       "        vertical-align: top;\n",
       "    }\n",
       "\n",
       "    .dataframe thead th {\n",
       "        text-align: right;\n",
       "    }\n",
       "</style>\n",
       "<table border=\"1\" class=\"dataframe\">\n",
       "  <thead>\n",
       "    <tr style=\"text-align: right;\">\n",
       "      <th></th>\n",
       "      <th>DepTime</th>\n",
       "      <th>CRSDepTime</th>\n",
       "      <th>DepDelayM</th>\n",
       "      <th>DepDelay</th>\n",
       "    </tr>\n",
       "  </thead>\n",
       "  <tbody>\n",
       "    <tr>\n",
       "      <th>65697</th>\n",
       "      <td>2006-04-19 00:01:00</td>\n",
       "      <td>2006-04-19 21:15:00</td>\n",
       "      <td>-1274.0</td>\n",
       "      <td>166.0</td>\n",
       "    </tr>\n",
       "    <tr>\n",
       "      <th>40574</th>\n",
       "      <td>2006-08-30 00:03:00</td>\n",
       "      <td>2006-08-30 23:57:00</td>\n",
       "      <td>-1434.0</td>\n",
       "      <td>6.0</td>\n",
       "    </tr>\n",
       "    <tr>\n",
       "      <th>56118</th>\n",
       "      <td>2006-05-04 00:31:00</td>\n",
       "      <td>2006-05-04 23:50:00</td>\n",
       "      <td>-1399.0</td>\n",
       "      <td>41.0</td>\n",
       "    </tr>\n",
       "    <tr>\n",
       "      <th>28757</th>\n",
       "      <td>2006-09-07 00:10:00</td>\n",
       "      <td>2006-09-07 23:55:00</td>\n",
       "      <td>-1425.0</td>\n",
       "      <td>15.0</td>\n",
       "    </tr>\n",
       "    <tr>\n",
       "      <th>51420</th>\n",
       "      <td>2006-12-01 00:14:00</td>\n",
       "      <td>2006-12-01 22:20:00</td>\n",
       "      <td>-1326.0</td>\n",
       "      <td>114.0</td>\n",
       "    </tr>\n",
       "    <tr>\n",
       "      <th>50125</th>\n",
       "      <td>2006-12-16 01:29:00</td>\n",
       "      <td>2006-12-16 22:55:00</td>\n",
       "      <td>-1286.0</td>\n",
       "      <td>154.0</td>\n",
       "    </tr>\n",
       "    <tr>\n",
       "      <th>51435</th>\n",
       "      <td>2006-03-09 00:06:00</td>\n",
       "      <td>2006-03-09 22:55:00</td>\n",
       "      <td>-1369.0</td>\n",
       "      <td>71.0</td>\n",
       "    </tr>\n",
       "    <tr>\n",
       "      <th>11821</th>\n",
       "      <td>2006-10-09 00:10:00</td>\n",
       "      <td>2006-10-09 23:59:00</td>\n",
       "      <td>-1429.0</td>\n",
       "      <td>11.0</td>\n",
       "    </tr>\n",
       "    <tr>\n",
       "      <th>9475</th>\n",
       "      <td>2006-04-02 07:10:00</td>\n",
       "      <td>2006-04-02 12:02:00</td>\n",
       "      <td>-292.0</td>\n",
       "      <td>1148.0</td>\n",
       "    </tr>\n",
       "    <tr>\n",
       "      <th>6715</th>\n",
       "      <td>2006-11-27 02:39:00</td>\n",
       "      <td>2006-11-27 23:59:00</td>\n",
       "      <td>-1280.0</td>\n",
       "      <td>160.0</td>\n",
       "    </tr>\n",
       "  </tbody>\n",
       "</table>\n",
       "</div>"
      ],
      "text/plain": [
       "                  DepTime          CRSDepTime  DepDelayM  DepDelay\n",
       "65697 2006-04-19 00:01:00 2006-04-19 21:15:00    -1274.0     166.0\n",
       "40574 2006-08-30 00:03:00 2006-08-30 23:57:00    -1434.0       6.0\n",
       "56118 2006-05-04 00:31:00 2006-05-04 23:50:00    -1399.0      41.0\n",
       "28757 2006-09-07 00:10:00 2006-09-07 23:55:00    -1425.0      15.0\n",
       "51420 2006-12-01 00:14:00 2006-12-01 22:20:00    -1326.0     114.0\n",
       "50125 2006-12-16 01:29:00 2006-12-16 22:55:00    -1286.0     154.0\n",
       "51435 2006-03-09 00:06:00 2006-03-09 22:55:00    -1369.0      71.0\n",
       "11821 2006-10-09 00:10:00 2006-10-09 23:59:00    -1429.0      11.0\n",
       "9475  2006-04-02 07:10:00 2006-04-02 12:02:00     -292.0    1148.0\n",
       "6715  2006-11-27 02:39:00 2006-11-27 23:59:00    -1280.0     160.0"
      ]
     },
     "execution_count": 83,
     "metadata": {},
     "output_type": "execute_result"
    }
   ],
   "source": [
    "y_2006_df[(y_2006_df.DepDelay != y_2006_df.DepDelayM)\\\n",
    "             &(~y_2006_df.DepDelay.isnull())\\\n",
    "             &(~y_2006_df.DepDelayM.isnull())][cols].sample(10)"
   ]
  },
  {
   "cell_type": "markdown",
   "metadata": {},
   "source": [
    "> Looking at the table above, we can see that CRSDepTime is scheduled at night but the DepTime happened a day before CRSDepTime. Therefore, to fix this error, we need to forward DepTime by one day."
   ]
  },
  {
   "cell_type": "markdown",
   "metadata": {},
   "source": [
    "#### Define\n",
    "- Fixing when DepDelayM and DepDelay is not identical (This consists of only approximately 0.3% of our total data!)\n",
    "- This is done by forwarding DepTime by one day. Then we need to re-calculate DepDelayM."
   ]
  },
  {
   "cell_type": "markdown",
   "metadata": {},
   "source": [
    "#### Code"
   ]
  },
  {
   "cell_type": "code",
   "execution_count": 84,
   "metadata": {},
   "outputs": [],
   "source": [
    "indx_forward_one = y_2006_df[(y_2006_df.DepDelay != y_2006_df.DepDelayM)\\\n",
    "             &(~y_2006_df.DepDelay.isnull())\\\n",
    "             &(~y_2006_df.DepDelayM.isnull())][cols].index"
   ]
  },
  {
   "cell_type": "code",
   "execution_count": 85,
   "metadata": {},
   "outputs": [],
   "source": [
    "# Forwward DepTime within index by oneday\n",
    "for indx in indx_forward_one:\n",
    "    y_2006_df.loc[indx,'DepTime'] += datetime.timedelta(days=1)"
   ]
  },
  {
   "cell_type": "code",
   "execution_count": 86,
   "metadata": {},
   "outputs": [],
   "source": [
    "# Recalculate Delay in mins\n",
    "for indx in indx_forward_one:\n",
    "    val1=y_2006_df.loc[indx,'DepTime']\n",
    "    val2=y_2006_df.loc[indx,'CRSDepTime']\n",
    "    diff_min = days_between(val1,val2)\n",
    "    y_2006_df.loc[indx,'DepDelayM'] = diff_min"
   ]
  },
  {
   "cell_type": "markdown",
   "metadata": {},
   "source": [
    "#### Test"
   ]
  },
  {
   "cell_type": "code",
   "execution_count": 87,
   "metadata": {},
   "outputs": [
    {
     "data": {
      "text/plain": [
       "(0, 71419)"
      ]
     },
     "execution_count": 87,
     "metadata": {},
     "output_type": "execute_result"
    }
   ],
   "source": [
    "y_2006_df[(y_2006_df.DepDelay != y_2006_df.DepDelayM)\\\n",
    "             &(~y_2006_df.DepDelay.isnull())\\\n",
    "             &(~y_2006_df.DepDelayM.isnull())].shape[0], y_2006_df.shape[0]"
   ]
  },
  {
   "cell_type": "code",
   "execution_count": 88,
   "metadata": {},
   "outputs": [
    {
     "data": {
      "text/html": [
       "<div>\n",
       "<style scoped>\n",
       "    .dataframe tbody tr th:only-of-type {\n",
       "        vertical-align: middle;\n",
       "    }\n",
       "\n",
       "    .dataframe tbody tr th {\n",
       "        vertical-align: top;\n",
       "    }\n",
       "\n",
       "    .dataframe thead th {\n",
       "        text-align: right;\n",
       "    }\n",
       "</style>\n",
       "<table border=\"1\" class=\"dataframe\">\n",
       "  <thead>\n",
       "    <tr style=\"text-align: right;\">\n",
       "      <th></th>\n",
       "      <th>DepTime</th>\n",
       "      <th>CRSDepTime</th>\n",
       "      <th>DepDelayM</th>\n",
       "      <th>DepDelay</th>\n",
       "    </tr>\n",
       "  </thead>\n",
       "  <tbody>\n",
       "  </tbody>\n",
       "</table>\n",
       "</div>"
      ],
      "text/plain": [
       "Empty DataFrame\n",
       "Columns: [DepTime, CRSDepTime, DepDelayM, DepDelay]\n",
       "Index: []"
      ]
     },
     "execution_count": 88,
     "metadata": {},
     "output_type": "execute_result"
    }
   ],
   "source": [
    "y_2006_df[(y_2006_df.DepDelay != y_2006_df.DepDelayM)\\\n",
    "             &(~y_2006_df.DepDelay.isnull())\\\n",
    "             &(~y_2006_df.DepDelayM.isnull())][cols]"
   ]
  },
  {
   "cell_type": "markdown",
   "metadata": {},
   "source": [
    "> So, I managed to reduce to a few rows. (depends on random sample) I won't recalculate DepDelayM anymore since this consists of only a miniscule of our data. The best action to take now is to drop these rows."
   ]
  },
  {
   "cell_type": "code",
   "execution_count": 89,
   "metadata": {},
   "outputs": [],
   "source": [
    "indx_to_del = y_2006_df[(y_2006_df.DepDelay != y_2006_df.DepDelayM)\\\n",
    "             &(~y_2006_df.DepDelay.isnull())\\\n",
    "             &(~y_2006_df.DepDelayM.isnull())][cols].index"
   ]
  },
  {
   "cell_type": "code",
   "execution_count": 90,
   "metadata": {},
   "outputs": [],
   "source": [
    "y_2006_df.drop(index=indx_to_del,axis=0,inplace=True)"
   ]
  },
  {
   "cell_type": "code",
   "execution_count": 91,
   "metadata": {},
   "outputs": [],
   "source": [
    "y_2006_df = y_2006_df.reset_index().drop('index',axis=1)"
   ]
  },
  {
   "cell_type": "code",
   "execution_count": 92,
   "metadata": {},
   "outputs": [
    {
     "data": {
      "text/plain": [
       "0"
      ]
     },
     "execution_count": 92,
     "metadata": {},
     "output_type": "execute_result"
    }
   ],
   "source": [
    "y_2006_df[(y_2006_df.DepDelay != y_2006_df.DepDelayM)\\\n",
    "             &(~y_2006_df.DepDelay.isnull())\\\n",
    "             &(~y_2006_df.DepDelayM.isnull())][cols].shape[0]"
   ]
  },
  {
   "cell_type": "markdown",
   "metadata": {},
   "source": [
    "> So columns DepDelay and DepDelayM are all identical (when DepDelay and DepDelayM are not null)"
   ]
  },
  {
   "cell_type": "markdown",
   "metadata": {},
   "source": [
    "## 3.2 ArrDelay\n",
    "#### Define\n",
    "- Calculate manually ArrDelay by subtracting ArrTime from CRSArrTime"
   ]
  },
  {
   "cell_type": "code",
   "execution_count": 93,
   "metadata": {},
   "outputs": [
    {
     "data": {
      "text/plain": [
       "(Timestamp('2006-02-28 00:02:00'), Timestamp('2006-02-28 00:15:00'))"
      ]
     },
     "execution_count": 93,
     "metadata": {},
     "output_type": "execute_result"
    }
   ],
   "source": [
    "y_2006_df.ArrTime[0],y_2006_df.CRSArrTime[0]"
   ]
  },
  {
   "cell_type": "code",
   "execution_count": 94,
   "metadata": {},
   "outputs": [
    {
     "data": {
      "text/plain": [
       "-13.0"
      ]
     },
     "execution_count": 94,
     "metadata": {},
     "output_type": "execute_result"
    }
   ],
   "source": [
    "days_between(y_2006_df.ArrTime[0],y_2006_df.CRSArrTime[0])"
   ]
  },
  {
   "cell_type": "markdown",
   "metadata": {},
   "source": [
    "- Inspect the above result. Is the answer correct?\n",
    "- Now do this for all rows !"
   ]
  },
  {
   "cell_type": "markdown",
   "metadata": {},
   "source": [
    "#### Code"
   ]
  },
  {
   "cell_type": "code",
   "execution_count": 95,
   "metadata": {},
   "outputs": [],
   "source": [
    "# Calculate ArrDelays for all rows manually\n",
    "diff_list = []\n",
    "for val1,val2 in zip(y_2006_df.ArrTime,y_2006_df.CRSArrTime):\n",
    "    diff_list.append(days_between(val1,val2))"
   ]
  },
  {
   "cell_type": "code",
   "execution_count": 96,
   "metadata": {},
   "outputs": [],
   "source": [
    "# Create a new column 'ArrDelayM' and store the new calculated Delays\n",
    "y_2006_df['ArrDelayM']=diff_list"
   ]
  },
  {
   "cell_type": "markdown",
   "metadata": {},
   "source": [
    "#### Visual Inspection"
   ]
  },
  {
   "cell_type": "code",
   "execution_count": 97,
   "metadata": {},
   "outputs": [
    {
     "data": {
      "text/html": [
       "<div>\n",
       "<style scoped>\n",
       "    .dataframe tbody tr th:only-of-type {\n",
       "        vertical-align: middle;\n",
       "    }\n",
       "\n",
       "    .dataframe tbody tr th {\n",
       "        vertical-align: top;\n",
       "    }\n",
       "\n",
       "    .dataframe thead th {\n",
       "        text-align: right;\n",
       "    }\n",
       "</style>\n",
       "<table border=\"1\" class=\"dataframe\">\n",
       "  <thead>\n",
       "    <tr style=\"text-align: right;\">\n",
       "      <th></th>\n",
       "      <th>ArrTime</th>\n",
       "      <th>CRSArrTime</th>\n",
       "      <th>ArrDelayM</th>\n",
       "      <th>ArrDelay</th>\n",
       "    </tr>\n",
       "  </thead>\n",
       "  <tbody>\n",
       "    <tr>\n",
       "      <th>0</th>\n",
       "      <td>2006-02-28 00:02:00</td>\n",
       "      <td>2006-02-28 00:15:00</td>\n",
       "      <td>-13.0</td>\n",
       "      <td>-13.0</td>\n",
       "    </tr>\n",
       "    <tr>\n",
       "      <th>1</th>\n",
       "      <td>2006-11-13 19:57:00</td>\n",
       "      <td>2006-11-13 20:11:00</td>\n",
       "      <td>-14.0</td>\n",
       "      <td>-14.0</td>\n",
       "    </tr>\n",
       "    <tr>\n",
       "      <th>2</th>\n",
       "      <td>2006-01-30 11:31:00</td>\n",
       "      <td>2006-01-30 11:43:00</td>\n",
       "      <td>-12.0</td>\n",
       "      <td>-12.0</td>\n",
       "    </tr>\n",
       "    <tr>\n",
       "      <th>3</th>\n",
       "      <td>2006-12-11 22:21:00</td>\n",
       "      <td>2006-12-11 22:25:00</td>\n",
       "      <td>-4.0</td>\n",
       "      <td>-4.0</td>\n",
       "    </tr>\n",
       "    <tr>\n",
       "      <th>4</th>\n",
       "      <td>2006-03-26 21:07:00</td>\n",
       "      <td>2006-03-26 21:14:00</td>\n",
       "      <td>-7.0</td>\n",
       "      <td>-7.0</td>\n",
       "    </tr>\n",
       "    <tr>\n",
       "      <th>5</th>\n",
       "      <td>2006-10-03 15:25:00</td>\n",
       "      <td>2006-10-03 15:30:00</td>\n",
       "      <td>-5.0</td>\n",
       "      <td>-5.0</td>\n",
       "    </tr>\n",
       "    <tr>\n",
       "      <th>6</th>\n",
       "      <td>2006-04-30 09:30:00</td>\n",
       "      <td>2006-04-30 09:49:00</td>\n",
       "      <td>-19.0</td>\n",
       "      <td>-19.0</td>\n",
       "    </tr>\n",
       "    <tr>\n",
       "      <th>7</th>\n",
       "      <td>2006-12-13 12:00:00</td>\n",
       "      <td>2006-12-13 12:05:00</td>\n",
       "      <td>-5.0</td>\n",
       "      <td>-5.0</td>\n",
       "    </tr>\n",
       "    <tr>\n",
       "      <th>8</th>\n",
       "      <td>2006-06-30 18:56:00</td>\n",
       "      <td>2006-06-30 19:00:00</td>\n",
       "      <td>-4.0</td>\n",
       "      <td>-4.0</td>\n",
       "    </tr>\n",
       "    <tr>\n",
       "      <th>9</th>\n",
       "      <td>2006-08-28 11:43:00</td>\n",
       "      <td>2006-08-28 11:40:00</td>\n",
       "      <td>3.0</td>\n",
       "      <td>3.0</td>\n",
       "    </tr>\n",
       "  </tbody>\n",
       "</table>\n",
       "</div>"
      ],
      "text/plain": [
       "              ArrTime          CRSArrTime  ArrDelayM  ArrDelay\n",
       "0 2006-02-28 00:02:00 2006-02-28 00:15:00      -13.0     -13.0\n",
       "1 2006-11-13 19:57:00 2006-11-13 20:11:00      -14.0     -14.0\n",
       "2 2006-01-30 11:31:00 2006-01-30 11:43:00      -12.0     -12.0\n",
       "3 2006-12-11 22:21:00 2006-12-11 22:25:00       -4.0      -4.0\n",
       "4 2006-03-26 21:07:00 2006-03-26 21:14:00       -7.0      -7.0\n",
       "5 2006-10-03 15:25:00 2006-10-03 15:30:00       -5.0      -5.0\n",
       "6 2006-04-30 09:30:00 2006-04-30 09:49:00      -19.0     -19.0\n",
       "7 2006-12-13 12:00:00 2006-12-13 12:05:00       -5.0      -5.0\n",
       "8 2006-06-30 18:56:00 2006-06-30 19:00:00       -4.0      -4.0\n",
       "9 2006-08-28 11:43:00 2006-08-28 11:40:00        3.0       3.0"
      ]
     },
     "execution_count": 97,
     "metadata": {},
     "output_type": "execute_result"
    }
   ],
   "source": [
    "cols = ['ArrTime','CRSArrTime','ArrDelayM','ArrDelay']\n",
    "y_2006_df[cols].head(10)"
   ]
  },
  {
   "cell_type": "markdown",
   "metadata": {},
   "source": [
    "- Mostly identical DepDelay and DepDelayM columns"
   ]
  },
  {
   "cell_type": "markdown",
   "metadata": {},
   "source": [
    "#### Now what is the percentage of identical ArrDelayM and ArrDelay?"
   ]
  },
  {
   "cell_type": "code",
   "execution_count": 98,
   "metadata": {},
   "outputs": [
    {
     "data": {
      "text/html": [
       "<div>\n",
       "<style scoped>\n",
       "    .dataframe tbody tr th:only-of-type {\n",
       "        vertical-align: middle;\n",
       "    }\n",
       "\n",
       "    .dataframe tbody tr th {\n",
       "        vertical-align: top;\n",
       "    }\n",
       "\n",
       "    .dataframe thead th {\n",
       "        text-align: right;\n",
       "    }\n",
       "</style>\n",
       "<table border=\"1\" class=\"dataframe\">\n",
       "  <thead>\n",
       "    <tr style=\"text-align: right;\">\n",
       "      <th></th>\n",
       "      <th>ArrTime</th>\n",
       "      <th>CRSArrTime</th>\n",
       "      <th>ArrDelayM</th>\n",
       "      <th>ArrDelay</th>\n",
       "    </tr>\n",
       "  </thead>\n",
       "  <tbody>\n",
       "    <tr>\n",
       "      <th>2975</th>\n",
       "      <td>2006-01-12 11:39:00</td>\n",
       "      <td>2006-01-12 11:25:00</td>\n",
       "      <td>14.0</td>\n",
       "      <td>14.0</td>\n",
       "    </tr>\n",
       "    <tr>\n",
       "      <th>46118</th>\n",
       "      <td>2006-10-21 10:04:00</td>\n",
       "      <td>2006-10-21 10:00:00</td>\n",
       "      <td>4.0</td>\n",
       "      <td>4.0</td>\n",
       "    </tr>\n",
       "    <tr>\n",
       "      <th>39766</th>\n",
       "      <td>2006-05-17 20:19:00</td>\n",
       "      <td>2006-05-17 19:43:00</td>\n",
       "      <td>36.0</td>\n",
       "      <td>36.0</td>\n",
       "    </tr>\n",
       "    <tr>\n",
       "      <th>40891</th>\n",
       "      <td>2006-03-20 11:54:00</td>\n",
       "      <td>2006-03-20 11:45:00</td>\n",
       "      <td>9.0</td>\n",
       "      <td>9.0</td>\n",
       "    </tr>\n",
       "    <tr>\n",
       "      <th>67055</th>\n",
       "      <td>2006-03-05 21:30:00</td>\n",
       "      <td>2006-03-05 21:40:00</td>\n",
       "      <td>-10.0</td>\n",
       "      <td>-10.0</td>\n",
       "    </tr>\n",
       "  </tbody>\n",
       "</table>\n",
       "</div>"
      ],
      "text/plain": [
       "                  ArrTime          CRSArrTime  ArrDelayM  ArrDelay\n",
       "2975  2006-01-12 11:39:00 2006-01-12 11:25:00       14.0      14.0\n",
       "46118 2006-10-21 10:04:00 2006-10-21 10:00:00        4.0       4.0\n",
       "39766 2006-05-17 20:19:00 2006-05-17 19:43:00       36.0      36.0\n",
       "40891 2006-03-20 11:54:00 2006-03-20 11:45:00        9.0       9.0\n",
       "67055 2006-03-05 21:30:00 2006-03-05 21:40:00      -10.0     -10.0"
      ]
     },
     "execution_count": 98,
     "metadata": {},
     "output_type": "execute_result"
    }
   ],
   "source": [
    "y_2006_df[(y_2006_df.ArrDelay == y_2006_df.ArrDelayM)\\\n",
    "             &(~y_2006_df.ArrDelay.isnull())\\\n",
    "             &(~y_2006_df.ArrDelayM.isnull())][cols].sample(5)"
   ]
  },
  {
   "cell_type": "code",
   "execution_count": 99,
   "metadata": {},
   "outputs": [
    {
     "data": {
      "text/plain": [
       "(69124, 71419)"
      ]
     },
     "execution_count": 99,
     "metadata": {},
     "output_type": "execute_result"
    }
   ],
   "source": [
    "y_2006_df[(y_2006_df.ArrDelay == y_2006_df.ArrDelayM)\\\n",
    "             &(~y_2006_df.ArrDelay.isnull())\\\n",
    "             &(~y_2006_df.ArrDelayM.isnull())].shape[0], y_2006_df.shape[0]"
   ]
  },
  {
   "cell_type": "markdown",
   "metadata": {},
   "source": [
    "- Around 95% is identical.(depends on random samples)\n",
    "- Therefore we still need to investigate the differences in columns between ArrDelay and ArrDelayM"
   ]
  },
  {
   "cell_type": "markdown",
   "metadata": {},
   "source": [
    "#### What is the percentage of non-identical ArrDelayM and ArrDelay?"
   ]
  },
  {
   "cell_type": "code",
   "execution_count": 100,
   "metadata": {},
   "outputs": [
    {
     "data": {
      "text/plain": [
       "(787, 71419)"
      ]
     },
     "execution_count": 100,
     "metadata": {},
     "output_type": "execute_result"
    }
   ],
   "source": [
    "y_2006_df[(y_2006_df.ArrDelay != y_2006_df.ArrDelayM)\\\n",
    "             &(~y_2006_df.ArrDelay.isnull())\\\n",
    "             &(~y_2006_df.ArrDelayM.isnull())].shape[0], y_2006_df.shape[0]"
   ]
  },
  {
   "cell_type": "markdown",
   "metadata": {},
   "source": [
    "- Around 1% (depends on random samples) where ArrDelayM and ArrDelay is not identical!"
   ]
  },
  {
   "cell_type": "code",
   "execution_count": 101,
   "metadata": {},
   "outputs": [
    {
     "data": {
      "text/html": [
       "<div>\n",
       "<style scoped>\n",
       "    .dataframe tbody tr th:only-of-type {\n",
       "        vertical-align: middle;\n",
       "    }\n",
       "\n",
       "    .dataframe tbody tr th {\n",
       "        vertical-align: top;\n",
       "    }\n",
       "\n",
       "    .dataframe thead th {\n",
       "        text-align: right;\n",
       "    }\n",
       "</style>\n",
       "<table border=\"1\" class=\"dataframe\">\n",
       "  <thead>\n",
       "    <tr style=\"text-align: right;\">\n",
       "      <th></th>\n",
       "      <th>ArrTime</th>\n",
       "      <th>CRSArrTime</th>\n",
       "      <th>ArrDelayM</th>\n",
       "      <th>ArrDelay</th>\n",
       "    </tr>\n",
       "  </thead>\n",
       "  <tbody>\n",
       "    <tr>\n",
       "      <th>59458</th>\n",
       "      <td>2006-03-17 01:57:00</td>\n",
       "      <td>2006-03-17 23:56:00</td>\n",
       "      <td>-1319.0</td>\n",
       "      <td>121.0</td>\n",
       "    </tr>\n",
       "    <tr>\n",
       "      <th>2051</th>\n",
       "      <td>2006-05-07 00:46:00</td>\n",
       "      <td>2006-05-07 23:20:00</td>\n",
       "      <td>-1354.0</td>\n",
       "      <td>86.0</td>\n",
       "    </tr>\n",
       "    <tr>\n",
       "      <th>65665</th>\n",
       "      <td>2006-05-15 00:13:00</td>\n",
       "      <td>2006-05-15 22:14:00</td>\n",
       "      <td>-1321.0</td>\n",
       "      <td>119.0</td>\n",
       "    </tr>\n",
       "    <tr>\n",
       "      <th>48233</th>\n",
       "      <td>2006-12-01 00:21:00</td>\n",
       "      <td>2006-12-01 21:25:00</td>\n",
       "      <td>-1264.0</td>\n",
       "      <td>176.0</td>\n",
       "    </tr>\n",
       "    <tr>\n",
       "      <th>6469</th>\n",
       "      <td>2006-08-29 00:21:00</td>\n",
       "      <td>2006-08-29 23:12:00</td>\n",
       "      <td>-1371.0</td>\n",
       "      <td>69.0</td>\n",
       "    </tr>\n",
       "    <tr>\n",
       "      <th>70635</th>\n",
       "      <td>2006-08-30 00:22:00</td>\n",
       "      <td>2006-08-30 23:45:00</td>\n",
       "      <td>-1403.0</td>\n",
       "      <td>37.0</td>\n",
       "    </tr>\n",
       "    <tr>\n",
       "      <th>63581</th>\n",
       "      <td>2006-07-20 00:17:00</td>\n",
       "      <td>2006-07-20 19:26:00</td>\n",
       "      <td>-1149.0</td>\n",
       "      <td>291.0</td>\n",
       "    </tr>\n",
       "    <tr>\n",
       "      <th>18887</th>\n",
       "      <td>2006-06-23 00:39:00</td>\n",
       "      <td>2006-06-23 23:46:00</td>\n",
       "      <td>-1387.0</td>\n",
       "      <td>53.0</td>\n",
       "    </tr>\n",
       "    <tr>\n",
       "      <th>47663</th>\n",
       "      <td>2006-07-20 00:12:00</td>\n",
       "      <td>2006-07-20 23:30:00</td>\n",
       "      <td>-1398.0</td>\n",
       "      <td>42.0</td>\n",
       "    </tr>\n",
       "    <tr>\n",
       "      <th>48438</th>\n",
       "      <td>2006-07-30 00:54:00</td>\n",
       "      <td>2006-07-30 21:42:00</td>\n",
       "      <td>-1248.0</td>\n",
       "      <td>192.0</td>\n",
       "    </tr>\n",
       "  </tbody>\n",
       "</table>\n",
       "</div>"
      ],
      "text/plain": [
       "                  ArrTime          CRSArrTime  ArrDelayM  ArrDelay\n",
       "59458 2006-03-17 01:57:00 2006-03-17 23:56:00    -1319.0     121.0\n",
       "2051  2006-05-07 00:46:00 2006-05-07 23:20:00    -1354.0      86.0\n",
       "65665 2006-05-15 00:13:00 2006-05-15 22:14:00    -1321.0     119.0\n",
       "48233 2006-12-01 00:21:00 2006-12-01 21:25:00    -1264.0     176.0\n",
       "6469  2006-08-29 00:21:00 2006-08-29 23:12:00    -1371.0      69.0\n",
       "70635 2006-08-30 00:22:00 2006-08-30 23:45:00    -1403.0      37.0\n",
       "63581 2006-07-20 00:17:00 2006-07-20 19:26:00    -1149.0     291.0\n",
       "18887 2006-06-23 00:39:00 2006-06-23 23:46:00    -1387.0      53.0\n",
       "47663 2006-07-20 00:12:00 2006-07-20 23:30:00    -1398.0      42.0\n",
       "48438 2006-07-30 00:54:00 2006-07-30 21:42:00    -1248.0     192.0"
      ]
     },
     "execution_count": 101,
     "metadata": {},
     "output_type": "execute_result"
    }
   ],
   "source": [
    "y_2006_df[(y_2006_df.ArrDelay != y_2006_df.ArrDelayM)\\\n",
    "             &(~y_2006_df.ArrDelay.isnull())\\\n",
    "             &(~y_2006_df.ArrDelayM.isnull())][cols].sample(10)"
   ]
  },
  {
   "cell_type": "markdown",
   "metadata": {},
   "source": [
    "> Looking at the table above, erros occur because ArrTime should happen the next early morning. Therefore just forward ArrTime by one day to fix this error."
   ]
  },
  {
   "cell_type": "markdown",
   "metadata": {},
   "source": [
    "#### Define\n",
    "- We need to forward ArrTime by one day. Then we need to re-calculate ArrDelayM."
   ]
  },
  {
   "cell_type": "markdown",
   "metadata": {},
   "source": [
    "#### Code"
   ]
  },
  {
   "cell_type": "code",
   "execution_count": 102,
   "metadata": {},
   "outputs": [],
   "source": [
    "indx_forward_one = y_2006_df[(y_2006_df.ArrDelay != y_2006_df.ArrDelayM)\\\n",
    "             &(~y_2006_df.ArrDelay.isnull())\\\n",
    "             &(~y_2006_df.ArrDelayM.isnull())][cols].index"
   ]
  },
  {
   "cell_type": "code",
   "execution_count": 103,
   "metadata": {},
   "outputs": [],
   "source": [
    "# Forwward ArrTime within index by oneday\n",
    "for indx in indx_forward_one:\n",
    "    y_2006_df.loc[indx,'ArrTime'] += datetime.timedelta(days=1)"
   ]
  },
  {
   "cell_type": "code",
   "execution_count": 104,
   "metadata": {},
   "outputs": [],
   "source": [
    "# Recalculate Delay in mins\n",
    "for indx in indx_forward_one:\n",
    "    val1=y_2006_df.loc[indx,'ArrTime']\n",
    "    val2=y_2006_df.loc[indx,'CRSArrTime']\n",
    "    diff_min = days_between(val1,val2)\n",
    "    y_2006_df.loc[indx,'ArrDelayM'] = diff_min"
   ]
  },
  {
   "cell_type": "markdown",
   "metadata": {},
   "source": [
    "#### Test"
   ]
  },
  {
   "cell_type": "code",
   "execution_count": 105,
   "metadata": {},
   "outputs": [
    {
     "data": {
      "text/plain": [
       "(46, 71419)"
      ]
     },
     "execution_count": 105,
     "metadata": {},
     "output_type": "execute_result"
    }
   ],
   "source": [
    "y_2006_df[(y_2006_df.ArrDelay != y_2006_df.ArrDelayM)\\\n",
    "             &(~y_2006_df.ArrDelay.isnull())\\\n",
    "             &(~y_2006_df.ArrDelayM.isnull())].shape[0], y_2006_df.shape[0]"
   ]
  },
  {
   "cell_type": "code",
   "execution_count": 106,
   "metadata": {},
   "outputs": [
    {
     "data": {
      "text/html": [
       "<div>\n",
       "<style scoped>\n",
       "    .dataframe tbody tr th:only-of-type {\n",
       "        vertical-align: middle;\n",
       "    }\n",
       "\n",
       "    .dataframe tbody tr th {\n",
       "        vertical-align: top;\n",
       "    }\n",
       "\n",
       "    .dataframe thead th {\n",
       "        text-align: right;\n",
       "    }\n",
       "</style>\n",
       "<table border=\"1\" class=\"dataframe\">\n",
       "  <thead>\n",
       "    <tr style=\"text-align: right;\">\n",
       "      <th></th>\n",
       "      <th>ArrTime</th>\n",
       "      <th>CRSArrTime</th>\n",
       "      <th>ArrDelayM</th>\n",
       "      <th>ArrDelay</th>\n",
       "    </tr>\n",
       "  </thead>\n",
       "  <tbody>\n",
       "    <tr>\n",
       "      <th>684</th>\n",
       "      <td>2006-11-21 23:50:00</td>\n",
       "      <td>2006-11-20 00:05:00</td>\n",
       "      <td>2865.0</td>\n",
       "      <td>-15.0</td>\n",
       "    </tr>\n",
       "    <tr>\n",
       "      <th>5098</th>\n",
       "      <td>2006-07-11 23:53:00</td>\n",
       "      <td>2006-07-10 00:10:00</td>\n",
       "      <td>2863.0</td>\n",
       "      <td>-17.0</td>\n",
       "    </tr>\n",
       "    <tr>\n",
       "      <th>6241</th>\n",
       "      <td>2006-06-15 23:58:00</td>\n",
       "      <td>2006-06-14 00:01:00</td>\n",
       "      <td>2877.0</td>\n",
       "      <td>-3.0</td>\n",
       "    </tr>\n",
       "    <tr>\n",
       "      <th>7026</th>\n",
       "      <td>2006-04-25 23:49:00</td>\n",
       "      <td>2006-04-24 00:24:00</td>\n",
       "      <td>2845.0</td>\n",
       "      <td>-35.0</td>\n",
       "    </tr>\n",
       "    <tr>\n",
       "      <th>10804</th>\n",
       "      <td>2006-07-01 23:44:00</td>\n",
       "      <td>2006-06-30 00:09:00</td>\n",
       "      <td>2855.0</td>\n",
       "      <td>-25.0</td>\n",
       "    </tr>\n",
       "  </tbody>\n",
       "</table>\n",
       "</div>"
      ],
      "text/plain": [
       "                  ArrTime          CRSArrTime  ArrDelayM  ArrDelay\n",
       "684   2006-11-21 23:50:00 2006-11-20 00:05:00     2865.0     -15.0\n",
       "5098  2006-07-11 23:53:00 2006-07-10 00:10:00     2863.0     -17.0\n",
       "6241  2006-06-15 23:58:00 2006-06-14 00:01:00     2877.0      -3.0\n",
       "7026  2006-04-25 23:49:00 2006-04-24 00:24:00     2845.0     -35.0\n",
       "10804 2006-07-01 23:44:00 2006-06-30 00:09:00     2855.0     -25.0"
      ]
     },
     "execution_count": 106,
     "metadata": {},
     "output_type": "execute_result"
    }
   ],
   "source": [
    "y_2006_df[(y_2006_df.ArrDelay != y_2006_df.ArrDelayM)\\\n",
    "             &(~y_2006_df.ArrDelay.isnull())\\\n",
    "             &(~y_2006_df.ArrDelayM.isnull())][cols].head()"
   ]
  },
  {
   "cell_type": "markdown",
   "metadata": {},
   "source": [
    "> So, I managed to reduce many rows. These rows just consist of minisclue of our data. Drop these rows."
   ]
  },
  {
   "cell_type": "code",
   "execution_count": 107,
   "metadata": {},
   "outputs": [],
   "source": [
    "indx_to_del = y_2006_df[(y_2006_df.ArrDelay != y_2006_df.ArrDelayM)\\\n",
    "             &(~y_2006_df.ArrDelay.isnull())\\\n",
    "             &(~y_2006_df.ArrDelayM.isnull())][cols].index"
   ]
  },
  {
   "cell_type": "code",
   "execution_count": 108,
   "metadata": {},
   "outputs": [],
   "source": [
    "y_2006_df.drop(index=indx_to_del,axis=0,inplace=True)"
   ]
  },
  {
   "cell_type": "code",
   "execution_count": 109,
   "metadata": {},
   "outputs": [],
   "source": [
    "y_2006_df = y_2006_df.reset_index().drop('index',axis=1)"
   ]
  },
  {
   "cell_type": "code",
   "execution_count": 110,
   "metadata": {},
   "outputs": [
    {
     "data": {
      "text/plain": [
       "0"
      ]
     },
     "execution_count": 110,
     "metadata": {},
     "output_type": "execute_result"
    }
   ],
   "source": [
    "y_2006_df[(y_2006_df.ArrDelay != y_2006_df.ArrDelayM)\\\n",
    "             &(~y_2006_df.ArrDelay.isnull())\\\n",
    "             &(~y_2006_df.ArrDelayM.isnull())].shape[0]"
   ]
  },
  {
   "cell_type": "markdown",
   "metadata": {},
   "source": [
    "> So columns ArrDelay and ArrDelayM are all identical (when ArrDelay and ArrDelayM are not null)"
   ]
  },
  {
   "cell_type": "markdown",
   "metadata": {},
   "source": [
    "#### Drop columns"
   ]
  },
  {
   "cell_type": "code",
   "execution_count": 111,
   "metadata": {},
   "outputs": [],
   "source": [
    "# drop Year,Month and DayofMonth and DayOfWeek\n",
    "y_2006_df.drop(columns=['Year','Month','DayofMonth','DayOfWeek'],inplace=True)"
   ]
  },
  {
   "cell_type": "code",
   "execution_count": 112,
   "metadata": {},
   "outputs": [],
   "source": [
    "# drop CRSDepTime, CRSArrTime\n",
    "#y_2006_df.drop(columns=['CRSDepTime','CRSArrTime',],inplace=True)"
   ]
  },
  {
   "cell_type": "markdown",
   "metadata": {},
   "source": [
    "# 5. Adding Time Category\n",
    "#### Add Time Category according to  this list:\n",
    "- 24:00 (not 00:00) -- 02:59: Late Night <br>\n",
    "- 03:00 -- 05:59: Early Morning <br>\n",
    "- 06:00 -- 08:59: Morning <br>\n",
    "- 09:00 -- 11:59: Late Morning <br>\n",
    "- 12:00 -- 14:59: Afternoon <br>\n",
    "- 15:00 -- 17:59: Late Afternoon <br>\n",
    "- 18:00 -- 20:59: Evening <br>\n",
    "- 21:00 -- 23:59: Night <br>"
   ]
  },
  {
   "cell_type": "code",
   "execution_count": 113,
   "metadata": {},
   "outputs": [],
   "source": [
    "# hour is a string from series\n",
    "def get_part_of_day(hour):\n",
    "    if pd.isnull(hour):\n",
    "        return np.NaN\n",
    "    else:\n",
    "        hour_temp = hour.strftime('%H')\n",
    "        if hour_temp == '00':\n",
    "            hour_int=int(0)\n",
    "        else:\n",
    "            hour_int = int(hour_temp)\n",
    "    \n",
    "    if 24 == hour_int:\n",
    "        return 'Late Night'\n",
    "    elif 0 <= hour_int <= 2:\n",
    "        return 'Late Night'\n",
    "    elif 3 <= hour_int <= 5:\n",
    "        return 'Early Morning'\n",
    "    elif 6 <= hour_int <= 8:\n",
    "        return 'Morning'\n",
    "    elif 9 <= hour_int <= 11:\n",
    "        return 'Late Morning'\n",
    "    elif 12 <= hour_int <= 14:\n",
    "        return 'Afternoon'\n",
    "    elif 15 <= hour_int <= 17:\n",
    "        return 'Late Afternoon'\n",
    "    elif 18 <= hour_int <= 20:\n",
    "        return 'Evening'\n",
    "    elif 21 <= hour_int <= 23:\n",
    "        return 'Night'\n",
    "    "
   ]
  },
  {
   "cell_type": "markdown",
   "metadata": {},
   "source": [
    "## 5.1 DepTimeCategory"
   ]
  },
  {
   "cell_type": "code",
   "execution_count": 114,
   "metadata": {},
   "outputs": [],
   "source": [
    "y_2006_df['DepTimeCategory'] = y_2006_df.loc[: ,'DepTime'].apply(get_part_of_day)"
   ]
  },
  {
   "cell_type": "code",
   "execution_count": 115,
   "metadata": {},
   "outputs": [
    {
     "data": {
      "text/plain": [
       "Morning           13733\n",
       "Late Afternoon    13293\n",
       "Afternoon         13195\n",
       "Late Morning      13162\n",
       "Evening           11176\n",
       "Night              4068\n",
       "NaN                1309\n",
       "Early Morning      1128\n",
       "Late Night          309\n",
       "Name: DepTimeCategory, dtype: int64"
      ]
     },
     "execution_count": 115,
     "metadata": {},
     "output_type": "execute_result"
    }
   ],
   "source": [
    "y_2006_df.DepTimeCategory.value_counts(dropna=False)"
   ]
  },
  {
   "cell_type": "code",
   "execution_count": 116,
   "metadata": {},
   "outputs": [
    {
     "data": {
      "text/plain": [
       "Morning           0.192412\n",
       "Late Afternoon    0.186247\n",
       "Afternoon         0.184874\n",
       "Late Morning      0.184411\n",
       "Evening           0.156586\n",
       "Night             0.056996\n",
       "NaN               0.018340\n",
       "Early Morning     0.015804\n",
       "Late Night        0.004329\n",
       "Name: DepTimeCategory, dtype: float64"
      ]
     },
     "execution_count": 116,
     "metadata": {},
     "output_type": "execute_result"
    }
   ],
   "source": [
    "y_2006_df.DepTimeCategory.value_counts(dropna=False,normalize=True)"
   ]
  },
  {
   "cell_type": "markdown",
   "metadata": {},
   "source": [
    "#### make DepTimeCategory into category with sorted order"
   ]
  },
  {
   "cell_type": "code",
   "execution_count": 117,
   "metadata": {},
   "outputs": [],
   "source": [
    "day_categories = ['Late Night','Early Morning','Morning','Late Morning',\n",
    "                 'Afternoon','Late Afternoon','Evening','Night']\n",
    "pd_ver = pd.__version__.split(\".\")\n",
    "if (int(pd_ver[0]) > 0) or (int(pd_ver[1]) >= 21): # v0.21 or later\n",
    "    day_classes = pd.api.types.CategoricalDtype(ordered = True, categories = day_categories)\n",
    "    y_2006_df['DepTimeCategory'] = y_2006_df['DepTimeCategory'].astype(day_classes)\n",
    "else: # pre-v0.21\n",
    "    y_2006_df['DepTimeCategory'] = y_2006_df['DepTimeCategory'].astype('category', ordered = True,\n",
    "                                                         categories = day_categories)"
   ]
  },
  {
   "cell_type": "code",
   "execution_count": 118,
   "metadata": {},
   "outputs": [
    {
     "data": {
      "image/png": "[encoded data removed]",
      "text/plain": [
       "<Figure size 432x288 with 1 Axes>"
      ]
     },
     "metadata": {},
     "output_type": "display_data"
    }
   ],
   "source": [
    "y_2006_df.DepTimeCategory.value_counts(dropna=False,normalize=True).sort_index()\\\n",
    "            .plot(kind='barh',color=base_color);"
   ]
  },
  {
   "cell_type": "markdown",
   "metadata": {},
   "source": [
    "## 5.1 ArrTimeCategory"
   ]
  },
  {
   "cell_type": "code",
   "execution_count": 119,
   "metadata": {},
   "outputs": [],
   "source": [
    "y_2006_df['ArrTimeCategory'] = y_2006_df.loc[: ,'ArrTime'].apply(get_part_of_day)"
   ]
  },
  {
   "cell_type": "markdown",
   "metadata": {},
   "source": [
    "#### make ArrTimeCategory into category with sorted order"
   ]
  },
  {
   "cell_type": "code",
   "execution_count": 120,
   "metadata": {},
   "outputs": [],
   "source": [
    "day_categories = ['Late Night','Early Morning','Morning','Late Morning',\n",
    "                 'Afternoon','Late Afternoon','Evening','Night']\n",
    "pd_ver = pd.__version__.split(\".\")\n",
    "if (int(pd_ver[0]) > 0) or (int(pd_ver[1]) >= 21): # v0.21 or later\n",
    "    day_classes = pd.api.types.CategoricalDtype(ordered = True, categories = day_categories)\n",
    "    y_2006_df['ArrTimeCategory'] = y_2006_df['ArrTimeCategory'].astype(day_classes)\n",
    "else: # pre-v0.21\n",
    "    y_2006_df['ArrTimeCategory'] = y_2006_df['ArrTimeCategory'].astype('category', ordered = True,\n",
    "                                                         categories = day_categories)"
   ]
  },
  {
   "cell_type": "code",
   "execution_count": 121,
   "metadata": {},
   "outputs": [
    {
     "data": {
      "image/png": "[encoded data removed]",
      "text/plain": [
       "<Figure size 432x288 with 1 Axes>"
      ]
     },
     "metadata": {},
     "output_type": "display_data"
    }
   ],
   "source": [
    "y_2006_df.ArrTimeCategory.value_counts(dropna=False).sort_index().plot(kind='barh',color=base_color);"
   ]
  },
  {
   "cell_type": "code",
   "execution_count": 122,
   "metadata": {},
   "outputs": [
    {
     "data": {
      "image/png": "[encoded data removed]",
      "text/plain": [
       "<Figure size 432x288 with 1 Axes>"
      ]
     },
     "metadata": {},
     "output_type": "display_data"
    }
   ],
   "source": [
    "y_2006_df.ArrTimeCategory.value_counts(dropna=False,normalize=True).sort_index()\\\n",
    "        .plot(kind='barh',color=base_color);"
   ]
  },
  {
   "cell_type": "markdown",
   "metadata": {},
   "source": [
    "# 6. Exploring Cancelled -- Part One"
   ]
  },
  {
   "cell_type": "code",
   "execution_count": 123,
   "metadata": {},
   "outputs": [
    {
     "data": {
      "text/plain": [
       "0    70076\n",
       "1     1297\n",
       "Name: Cancelled, dtype: int64"
      ]
     },
     "execution_count": 123,
     "metadata": {},
     "output_type": "execute_result"
    }
   ],
   "source": [
    "y_2006_df.Cancelled.value_counts(dropna=False,normalize=False)"
   ]
  },
  {
   "cell_type": "code",
   "execution_count": 124,
   "metadata": {},
   "outputs": [
    {
     "data": {
      "text/plain": [
       "0    0.981828\n",
       "1    0.018172\n",
       "Name: Cancelled, dtype: float64"
      ]
     },
     "execution_count": 124,
     "metadata": {},
     "output_type": "execute_result"
    }
   ],
   "source": [
    "y_2006_df.Cancelled.value_counts(dropna=False,normalize=True)"
   ]
  },
  {
   "cell_type": "markdown",
   "metadata": {},
   "source": [
    "- There is no null values.\n",
    "- Only 2% of flights are cancelled.\n",
    "**(Result is dependent on random sampling)**"
   ]
  },
  {
   "cell_type": "markdown",
   "metadata": {},
   "source": [
    "- Also notice that there are only two values 0s and 1s. Therefore convert Cancelled to bool"
   ]
  },
  {
   "cell_type": "code",
   "execution_count": 125,
   "metadata": {},
   "outputs": [],
   "source": [
    "# changing Cancelled type to boolean\n",
    "y_2006_df.Cancelled = y_2006_df.Cancelled.astype('bool')"
   ]
  },
  {
   "cell_type": "code",
   "execution_count": 126,
   "metadata": {},
   "outputs": [
    {
     "data": {
      "text/plain": [
       "False    0.981828\n",
       "True     0.018172\n",
       "Name: Cancelled, dtype: float64"
      ]
     },
     "execution_count": 126,
     "metadata": {},
     "output_type": "execute_result"
    }
   ],
   "source": [
    "# Test\n",
    "y_2006_df.Cancelled.value_counts(dropna=False,normalize=True)"
   ]
  },
  {
   "cell_type": "markdown",
   "metadata": {},
   "source": [
    "### CancellationCode"
   ]
  },
  {
   "cell_type": "code",
   "execution_count": 127,
   "metadata": {},
   "outputs": [
    {
     "data": {
      "text/plain": [
       "array([nan, 'A', 'B', 'C', 'D'], dtype=object)"
      ]
     },
     "execution_count": 127,
     "metadata": {},
     "output_type": "execute_result"
    }
   ],
   "source": [
    "y_2006_df.CancellationCode.unique()"
   ]
  },
  {
   "cell_type": "markdown",
   "metadata": {},
   "source": [
    "#### Cancellation Code Legend\n",
    "> A: carrier <br>\n",
    "> B: weather <br>\n",
    "> C: NAS <br>\n",
    "> D: security <br>"
   ]
  },
  {
   "cell_type": "code",
   "execution_count": 128,
   "metadata": {},
   "outputs": [],
   "source": [
    "cancelled_true_cols = ['Cancelled','CancellationCode','DepTime','ArrTime']"
   ]
  },
  {
   "cell_type": "code",
   "execution_count": 129,
   "metadata": {},
   "outputs": [
    {
     "data": {
      "text/html": [
       "<div>\n",
       "<style scoped>\n",
       "    .dataframe tbody tr th:only-of-type {\n",
       "        vertical-align: middle;\n",
       "    }\n",
       "\n",
       "    .dataframe tbody tr th {\n",
       "        vertical-align: top;\n",
       "    }\n",
       "\n",
       "    .dataframe thead th {\n",
       "        text-align: right;\n",
       "    }\n",
       "</style>\n",
       "<table border=\"1\" class=\"dataframe\">\n",
       "  <thead>\n",
       "    <tr style=\"text-align: right;\">\n",
       "      <th></th>\n",
       "      <th>Cancelled</th>\n",
       "      <th>CancellationCode</th>\n",
       "      <th>DepTime</th>\n",
       "      <th>ArrTime</th>\n",
       "    </tr>\n",
       "  </thead>\n",
       "  <tbody>\n",
       "    <tr>\n",
       "      <th>20512</th>\n",
       "      <td>True</td>\n",
       "      <td>A</td>\n",
       "      <td>NaT</td>\n",
       "      <td>NaT</td>\n",
       "    </tr>\n",
       "    <tr>\n",
       "      <th>40026</th>\n",
       "      <td>True</td>\n",
       "      <td>A</td>\n",
       "      <td>NaT</td>\n",
       "      <td>NaT</td>\n",
       "    </tr>\n",
       "    <tr>\n",
       "      <th>22208</th>\n",
       "      <td>True</td>\n",
       "      <td>C</td>\n",
       "      <td>NaT</td>\n",
       "      <td>NaT</td>\n",
       "    </tr>\n",
       "    <tr>\n",
       "      <th>51435</th>\n",
       "      <td>True</td>\n",
       "      <td>B</td>\n",
       "      <td>NaT</td>\n",
       "      <td>NaT</td>\n",
       "    </tr>\n",
       "    <tr>\n",
       "      <th>24581</th>\n",
       "      <td>True</td>\n",
       "      <td>A</td>\n",
       "      <td>NaT</td>\n",
       "      <td>NaT</td>\n",
       "    </tr>\n",
       "    <tr>\n",
       "      <th>50435</th>\n",
       "      <td>True</td>\n",
       "      <td>B</td>\n",
       "      <td>NaT</td>\n",
       "      <td>NaT</td>\n",
       "    </tr>\n",
       "    <tr>\n",
       "      <th>63653</th>\n",
       "      <td>True</td>\n",
       "      <td>A</td>\n",
       "      <td>NaT</td>\n",
       "      <td>NaT</td>\n",
       "    </tr>\n",
       "    <tr>\n",
       "      <th>40886</th>\n",
       "      <td>True</td>\n",
       "      <td>B</td>\n",
       "      <td>NaT</td>\n",
       "      <td>NaT</td>\n",
       "    </tr>\n",
       "    <tr>\n",
       "      <th>61769</th>\n",
       "      <td>True</td>\n",
       "      <td>A</td>\n",
       "      <td>NaT</td>\n",
       "      <td>NaT</td>\n",
       "    </tr>\n",
       "    <tr>\n",
       "      <th>57117</th>\n",
       "      <td>True</td>\n",
       "      <td>B</td>\n",
       "      <td>NaT</td>\n",
       "      <td>NaT</td>\n",
       "    </tr>\n",
       "  </tbody>\n",
       "</table>\n",
       "</div>"
      ],
      "text/plain": [
       "       Cancelled CancellationCode DepTime ArrTime\n",
       "20512       True                A     NaT     NaT\n",
       "40026       True                A     NaT     NaT\n",
       "22208       True                C     NaT     NaT\n",
       "51435       True                B     NaT     NaT\n",
       "24581       True                A     NaT     NaT\n",
       "50435       True                B     NaT     NaT\n",
       "63653       True                A     NaT     NaT\n",
       "40886       True                B     NaT     NaT\n",
       "61769       True                A     NaT     NaT\n",
       "57117       True                B     NaT     NaT"
      ]
     },
     "execution_count": 129,
     "metadata": {},
     "output_type": "execute_result"
    }
   ],
   "source": [
    "y_2006_df[y_2006_df.Cancelled==True][cancelled_true_cols].sample(10)"
   ]
  },
  {
   "cell_type": "markdown",
   "metadata": {},
   "source": [
    "- Notice that when Cancelled is True, there is a corresponding reason for this cancellation <br>\n",
    "through CancellationCode column. The columns DepTime and ArrTime have null values. This makes <br>\n",
    "sense because flight is cancelled."
   ]
  },
  {
   "cell_type": "markdown",
   "metadata": {},
   "source": [
    "#### Define\n",
    "- When Cancelled==True, is there a corresponding CancellationCode?"
   ]
  },
  {
   "cell_type": "markdown",
   "metadata": {},
   "source": [
    "#### Code and Test"
   ]
  },
  {
   "cell_type": "code",
   "execution_count": 130,
   "metadata": {},
   "outputs": [
    {
     "data": {
      "text/plain": [
       "1297"
      ]
     },
     "execution_count": 130,
     "metadata": {},
     "output_type": "execute_result"
    }
   ],
   "source": [
    "y_2006_df[y_2006_df.Cancelled==True][cancelled_true_cols].shape[0]"
   ]
  },
  {
   "cell_type": "code",
   "execution_count": 131,
   "metadata": {},
   "outputs": [
    {
     "data": {
      "text/plain": [
       "NaN    70076\n",
       "A        622\n",
       "B        403\n",
       "C        268\n",
       "D          4\n",
       "Name: CancellationCode, dtype: int64"
      ]
     },
     "execution_count": 131,
     "metadata": {},
     "output_type": "execute_result"
    }
   ],
   "source": [
    "y_2006_df.CancellationCode.value_counts(dropna=False)"
   ]
  },
  {
   "cell_type": "markdown",
   "metadata": {},
   "source": [
    "- As seen from above if you add total values of A,B,C and D, it tallies with total number of data when Cancelled==True. Therefore, we can conclude that when Cancelled==True, there is a corresponding CancellationCode."
   ]
  },
  {
   "cell_type": "code",
   "execution_count": 132,
   "metadata": {},
   "outputs": [
    {
     "data": {
      "text/plain": [
       "0"
      ]
     },
     "execution_count": 132,
     "metadata": {},
     "output_type": "execute_result"
    }
   ],
   "source": [
    "y_2006_df[(y_2006_df.Cancelled==True) & (y_2006_df.CancellationCode.isnull())].shape[0]"
   ]
  },
  {
   "cell_type": "markdown",
   "metadata": {},
   "source": [
    "- Another test. If the answer is 0, then we can definitely conclude that when Cancelled==True, there is a corresponding CancellationCode."
   ]
  },
  {
   "cell_type": "markdown",
   "metadata": {},
   "source": [
    "#### Define\n",
    "- When Cancelled==True, are all DepTime and ArrTime null?"
   ]
  },
  {
   "cell_type": "markdown",
   "metadata": {},
   "source": [
    "#### Code"
   ]
  },
  {
   "cell_type": "code",
   "execution_count": 133,
   "metadata": {},
   "outputs": [
    {
     "data": {
      "text/plain": [
       "0"
      ]
     },
     "execution_count": 133,
     "metadata": {},
     "output_type": "execute_result"
    }
   ],
   "source": [
    "y_2006_df[(y_2006_df.Cancelled==True) &\\\n",
    "          (~y_2006_df.DepTime.isnull())].shape[0]"
   ]
  },
  {
   "cell_type": "code",
   "execution_count": 134,
   "metadata": {},
   "outputs": [
    {
     "data": {
      "text/html": [
       "<div>\n",
       "<style scoped>\n",
       "    .dataframe tbody tr th:only-of-type {\n",
       "        vertical-align: middle;\n",
       "    }\n",
       "\n",
       "    .dataframe tbody tr th {\n",
       "        vertical-align: top;\n",
       "    }\n",
       "\n",
       "    .dataframe thead th {\n",
       "        text-align: right;\n",
       "    }\n",
       "</style>\n",
       "<table border=\"1\" class=\"dataframe\">\n",
       "  <thead>\n",
       "    <tr style=\"text-align: right;\">\n",
       "      <th></th>\n",
       "      <th>Cancelled</th>\n",
       "      <th>CancellationCode</th>\n",
       "      <th>DepTime</th>\n",
       "      <th>ArrTime</th>\n",
       "    </tr>\n",
       "  </thead>\n",
       "  <tbody>\n",
       "  </tbody>\n",
       "</table>\n",
       "</div>"
      ],
      "text/plain": [
       "Empty DataFrame\n",
       "Columns: [Cancelled, CancellationCode, DepTime, ArrTime]\n",
       "Index: []"
      ]
     },
     "execution_count": 134,
     "metadata": {},
     "output_type": "execute_result"
    }
   ],
   "source": [
    "y_2006_df[(y_2006_df.Cancelled==True) &\\\n",
    "          (~y_2006_df.DepTime.isnull())][cancelled_true_cols]"
   ]
  },
  {
   "cell_type": "markdown",
   "metadata": {},
   "source": [
    "- There are cases when DepTime is not null when Cancelled is True. Need to clean this data. Need to set DepTime to null when Cancelled is True"
   ]
  },
  {
   "cell_type": "code",
   "execution_count": 135,
   "metadata": {},
   "outputs": [
    {
     "data": {
      "text/plain": [
       "0"
      ]
     },
     "execution_count": 135,
     "metadata": {},
     "output_type": "execute_result"
    }
   ],
   "source": [
    "y_2006_df[(y_2006_df.Cancelled==True) &\\\n",
    "          (~y_2006_df.ArrTime.isnull())].shape[0]"
   ]
  },
  {
   "cell_type": "markdown",
   "metadata": {},
   "source": [
    "- All ArrTime is null when Cancelled is True (for this random sample). But I will provide code to clean this data. "
   ]
  },
  {
   "cell_type": "code",
   "execution_count": 136,
   "metadata": {},
   "outputs": [],
   "source": [
    "# get index that have problematic DepTime\n",
    "tofix_index = y_2006_df[(y_2006_df.Cancelled==True) &\\\n",
    "          (~y_2006_df.DepTime.isnull())].index"
   ]
  },
  {
   "cell_type": "code",
   "execution_count": 137,
   "metadata": {},
   "outputs": [],
   "source": [
    "# When Cancelled is True, change DepTime to NaT (null)\n",
    "y_2006_df.loc[tofix_index,'DepTime'] = y_2006_df.loc[tofix_index,'DepTime'].apply(lambda x: pd.NaT)"
   ]
  },
  {
   "cell_type": "code",
   "execution_count": 138,
   "metadata": {},
   "outputs": [],
   "source": [
    "tofix_index = y_2006_df[(y_2006_df.Cancelled==True) &\\\n",
    "          (~y_2006_df.ArrTime.isnull())].index"
   ]
  },
  {
   "cell_type": "code",
   "execution_count": 139,
   "metadata": {},
   "outputs": [
    {
     "data": {
      "text/plain": [
       "Int64Index([], dtype='int64')"
      ]
     },
     "execution_count": 139,
     "metadata": {},
     "output_type": "execute_result"
    }
   ],
   "source": [
    "tofix_index"
   ]
  },
  {
   "cell_type": "code",
   "execution_count": 140,
   "metadata": {},
   "outputs": [],
   "source": [
    "# When Cancelled is True, change ArrTime to NaT (null)\n",
    "y_2006_df.loc[tofix_index,'ArrTime'] = y_2006_df.loc[tofix_index,'ArrTime'].apply(lambda x: pd.NaT)"
   ]
  },
  {
   "cell_type": "markdown",
   "metadata": {},
   "source": [
    "#### Test"
   ]
  },
  {
   "cell_type": "code",
   "execution_count": 141,
   "metadata": {},
   "outputs": [
    {
     "data": {
      "text/plain": [
       "0"
      ]
     },
     "execution_count": 141,
     "metadata": {},
     "output_type": "execute_result"
    }
   ],
   "source": [
    "y_2006_df[(y_2006_df.Cancelled==True) &\\\n",
    "          (~y_2006_df.DepTime.isnull())].shape[0]"
   ]
  },
  {
   "cell_type": "code",
   "execution_count": 142,
   "metadata": {},
   "outputs": [
    {
     "data": {
      "text/plain": [
       "0"
      ]
     },
     "execution_count": 142,
     "metadata": {},
     "output_type": "execute_result"
    }
   ],
   "source": [
    "y_2006_df[(y_2006_df.Cancelled==True) &\\\n",
    "          (~y_2006_df.ArrTime.isnull())].shape[0]"
   ]
  },
  {
   "cell_type": "markdown",
   "metadata": {},
   "source": [
    "- When Cancelled==True, all DepTime and ArrTime is null"
   ]
  },
  {
   "cell_type": "markdown",
   "metadata": {},
   "source": [
    "# 7. Exploring CancellationCode\n"
   ]
  },
  {
   "cell_type": "markdown",
   "metadata": {},
   "source": [
    "- From previous discussion, we found out that when Cancelled==True, there is a corresponding CancellationCode. In this section we'll explore CancellationCode when Cancelled==False."
   ]
  },
  {
   "cell_type": "code",
   "execution_count": 143,
   "metadata": {},
   "outputs": [
    {
     "data": {
      "text/html": [
       "<div>\n",
       "<style scoped>\n",
       "    .dataframe tbody tr th:only-of-type {\n",
       "        vertical-align: middle;\n",
       "    }\n",
       "\n",
       "    .dataframe tbody tr th {\n",
       "        vertical-align: top;\n",
       "    }\n",
       "\n",
       "    .dataframe thead th {\n",
       "        text-align: right;\n",
       "    }\n",
       "</style>\n",
       "<table border=\"1\" class=\"dataframe\">\n",
       "  <thead>\n",
       "    <tr style=\"text-align: right;\">\n",
       "      <th></th>\n",
       "      <th>Cancelled</th>\n",
       "      <th>CancellationCode</th>\n",
       "      <th>DepTime</th>\n",
       "      <th>ArrTime</th>\n",
       "    </tr>\n",
       "  </thead>\n",
       "  <tbody>\n",
       "    <tr>\n",
       "      <th>57109</th>\n",
       "      <td>False</td>\n",
       "      <td>NaN</td>\n",
       "      <td>2006-07-16 16:43:00</td>\n",
       "      <td>2006-07-16 17:52:00</td>\n",
       "    </tr>\n",
       "    <tr>\n",
       "      <th>56822</th>\n",
       "      <td>False</td>\n",
       "      <td>NaN</td>\n",
       "      <td>2006-03-12 22:53:00</td>\n",
       "      <td>2006-03-12 23:44:00</td>\n",
       "    </tr>\n",
       "    <tr>\n",
       "      <th>54409</th>\n",
       "      <td>False</td>\n",
       "      <td>NaN</td>\n",
       "      <td>2006-03-17 16:49:00</td>\n",
       "      <td>2006-03-17 18:09:00</td>\n",
       "    </tr>\n",
       "    <tr>\n",
       "      <th>32473</th>\n",
       "      <td>False</td>\n",
       "      <td>NaN</td>\n",
       "      <td>2006-08-22 19:26:00</td>\n",
       "      <td>2006-08-22 21:36:00</td>\n",
       "    </tr>\n",
       "    <tr>\n",
       "      <th>13685</th>\n",
       "      <td>False</td>\n",
       "      <td>NaN</td>\n",
       "      <td>2006-06-02 18:47:00</td>\n",
       "      <td>2006-06-02 19:21:00</td>\n",
       "    </tr>\n",
       "    <tr>\n",
       "      <th>21023</th>\n",
       "      <td>False</td>\n",
       "      <td>NaN</td>\n",
       "      <td>2006-07-02 10:08:00</td>\n",
       "      <td>2006-07-02 12:40:00</td>\n",
       "    </tr>\n",
       "    <tr>\n",
       "      <th>49236</th>\n",
       "      <td>False</td>\n",
       "      <td>NaN</td>\n",
       "      <td>2006-07-18 16:17:00</td>\n",
       "      <td>2006-07-18 19:03:00</td>\n",
       "    </tr>\n",
       "    <tr>\n",
       "      <th>27638</th>\n",
       "      <td>False</td>\n",
       "      <td>NaN</td>\n",
       "      <td>2006-12-06 13:40:00</td>\n",
       "      <td>2006-12-06 21:08:00</td>\n",
       "    </tr>\n",
       "    <tr>\n",
       "      <th>11755</th>\n",
       "      <td>False</td>\n",
       "      <td>NaN</td>\n",
       "      <td>2006-03-08 18:01:00</td>\n",
       "      <td>2006-03-08 20:22:00</td>\n",
       "    </tr>\n",
       "    <tr>\n",
       "      <th>22298</th>\n",
       "      <td>False</td>\n",
       "      <td>NaN</td>\n",
       "      <td>2006-03-10 12:58:00</td>\n",
       "      <td>2006-03-10 13:34:00</td>\n",
       "    </tr>\n",
       "  </tbody>\n",
       "</table>\n",
       "</div>"
      ],
      "text/plain": [
       "       Cancelled CancellationCode             DepTime             ArrTime\n",
       "57109      False              NaN 2006-07-16 16:43:00 2006-07-16 17:52:00\n",
       "56822      False              NaN 2006-03-12 22:53:00 2006-03-12 23:44:00\n",
       "54409      False              NaN 2006-03-17 16:49:00 2006-03-17 18:09:00\n",
       "32473      False              NaN 2006-08-22 19:26:00 2006-08-22 21:36:00\n",
       "13685      False              NaN 2006-06-02 18:47:00 2006-06-02 19:21:00\n",
       "21023      False              NaN 2006-07-02 10:08:00 2006-07-02 12:40:00\n",
       "49236      False              NaN 2006-07-18 16:17:00 2006-07-18 19:03:00\n",
       "27638      False              NaN 2006-12-06 13:40:00 2006-12-06 21:08:00\n",
       "11755      False              NaN 2006-03-08 18:01:00 2006-03-08 20:22:00\n",
       "22298      False              NaN 2006-03-10 12:58:00 2006-03-10 13:34:00"
      ]
     },
     "execution_count": 143,
     "metadata": {},
     "output_type": "execute_result"
    }
   ],
   "source": [
    "y_2006_df[(y_2006_df.Cancelled==False)\\\n",
    "          & (y_2006_df.CancellationCode.isnull())][cancelled_true_cols].sample(10)"
   ]
  },
  {
   "cell_type": "code",
   "execution_count": 144,
   "metadata": {},
   "outputs": [
    {
     "data": {
      "text/plain": [
       "(70076, 71373)"
      ]
     },
     "execution_count": 144,
     "metadata": {},
     "output_type": "execute_result"
    }
   ],
   "source": [
    "y_2006_df[(y_2006_df.Cancelled==False)\\\n",
    "          & (y_2006_df.CancellationCode.isnull())].shape[0], y_2006_df.shape[0]"
   ]
  },
  {
   "cell_type": "code",
   "execution_count": 145,
   "metadata": {},
   "outputs": [
    {
     "data": {
      "text/plain": [
       "0"
      ]
     },
     "execution_count": 145,
     "metadata": {},
     "output_type": "execute_result"
    }
   ],
   "source": [
    "y_2006_df[(y_2006_df.Cancelled==False)\\\n",
    "          & (~y_2006_df.CancellationCode.isnull())].shape[0]"
   ]
  },
  {
   "cell_type": "code",
   "execution_count": 146,
   "metadata": {},
   "outputs": [
    {
     "data": {
      "text/plain": [
       "NaN    70076\n",
       "A        622\n",
       "B        403\n",
       "C        268\n",
       "D          4\n",
       "Name: CancellationCode, dtype: int64"
      ]
     },
     "execution_count": 146,
     "metadata": {},
     "output_type": "execute_result"
    }
   ],
   "source": [
    "y_2006_df.CancellationCode.value_counts(dropna=False)"
   ]
  },
  {
   "cell_type": "markdown",
   "metadata": {},
   "source": [
    "- From the above data, when Cancellation is False, all CancellationCode is null. (Result dependent on random sampling). This is the result we want."
   ]
  },
  {
   "cell_type": "markdown",
   "metadata": {},
   "source": [
    "# 8. Exploring Diverted"
   ]
  },
  {
   "cell_type": "code",
   "execution_count": 147,
   "metadata": {},
   "outputs": [],
   "source": [
    "cols = ['DepTime','ArrTime','Cancelled','CancellationCode','Diverted']"
   ]
  },
  {
   "cell_type": "markdown",
   "metadata": {},
   "source": [
    "#### When Diverted == 1 and when Diverted == 0"
   ]
  },
  {
   "cell_type": "code",
   "execution_count": 148,
   "metadata": {},
   "outputs": [
    {
     "data": {
      "text/html": [
       "<div>\n",
       "<style scoped>\n",
       "    .dataframe tbody tr th:only-of-type {\n",
       "        vertical-align: middle;\n",
       "    }\n",
       "\n",
       "    .dataframe tbody tr th {\n",
       "        vertical-align: top;\n",
       "    }\n",
       "\n",
       "    .dataframe thead th {\n",
       "        text-align: right;\n",
       "    }\n",
       "</style>\n",
       "<table border=\"1\" class=\"dataframe\">\n",
       "  <thead>\n",
       "    <tr style=\"text-align: right;\">\n",
       "      <th></th>\n",
       "      <th>DepTime</th>\n",
       "      <th>ArrTime</th>\n",
       "      <th>Cancelled</th>\n",
       "      <th>CancellationCode</th>\n",
       "      <th>Diverted</th>\n",
       "    </tr>\n",
       "  </thead>\n",
       "  <tbody>\n",
       "    <tr>\n",
       "      <th>31093</th>\n",
       "      <td>2006-02-11 06:45:00</td>\n",
       "      <td>NaT</td>\n",
       "      <td>False</td>\n",
       "      <td>NaN</td>\n",
       "      <td>1</td>\n",
       "    </tr>\n",
       "    <tr>\n",
       "      <th>6003</th>\n",
       "      <td>2006-06-26 20:31:00</td>\n",
       "      <td>NaT</td>\n",
       "      <td>False</td>\n",
       "      <td>NaN</td>\n",
       "      <td>1</td>\n",
       "    </tr>\n",
       "    <tr>\n",
       "      <th>62967</th>\n",
       "      <td>2006-06-03 18:23:00</td>\n",
       "      <td>NaT</td>\n",
       "      <td>False</td>\n",
       "      <td>NaN</td>\n",
       "      <td>1</td>\n",
       "    </tr>\n",
       "  </tbody>\n",
       "</table>\n",
       "</div>"
      ],
      "text/plain": [
       "                  DepTime ArrTime  Cancelled CancellationCode  Diverted\n",
       "31093 2006-02-11 06:45:00     NaT      False              NaN         1\n",
       "6003  2006-06-26 20:31:00     NaT      False              NaN         1\n",
       "62967 2006-06-03 18:23:00     NaT      False              NaN         1"
      ]
     },
     "execution_count": 148,
     "metadata": {},
     "output_type": "execute_result"
    }
   ],
   "source": [
    "y_2006_df[y_2006_df.Diverted==1][cols].sample(3)"
   ]
  },
  {
   "cell_type": "code",
   "execution_count": 149,
   "metadata": {},
   "outputs": [
    {
     "data": {
      "text/html": [
       "<div>\n",
       "<style scoped>\n",
       "    .dataframe tbody tr th:only-of-type {\n",
       "        vertical-align: middle;\n",
       "    }\n",
       "\n",
       "    .dataframe tbody tr th {\n",
       "        vertical-align: top;\n",
       "    }\n",
       "\n",
       "    .dataframe thead th {\n",
       "        text-align: right;\n",
       "    }\n",
       "</style>\n",
       "<table border=\"1\" class=\"dataframe\">\n",
       "  <thead>\n",
       "    <tr style=\"text-align: right;\">\n",
       "      <th></th>\n",
       "      <th>DepTime</th>\n",
       "      <th>ArrTime</th>\n",
       "      <th>Cancelled</th>\n",
       "      <th>CancellationCode</th>\n",
       "      <th>Diverted</th>\n",
       "    </tr>\n",
       "  </thead>\n",
       "  <tbody>\n",
       "    <tr>\n",
       "      <th>30308</th>\n",
       "      <td>2006-10-25 14:40:00</td>\n",
       "      <td>2006-10-25 15:50:00</td>\n",
       "      <td>False</td>\n",
       "      <td>NaN</td>\n",
       "      <td>0</td>\n",
       "    </tr>\n",
       "    <tr>\n",
       "      <th>20495</th>\n",
       "      <td>2006-06-08 17:01:00</td>\n",
       "      <td>2006-06-08 18:28:00</td>\n",
       "      <td>False</td>\n",
       "      <td>NaN</td>\n",
       "      <td>0</td>\n",
       "    </tr>\n",
       "    <tr>\n",
       "      <th>24866</th>\n",
       "      <td>2006-02-03 08:06:00</td>\n",
       "      <td>2006-02-03 10:01:00</td>\n",
       "      <td>False</td>\n",
       "      <td>NaN</td>\n",
       "      <td>0</td>\n",
       "    </tr>\n",
       "  </tbody>\n",
       "</table>\n",
       "</div>"
      ],
      "text/plain": [
       "                  DepTime             ArrTime  Cancelled CancellationCode  \\\n",
       "30308 2006-10-25 14:40:00 2006-10-25 15:50:00      False              NaN   \n",
       "20495 2006-06-08 17:01:00 2006-06-08 18:28:00      False              NaN   \n",
       "24866 2006-02-03 08:06:00 2006-02-03 10:01:00      False              NaN   \n",
       "\n",
       "       Diverted  \n",
       "30308         0  \n",
       "20495         0  \n",
       "24866         0  "
      ]
     },
     "execution_count": 149,
     "metadata": {},
     "output_type": "execute_result"
    }
   ],
   "source": [
    "y_2006_df[y_2006_df.Diverted==0][cols].sample(3)"
   ]
  },
  {
   "cell_type": "code",
   "execution_count": 150,
   "metadata": {},
   "outputs": [
    {
     "data": {
      "text/plain": [
       "(155, 71218)"
      ]
     },
     "execution_count": 150,
     "metadata": {},
     "output_type": "execute_result"
    }
   ],
   "source": [
    "# Number of data when diverted == 1\n",
    "y_2006_df[y_2006_df.Diverted==1][cols].shape[0],y_2006_df[y_2006_df.Diverted==0][cols].shape[0]"
   ]
  },
  {
   "cell_type": "code",
   "execution_count": 151,
   "metadata": {},
   "outputs": [
    {
     "data": {
      "text/plain": [
       "0    71218\n",
       "1      155\n",
       "Name: Diverted, dtype: int64"
      ]
     },
     "execution_count": 151,
     "metadata": {},
     "output_type": "execute_result"
    }
   ],
   "source": [
    "y_2006_df.Diverted.value_counts(dropna=False)"
   ]
  },
  {
   "cell_type": "code",
   "execution_count": 152,
   "metadata": {},
   "outputs": [
    {
     "data": {
      "text/plain": [
       "0    0.997828\n",
       "1    0.002172\n",
       "Name: Diverted, dtype: float64"
      ]
     },
     "execution_count": 152,
     "metadata": {},
     "output_type": "execute_result"
    }
   ],
   "source": [
    "y_2006_df.Diverted.value_counts(dropna=False,normalize=True)"
   ]
  },
  {
   "cell_type": "markdown",
   "metadata": {},
   "source": [
    ">- 99.8% is when Diverted is 0.\n",
    ">- Diverted==1 is 0.2%.\n",
    ">- There is no null values.\n",
    "> ##### (Result is dependent on random sampling)"
   ]
  },
  {
   "cell_type": "markdown",
   "metadata": {},
   "source": [
    "#### When Diverted==1 and ArrTime is null / non-null"
   ]
  },
  {
   "cell_type": "code",
   "execution_count": 153,
   "metadata": {},
   "outputs": [
    {
     "data": {
      "text/html": [
       "<div>\n",
       "<style scoped>\n",
       "    .dataframe tbody tr th:only-of-type {\n",
       "        vertical-align: middle;\n",
       "    }\n",
       "\n",
       "    .dataframe tbody tr th {\n",
       "        vertical-align: top;\n",
       "    }\n",
       "\n",
       "    .dataframe thead th {\n",
       "        text-align: right;\n",
       "    }\n",
       "</style>\n",
       "<table border=\"1\" class=\"dataframe\">\n",
       "  <thead>\n",
       "    <tr style=\"text-align: right;\">\n",
       "      <th></th>\n",
       "      <th>DepTime</th>\n",
       "      <th>ArrTime</th>\n",
       "      <th>Cancelled</th>\n",
       "      <th>CancellationCode</th>\n",
       "      <th>Diverted</th>\n",
       "    </tr>\n",
       "  </thead>\n",
       "  <tbody>\n",
       "    <tr>\n",
       "      <th>128</th>\n",
       "      <td>2006-10-02 18:49:00</td>\n",
       "      <td>NaT</td>\n",
       "      <td>False</td>\n",
       "      <td>NaN</td>\n",
       "      <td>1</td>\n",
       "    </tr>\n",
       "    <tr>\n",
       "      <th>1111</th>\n",
       "      <td>2006-05-25 18:05:00</td>\n",
       "      <td>NaT</td>\n",
       "      <td>False</td>\n",
       "      <td>NaN</td>\n",
       "      <td>1</td>\n",
       "    </tr>\n",
       "    <tr>\n",
       "      <th>3159</th>\n",
       "      <td>2006-04-01 11:13:00</td>\n",
       "      <td>NaT</td>\n",
       "      <td>False</td>\n",
       "      <td>NaN</td>\n",
       "      <td>1</td>\n",
       "    </tr>\n",
       "    <tr>\n",
       "      <th>3161</th>\n",
       "      <td>2006-07-02 06:47:00</td>\n",
       "      <td>NaT</td>\n",
       "      <td>False</td>\n",
       "      <td>NaN</td>\n",
       "      <td>1</td>\n",
       "    </tr>\n",
       "    <tr>\n",
       "      <th>3280</th>\n",
       "      <td>2006-08-07 08:24:00</td>\n",
       "      <td>NaT</td>\n",
       "      <td>False</td>\n",
       "      <td>NaN</td>\n",
       "      <td>1</td>\n",
       "    </tr>\n",
       "  </tbody>\n",
       "</table>\n",
       "</div>"
      ],
      "text/plain": [
       "                 DepTime ArrTime  Cancelled CancellationCode  Diverted\n",
       "128  2006-10-02 18:49:00     NaT      False              NaN         1\n",
       "1111 2006-05-25 18:05:00     NaT      False              NaN         1\n",
       "3159 2006-04-01 11:13:00     NaT      False              NaN         1\n",
       "3161 2006-07-02 06:47:00     NaT      False              NaN         1\n",
       "3280 2006-08-07 08:24:00     NaT      False              NaN         1"
      ]
     },
     "execution_count": 153,
     "metadata": {},
     "output_type": "execute_result"
    }
   ],
   "source": [
    "y_2006_df[(y_2006_df.Diverted==1)\\\n",
    "          &(y_2006_df.ArrTime.isnull())][cols].head()"
   ]
  },
  {
   "cell_type": "code",
   "execution_count": 154,
   "metadata": {},
   "outputs": [
    {
     "data": {
      "text/plain": [
       "(155, 155)"
      ]
     },
     "execution_count": 154,
     "metadata": {},
     "output_type": "execute_result"
    }
   ],
   "source": [
    "y_2006_df[(y_2006_df.Diverted==1)\\\n",
    "          &(y_2006_df.ArrTime.isnull())][cols].shape[0],y_2006_df[y_2006_df.Diverted==1][cols].shape[0]"
   ]
  },
  {
   "cell_type": "markdown",
   "metadata": {},
   "source": [
    "- This situation (Diverted==1 and ArrTime is null) happens around 80% of the time. (Result is dependent on random sampling). This is a logical situation. When a plane is Diverted, there is no ArrTime. "
   ]
  },
  {
   "cell_type": "code",
   "execution_count": 155,
   "metadata": {},
   "outputs": [
    {
     "data": {
      "text/html": [
       "<div>\n",
       "<style scoped>\n",
       "    .dataframe tbody tr th:only-of-type {\n",
       "        vertical-align: middle;\n",
       "    }\n",
       "\n",
       "    .dataframe tbody tr th {\n",
       "        vertical-align: top;\n",
       "    }\n",
       "\n",
       "    .dataframe thead th {\n",
       "        text-align: right;\n",
       "    }\n",
       "</style>\n",
       "<table border=\"1\" class=\"dataframe\">\n",
       "  <thead>\n",
       "    <tr style=\"text-align: right;\">\n",
       "      <th></th>\n",
       "      <th>DepTime</th>\n",
       "      <th>ArrTime</th>\n",
       "      <th>Cancelled</th>\n",
       "      <th>CancellationCode</th>\n",
       "      <th>Diverted</th>\n",
       "    </tr>\n",
       "  </thead>\n",
       "  <tbody>\n",
       "  </tbody>\n",
       "</table>\n",
       "</div>"
      ],
      "text/plain": [
       "Empty DataFrame\n",
       "Columns: [DepTime, ArrTime, Cancelled, CancellationCode, Diverted]\n",
       "Index: []"
      ]
     },
     "execution_count": 155,
     "metadata": {},
     "output_type": "execute_result"
    }
   ],
   "source": [
    "y_2006_df[(y_2006_df.Diverted==1)\\\n",
    "          &(~y_2006_df.ArrTime.isnull())][cols].head()"
   ]
  },
  {
   "cell_type": "code",
   "execution_count": 156,
   "metadata": {},
   "outputs": [
    {
     "data": {
      "text/plain": [
       "(0, 155)"
      ]
     },
     "execution_count": 156,
     "metadata": {},
     "output_type": "execute_result"
    }
   ],
   "source": [
    "y_2006_df[(y_2006_df.Diverted==1)\\\n",
    "          &(~y_2006_df.ArrTime.isnull())][cols].shape[0], y_2006_df[y_2006_df.Diverted==1][cols].shape[0]"
   ]
  },
  {
   "cell_type": "markdown",
   "metadata": {},
   "source": [
    "- The proportion of non-null ArrTime given Diverted==1 is around 20%. (Result is dependent on random sampling). This is not logical. Therefore, I will clean this data. I Will make ArrTime to null when Diverted==1, which I will do below"
   ]
  },
  {
   "cell_type": "markdown",
   "metadata": {},
   "source": [
    "-- **Cleaning Data**"
   ]
  },
  {
   "cell_type": "code",
   "execution_count": 157,
   "metadata": {},
   "outputs": [],
   "source": [
    "indx_to_clean = y_2006_df[(y_2006_df.Diverted==1)\\\n",
    "          &(~y_2006_df.ArrTime.isnull())][cols].index"
   ]
  },
  {
   "cell_type": "code",
   "execution_count": 158,
   "metadata": {},
   "outputs": [],
   "source": [
    "for indx in indx_to_clean:\n",
    "    y_2006_df.loc[indx,'ArrTime'] = pd.NaT"
   ]
  },
  {
   "cell_type": "code",
   "execution_count": 159,
   "metadata": {},
   "outputs": [
    {
     "data": {
      "text/plain": [
       "(0, 155)"
      ]
     },
     "execution_count": 159,
     "metadata": {},
     "output_type": "execute_result"
    }
   ],
   "source": [
    "# Test and Done!\n",
    "y_2006_df[(y_2006_df.Diverted==1)\\\n",
    "          &(~y_2006_df.ArrTime.isnull())][cols].shape[0], y_2006_df[(y_2006_df.Diverted==1)\\\n",
    "          &(y_2006_df.ArrTime.isnull())][cols].shape[0]"
   ]
  },
  {
   "cell_type": "markdown",
   "metadata": {},
   "source": [
    "#### When Diverted==1 and DepTime is null / non-null"
   ]
  },
  {
   "cell_type": "code",
   "execution_count": 160,
   "metadata": {},
   "outputs": [
    {
     "data": {
      "text/plain": [
       "0"
      ]
     },
     "execution_count": 160,
     "metadata": {},
     "output_type": "execute_result"
    }
   ],
   "source": [
    "y_2006_df[(y_2006_df.Diverted==1)\\\n",
    "          &(y_2006_df.DepTime.isnull())].shape[0]"
   ]
  },
  {
   "cell_type": "code",
   "execution_count": 161,
   "metadata": {},
   "outputs": [
    {
     "data": {
      "text/plain": [
       "155"
      ]
     },
     "execution_count": 161,
     "metadata": {},
     "output_type": "execute_result"
    }
   ],
   "source": [
    "y_2006_df[(y_2006_df.Diverted==1)\\\n",
    "          &(~y_2006_df.DepTime.isnull())].shape[0]"
   ]
  },
  {
   "cell_type": "code",
   "execution_count": 162,
   "metadata": {},
   "outputs": [
    {
     "data": {
      "text/html": [
       "<div>\n",
       "<style scoped>\n",
       "    .dataframe tbody tr th:only-of-type {\n",
       "        vertical-align: middle;\n",
       "    }\n",
       "\n",
       "    .dataframe tbody tr th {\n",
       "        vertical-align: top;\n",
       "    }\n",
       "\n",
       "    .dataframe thead th {\n",
       "        text-align: right;\n",
       "    }\n",
       "</style>\n",
       "<table border=\"1\" class=\"dataframe\">\n",
       "  <thead>\n",
       "    <tr style=\"text-align: right;\">\n",
       "      <th></th>\n",
       "      <th>DepTime</th>\n",
       "      <th>ArrTime</th>\n",
       "      <th>Cancelled</th>\n",
       "      <th>CancellationCode</th>\n",
       "      <th>Diverted</th>\n",
       "    </tr>\n",
       "  </thead>\n",
       "  <tbody>\n",
       "    <tr>\n",
       "      <th>22061</th>\n",
       "      <td>2006-06-17 11:37:00</td>\n",
       "      <td>NaT</td>\n",
       "      <td>False</td>\n",
       "      <td>NaN</td>\n",
       "      <td>1</td>\n",
       "    </tr>\n",
       "    <tr>\n",
       "      <th>31692</th>\n",
       "      <td>2006-08-22 18:29:00</td>\n",
       "      <td>NaT</td>\n",
       "      <td>False</td>\n",
       "      <td>NaN</td>\n",
       "      <td>1</td>\n",
       "    </tr>\n",
       "    <tr>\n",
       "      <th>28846</th>\n",
       "      <td>2006-09-23 15:40:00</td>\n",
       "      <td>NaT</td>\n",
       "      <td>False</td>\n",
       "      <td>NaN</td>\n",
       "      <td>1</td>\n",
       "    </tr>\n",
       "    <tr>\n",
       "      <th>69428</th>\n",
       "      <td>2006-10-16 14:12:00</td>\n",
       "      <td>NaT</td>\n",
       "      <td>False</td>\n",
       "      <td>NaN</td>\n",
       "      <td>1</td>\n",
       "    </tr>\n",
       "    <tr>\n",
       "      <th>60866</th>\n",
       "      <td>2006-07-20 08:23:00</td>\n",
       "      <td>NaT</td>\n",
       "      <td>False</td>\n",
       "      <td>NaN</td>\n",
       "      <td>1</td>\n",
       "    </tr>\n",
       "    <tr>\n",
       "      <th>52949</th>\n",
       "      <td>2006-06-30 06:12:00</td>\n",
       "      <td>NaT</td>\n",
       "      <td>False</td>\n",
       "      <td>NaN</td>\n",
       "      <td>1</td>\n",
       "    </tr>\n",
       "    <tr>\n",
       "      <th>28092</th>\n",
       "      <td>2006-11-01 06:43:00</td>\n",
       "      <td>NaT</td>\n",
       "      <td>False</td>\n",
       "      <td>NaN</td>\n",
       "      <td>1</td>\n",
       "    </tr>\n",
       "    <tr>\n",
       "      <th>10978</th>\n",
       "      <td>2006-12-24 07:21:00</td>\n",
       "      <td>NaT</td>\n",
       "      <td>False</td>\n",
       "      <td>NaN</td>\n",
       "      <td>1</td>\n",
       "    </tr>\n",
       "    <tr>\n",
       "      <th>14806</th>\n",
       "      <td>2006-02-21 11:18:00</td>\n",
       "      <td>NaT</td>\n",
       "      <td>False</td>\n",
       "      <td>NaN</td>\n",
       "      <td>1</td>\n",
       "    </tr>\n",
       "    <tr>\n",
       "      <th>40108</th>\n",
       "      <td>2006-05-06 05:56:00</td>\n",
       "      <td>NaT</td>\n",
       "      <td>False</td>\n",
       "      <td>NaN</td>\n",
       "      <td>1</td>\n",
       "    </tr>\n",
       "  </tbody>\n",
       "</table>\n",
       "</div>"
      ],
      "text/plain": [
       "                  DepTime ArrTime  Cancelled CancellationCode  Diverted\n",
       "22061 2006-06-17 11:37:00     NaT      False              NaN         1\n",
       "31692 2006-08-22 18:29:00     NaT      False              NaN         1\n",
       "28846 2006-09-23 15:40:00     NaT      False              NaN         1\n",
       "69428 2006-10-16 14:12:00     NaT      False              NaN         1\n",
       "60866 2006-07-20 08:23:00     NaT      False              NaN         1\n",
       "52949 2006-06-30 06:12:00     NaT      False              NaN         1\n",
       "28092 2006-11-01 06:43:00     NaT      False              NaN         1\n",
       "10978 2006-12-24 07:21:00     NaT      False              NaN         1\n",
       "14806 2006-02-21 11:18:00     NaT      False              NaN         1\n",
       "40108 2006-05-06 05:56:00     NaT      False              NaN         1"
      ]
     },
     "execution_count": 162,
     "metadata": {},
     "output_type": "execute_result"
    }
   ],
   "source": [
    "y_2006_df[(y_2006_df.Diverted==1)\\\n",
    "          &(~y_2006_df.DepTime.isnull())][cols].sample(10)"
   ]
  },
  {
   "cell_type": "markdown",
   "metadata": {},
   "source": [
    "- Note that when Diverted==1, all ArrTime is null and all DepTime is non-null. "
   ]
  },
  {
   "cell_type": "markdown",
   "metadata": {},
   "source": [
    "#### When Diverted==1 and DepTime non-null and Cancelled is True / False"
   ]
  },
  {
   "cell_type": "code",
   "execution_count": 163,
   "metadata": {},
   "outputs": [
    {
     "data": {
      "text/html": [
       "<div>\n",
       "<style scoped>\n",
       "    .dataframe tbody tr th:only-of-type {\n",
       "        vertical-align: middle;\n",
       "    }\n",
       "\n",
       "    .dataframe tbody tr th {\n",
       "        vertical-align: top;\n",
       "    }\n",
       "\n",
       "    .dataframe thead th {\n",
       "        text-align: right;\n",
       "    }\n",
       "</style>\n",
       "<table border=\"1\" class=\"dataframe\">\n",
       "  <thead>\n",
       "    <tr style=\"text-align: right;\">\n",
       "      <th></th>\n",
       "      <th>DepTime</th>\n",
       "      <th>ArrTime</th>\n",
       "      <th>Cancelled</th>\n",
       "      <th>CancellationCode</th>\n",
       "      <th>Diverted</th>\n",
       "    </tr>\n",
       "  </thead>\n",
       "  <tbody>\n",
       "    <tr>\n",
       "      <th>21821</th>\n",
       "      <td>2006-01-23 08:05:00</td>\n",
       "      <td>NaT</td>\n",
       "      <td>False</td>\n",
       "      <td>NaN</td>\n",
       "      <td>1</td>\n",
       "    </tr>\n",
       "    <tr>\n",
       "      <th>41699</th>\n",
       "      <td>2006-10-12 17:25:00</td>\n",
       "      <td>NaT</td>\n",
       "      <td>False</td>\n",
       "      <td>NaN</td>\n",
       "      <td>1</td>\n",
       "    </tr>\n",
       "    <tr>\n",
       "      <th>28092</th>\n",
       "      <td>2006-11-01 06:43:00</td>\n",
       "      <td>NaT</td>\n",
       "      <td>False</td>\n",
       "      <td>NaN</td>\n",
       "      <td>1</td>\n",
       "    </tr>\n",
       "    <tr>\n",
       "      <th>27992</th>\n",
       "      <td>2006-09-28 07:32:00</td>\n",
       "      <td>NaT</td>\n",
       "      <td>False</td>\n",
       "      <td>NaN</td>\n",
       "      <td>1</td>\n",
       "    </tr>\n",
       "    <tr>\n",
       "      <th>18503</th>\n",
       "      <td>2006-09-24 22:21:00</td>\n",
       "      <td>NaT</td>\n",
       "      <td>False</td>\n",
       "      <td>NaN</td>\n",
       "      <td>1</td>\n",
       "    </tr>\n",
       "  </tbody>\n",
       "</table>\n",
       "</div>"
      ],
      "text/plain": [
       "                  DepTime ArrTime  Cancelled CancellationCode  Diverted\n",
       "21821 2006-01-23 08:05:00     NaT      False              NaN         1\n",
       "41699 2006-10-12 17:25:00     NaT      False              NaN         1\n",
       "28092 2006-11-01 06:43:00     NaT      False              NaN         1\n",
       "27992 2006-09-28 07:32:00     NaT      False              NaN         1\n",
       "18503 2006-09-24 22:21:00     NaT      False              NaN         1"
      ]
     },
     "execution_count": 163,
     "metadata": {},
     "output_type": "execute_result"
    }
   ],
   "source": [
    "y_2006_df[(y_2006_df.Diverted==1)\\\n",
    "          &(~y_2006_df.DepTime.isnull())\\\n",
    "          &(y_2006_df.Cancelled==False)][cols].sample(5)"
   ]
  },
  {
   "cell_type": "code",
   "execution_count": 164,
   "metadata": {},
   "outputs": [
    {
     "data": {
      "text/plain": [
       "155"
      ]
     },
     "execution_count": 164,
     "metadata": {},
     "output_type": "execute_result"
    }
   ],
   "source": [
    "y_2006_df[(y_2006_df.Diverted==1)\\\n",
    "          &(~y_2006_df.DepTime.isnull())\\\n",
    "          &(y_2006_df.Cancelled==False)][cols].shape[0]"
   ]
  },
  {
   "cell_type": "code",
   "execution_count": 165,
   "metadata": {},
   "outputs": [
    {
     "data": {
      "text/html": [
       "<div>\n",
       "<style scoped>\n",
       "    .dataframe tbody tr th:only-of-type {\n",
       "        vertical-align: middle;\n",
       "    }\n",
       "\n",
       "    .dataframe tbody tr th {\n",
       "        vertical-align: top;\n",
       "    }\n",
       "\n",
       "    .dataframe thead th {\n",
       "        text-align: right;\n",
       "    }\n",
       "</style>\n",
       "<table border=\"1\" class=\"dataframe\">\n",
       "  <thead>\n",
       "    <tr style=\"text-align: right;\">\n",
       "      <th></th>\n",
       "      <th>DepTime</th>\n",
       "      <th>ArrTime</th>\n",
       "      <th>Cancelled</th>\n",
       "      <th>CancellationCode</th>\n",
       "      <th>Diverted</th>\n",
       "    </tr>\n",
       "  </thead>\n",
       "  <tbody>\n",
       "  </tbody>\n",
       "</table>\n",
       "</div>"
      ],
      "text/plain": [
       "Empty DataFrame\n",
       "Columns: [DepTime, ArrTime, Cancelled, CancellationCode, Diverted]\n",
       "Index: []"
      ]
     },
     "execution_count": 165,
     "metadata": {},
     "output_type": "execute_result"
    }
   ],
   "source": [
    "y_2006_df[(y_2006_df.Diverted==1)\\\n",
    "          &(~y_2006_df.DepTime.isnull())\\\n",
    "          &(y_2006_df.Cancelled==True)][cols]"
   ]
  },
  {
   "cell_type": "code",
   "execution_count": 166,
   "metadata": {},
   "outputs": [
    {
     "data": {
      "text/plain": [
       "0"
      ]
     },
     "execution_count": 166,
     "metadata": {},
     "output_type": "execute_result"
    }
   ],
   "source": [
    "y_2006_df[(y_2006_df.Diverted==1)\\\n",
    "          &(~y_2006_df.DepTime.isnull())\\\n",
    "          &(y_2006_df.Cancelled==True)][cols].shape[0]"
   ]
  },
  {
   "cell_type": "markdown",
   "metadata": {},
   "source": [
    "- This above test yields an important insight! planes that are diverted are not cancelled! <br><br>"
   ]
  },
  {
   "cell_type": "markdown",
   "metadata": {},
   "source": [
    "# 9. Exploring Cancelled -- Part Two"
   ]
  },
  {
   "cell_type": "code",
   "execution_count": 167,
   "metadata": {},
   "outputs": [],
   "source": [
    "cols = ['DepTime','ArrTime','Cancelled','CancellationCode','Diverted']"
   ]
  },
  {
   "cell_type": "markdown",
   "metadata": {},
   "source": [
    "#### When Cancelled==True, we expect all DepTime and ArrTime is null"
   ]
  },
  {
   "cell_type": "code",
   "execution_count": 168,
   "metadata": {},
   "outputs": [
    {
     "data": {
      "text/html": [
       "<div>\n",
       "<style scoped>\n",
       "    .dataframe tbody tr th:only-of-type {\n",
       "        vertical-align: middle;\n",
       "    }\n",
       "\n",
       "    .dataframe tbody tr th {\n",
       "        vertical-align: top;\n",
       "    }\n",
       "\n",
       "    .dataframe thead th {\n",
       "        text-align: right;\n",
       "    }\n",
       "</style>\n",
       "<table border=\"1\" class=\"dataframe\">\n",
       "  <thead>\n",
       "    <tr style=\"text-align: right;\">\n",
       "      <th></th>\n",
       "      <th>DepTime</th>\n",
       "      <th>ArrTime</th>\n",
       "      <th>Cancelled</th>\n",
       "      <th>CancellationCode</th>\n",
       "      <th>Diverted</th>\n",
       "    </tr>\n",
       "  </thead>\n",
       "  <tbody>\n",
       "    <tr>\n",
       "      <th>52</th>\n",
       "      <td>NaT</td>\n",
       "      <td>NaT</td>\n",
       "      <td>True</td>\n",
       "      <td>A</td>\n",
       "      <td>0</td>\n",
       "    </tr>\n",
       "    <tr>\n",
       "      <th>106</th>\n",
       "      <td>NaT</td>\n",
       "      <td>NaT</td>\n",
       "      <td>True</td>\n",
       "      <td>B</td>\n",
       "      <td>0</td>\n",
       "    </tr>\n",
       "    <tr>\n",
       "      <th>197</th>\n",
       "      <td>NaT</td>\n",
       "      <td>NaT</td>\n",
       "      <td>True</td>\n",
       "      <td>A</td>\n",
       "      <td>0</td>\n",
       "    </tr>\n",
       "    <tr>\n",
       "      <th>203</th>\n",
       "      <td>NaT</td>\n",
       "      <td>NaT</td>\n",
       "      <td>True</td>\n",
       "      <td>C</td>\n",
       "      <td>0</td>\n",
       "    </tr>\n",
       "    <tr>\n",
       "      <th>286</th>\n",
       "      <td>NaT</td>\n",
       "      <td>NaT</td>\n",
       "      <td>True</td>\n",
       "      <td>A</td>\n",
       "      <td>0</td>\n",
       "    </tr>\n",
       "  </tbody>\n",
       "</table>\n",
       "</div>"
      ],
      "text/plain": [
       "    DepTime ArrTime  Cancelled CancellationCode  Diverted\n",
       "52      NaT     NaT       True                A         0\n",
       "106     NaT     NaT       True                B         0\n",
       "197     NaT     NaT       True                A         0\n",
       "203     NaT     NaT       True                C         0\n",
       "286     NaT     NaT       True                A         0"
      ]
     },
     "execution_count": 168,
     "metadata": {},
     "output_type": "execute_result"
    }
   ],
   "source": [
    "y_2006_df[(y_2006_df.Cancelled==True)\\\n",
    "          & (y_2006_df.DepTime.isnull())\n",
    "          & (y_2006_df.ArrTime.isnull())][cols].head()"
   ]
  },
  {
   "cell_type": "code",
   "execution_count": 169,
   "metadata": {},
   "outputs": [
    {
     "data": {
      "text/plain": [
       "1297"
      ]
     },
     "execution_count": 169,
     "metadata": {},
     "output_type": "execute_result"
    }
   ],
   "source": [
    "y_2006_df[(y_2006_df.Cancelled==True)\\\n",
    "          & (y_2006_df.DepTime.isnull())\n",
    "          & (y_2006_df.ArrTime.isnull())][cols].shape[0]"
   ]
  },
  {
   "cell_type": "code",
   "execution_count": 170,
   "metadata": {},
   "outputs": [
    {
     "data": {
      "text/plain": [
       "False    70076\n",
       "True      1297\n",
       "Name: Cancelled, dtype: int64"
      ]
     },
     "execution_count": 170,
     "metadata": {},
     "output_type": "execute_result"
    }
   ],
   "source": [
    "y_2006_df.Cancelled.value_counts(dropna=False)"
   ]
  },
  {
   "cell_type": "markdown",
   "metadata": {},
   "source": [
    "- From the result above, we can be sure at this point that when Cancelled==True, DepTime and ArrTime is null. (for this data of random sampling)"
   ]
  },
  {
   "cell_type": "markdown",
   "metadata": {},
   "source": [
    "#### When Cancelled==False, we expect DepTime and ArrTime is not null"
   ]
  },
  {
   "cell_type": "code",
   "execution_count": 171,
   "metadata": {},
   "outputs": [
    {
     "data": {
      "text/html": [
       "<div>\n",
       "<style scoped>\n",
       "    .dataframe tbody tr th:only-of-type {\n",
       "        vertical-align: middle;\n",
       "    }\n",
       "\n",
       "    .dataframe tbody tr th {\n",
       "        vertical-align: top;\n",
       "    }\n",
       "\n",
       "    .dataframe thead th {\n",
       "        text-align: right;\n",
       "    }\n",
       "</style>\n",
       "<table border=\"1\" class=\"dataframe\">\n",
       "  <thead>\n",
       "    <tr style=\"text-align: right;\">\n",
       "      <th></th>\n",
       "      <th>DepTime</th>\n",
       "      <th>ArrTime</th>\n",
       "      <th>Cancelled</th>\n",
       "      <th>CancellationCode</th>\n",
       "      <th>Diverted</th>\n",
       "    </tr>\n",
       "  </thead>\n",
       "  <tbody>\n",
       "    <tr>\n",
       "      <th>0</th>\n",
       "      <td>2006-02-28 17:45:00</td>\n",
       "      <td>2006-02-28 00:02:00</td>\n",
       "      <td>False</td>\n",
       "      <td>NaN</td>\n",
       "      <td>0</td>\n",
       "    </tr>\n",
       "    <tr>\n",
       "      <th>1</th>\n",
       "      <td>2006-11-13 19:10:00</td>\n",
       "      <td>2006-11-13 19:57:00</td>\n",
       "      <td>False</td>\n",
       "      <td>NaN</td>\n",
       "      <td>0</td>\n",
       "    </tr>\n",
       "    <tr>\n",
       "      <th>2</th>\n",
       "      <td>2006-01-30 10:33:00</td>\n",
       "      <td>2006-01-30 11:31:00</td>\n",
       "      <td>False</td>\n",
       "      <td>NaN</td>\n",
       "      <td>0</td>\n",
       "    </tr>\n",
       "    <tr>\n",
       "      <th>3</th>\n",
       "      <td>2006-12-11 21:00:00</td>\n",
       "      <td>2006-12-11 22:21:00</td>\n",
       "      <td>False</td>\n",
       "      <td>NaN</td>\n",
       "      <td>0</td>\n",
       "    </tr>\n",
       "    <tr>\n",
       "      <th>4</th>\n",
       "      <td>2006-03-26 16:51:00</td>\n",
       "      <td>2006-03-26 21:07:00</td>\n",
       "      <td>False</td>\n",
       "      <td>NaN</td>\n",
       "      <td>0</td>\n",
       "    </tr>\n",
       "  </tbody>\n",
       "</table>\n",
       "</div>"
      ],
      "text/plain": [
       "              DepTime             ArrTime  Cancelled CancellationCode  \\\n",
       "0 2006-02-28 17:45:00 2006-02-28 00:02:00      False              NaN   \n",
       "1 2006-11-13 19:10:00 2006-11-13 19:57:00      False              NaN   \n",
       "2 2006-01-30 10:33:00 2006-01-30 11:31:00      False              NaN   \n",
       "3 2006-12-11 21:00:00 2006-12-11 22:21:00      False              NaN   \n",
       "4 2006-03-26 16:51:00 2006-03-26 21:07:00      False              NaN   \n",
       "\n",
       "   Diverted  \n",
       "0         0  \n",
       "1         0  \n",
       "2         0  \n",
       "3         0  \n",
       "4         0  "
      ]
     },
     "execution_count": 171,
     "metadata": {},
     "output_type": "execute_result"
    }
   ],
   "source": [
    "y_2006_df[(y_2006_df.Cancelled==False)\\\n",
    "          & (~y_2006_df.DepTime.isnull())\n",
    "          & (~y_2006_df.ArrTime.isnull())][cols].head()"
   ]
  },
  {
   "cell_type": "code",
   "execution_count": 172,
   "metadata": {},
   "outputs": [
    {
     "data": {
      "text/plain": [
       "69860"
      ]
     },
     "execution_count": 172,
     "metadata": {},
     "output_type": "execute_result"
    }
   ],
   "source": [
    "y_2006_df[(y_2006_df.Cancelled==False)\\\n",
    "          & (~y_2006_df.DepTime.isnull())\n",
    "          & (~y_2006_df.ArrTime.isnull())].shape[0]"
   ]
  },
  {
   "cell_type": "markdown",
   "metadata": {},
   "source": [
    "- This is what we expected. When Cancelled==False, DepTime and ArrTime is not null. This condition represent a bulk of our data, which is good."
   ]
  },
  {
   "cell_type": "markdown",
   "metadata": {},
   "source": [
    "#### When Cancelled==False and DepTime is null and ArrTime is not null\n",
    "- Rows with this condition shouldn't be in our data. Therefore, drop these rows."
   ]
  },
  {
   "cell_type": "code",
   "execution_count": 173,
   "metadata": {},
   "outputs": [
    {
     "data": {
      "text/html": [
       "<div>\n",
       "<style scoped>\n",
       "    .dataframe tbody tr th:only-of-type {\n",
       "        vertical-align: middle;\n",
       "    }\n",
       "\n",
       "    .dataframe tbody tr th {\n",
       "        vertical-align: top;\n",
       "    }\n",
       "\n",
       "    .dataframe thead th {\n",
       "        text-align: right;\n",
       "    }\n",
       "</style>\n",
       "<table border=\"1\" class=\"dataframe\">\n",
       "  <thead>\n",
       "    <tr style=\"text-align: right;\">\n",
       "      <th></th>\n",
       "      <th>DepTime</th>\n",
       "      <th>ArrTime</th>\n",
       "      <th>Cancelled</th>\n",
       "      <th>CancellationCode</th>\n",
       "      <th>Diverted</th>\n",
       "    </tr>\n",
       "  </thead>\n",
       "  <tbody>\n",
       "    <tr>\n",
       "      <th>6217</th>\n",
       "      <td>NaT</td>\n",
       "      <td>2006-07-11 01:22:00</td>\n",
       "      <td>False</td>\n",
       "      <td>NaN</td>\n",
       "      <td>0</td>\n",
       "    </tr>\n",
       "    <tr>\n",
       "      <th>13283</th>\n",
       "      <td>NaT</td>\n",
       "      <td>2006-04-12 05:43:00</td>\n",
       "      <td>False</td>\n",
       "      <td>NaN</td>\n",
       "      <td>0</td>\n",
       "    </tr>\n",
       "    <tr>\n",
       "      <th>38986</th>\n",
       "      <td>NaT</td>\n",
       "      <td>2006-05-11 05:08:00</td>\n",
       "      <td>False</td>\n",
       "      <td>NaN</td>\n",
       "      <td>0</td>\n",
       "    </tr>\n",
       "    <tr>\n",
       "      <th>41051</th>\n",
       "      <td>NaT</td>\n",
       "      <td>2006-12-16 01:56:00</td>\n",
       "      <td>False</td>\n",
       "      <td>NaN</td>\n",
       "      <td>0</td>\n",
       "    </tr>\n",
       "    <tr>\n",
       "      <th>62821</th>\n",
       "      <td>NaT</td>\n",
       "      <td>2006-01-12 02:02:00</td>\n",
       "      <td>False</td>\n",
       "      <td>NaN</td>\n",
       "      <td>0</td>\n",
       "    </tr>\n",
       "  </tbody>\n",
       "</table>\n",
       "</div>"
      ],
      "text/plain": [
       "      DepTime             ArrTime  Cancelled CancellationCode  Diverted\n",
       "6217      NaT 2006-07-11 01:22:00      False              NaN         0\n",
       "13283     NaT 2006-04-12 05:43:00      False              NaN         0\n",
       "38986     NaT 2006-05-11 05:08:00      False              NaN         0\n",
       "41051     NaT 2006-12-16 01:56:00      False              NaN         0\n",
       "62821     NaT 2006-01-12 02:02:00      False              NaN         0"
      ]
     },
     "execution_count": 173,
     "metadata": {},
     "output_type": "execute_result"
    }
   ],
   "source": [
    "y_2006_df[(y_2006_df.Cancelled==False)\\\n",
    "          & (y_2006_df.DepTime.isnull())\n",
    "          & (~y_2006_df.ArrTime.isnull())][cols].head()"
   ]
  },
  {
   "cell_type": "code",
   "execution_count": 174,
   "metadata": {},
   "outputs": [
    {
     "data": {
      "text/plain": [
       "5"
      ]
     },
     "execution_count": 174,
     "metadata": {},
     "output_type": "execute_result"
    }
   ],
   "source": [
    "y_2006_df[(y_2006_df.Cancelled==False)\\\n",
    "          & (y_2006_df.DepTime.isnull())\n",
    "          & (~y_2006_df.ArrTime.isnull())][cols].shape[0]"
   ]
  },
  {
   "cell_type": "code",
   "execution_count": 175,
   "metadata": {},
   "outputs": [],
   "source": [
    "indx_to_drop = y_2006_df[(y_2006_df.Cancelled==False)\\\n",
    "          & (y_2006_df.DepTime.isnull())\n",
    "          & (~y_2006_df.ArrTime.isnull())].index"
   ]
  },
  {
   "cell_type": "code",
   "execution_count": 176,
   "metadata": {},
   "outputs": [],
   "source": [
    "y_2006_df.drop(index=indx_to_drop,axis=0,inplace=True)"
   ]
  },
  {
   "cell_type": "code",
   "execution_count": 177,
   "metadata": {},
   "outputs": [
    {
     "data": {
      "text/plain": [
       "0"
      ]
     },
     "execution_count": 177,
     "metadata": {},
     "output_type": "execute_result"
    }
   ],
   "source": [
    "#Test\n",
    "y_2006_df[(y_2006_df.Cancelled==False)\\\n",
    "          & (y_2006_df.DepTime.isnull())\n",
    "          & (~y_2006_df.ArrTime.isnull())][cols].shape[0]"
   ]
  },
  {
   "cell_type": "markdown",
   "metadata": {},
   "source": [
    "#### When Cancelled==False and DepTime is not null and ArrTime is null\n",
    "- ArrTime shouldn't be null if Diverted==0. If Diverted==1 and ArrTime is null, it is O.K"
   ]
  },
  {
   "cell_type": "code",
   "execution_count": 178,
   "metadata": {},
   "outputs": [
    {
     "data": {
      "text/html": [
       "<div>\n",
       "<style scoped>\n",
       "    .dataframe tbody tr th:only-of-type {\n",
       "        vertical-align: middle;\n",
       "    }\n",
       "\n",
       "    .dataframe tbody tr th {\n",
       "        vertical-align: top;\n",
       "    }\n",
       "\n",
       "    .dataframe thead th {\n",
       "        text-align: right;\n",
       "    }\n",
       "</style>\n",
       "<table border=\"1\" class=\"dataframe\">\n",
       "  <thead>\n",
       "    <tr style=\"text-align: right;\">\n",
       "      <th></th>\n",
       "      <th>DepTime</th>\n",
       "      <th>ArrTime</th>\n",
       "      <th>Cancelled</th>\n",
       "      <th>CancellationCode</th>\n",
       "      <th>Diverted</th>\n",
       "    </tr>\n",
       "  </thead>\n",
       "  <tbody>\n",
       "    <tr>\n",
       "      <th>12522</th>\n",
       "      <td>2006-10-26 12:03:00</td>\n",
       "      <td>NaT</td>\n",
       "      <td>False</td>\n",
       "      <td>NaN</td>\n",
       "      <td>1</td>\n",
       "    </tr>\n",
       "    <tr>\n",
       "      <th>14806</th>\n",
       "      <td>2006-02-21 11:18:00</td>\n",
       "      <td>NaT</td>\n",
       "      <td>False</td>\n",
       "      <td>NaN</td>\n",
       "      <td>1</td>\n",
       "    </tr>\n",
       "    <tr>\n",
       "      <th>56623</th>\n",
       "      <td>2006-06-26 14:17:00</td>\n",
       "      <td>NaT</td>\n",
       "      <td>False</td>\n",
       "      <td>NaN</td>\n",
       "      <td>1</td>\n",
       "    </tr>\n",
       "    <tr>\n",
       "      <th>58047</th>\n",
       "      <td>2006-11-09 18:35:00</td>\n",
       "      <td>NaT</td>\n",
       "      <td>False</td>\n",
       "      <td>NaN</td>\n",
       "      <td>1</td>\n",
       "    </tr>\n",
       "    <tr>\n",
       "      <th>6717</th>\n",
       "      <td>2006-02-16 11:00:00</td>\n",
       "      <td>NaT</td>\n",
       "      <td>False</td>\n",
       "      <td>NaN</td>\n",
       "      <td>1</td>\n",
       "    </tr>\n",
       "  </tbody>\n",
       "</table>\n",
       "</div>"
      ],
      "text/plain": [
       "                  DepTime ArrTime  Cancelled CancellationCode  Diverted\n",
       "12522 2006-10-26 12:03:00     NaT      False              NaN         1\n",
       "14806 2006-02-21 11:18:00     NaT      False              NaN         1\n",
       "56623 2006-06-26 14:17:00     NaT      False              NaN         1\n",
       "58047 2006-11-09 18:35:00     NaT      False              NaN         1\n",
       "6717  2006-02-16 11:00:00     NaT      False              NaN         1"
      ]
     },
     "execution_count": 178,
     "metadata": {},
     "output_type": "execute_result"
    }
   ],
   "source": [
    "y_2006_df[(y_2006_df.Cancelled==False)\\\n",
    "          & (~y_2006_df.DepTime.isnull())\n",
    "          & (y_2006_df.ArrTime.isnull())\n",
    "          & (y_2006_df.Diverted==1)][cols].sample(5)"
   ]
  },
  {
   "cell_type": "code",
   "execution_count": 179,
   "metadata": {},
   "outputs": [
    {
     "data": {
      "text/plain": [
       "155"
      ]
     },
     "execution_count": 179,
     "metadata": {},
     "output_type": "execute_result"
    }
   ],
   "source": [
    "y_2006_df[(y_2006_df.Cancelled==False)\\\n",
    "          & (~y_2006_df.DepTime.isnull())\n",
    "          & (y_2006_df.ArrTime.isnull())\n",
    "          & (y_2006_df.Diverted==1)][cols].shape[0]"
   ]
  },
  {
   "cell_type": "markdown",
   "metadata": {},
   "source": [
    "- This is O.K. ArrTime is null and Diverted==1. Because the plane is diverted, there is no information on ArrTime."
   ]
  },
  {
   "cell_type": "code",
   "execution_count": 180,
   "metadata": {},
   "outputs": [
    {
     "data": {
      "text/html": [
       "<div>\n",
       "<style scoped>\n",
       "    .dataframe tbody tr th:only-of-type {\n",
       "        vertical-align: middle;\n",
       "    }\n",
       "\n",
       "    .dataframe tbody tr th {\n",
       "        vertical-align: top;\n",
       "    }\n",
       "\n",
       "    .dataframe thead th {\n",
       "        text-align: right;\n",
       "    }\n",
       "</style>\n",
       "<table border=\"1\" class=\"dataframe\">\n",
       "  <thead>\n",
       "    <tr style=\"text-align: right;\">\n",
       "      <th></th>\n",
       "      <th>DepTime</th>\n",
       "      <th>ArrTime</th>\n",
       "      <th>Cancelled</th>\n",
       "      <th>CancellationCode</th>\n",
       "      <th>Diverted</th>\n",
       "    </tr>\n",
       "  </thead>\n",
       "  <tbody>\n",
       "    <tr>\n",
       "      <th>111</th>\n",
       "      <td>2006-01-26 23:00:00</td>\n",
       "      <td>NaT</td>\n",
       "      <td>False</td>\n",
       "      <td>NaN</td>\n",
       "      <td>0</td>\n",
       "    </tr>\n",
       "    <tr>\n",
       "      <th>3946</th>\n",
       "      <td>2006-09-18 23:17:00</td>\n",
       "      <td>NaT</td>\n",
       "      <td>False</td>\n",
       "      <td>NaN</td>\n",
       "      <td>0</td>\n",
       "    </tr>\n",
       "    <tr>\n",
       "      <th>4050</th>\n",
       "      <td>2006-12-17 21:40:00</td>\n",
       "      <td>NaT</td>\n",
       "      <td>False</td>\n",
       "      <td>NaN</td>\n",
       "      <td>0</td>\n",
       "    </tr>\n",
       "    <tr>\n",
       "      <th>4914</th>\n",
       "      <td>2006-07-16 22:00:00</td>\n",
       "      <td>NaT</td>\n",
       "      <td>False</td>\n",
       "      <td>NaN</td>\n",
       "      <td>0</td>\n",
       "    </tr>\n",
       "    <tr>\n",
       "      <th>8355</th>\n",
       "      <td>2006-05-22 21:22:00</td>\n",
       "      <td>NaT</td>\n",
       "      <td>False</td>\n",
       "      <td>NaN</td>\n",
       "      <td>0</td>\n",
       "    </tr>\n",
       "  </tbody>\n",
       "</table>\n",
       "</div>"
      ],
      "text/plain": [
       "                 DepTime ArrTime  Cancelled CancellationCode  Diverted\n",
       "111  2006-01-26 23:00:00     NaT      False              NaN         0\n",
       "3946 2006-09-18 23:17:00     NaT      False              NaN         0\n",
       "4050 2006-12-17 21:40:00     NaT      False              NaN         0\n",
       "4914 2006-07-16 22:00:00     NaT      False              NaN         0\n",
       "8355 2006-05-22 21:22:00     NaT      False              NaN         0"
      ]
     },
     "execution_count": 180,
     "metadata": {},
     "output_type": "execute_result"
    }
   ],
   "source": [
    "y_2006_df[(y_2006_df.Cancelled==False)\\\n",
    "          & (~y_2006_df.DepTime.isnull())\n",
    "          & (y_2006_df.ArrTime.isnull())\n",
    "          & (y_2006_df.Diverted==0)][cols].head()"
   ]
  },
  {
   "cell_type": "code",
   "execution_count": 181,
   "metadata": {},
   "outputs": [
    {
     "data": {
      "text/plain": [
       "49"
      ]
     },
     "execution_count": 181,
     "metadata": {},
     "output_type": "execute_result"
    }
   ],
   "source": [
    "y_2006_df[(y_2006_df.Cancelled==False)\\\n",
    "          & (~y_2006_df.DepTime.isnull())\n",
    "          & (y_2006_df.ArrTime.isnull())\n",
    "          & (y_2006_df.Diverted==0)][cols].shape[0]"
   ]
  },
  {
   "cell_type": "markdown",
   "metadata": {},
   "source": [
    "- This is not O.K. There is no Cancellation and no Diversion. ArrTime shouldn't be null. Drop these rows."
   ]
  },
  {
   "cell_type": "code",
   "execution_count": 182,
   "metadata": {},
   "outputs": [],
   "source": [
    "indx_to_drop = y_2006_df[(y_2006_df.Cancelled==False)\\\n",
    "          & (~y_2006_df.DepTime.isnull())\n",
    "          & (y_2006_df.ArrTime.isnull())\n",
    "          & (y_2006_df.Diverted==0)].index"
   ]
  },
  {
   "cell_type": "code",
   "execution_count": 183,
   "metadata": {},
   "outputs": [],
   "source": [
    "y_2006_df.drop(index=indx_to_drop,axis=0,inplace=True)"
   ]
  },
  {
   "cell_type": "code",
   "execution_count": 184,
   "metadata": {},
   "outputs": [
    {
     "data": {
      "text/plain": [
       "0"
      ]
     },
     "execution_count": 184,
     "metadata": {},
     "output_type": "execute_result"
    }
   ],
   "source": [
    "# Test\n",
    "y_2006_df[(y_2006_df.Cancelled==False)\\\n",
    "          & (~y_2006_df.DepTime.isnull())\n",
    "          & (y_2006_df.ArrTime.isnull())\n",
    "          & (y_2006_df.Diverted==0)][cols].shape[0]"
   ]
  },
  {
   "cell_type": "markdown",
   "metadata": {},
   "source": [
    "# 10. Exploring Delays"
   ]
  },
  {
   "cell_type": "code",
   "execution_count": 185,
   "metadata": {},
   "outputs": [],
   "source": [
    "cols_delays = ['CarrierDelay','WeatherDelay','NASDelay','SecurityDelay','LateAircraftDelay',\\\n",
    "               'ArrDelayM','DepDelayM']"
   ]
  },
  {
   "cell_type": "code",
   "execution_count": 186,
   "metadata": {},
   "outputs": [
    {
     "data": {
      "text/html": [
       "<div>\n",
       "<style scoped>\n",
       "    .dataframe tbody tr th:only-of-type {\n",
       "        vertical-align: middle;\n",
       "    }\n",
       "\n",
       "    .dataframe tbody tr th {\n",
       "        vertical-align: top;\n",
       "    }\n",
       "\n",
       "    .dataframe thead th {\n",
       "        text-align: right;\n",
       "    }\n",
       "</style>\n",
       "<table border=\"1\" class=\"dataframe\">\n",
       "  <thead>\n",
       "    <tr style=\"text-align: right;\">\n",
       "      <th></th>\n",
       "      <th>CarrierDelay</th>\n",
       "      <th>WeatherDelay</th>\n",
       "      <th>NASDelay</th>\n",
       "      <th>SecurityDelay</th>\n",
       "      <th>LateAircraftDelay</th>\n",
       "      <th>ArrDelayM</th>\n",
       "      <th>DepDelayM</th>\n",
       "    </tr>\n",
       "  </thead>\n",
       "  <tbody>\n",
       "    <tr>\n",
       "      <th>CarrierDelay</th>\n",
       "      <td>1.000000</td>\n",
       "      <td>-0.010495</td>\n",
       "      <td>0.018188</td>\n",
       "      <td>-0.004351</td>\n",
       "      <td>0.032136</td>\n",
       "      <td>0.558376</td>\n",
       "      <td>0.587787</td>\n",
       "    </tr>\n",
       "    <tr>\n",
       "      <th>WeatherDelay</th>\n",
       "      <td>-0.010495</td>\n",
       "      <td>1.000000</td>\n",
       "      <td>0.041590</td>\n",
       "      <td>-0.000991</td>\n",
       "      <td>0.023556</td>\n",
       "      <td>0.256338</td>\n",
       "      <td>0.253533</td>\n",
       "    </tr>\n",
       "    <tr>\n",
       "      <th>NASDelay</th>\n",
       "      <td>0.018188</td>\n",
       "      <td>0.041590</td>\n",
       "      <td>1.000000</td>\n",
       "      <td>0.005596</td>\n",
       "      <td>0.059735</td>\n",
       "      <td>0.507066</td>\n",
       "      <td>0.325975</td>\n",
       "    </tr>\n",
       "    <tr>\n",
       "      <th>SecurityDelay</th>\n",
       "      <td>-0.004351</td>\n",
       "      <td>-0.000991</td>\n",
       "      <td>0.005596</td>\n",
       "      <td>1.000000</td>\n",
       "      <td>0.004790</td>\n",
       "      <td>0.031270</td>\n",
       "      <td>0.029637</td>\n",
       "    </tr>\n",
       "    <tr>\n",
       "      <th>LateAircraftDelay</th>\n",
       "      <td>0.032136</td>\n",
       "      <td>0.023556</td>\n",
       "      <td>0.059735</td>\n",
       "      <td>0.004790</td>\n",
       "      <td>1.000000</td>\n",
       "      <td>0.621462</td>\n",
       "      <td>0.654677</td>\n",
       "    </tr>\n",
       "    <tr>\n",
       "      <th>ArrDelayM</th>\n",
       "      <td>0.558376</td>\n",
       "      <td>0.256338</td>\n",
       "      <td>0.507066</td>\n",
       "      <td>0.031270</td>\n",
       "      <td>0.621462</td>\n",
       "      <td>1.000000</td>\n",
       "      <td>0.926305</td>\n",
       "    </tr>\n",
       "    <tr>\n",
       "      <th>DepDelayM</th>\n",
       "      <td>0.587787</td>\n",
       "      <td>0.253533</td>\n",
       "      <td>0.325975</td>\n",
       "      <td>0.029637</td>\n",
       "      <td>0.654677</td>\n",
       "      <td>0.926305</td>\n",
       "      <td>1.000000</td>\n",
       "    </tr>\n",
       "  </tbody>\n",
       "</table>\n",
       "</div>"
      ],
      "text/plain": [
       "                   CarrierDelay  WeatherDelay  NASDelay  SecurityDelay  \\\n",
       "CarrierDelay           1.000000     -0.010495  0.018188      -0.004351   \n",
       "WeatherDelay          -0.010495      1.000000  0.041590      -0.000991   \n",
       "NASDelay               0.018188      0.041590  1.000000       0.005596   \n",
       "SecurityDelay         -0.004351     -0.000991  0.005596       1.000000   \n",
       "LateAircraftDelay      0.032136      0.023556  0.059735       0.004790   \n",
       "ArrDelayM              0.558376      0.256338  0.507066       0.031270   \n",
       "DepDelayM              0.587787      0.253533  0.325975       0.029637   \n",
       "\n",
       "                   LateAircraftDelay  ArrDelayM  DepDelayM  \n",
       "CarrierDelay                0.032136   0.558376   0.587787  \n",
       "WeatherDelay                0.023556   0.256338   0.253533  \n",
       "NASDelay                    0.059735   0.507066   0.325975  \n",
       "SecurityDelay               0.004790   0.031270   0.029637  \n",
       "LateAircraftDelay           1.000000   0.621462   0.654677  \n",
       "ArrDelayM                   0.621462   1.000000   0.926305  \n",
       "DepDelayM                   0.654677   0.926305   1.000000  "
      ]
     },
     "execution_count": 186,
     "metadata": {},
     "output_type": "execute_result"
    }
   ],
   "source": [
    "y_2006_df[cols_delays].corr()"
   ]
  },
  {
   "cell_type": "code",
   "execution_count": 187,
   "metadata": {},
   "outputs": [
    {
     "data": {
      "image/png": "[encoded data removed]",
      "text/plain": [
       "<Figure size 576x432 with 2 Axes>"
      ]
     },
     "metadata": {},
     "output_type": "display_data"
    }
   ],
   "source": [
    "fig = plt.figure(figsize=(8,6))\n",
    "ax1 = fig.add_subplot(1,1,1)\n",
    "sb.heatmap(y_2006_df[cols_delays].corr(),annot=True,cmap='rocket_r',fmt='.2f',vmin=0);"
   ]
  },
  {
   "cell_type": "markdown",
   "metadata": {},
   "source": [
    "From the above heatmap we can see that:\n",
    "- a strong correlation between ArrDelayM and DepDelayM.\n",
    "- a strong correlation between CarrierDelay and ArrDelayM and DepDelayM.\n",
    "- a correlation between NASDelay and ArrDelayM.\n",
    "- a correlation between LateAircraftDelay and ArrDelayM and DepDelayM."
   ]
  },
  {
   "cell_type": "markdown",
   "metadata": {},
   "source": [
    "#### when both ArrDelayM and DepDelayM is minus"
   ]
  },
  {
   "cell_type": "code",
   "execution_count": 188,
   "metadata": {},
   "outputs": [
    {
     "data": {
      "text/html": [
       "<div>\n",
       "<style scoped>\n",
       "    .dataframe tbody tr th:only-of-type {\n",
       "        vertical-align: middle;\n",
       "    }\n",
       "\n",
       "    .dataframe tbody tr th {\n",
       "        vertical-align: top;\n",
       "    }\n",
       "\n",
       "    .dataframe thead th {\n",
       "        text-align: right;\n",
       "    }\n",
       "</style>\n",
       "<table border=\"1\" class=\"dataframe\">\n",
       "  <thead>\n",
       "    <tr style=\"text-align: right;\">\n",
       "      <th></th>\n",
       "      <th>CarrierDelay</th>\n",
       "      <th>WeatherDelay</th>\n",
       "      <th>NASDelay</th>\n",
       "      <th>SecurityDelay</th>\n",
       "      <th>LateAircraftDelay</th>\n",
       "      <th>ArrDelayM</th>\n",
       "      <th>DepDelayM</th>\n",
       "    </tr>\n",
       "  </thead>\n",
       "  <tbody>\n",
       "    <tr>\n",
       "      <th>11671</th>\n",
       "      <td>0</td>\n",
       "      <td>0</td>\n",
       "      <td>0</td>\n",
       "      <td>0</td>\n",
       "      <td>0</td>\n",
       "      <td>-11.0</td>\n",
       "      <td>-2.0</td>\n",
       "    </tr>\n",
       "    <tr>\n",
       "      <th>9045</th>\n",
       "      <td>0</td>\n",
       "      <td>0</td>\n",
       "      <td>0</td>\n",
       "      <td>0</td>\n",
       "      <td>0</td>\n",
       "      <td>-17.0</td>\n",
       "      <td>0.0</td>\n",
       "    </tr>\n",
       "    <tr>\n",
       "      <th>29483</th>\n",
       "      <td>0</td>\n",
       "      <td>0</td>\n",
       "      <td>0</td>\n",
       "      <td>0</td>\n",
       "      <td>0</td>\n",
       "      <td>-3.0</td>\n",
       "      <td>-1.0</td>\n",
       "    </tr>\n",
       "    <tr>\n",
       "      <th>13883</th>\n",
       "      <td>0</td>\n",
       "      <td>0</td>\n",
       "      <td>0</td>\n",
       "      <td>0</td>\n",
       "      <td>0</td>\n",
       "      <td>-1.0</td>\n",
       "      <td>-1.0</td>\n",
       "    </tr>\n",
       "    <tr>\n",
       "      <th>39970</th>\n",
       "      <td>0</td>\n",
       "      <td>0</td>\n",
       "      <td>0</td>\n",
       "      <td>0</td>\n",
       "      <td>0</td>\n",
       "      <td>-2.0</td>\n",
       "      <td>-3.0</td>\n",
       "    </tr>\n",
       "    <tr>\n",
       "      <th>15599</th>\n",
       "      <td>0</td>\n",
       "      <td>0</td>\n",
       "      <td>0</td>\n",
       "      <td>0</td>\n",
       "      <td>0</td>\n",
       "      <td>-7.0</td>\n",
       "      <td>-4.0</td>\n",
       "    </tr>\n",
       "    <tr>\n",
       "      <th>60232</th>\n",
       "      <td>0</td>\n",
       "      <td>0</td>\n",
       "      <td>0</td>\n",
       "      <td>0</td>\n",
       "      <td>0</td>\n",
       "      <td>-2.0</td>\n",
       "      <td>-2.0</td>\n",
       "    </tr>\n",
       "    <tr>\n",
       "      <th>63700</th>\n",
       "      <td>0</td>\n",
       "      <td>0</td>\n",
       "      <td>0</td>\n",
       "      <td>0</td>\n",
       "      <td>0</td>\n",
       "      <td>-12.0</td>\n",
       "      <td>-1.0</td>\n",
       "    </tr>\n",
       "    <tr>\n",
       "      <th>70538</th>\n",
       "      <td>0</td>\n",
       "      <td>0</td>\n",
       "      <td>0</td>\n",
       "      <td>0</td>\n",
       "      <td>0</td>\n",
       "      <td>-16.0</td>\n",
       "      <td>-8.0</td>\n",
       "    </tr>\n",
       "    <tr>\n",
       "      <th>50533</th>\n",
       "      <td>0</td>\n",
       "      <td>0</td>\n",
       "      <td>0</td>\n",
       "      <td>0</td>\n",
       "      <td>0</td>\n",
       "      <td>-10.0</td>\n",
       "      <td>-8.0</td>\n",
       "    </tr>\n",
       "  </tbody>\n",
       "</table>\n",
       "</div>"
      ],
      "text/plain": [
       "       CarrierDelay  WeatherDelay  NASDelay  SecurityDelay  LateAircraftDelay  \\\n",
       "11671             0             0         0              0                  0   \n",
       "9045              0             0         0              0                  0   \n",
       "29483             0             0         0              0                  0   \n",
       "13883             0             0         0              0                  0   \n",
       "39970             0             0         0              0                  0   \n",
       "15599             0             0         0              0                  0   \n",
       "60232             0             0         0              0                  0   \n",
       "63700             0             0         0              0                  0   \n",
       "70538             0             0         0              0                  0   \n",
       "50533             0             0         0              0                  0   \n",
       "\n",
       "       ArrDelayM  DepDelayM  \n",
       "11671      -11.0       -2.0  \n",
       "9045       -17.0        0.0  \n",
       "29483       -3.0       -1.0  \n",
       "13883       -1.0       -1.0  \n",
       "39970       -2.0       -3.0  \n",
       "15599       -7.0       -4.0  \n",
       "60232       -2.0       -2.0  \n",
       "63700      -12.0       -1.0  \n",
       "70538      -16.0       -8.0  \n",
       "50533      -10.0       -8.0  "
      ]
     },
     "execution_count": 188,
     "metadata": {},
     "output_type": "execute_result"
    }
   ],
   "source": [
    "y_2006_df[(y_2006_df.DepDelayM<=0)\\\n",
    "         & (y_2006_df.ArrDelayM<=0)][cols_delays].sample(10)"
   ]
  },
  {
   "cell_type": "markdown",
   "metadata": {},
   "source": [
    "- The above table is logical, since CarrierDelay, WeatherDelay, NASDelay, SecurityDelay, LateAircraftDelay are null when there are no delays. There are no delays because ArrDelayM and DepDelayM are negative. \n",
    "- From my table, all  CarrierDelay, WeatherDelay, NASDelay, SecurityDelay, LateAircraftDelay columns are null. This depends on random sampling. Therefore it might be different for your dataset. Not all rows are null when there are no delays."
   ]
  },
  {
   "cell_type": "markdown",
   "metadata": {},
   "source": [
    "#### when both ArrDealyM and DepDelayM is positive"
   ]
  },
  {
   "cell_type": "code",
   "execution_count": 189,
   "metadata": {},
   "outputs": [
    {
     "data": {
      "text/html": [
       "<div>\n",
       "<style scoped>\n",
       "    .dataframe tbody tr th:only-of-type {\n",
       "        vertical-align: middle;\n",
       "    }\n",
       "\n",
       "    .dataframe tbody tr th {\n",
       "        vertical-align: top;\n",
       "    }\n",
       "\n",
       "    .dataframe thead th {\n",
       "        text-align: right;\n",
       "    }\n",
       "</style>\n",
       "<table border=\"1\" class=\"dataframe\">\n",
       "  <thead>\n",
       "    <tr style=\"text-align: right;\">\n",
       "      <th></th>\n",
       "      <th>CarrierDelay</th>\n",
       "      <th>WeatherDelay</th>\n",
       "      <th>NASDelay</th>\n",
       "      <th>SecurityDelay</th>\n",
       "      <th>LateAircraftDelay</th>\n",
       "      <th>ArrDelayM</th>\n",
       "      <th>DepDelayM</th>\n",
       "    </tr>\n",
       "  </thead>\n",
       "  <tbody>\n",
       "    <tr>\n",
       "      <th>65489</th>\n",
       "      <td>1</td>\n",
       "      <td>0</td>\n",
       "      <td>0</td>\n",
       "      <td>0</td>\n",
       "      <td>21</td>\n",
       "      <td>22.0</td>\n",
       "      <td>50.0</td>\n",
       "    </tr>\n",
       "    <tr>\n",
       "      <th>24017</th>\n",
       "      <td>0</td>\n",
       "      <td>0</td>\n",
       "      <td>0</td>\n",
       "      <td>0</td>\n",
       "      <td>0</td>\n",
       "      <td>14.0</td>\n",
       "      <td>8.0</td>\n",
       "    </tr>\n",
       "    <tr>\n",
       "      <th>25625</th>\n",
       "      <td>9</td>\n",
       "      <td>0</td>\n",
       "      <td>16</td>\n",
       "      <td>0</td>\n",
       "      <td>17</td>\n",
       "      <td>42.0</td>\n",
       "      <td>26.0</td>\n",
       "    </tr>\n",
       "    <tr>\n",
       "      <th>51731</th>\n",
       "      <td>35</td>\n",
       "      <td>0</td>\n",
       "      <td>8</td>\n",
       "      <td>0</td>\n",
       "      <td>0</td>\n",
       "      <td>43.0</td>\n",
       "      <td>35.0</td>\n",
       "    </tr>\n",
       "    <tr>\n",
       "      <th>34885</th>\n",
       "      <td>10</td>\n",
       "      <td>0</td>\n",
       "      <td>13</td>\n",
       "      <td>0</td>\n",
       "      <td>0</td>\n",
       "      <td>23.0</td>\n",
       "      <td>10.0</td>\n",
       "    </tr>\n",
       "    <tr>\n",
       "      <th>3339</th>\n",
       "      <td>0</td>\n",
       "      <td>0</td>\n",
       "      <td>0</td>\n",
       "      <td>0</td>\n",
       "      <td>0</td>\n",
       "      <td>5.0</td>\n",
       "      <td>5.0</td>\n",
       "    </tr>\n",
       "    <tr>\n",
       "      <th>37811</th>\n",
       "      <td>0</td>\n",
       "      <td>0</td>\n",
       "      <td>0</td>\n",
       "      <td>0</td>\n",
       "      <td>40</td>\n",
       "      <td>40.0</td>\n",
       "      <td>72.0</td>\n",
       "    </tr>\n",
       "    <tr>\n",
       "      <th>23795</th>\n",
       "      <td>5</td>\n",
       "      <td>0</td>\n",
       "      <td>12</td>\n",
       "      <td>0</td>\n",
       "      <td>42</td>\n",
       "      <td>59.0</td>\n",
       "      <td>47.0</td>\n",
       "    </tr>\n",
       "    <tr>\n",
       "      <th>62689</th>\n",
       "      <td>0</td>\n",
       "      <td>0</td>\n",
       "      <td>0</td>\n",
       "      <td>0</td>\n",
       "      <td>0</td>\n",
       "      <td>3.0</td>\n",
       "      <td>3.0</td>\n",
       "    </tr>\n",
       "    <tr>\n",
       "      <th>19272</th>\n",
       "      <td>5</td>\n",
       "      <td>0</td>\n",
       "      <td>3</td>\n",
       "      <td>0</td>\n",
       "      <td>25</td>\n",
       "      <td>33.0</td>\n",
       "      <td>30.0</td>\n",
       "    </tr>\n",
       "    <tr>\n",
       "      <th>26698</th>\n",
       "      <td>0</td>\n",
       "      <td>0</td>\n",
       "      <td>0</td>\n",
       "      <td>0</td>\n",
       "      <td>67</td>\n",
       "      <td>67.0</td>\n",
       "      <td>78.0</td>\n",
       "    </tr>\n",
       "    <tr>\n",
       "      <th>59194</th>\n",
       "      <td>7</td>\n",
       "      <td>0</td>\n",
       "      <td>1</td>\n",
       "      <td>0</td>\n",
       "      <td>15</td>\n",
       "      <td>23.0</td>\n",
       "      <td>22.0</td>\n",
       "    </tr>\n",
       "    <tr>\n",
       "      <th>56129</th>\n",
       "      <td>36</td>\n",
       "      <td>0</td>\n",
       "      <td>12</td>\n",
       "      <td>0</td>\n",
       "      <td>0</td>\n",
       "      <td>48.0</td>\n",
       "      <td>36.0</td>\n",
       "    </tr>\n",
       "    <tr>\n",
       "      <th>8839</th>\n",
       "      <td>7</td>\n",
       "      <td>0</td>\n",
       "      <td>0</td>\n",
       "      <td>0</td>\n",
       "      <td>35</td>\n",
       "      <td>42.0</td>\n",
       "      <td>50.0</td>\n",
       "    </tr>\n",
       "    <tr>\n",
       "      <th>56632</th>\n",
       "      <td>0</td>\n",
       "      <td>0</td>\n",
       "      <td>0</td>\n",
       "      <td>0</td>\n",
       "      <td>0</td>\n",
       "      <td>2.0</td>\n",
       "      <td>1.0</td>\n",
       "    </tr>\n",
       "    <tr>\n",
       "      <th>24905</th>\n",
       "      <td>0</td>\n",
       "      <td>0</td>\n",
       "      <td>13</td>\n",
       "      <td>0</td>\n",
       "      <td>21</td>\n",
       "      <td>34.0</td>\n",
       "      <td>21.0</td>\n",
       "    </tr>\n",
       "    <tr>\n",
       "      <th>38667</th>\n",
       "      <td>0</td>\n",
       "      <td>0</td>\n",
       "      <td>0</td>\n",
       "      <td>0</td>\n",
       "      <td>0</td>\n",
       "      <td>12.0</td>\n",
       "      <td>3.0</td>\n",
       "    </tr>\n",
       "    <tr>\n",
       "      <th>2299</th>\n",
       "      <td>8</td>\n",
       "      <td>0</td>\n",
       "      <td>5</td>\n",
       "      <td>0</td>\n",
       "      <td>25</td>\n",
       "      <td>38.0</td>\n",
       "      <td>33.0</td>\n",
       "    </tr>\n",
       "    <tr>\n",
       "      <th>60405</th>\n",
       "      <td>0</td>\n",
       "      <td>0</td>\n",
       "      <td>0</td>\n",
       "      <td>0</td>\n",
       "      <td>0</td>\n",
       "      <td>14.0</td>\n",
       "      <td>25.0</td>\n",
       "    </tr>\n",
       "    <tr>\n",
       "      <th>56541</th>\n",
       "      <td>0</td>\n",
       "      <td>0</td>\n",
       "      <td>0</td>\n",
       "      <td>0</td>\n",
       "      <td>31</td>\n",
       "      <td>31.0</td>\n",
       "      <td>40.0</td>\n",
       "    </tr>\n",
       "  </tbody>\n",
       "</table>\n",
       "</div>"
      ],
      "text/plain": [
       "       CarrierDelay  WeatherDelay  NASDelay  SecurityDelay  LateAircraftDelay  \\\n",
       "65489             1             0         0              0                 21   \n",
       "24017             0             0         0              0                  0   \n",
       "25625             9             0        16              0                 17   \n",
       "51731            35             0         8              0                  0   \n",
       "34885            10             0        13              0                  0   \n",
       "3339              0             0         0              0                  0   \n",
       "37811             0             0         0              0                 40   \n",
       "23795             5             0        12              0                 42   \n",
       "62689             0             0         0              0                  0   \n",
       "19272             5             0         3              0                 25   \n",
       "26698             0             0         0              0                 67   \n",
       "59194             7             0         1              0                 15   \n",
       "56129            36             0        12              0                  0   \n",
       "8839              7             0         0              0                 35   \n",
       "56632             0             0         0              0                  0   \n",
       "24905             0             0        13              0                 21   \n",
       "38667             0             0         0              0                  0   \n",
       "2299              8             0         5              0                 25   \n",
       "60405             0             0         0              0                  0   \n",
       "56541             0             0         0              0                 31   \n",
       "\n",
       "       ArrDelayM  DepDelayM  \n",
       "65489       22.0       50.0  \n",
       "24017       14.0        8.0  \n",
       "25625       42.0       26.0  \n",
       "51731       43.0       35.0  \n",
       "34885       23.0       10.0  \n",
       "3339         5.0        5.0  \n",
       "37811       40.0       72.0  \n",
       "23795       59.0       47.0  \n",
       "62689        3.0        3.0  \n",
       "19272       33.0       30.0  \n",
       "26698       67.0       78.0  \n",
       "59194       23.0       22.0  \n",
       "56129       48.0       36.0  \n",
       "8839        42.0       50.0  \n",
       "56632        2.0        1.0  \n",
       "24905       34.0       21.0  \n",
       "38667       12.0        3.0  \n",
       "2299        38.0       33.0  \n",
       "60405       14.0       25.0  \n",
       "56541       31.0       40.0  "
      ]
     },
     "execution_count": 189,
     "metadata": {},
     "output_type": "execute_result"
    }
   ],
   "source": [
    "y_2006_df[(y_2006_df.DepDelayM>0)\\\n",
    "         & (y_2006_df.ArrDelayM>0)][cols_delays].sample(20)"
   ]
  },
  {
   "cell_type": "code",
   "execution_count": 190,
   "metadata": {},
   "outputs": [
    {
     "data": {
      "text/plain": [
       "(21875, 71319)"
      ]
     },
     "execution_count": 190,
     "metadata": {},
     "output_type": "execute_result"
    }
   ],
   "source": [
    "y_2006_df[(y_2006_df.DepDelay>0)\\\n",
    "         & (y_2006_df.ArrDelay>0)][cols_delays].shape[0] , y_2006_df.shape[0]"
   ]
  },
  {
   "cell_type": "markdown",
   "metadata": {},
   "source": [
    "- From the above table, the columns CarrierDelay, WeatherDelay, NASDelay, SecurityDelay, LateAircraftDelay do not give rise to a logical ArrDelayM and DepDelayM.\n",
    "\n",
    "- This consists of about 30% of our data. If we drop these rows, we will drop many useful data.\n",
    "\n",
    "- Also, we need more insider knowledge if we want to re-calculate these rows into a logical ones.\n",
    "\n",
    "- Therefore instead of dropping these rows, I will drop columns CarrierDelay, WeatherDelay, NASDelay, SecurityDelay and LateAircraftDelay."
   ]
  },
  {
   "cell_type": "markdown",
   "metadata": {},
   "source": [
    "#### Dropping CarrierDelay, WeatherDelay, NASDelay, SecurityDelay and LateAircraftDelay columns.\n",
    "- Although there are some strong correlations between these columns and ArrDelayM and DepDelayM columns, we need to drop them by the reasonings we just gave above."
   ]
  },
  {
   "cell_type": "code",
   "execution_count": 191,
   "metadata": {},
   "outputs": [],
   "source": [
    "#y_2006_df.drop(columns=['CarrierDelay','WeatherDelay','NASDelay','SecurityDelay',\\\n",
    "#                       'LateAircraftDelay'],axis=1,inplace=True)"
   ]
  },
  {
   "cell_type": "markdown",
   "metadata": {},
   "source": [
    "# 11. Exploring Carriers table\n",
    "- we need to merge two tables: carriers_df and y_2006_df"
   ]
  },
  {
   "cell_type": "code",
   "execution_count": 192,
   "metadata": {},
   "outputs": [
    {
     "data": {
      "text/plain": [
       "0    WN\n",
       "1    FL\n",
       "2    OH\n",
       "3    OH\n",
       "4    CO\n",
       "Name: UniqueCarrier, dtype: object"
      ]
     },
     "execution_count": 192,
     "metadata": {},
     "output_type": "execute_result"
    }
   ],
   "source": [
    "y_2006_df.UniqueCarrier.head()"
   ]
  },
  {
   "cell_type": "markdown",
   "metadata": {},
   "source": [
    "- The UniqueCarrier from y_2006_df is somehow a code for carriers. We need the description of the carrier to make the data intelligible to human readers. Can we get this description from carriers_df?"
   ]
  },
  {
   "cell_type": "code",
   "execution_count": 193,
   "metadata": {},
   "outputs": [
    {
     "data": {
      "text/plain": [
       "20"
      ]
     },
     "execution_count": 193,
     "metadata": {},
     "output_type": "execute_result"
    }
   ],
   "source": [
    "carriers_df.Code.isin(list(y_2006_df.UniqueCarrier)).sum()"
   ]
  },
  {
   "cell_type": "markdown",
   "metadata": {},
   "source": [
    "- The answer is Yes. We can find Carrier Description from carriers_df. This is shown below."
   ]
  },
  {
   "cell_type": "code",
   "execution_count": 194,
   "metadata": {},
   "outputs": [
    {
     "data": {
      "text/html": [
       "<div>\n",
       "<style scoped>\n",
       "    .dataframe tbody tr th:only-of-type {\n",
       "        vertical-align: middle;\n",
       "    }\n",
       "\n",
       "    .dataframe tbody tr th {\n",
       "        vertical-align: top;\n",
       "    }\n",
       "\n",
       "    .dataframe thead th {\n",
       "        text-align: right;\n",
       "    }\n",
       "</style>\n",
       "<table border=\"1\" class=\"dataframe\">\n",
       "  <thead>\n",
       "    <tr style=\"text-align: right;\">\n",
       "      <th></th>\n",
       "      <th>Code</th>\n",
       "      <th>Description</th>\n",
       "    </tr>\n",
       "  </thead>\n",
       "  <tbody>\n",
       "    <tr>\n",
       "      <th>100</th>\n",
       "      <td>AA</td>\n",
       "      <td>American Airlines Inc.</td>\n",
       "    </tr>\n",
       "    <tr>\n",
       "      <th>206</th>\n",
       "      <td>AQ</td>\n",
       "      <td>Aloha Airlines Inc.</td>\n",
       "    </tr>\n",
       "    <tr>\n",
       "      <th>221</th>\n",
       "      <td>AS</td>\n",
       "      <td>Alaska Airlines Inc.</td>\n",
       "    </tr>\n",
       "    <tr>\n",
       "      <th>263</th>\n",
       "      <td>B6</td>\n",
       "      <td>JetBlue Airways</td>\n",
       "    </tr>\n",
       "    <tr>\n",
       "      <th>377</th>\n",
       "      <td>CO</td>\n",
       "      <td>Continental Air Lines Inc.</td>\n",
       "    </tr>\n",
       "    <tr>\n",
       "      <th>441</th>\n",
       "      <td>DL</td>\n",
       "      <td>Delta Air Lines Inc.</td>\n",
       "    </tr>\n",
       "    <tr>\n",
       "      <th>505</th>\n",
       "      <td>EV</td>\n",
       "      <td>Atlantic Southeast Airlines</td>\n",
       "    </tr>\n",
       "    <tr>\n",
       "      <th>517</th>\n",
       "      <td>F9</td>\n",
       "      <td>Frontier Airlines Inc.</td>\n",
       "    </tr>\n",
       "    <tr>\n",
       "      <th>537</th>\n",
       "      <td>FL</td>\n",
       "      <td>AirTran Airways Corporation</td>\n",
       "    </tr>\n",
       "    <tr>\n",
       "      <th>619</th>\n",
       "      <td>HA</td>\n",
       "      <td>Hawaiian Airlines Inc.</td>\n",
       "    </tr>\n",
       "    <tr>\n",
       "      <th>848</th>\n",
       "      <td>MQ</td>\n",
       "      <td>American Eagle Airlines Inc.</td>\n",
       "    </tr>\n",
       "    <tr>\n",
       "      <th>920</th>\n",
       "      <td>NW</td>\n",
       "      <td>Northwest Airlines Inc.</td>\n",
       "    </tr>\n",
       "    <tr>\n",
       "      <th>936</th>\n",
       "      <td>OH</td>\n",
       "      <td>Comair Inc.</td>\n",
       "    </tr>\n",
       "    <tr>\n",
       "      <th>949</th>\n",
       "      <td>OO</td>\n",
       "      <td>Skywest Airlines Inc.</td>\n",
       "    </tr>\n",
       "    <tr>\n",
       "      <th>1292</th>\n",
       "      <td>TZ</td>\n",
       "      <td>ATA Airlines d/b/a ATA</td>\n",
       "    </tr>\n",
       "    <tr>\n",
       "      <th>1297</th>\n",
       "      <td>UA</td>\n",
       "      <td>United Air Lines Inc.</td>\n",
       "    </tr>\n",
       "    <tr>\n",
       "      <th>1308</th>\n",
       "      <td>US</td>\n",
       "      <td>US Airways Inc. (Merged with America West 9/05...</td>\n",
       "    </tr>\n",
       "    <tr>\n",
       "      <th>1388</th>\n",
       "      <td>WN</td>\n",
       "      <td>Southwest Airlines Co.</td>\n",
       "    </tr>\n",
       "    <tr>\n",
       "      <th>1447</th>\n",
       "      <td>XE</td>\n",
       "      <td>Expressjet Airlines Inc.</td>\n",
       "    </tr>\n",
       "    <tr>\n",
       "      <th>1465</th>\n",
       "      <td>YV</td>\n",
       "      <td>Mesa Airlines Inc.</td>\n",
       "    </tr>\n",
       "  </tbody>\n",
       "</table>\n",
       "</div>"
      ],
      "text/plain": [
       "     Code                                        Description\n",
       "100    AA                             American Airlines Inc.\n",
       "206    AQ                                Aloha Airlines Inc.\n",
       "221    AS                               Alaska Airlines Inc.\n",
       "263    B6                                    JetBlue Airways\n",
       "377    CO                         Continental Air Lines Inc.\n",
       "441    DL                               Delta Air Lines Inc.\n",
       "505    EV                        Atlantic Southeast Airlines\n",
       "517    F9                             Frontier Airlines Inc.\n",
       "537    FL                        AirTran Airways Corporation\n",
       "619    HA                             Hawaiian Airlines Inc.\n",
       "848    MQ                       American Eagle Airlines Inc.\n",
       "920    NW                            Northwest Airlines Inc.\n",
       "936    OH                                        Comair Inc.\n",
       "949    OO                              Skywest Airlines Inc.\n",
       "1292   TZ                             ATA Airlines d/b/a ATA\n",
       "1297   UA                              United Air Lines Inc.\n",
       "1308   US  US Airways Inc. (Merged with America West 9/05...\n",
       "1388   WN                             Southwest Airlines Co.\n",
       "1447   XE                           Expressjet Airlines Inc.\n",
       "1465   YV                                 Mesa Airlines Inc."
      ]
     },
     "execution_count": 194,
     "metadata": {},
     "output_type": "execute_result"
    }
   ],
   "source": [
    "carriers_df[carriers_df.Code.isin(list(y_2006_df.UniqueCarrier))]"
   ]
  },
  {
   "cell_type": "markdown",
   "metadata": {},
   "source": [
    "- Therefore we need to merge carriers_df and y_2006_df. Before merging though, we need to do some data cleaning:\n",
    "\n",
    "- First, the Description from index 1308 above is a bit too long. We need to fix it.\n",
    "- Second, we need to change column names of carriers_df before merging."
   ]
  },
  {
   "cell_type": "markdown",
   "metadata": {},
   "source": [
    "#### Define\n",
    "- Index 1308 of carriers_df has long Description"
   ]
  },
  {
   "cell_type": "markdown",
   "metadata": {},
   "source": [
    "#### Code"
   ]
  },
  {
   "cell_type": "code",
   "execution_count": 195,
   "metadata": {},
   "outputs": [
    {
     "name": "stdout",
     "output_type": "stream",
     "text": [
      "['US'\n",
      " 'US Airways Inc. (Merged with America West 9/05. Reporting for both starting 10/07.)']\n"
     ]
    }
   ],
   "source": [
    "print(carriers_df.loc[1308].values)"
   ]
  },
  {
   "cell_type": "markdown",
   "metadata": {},
   "source": [
    "- Change the above description into 'US Airways Inc.'"
   ]
  },
  {
   "cell_type": "code",
   "execution_count": 196,
   "metadata": {},
   "outputs": [],
   "source": [
    "carriers_df.iloc[1308]['Description'] = 'US Airways Inc.'"
   ]
  },
  {
   "cell_type": "markdown",
   "metadata": {},
   "source": [
    "#### Test"
   ]
  },
  {
   "cell_type": "code",
   "execution_count": 197,
   "metadata": {},
   "outputs": [
    {
     "name": "stdout",
     "output_type": "stream",
     "text": [
      "['US' 'US Airways Inc.']\n"
     ]
    }
   ],
   "source": [
    "print(carriers_df.loc[1308].values)"
   ]
  },
  {
   "cell_type": "markdown",
   "metadata": {},
   "source": [
    "#### Define\n",
    "- Before we can merge y_2006_df and carriers_df, we need to change the column names of carriers_df"
   ]
  },
  {
   "cell_type": "markdown",
   "metadata": {},
   "source": [
    "#### Code"
   ]
  },
  {
   "cell_type": "code",
   "execution_count": 198,
   "metadata": {},
   "outputs": [
    {
     "data": {
      "text/plain": [
       "Index(['Code', 'Description'], dtype='object')"
      ]
     },
     "execution_count": 198,
     "metadata": {},
     "output_type": "execute_result"
    }
   ],
   "source": [
    "carriers_df.columns"
   ]
  },
  {
   "cell_type": "code",
   "execution_count": 199,
   "metadata": {},
   "outputs": [],
   "source": [
    "carriers_df.columns = ['UniqueCarrier','CarrierDescription']"
   ]
  },
  {
   "cell_type": "markdown",
   "metadata": {},
   "source": [
    "#### Test"
   ]
  },
  {
   "cell_type": "code",
   "execution_count": 200,
   "metadata": {},
   "outputs": [
    {
     "data": {
      "text/plain": [
       "Index(['UniqueCarrier', 'CarrierDescription'], dtype='object')"
      ]
     },
     "execution_count": 200,
     "metadata": {},
     "output_type": "execute_result"
    }
   ],
   "source": [
    "carriers_df.columns"
   ]
  },
  {
   "cell_type": "markdown",
   "metadata": {},
   "source": [
    "#### Define\n",
    "- Merge y_2006_df and carriers_df"
   ]
  },
  {
   "cell_type": "markdown",
   "metadata": {},
   "source": [
    "#### Code"
   ]
  },
  {
   "cell_type": "code",
   "execution_count": 201,
   "metadata": {},
   "outputs": [],
   "source": [
    "y_2006_df = pd.merge(carriers_df,y_2006_df,on='UniqueCarrier')"
   ]
  },
  {
   "cell_type": "markdown",
   "metadata": {},
   "source": [
    "#### Define"
   ]
  },
  {
   "cell_type": "code",
   "execution_count": 202,
   "metadata": {},
   "outputs": [
    {
     "data": {
      "text/html": [
       "<div>\n",
       "<style scoped>\n",
       "    .dataframe tbody tr th:only-of-type {\n",
       "        vertical-align: middle;\n",
       "    }\n",
       "\n",
       "    .dataframe tbody tr th {\n",
       "        vertical-align: top;\n",
       "    }\n",
       "\n",
       "    .dataframe thead th {\n",
       "        text-align: right;\n",
       "    }\n",
       "</style>\n",
       "<table border=\"1\" class=\"dataframe\">\n",
       "  <thead>\n",
       "    <tr style=\"text-align: right;\">\n",
       "      <th></th>\n",
       "      <th>UniqueCarrier</th>\n",
       "      <th>CarrierDescription</th>\n",
       "    </tr>\n",
       "  </thead>\n",
       "  <tbody>\n",
       "    <tr>\n",
       "      <th>15758</th>\n",
       "      <td>DL</td>\n",
       "      <td>Delta Air Lines Inc.</td>\n",
       "    </tr>\n",
       "    <tr>\n",
       "      <th>17280</th>\n",
       "      <td>DL</td>\n",
       "      <td>Delta Air Lines Inc.</td>\n",
       "    </tr>\n",
       "    <tr>\n",
       "      <th>37472</th>\n",
       "      <td>OH</td>\n",
       "      <td>Comair Inc.</td>\n",
       "    </tr>\n",
       "    <tr>\n",
       "      <th>11795</th>\n",
       "      <td>CO</td>\n",
       "      <td>Continental Air Lines Inc.</td>\n",
       "    </tr>\n",
       "    <tr>\n",
       "      <th>11562</th>\n",
       "      <td>CO</td>\n",
       "      <td>Continental Air Lines Inc.</td>\n",
       "    </tr>\n",
       "  </tbody>\n",
       "</table>\n",
       "</div>"
      ],
      "text/plain": [
       "      UniqueCarrier          CarrierDescription\n",
       "15758            DL        Delta Air Lines Inc.\n",
       "17280            DL        Delta Air Lines Inc.\n",
       "37472            OH                 Comair Inc.\n",
       "11795            CO  Continental Air Lines Inc.\n",
       "11562            CO  Continental Air Lines Inc."
      ]
     },
     "execution_count": 202,
     "metadata": {},
     "output_type": "execute_result"
    }
   ],
   "source": [
    "y_2006_df[['UniqueCarrier','CarrierDescription']].sample(5)"
   ]
  },
  {
   "cell_type": "markdown",
   "metadata": {},
   "source": [
    "#### Carriers Distribution\n",
    "major airlines: https://en.wikipedia.org/wiki/Major_airlines_of_the_United_States"
   ]
  },
  {
   "cell_type": "code",
   "execution_count": 203,
   "metadata": {},
   "outputs": [
    {
     "data": {
      "text/plain": [
       "Southwest Airlines Co.          10845\n",
       "American Airlines Inc.           6414\n",
       "American Eagle Airlines Inc.     5645\n",
       "Skywest Airlines Inc.            5413\n",
       "Delta Air Lines Inc.             5160\n",
       "United Air Lines Inc.            5037\n",
       "US Airways Inc.                  4953\n",
       "Expressjet Airlines Inc.         4401\n",
       "Northwest Airlines Inc.          4352\n",
       "Continental Air Lines Inc.       3146\n",
       "Mesa Airlines Inc.               2935\n",
       "Comair Inc.                      2781\n",
       "Atlantic Southeast Airlines      2722\n",
       "AirTran Airways Corporation      2339\n",
       "Alaska Airlines Inc.             1625\n",
       "JetBlue Airways                  1615\n",
       "Frontier Airlines Inc.            854\n",
       "Hawaiian Airlines Inc.            532\n",
       "Aloha Airlines Inc.               340\n",
       "ATA Airlines d/b/a ATA            210\n",
       "Name: CarrierDescription, dtype: int64"
      ]
     },
     "execution_count": 203,
     "metadata": {},
     "output_type": "execute_result"
    }
   ],
   "source": [
    "y_2006_df.CarrierDescription.value_counts(dropna=False)"
   ]
  },
  {
   "cell_type": "code",
   "execution_count": 204,
   "metadata": {},
   "outputs": [
    {
     "data": {
      "text/plain": [
       "Southwest Airlines Co.          0.152063\n",
       "American Airlines Inc.          0.089934\n",
       "American Eagle Airlines Inc.    0.079151\n",
       "Skywest Airlines Inc.           0.075898\n",
       "Delta Air Lines Inc.            0.072351\n",
       "United Air Lines Inc.           0.070626\n",
       "US Airways Inc.                 0.069449\n",
       "Expressjet Airlines Inc.        0.061709\n",
       "Northwest Airlines Inc.         0.061022\n",
       "Continental Air Lines Inc.      0.044112\n",
       "Mesa Airlines Inc.              0.041153\n",
       "Comair Inc.                     0.038994\n",
       "Atlantic Southeast Airlines     0.038167\n",
       "AirTran Airways Corporation     0.032796\n",
       "Alaska Airlines Inc.            0.022785\n",
       "JetBlue Airways                 0.022645\n",
       "Frontier Airlines Inc.          0.011974\n",
       "Hawaiian Airlines Inc.          0.007459\n",
       "Aloha Airlines Inc.             0.004767\n",
       "ATA Airlines d/b/a ATA          0.002945\n",
       "Name: CarrierDescription, dtype: float64"
      ]
     },
     "execution_count": 204,
     "metadata": {},
     "output_type": "execute_result"
    }
   ],
   "source": [
    "y_2006_df.CarrierDescription.value_counts(dropna=False,normalize=True)"
   ]
  },
  {
   "cell_type": "code",
   "execution_count": 205,
   "metadata": {},
   "outputs": [
    {
     "data": {
      "image/png": "[encoded data removed]",
      "text/plain": [
       "<Figure size 576x504 with 1 Axes>"
      ]
     },
     "metadata": {},
     "output_type": "display_data"
    }
   ],
   "source": [
    "fig = plt.figure(figsize=(8,7))\n",
    "ax1 = fig.add_subplot(1,1,1)\n",
    "\n",
    "plt.barh(y_2006_df.CarrierDescription.value_counts().index,y_2006_df.CarrierDescription.value_counts())\n",
    "\n",
    "plt.yticks(fontsize=13)\n",
    "plt.xticks(fontsize=13,rotation=45);\n",
    "ax1.xaxis.set_major_formatter(mpl.ticker.StrMethodFormatter('{x:,.0f}'));\n",
    "plt.title('Carrier Distribution',fontsize=14);"
   ]
  },
  {
   "cell_type": "markdown",
   "metadata": {},
   "source": [
    "# 12. Exploring Airports table"
   ]
  },
  {
   "cell_type": "code",
   "execution_count": 206,
   "metadata": {},
   "outputs": [
    {
     "name": "stdout",
     "output_type": "stream",
     "text": [
      "<class 'pandas.core.frame.DataFrame'>\n",
      "RangeIndex: 3376 entries, 0 to 3375\n",
      "Data columns (total 7 columns):\n",
      "iata       3376 non-null object\n",
      "airport    3376 non-null object\n",
      "city       3364 non-null object\n",
      "state      3364 non-null object\n",
      "country    3376 non-null object\n",
      "lat        3376 non-null float64\n",
      "long       3376 non-null float64\n",
      "dtypes: float64(2), object(5)\n",
      "memory usage: 184.7+ KB\n"
     ]
    }
   ],
   "source": [
    "airports_df.info()"
   ]
  },
  {
   "cell_type": "markdown",
   "metadata": {},
   "source": [
    "#### Observations on airports_df:\n",
    "- iata is a unique id for an airport. The equivalent ids in y_2006_df is Origin and Dest columns. So if you want to merge these two data frames (airport_df and y_2006_df), merge on iata and Origin or iata and Dest.\n",
    "- The dataframe contains lat, long data. This pair of data will pinpoint the location of an airport on a map.\n",
    "- The dataframe also contains the airport's name, city state and country."
   ]
  },
  {
   "cell_type": "markdown",
   "metadata": {},
   "source": [
    "#### Define\n",
    "- Filter Airports that are located in the USA. Identify probelmatic data and then rectify  them."
   ]
  },
  {
   "cell_type": "markdown",
   "metadata": {},
   "source": [
    "#### Code"
   ]
  },
  {
   "cell_type": "code",
   "execution_count": 207,
   "metadata": {},
   "outputs": [
    {
     "data": {
      "text/html": [
       "<div>\n",
       "<style scoped>\n",
       "    .dataframe tbody tr th:only-of-type {\n",
       "        vertical-align: middle;\n",
       "    }\n",
       "\n",
       "    .dataframe tbody tr th {\n",
       "        vertical-align: top;\n",
       "    }\n",
       "\n",
       "    .dataframe thead th {\n",
       "        text-align: right;\n",
       "    }\n",
       "</style>\n",
       "<table border=\"1\" class=\"dataframe\">\n",
       "  <thead>\n",
       "    <tr style=\"text-align: right;\">\n",
       "      <th></th>\n",
       "      <th>iata</th>\n",
       "      <th>airport</th>\n",
       "      <th>city</th>\n",
       "      <th>state</th>\n",
       "      <th>country</th>\n",
       "      <th>lat</th>\n",
       "      <th>long</th>\n",
       "    </tr>\n",
       "  </thead>\n",
       "  <tbody>\n",
       "  </tbody>\n",
       "</table>\n",
       "</div>"
      ],
      "text/plain": [
       "Empty DataFrame\n",
       "Columns: [iata, airport, city, state, country, lat, long]\n",
       "Index: []"
      ]
     },
     "execution_count": 207,
     "metadata": {},
     "output_type": "execute_result"
    }
   ],
   "source": [
    "airports_df[(airports_df.country.str.contains('USA')) & (airports_df.iata.isnull())]"
   ]
  },
  {
   "cell_type": "code",
   "execution_count": 208,
   "metadata": {},
   "outputs": [
    {
     "data": {
      "text/html": [
       "<div>\n",
       "<style scoped>\n",
       "    .dataframe tbody tr th:only-of-type {\n",
       "        vertical-align: middle;\n",
       "    }\n",
       "\n",
       "    .dataframe tbody tr th {\n",
       "        vertical-align: top;\n",
       "    }\n",
       "\n",
       "    .dataframe thead th {\n",
       "        text-align: right;\n",
       "    }\n",
       "</style>\n",
       "<table border=\"1\" class=\"dataframe\">\n",
       "  <thead>\n",
       "    <tr style=\"text-align: right;\">\n",
       "      <th></th>\n",
       "      <th>iata</th>\n",
       "      <th>airport</th>\n",
       "      <th>city</th>\n",
       "      <th>state</th>\n",
       "      <th>country</th>\n",
       "      <th>lat</th>\n",
       "      <th>long</th>\n",
       "    </tr>\n",
       "  </thead>\n",
       "  <tbody>\n",
       "  </tbody>\n",
       "</table>\n",
       "</div>"
      ],
      "text/plain": [
       "Empty DataFrame\n",
       "Columns: [iata, airport, city, state, country, lat, long]\n",
       "Index: []"
      ]
     },
     "execution_count": 208,
     "metadata": {},
     "output_type": "execute_result"
    }
   ],
   "source": [
    "airports_df[(airports_df.country.str.contains('USA')) & (airports_df.airport.isnull())]"
   ]
  },
  {
   "cell_type": "code",
   "execution_count": 209,
   "metadata": {},
   "outputs": [
    {
     "data": {
      "text/html": [
       "<div>\n",
       "<style scoped>\n",
       "    .dataframe tbody tr th:only-of-type {\n",
       "        vertical-align: middle;\n",
       "    }\n",
       "\n",
       "    .dataframe tbody tr th {\n",
       "        vertical-align: top;\n",
       "    }\n",
       "\n",
       "    .dataframe thead th {\n",
       "        text-align: right;\n",
       "    }\n",
       "</style>\n",
       "<table border=\"1\" class=\"dataframe\">\n",
       "  <thead>\n",
       "    <tr style=\"text-align: right;\">\n",
       "      <th></th>\n",
       "      <th>iata</th>\n",
       "      <th>airport</th>\n",
       "      <th>city</th>\n",
       "      <th>state</th>\n",
       "      <th>country</th>\n",
       "      <th>lat</th>\n",
       "      <th>long</th>\n",
       "    </tr>\n",
       "  </thead>\n",
       "  <tbody>\n",
       "  </tbody>\n",
       "</table>\n",
       "</div>"
      ],
      "text/plain": [
       "Empty DataFrame\n",
       "Columns: [iata, airport, city, state, country, lat, long]\n",
       "Index: []"
      ]
     },
     "execution_count": 209,
     "metadata": {},
     "output_type": "execute_result"
    }
   ],
   "source": [
    "airports_df[(airports_df.country.str.contains('USA')) & (airports_df.lat.isnull())]"
   ]
  },
  {
   "cell_type": "code",
   "execution_count": 210,
   "metadata": {},
   "outputs": [
    {
     "data": {
      "text/html": [
       "<div>\n",
       "<style scoped>\n",
       "    .dataframe tbody tr th:only-of-type {\n",
       "        vertical-align: middle;\n",
       "    }\n",
       "\n",
       "    .dataframe tbody tr th {\n",
       "        vertical-align: top;\n",
       "    }\n",
       "\n",
       "    .dataframe thead th {\n",
       "        text-align: right;\n",
       "    }\n",
       "</style>\n",
       "<table border=\"1\" class=\"dataframe\">\n",
       "  <thead>\n",
       "    <tr style=\"text-align: right;\">\n",
       "      <th></th>\n",
       "      <th>iata</th>\n",
       "      <th>airport</th>\n",
       "      <th>city</th>\n",
       "      <th>state</th>\n",
       "      <th>country</th>\n",
       "      <th>lat</th>\n",
       "      <th>long</th>\n",
       "    </tr>\n",
       "  </thead>\n",
       "  <tbody>\n",
       "  </tbody>\n",
       "</table>\n",
       "</div>"
      ],
      "text/plain": [
       "Empty DataFrame\n",
       "Columns: [iata, airport, city, state, country, lat, long]\n",
       "Index: []"
      ]
     },
     "execution_count": 210,
     "metadata": {},
     "output_type": "execute_result"
    }
   ],
   "source": [
    "airports_df[(airports_df.country.str.contains('USA')) & (airports_df.long.isnull())]"
   ]
  },
  {
   "cell_type": "markdown",
   "metadata": {},
   "source": [
    "- Columns iata, airport, country, lat and long have no null values. So all good for these columns!"
   ]
  },
  {
   "cell_type": "code",
   "execution_count": 211,
   "metadata": {},
   "outputs": [
    {
     "data": {
      "text/html": [
       "<div>\n",
       "<style scoped>\n",
       "    .dataframe tbody tr th:only-of-type {\n",
       "        vertical-align: middle;\n",
       "    }\n",
       "\n",
       "    .dataframe tbody tr th {\n",
       "        vertical-align: top;\n",
       "    }\n",
       "\n",
       "    .dataframe thead th {\n",
       "        text-align: right;\n",
       "    }\n",
       "</style>\n",
       "<table border=\"1\" class=\"dataframe\">\n",
       "  <thead>\n",
       "    <tr style=\"text-align: right;\">\n",
       "      <th></th>\n",
       "      <th>iata</th>\n",
       "      <th>airport</th>\n",
       "      <th>city</th>\n",
       "      <th>state</th>\n",
       "      <th>country</th>\n",
       "      <th>lat</th>\n",
       "      <th>long</th>\n",
       "    </tr>\n",
       "  </thead>\n",
       "  <tbody>\n",
       "    <tr>\n",
       "      <th>1136</th>\n",
       "      <td>CLD</td>\n",
       "      <td>MC Clellan-Palomar Airport</td>\n",
       "      <td>NaN</td>\n",
       "      <td>NaN</td>\n",
       "      <td>USA</td>\n",
       "      <td>33.127231</td>\n",
       "      <td>-117.278727</td>\n",
       "    </tr>\n",
       "    <tr>\n",
       "      <th>1715</th>\n",
       "      <td>HHH</td>\n",
       "      <td>Hilton Head</td>\n",
       "      <td>NaN</td>\n",
       "      <td>NaN</td>\n",
       "      <td>USA</td>\n",
       "      <td>32.224384</td>\n",
       "      <td>-80.697629</td>\n",
       "    </tr>\n",
       "    <tr>\n",
       "      <th>2251</th>\n",
       "      <td>MIB</td>\n",
       "      <td>Minot AFB</td>\n",
       "      <td>NaN</td>\n",
       "      <td>NaN</td>\n",
       "      <td>USA</td>\n",
       "      <td>48.415769</td>\n",
       "      <td>-101.358039</td>\n",
       "    </tr>\n",
       "    <tr>\n",
       "      <th>2312</th>\n",
       "      <td>MQT</td>\n",
       "      <td>Marquette County Airport</td>\n",
       "      <td>NaN</td>\n",
       "      <td>NaN</td>\n",
       "      <td>USA</td>\n",
       "      <td>46.353639</td>\n",
       "      <td>-87.395361</td>\n",
       "    </tr>\n",
       "    <tr>\n",
       "      <th>2752</th>\n",
       "      <td>RCA</td>\n",
       "      <td>Ellsworth AFB</td>\n",
       "      <td>NaN</td>\n",
       "      <td>NaN</td>\n",
       "      <td>USA</td>\n",
       "      <td>44.145094</td>\n",
       "      <td>-103.103567</td>\n",
       "    </tr>\n",
       "    <tr>\n",
       "      <th>2759</th>\n",
       "      <td>RDR</td>\n",
       "      <td>Grand Forks AFB</td>\n",
       "      <td>NaN</td>\n",
       "      <td>NaN</td>\n",
       "      <td>USA</td>\n",
       "      <td>47.961167</td>\n",
       "      <td>-97.401167</td>\n",
       "    </tr>\n",
       "    <tr>\n",
       "      <th>2900</th>\n",
       "      <td>SCE</td>\n",
       "      <td>University Park</td>\n",
       "      <td>NaN</td>\n",
       "      <td>NaN</td>\n",
       "      <td>USA</td>\n",
       "      <td>40.851206</td>\n",
       "      <td>-77.846302</td>\n",
       "    </tr>\n",
       "    <tr>\n",
       "      <th>2964</th>\n",
       "      <td>SKA</td>\n",
       "      <td>Fairchild AFB</td>\n",
       "      <td>NaN</td>\n",
       "      <td>NaN</td>\n",
       "      <td>USA</td>\n",
       "      <td>47.615058</td>\n",
       "      <td>-117.655803</td>\n",
       "    </tr>\n",
       "  </tbody>\n",
       "</table>\n",
       "</div>"
      ],
      "text/plain": [
       "     iata                     airport city state country        lat  \\\n",
       "1136  CLD  MC Clellan-Palomar Airport  NaN   NaN     USA  33.127231   \n",
       "1715  HHH                 Hilton Head  NaN   NaN     USA  32.224384   \n",
       "2251  MIB                   Minot AFB  NaN   NaN     USA  48.415769   \n",
       "2312  MQT    Marquette County Airport  NaN   NaN     USA  46.353639   \n",
       "2752  RCA               Ellsworth AFB  NaN   NaN     USA  44.145094   \n",
       "2759  RDR             Grand Forks AFB  NaN   NaN     USA  47.961167   \n",
       "2900  SCE             University Park  NaN   NaN     USA  40.851206   \n",
       "2964  SKA               Fairchild AFB  NaN   NaN     USA  47.615058   \n",
       "\n",
       "            long  \n",
       "1136 -117.278727  \n",
       "1715  -80.697629  \n",
       "2251 -101.358039  \n",
       "2312  -87.395361  \n",
       "2752 -103.103567  \n",
       "2759  -97.401167  \n",
       "2900  -77.846302  \n",
       "2964 -117.655803  "
      ]
     },
     "execution_count": 211,
     "metadata": {},
     "output_type": "execute_result"
    }
   ],
   "source": [
    "airports_df[(airports_df.country.str.contains('USA')) & (airports_df.city.isnull())]"
   ]
  },
  {
   "cell_type": "markdown",
   "metadata": {},
   "source": [
    "- The rows in table above have city and state null values. Fill them manually!"
   ]
  },
  {
   "cell_type": "markdown",
   "metadata": {},
   "source": [
    "- I google for the location of city and state of the above airports. Here is what I've found:<br><br>\n",
    "CLD: North San Diego County, California (CA) <br>\n",
    "HHH: Hilton Head Island, South Carolina (SC) <br>\n",
    "MIB: Minot, North Dakota (ND) <br>\n",
    "MQT: Marquette, Michigan (MI) <br>\n",
    "RCA: Rapid City, South Dakota (SD) <br>\n",
    "RDR: Grand Forks, North Dakota (ND) <br>\n",
    "SCE: Happy Valley, Pennsylvania (PA) <br>\n",
    "SKA: Spokane, Washington (WA)"
   ]
  },
  {
   "cell_type": "markdown",
   "metadata": {},
   "source": [
    "#### Define\n",
    "- Fill null city and state values with the above data gathered from a search engine."
   ]
  },
  {
   "cell_type": "markdown",
   "metadata": {},
   "source": [
    "#### Code"
   ]
  },
  {
   "cell_type": "code",
   "execution_count": 212,
   "metadata": {},
   "outputs": [
    {
     "data": {
      "text/plain": [
       "Int64Index([1136, 1715, 2251, 2312, 2752, 2759, 2900, 2964], dtype='int64')"
      ]
     },
     "execution_count": 212,
     "metadata": {},
     "output_type": "execute_result"
    }
   ],
   "source": [
    "city_state_null_index = airports_df[airports_df.city.isnull() & airports_df.country.str.contains('USA')].index\n",
    "city_state_null_index"
   ]
  },
  {
   "cell_type": "code",
   "execution_count": 213,
   "metadata": {},
   "outputs": [],
   "source": [
    "state_list = ['CA','SC','ND','MI','SD','ND','PA','WA']\n",
    "city_list = ['North San Diego County','Hilton Head Island','Minot','Marquette',\n",
    "             'Rapid City','Grand Forks','Happy Valley','Spokane']\n",
    "for i,indx in enumerate(city_state_null_index):\n",
    "    #print(str(i) + '--' + str(indx))\n",
    "    airports_df.loc[indx,'city'] = city_list[i]\n",
    "    airports_df.loc[indx,'state'] = state_list[i]"
   ]
  },
  {
   "cell_type": "markdown",
   "metadata": {},
   "source": [
    "#### Test"
   ]
  },
  {
   "cell_type": "code",
   "execution_count": 214,
   "metadata": {},
   "outputs": [
    {
     "data": {
      "text/html": [
       "<div>\n",
       "<style scoped>\n",
       "    .dataframe tbody tr th:only-of-type {\n",
       "        vertical-align: middle;\n",
       "    }\n",
       "\n",
       "    .dataframe tbody tr th {\n",
       "        vertical-align: top;\n",
       "    }\n",
       "\n",
       "    .dataframe thead th {\n",
       "        text-align: right;\n",
       "    }\n",
       "</style>\n",
       "<table border=\"1\" class=\"dataframe\">\n",
       "  <thead>\n",
       "    <tr style=\"text-align: right;\">\n",
       "      <th></th>\n",
       "      <th>iata</th>\n",
       "      <th>airport</th>\n",
       "      <th>city</th>\n",
       "      <th>state</th>\n",
       "      <th>country</th>\n",
       "      <th>lat</th>\n",
       "      <th>long</th>\n",
       "    </tr>\n",
       "  </thead>\n",
       "  <tbody>\n",
       "  </tbody>\n",
       "</table>\n",
       "</div>"
      ],
      "text/plain": [
       "Empty DataFrame\n",
       "Columns: [iata, airport, city, state, country, lat, long]\n",
       "Index: []"
      ]
     },
     "execution_count": 214,
     "metadata": {},
     "output_type": "execute_result"
    }
   ],
   "source": [
    "airports_df[airports_df.city.isnull() & airports_df.country.str.contains('USA')]"
   ]
  },
  {
   "cell_type": "code",
   "execution_count": 215,
   "metadata": {},
   "outputs": [
    {
     "data": {
      "text/html": [
       "<div>\n",
       "<style scoped>\n",
       "    .dataframe tbody tr th:only-of-type {\n",
       "        vertical-align: middle;\n",
       "    }\n",
       "\n",
       "    .dataframe tbody tr th {\n",
       "        vertical-align: top;\n",
       "    }\n",
       "\n",
       "    .dataframe thead th {\n",
       "        text-align: right;\n",
       "    }\n",
       "</style>\n",
       "<table border=\"1\" class=\"dataframe\">\n",
       "  <thead>\n",
       "    <tr style=\"text-align: right;\">\n",
       "      <th></th>\n",
       "      <th>iata</th>\n",
       "      <th>airport</th>\n",
       "      <th>city</th>\n",
       "      <th>state</th>\n",
       "      <th>country</th>\n",
       "      <th>lat</th>\n",
       "      <th>long</th>\n",
       "    </tr>\n",
       "  </thead>\n",
       "  <tbody>\n",
       "    <tr>\n",
       "      <th>1136</th>\n",
       "      <td>CLD</td>\n",
       "      <td>MC Clellan-Palomar Airport</td>\n",
       "      <td>North San Diego County</td>\n",
       "      <td>CA</td>\n",
       "      <td>USA</td>\n",
       "      <td>33.127231</td>\n",
       "      <td>-117.278727</td>\n",
       "    </tr>\n",
       "    <tr>\n",
       "      <th>1715</th>\n",
       "      <td>HHH</td>\n",
       "      <td>Hilton Head</td>\n",
       "      <td>Hilton Head Island</td>\n",
       "      <td>SC</td>\n",
       "      <td>USA</td>\n",
       "      <td>32.224384</td>\n",
       "      <td>-80.697629</td>\n",
       "    </tr>\n",
       "    <tr>\n",
       "      <th>2251</th>\n",
       "      <td>MIB</td>\n",
       "      <td>Minot AFB</td>\n",
       "      <td>Minot</td>\n",
       "      <td>ND</td>\n",
       "      <td>USA</td>\n",
       "      <td>48.415769</td>\n",
       "      <td>-101.358039</td>\n",
       "    </tr>\n",
       "    <tr>\n",
       "      <th>2312</th>\n",
       "      <td>MQT</td>\n",
       "      <td>Marquette County Airport</td>\n",
       "      <td>Marquette</td>\n",
       "      <td>MI</td>\n",
       "      <td>USA</td>\n",
       "      <td>46.353639</td>\n",
       "      <td>-87.395361</td>\n",
       "    </tr>\n",
       "    <tr>\n",
       "      <th>2752</th>\n",
       "      <td>RCA</td>\n",
       "      <td>Ellsworth AFB</td>\n",
       "      <td>Rapid City</td>\n",
       "      <td>SD</td>\n",
       "      <td>USA</td>\n",
       "      <td>44.145094</td>\n",
       "      <td>-103.103567</td>\n",
       "    </tr>\n",
       "    <tr>\n",
       "      <th>2759</th>\n",
       "      <td>RDR</td>\n",
       "      <td>Grand Forks AFB</td>\n",
       "      <td>Grand Forks</td>\n",
       "      <td>ND</td>\n",
       "      <td>USA</td>\n",
       "      <td>47.961167</td>\n",
       "      <td>-97.401167</td>\n",
       "    </tr>\n",
       "    <tr>\n",
       "      <th>2900</th>\n",
       "      <td>SCE</td>\n",
       "      <td>University Park</td>\n",
       "      <td>Happy Valley</td>\n",
       "      <td>PA</td>\n",
       "      <td>USA</td>\n",
       "      <td>40.851206</td>\n",
       "      <td>-77.846302</td>\n",
       "    </tr>\n",
       "    <tr>\n",
       "      <th>2964</th>\n",
       "      <td>SKA</td>\n",
       "      <td>Fairchild AFB</td>\n",
       "      <td>Spokane</td>\n",
       "      <td>WA</td>\n",
       "      <td>USA</td>\n",
       "      <td>47.615058</td>\n",
       "      <td>-117.655803</td>\n",
       "    </tr>\n",
       "  </tbody>\n",
       "</table>\n",
       "</div>"
      ],
      "text/plain": [
       "     iata                     airport                    city state country  \\\n",
       "1136  CLD  MC Clellan-Palomar Airport  North San Diego County    CA     USA   \n",
       "1715  HHH                 Hilton Head      Hilton Head Island    SC     USA   \n",
       "2251  MIB                   Minot AFB                   Minot    ND     USA   \n",
       "2312  MQT    Marquette County Airport               Marquette    MI     USA   \n",
       "2752  RCA               Ellsworth AFB              Rapid City    SD     USA   \n",
       "2759  RDR             Grand Forks AFB             Grand Forks    ND     USA   \n",
       "2900  SCE             University Park            Happy Valley    PA     USA   \n",
       "2964  SKA               Fairchild AFB                 Spokane    WA     USA   \n",
       "\n",
       "            lat        long  \n",
       "1136  33.127231 -117.278727  \n",
       "1715  32.224384  -80.697629  \n",
       "2251  48.415769 -101.358039  \n",
       "2312  46.353639  -87.395361  \n",
       "2752  44.145094 -103.103567  \n",
       "2759  47.961167  -97.401167  \n",
       "2900  40.851206  -77.846302  \n",
       "2964  47.615058 -117.655803  "
      ]
     },
     "execution_count": 215,
     "metadata": {},
     "output_type": "execute_result"
    }
   ],
   "source": [
    "airports_df.loc[city_state_null_index]"
   ]
  },
  {
   "cell_type": "markdown",
   "metadata": {},
   "source": [
    "- Now the airports_df contains rows with filled data. Please note that this only applies to airports located in the USA.\n",
    "- Airports located in the USA are what we are interested in for this project."
   ]
  },
  {
   "cell_type": "markdown",
   "metadata": {},
   "source": [
    "#### Define\n",
    "- Remove rows that are not relevant to this project"
   ]
  },
  {
   "cell_type": "markdown",
   "metadata": {},
   "source": [
    "#### Code"
   ]
  },
  {
   "cell_type": "code",
   "execution_count": 216,
   "metadata": {},
   "outputs": [
    {
     "data": {
      "text/html": [
       "<div>\n",
       "<style scoped>\n",
       "    .dataframe tbody tr th:only-of-type {\n",
       "        vertical-align: middle;\n",
       "    }\n",
       "\n",
       "    .dataframe tbody tr th {\n",
       "        vertical-align: top;\n",
       "    }\n",
       "\n",
       "    .dataframe thead th {\n",
       "        text-align: right;\n",
       "    }\n",
       "</style>\n",
       "<table border=\"1\" class=\"dataframe\">\n",
       "  <thead>\n",
       "    <tr style=\"text-align: right;\">\n",
       "      <th></th>\n",
       "      <th>iata</th>\n",
       "      <th>airport</th>\n",
       "      <th>city</th>\n",
       "      <th>state</th>\n",
       "      <th>country</th>\n",
       "      <th>lat</th>\n",
       "      <th>long</th>\n",
       "    </tr>\n",
       "  </thead>\n",
       "  <tbody>\n",
       "    <tr>\n",
       "      <th>2794</th>\n",
       "      <td>ROP</td>\n",
       "      <td>Prachinburi</td>\n",
       "      <td>NaN</td>\n",
       "      <td>NaN</td>\n",
       "      <td>Thailand</td>\n",
       "      <td>14.078333</td>\n",
       "      <td>101.378334</td>\n",
       "    </tr>\n",
       "    <tr>\n",
       "      <th>2795</th>\n",
       "      <td>ROR</td>\n",
       "      <td>Babelthoup/Koror</td>\n",
       "      <td>NaN</td>\n",
       "      <td>NaN</td>\n",
       "      <td>Palau</td>\n",
       "      <td>7.367222</td>\n",
       "      <td>134.544167</td>\n",
       "    </tr>\n",
       "    <tr>\n",
       "      <th>3001</th>\n",
       "      <td>SPN</td>\n",
       "      <td>Tinian International Airport</td>\n",
       "      <td>NaN</td>\n",
       "      <td>NaN</td>\n",
       "      <td>N Mariana Islands</td>\n",
       "      <td>14.996111</td>\n",
       "      <td>145.621384</td>\n",
       "    </tr>\n",
       "    <tr>\n",
       "      <th>3355</th>\n",
       "      <td>YAP</td>\n",
       "      <td>Yap International</td>\n",
       "      <td>NaN</td>\n",
       "      <td>NaN</td>\n",
       "      <td>Federated States of Micronesia</td>\n",
       "      <td>9.516700</td>\n",
       "      <td>138.100000</td>\n",
       "    </tr>\n",
       "  </tbody>\n",
       "</table>\n",
       "</div>"
      ],
      "text/plain": [
       "     iata                       airport city state  \\\n",
       "2794  ROP                   Prachinburi  NaN   NaN   \n",
       "2795  ROR              Babelthoup/Koror  NaN   NaN   \n",
       "3001  SPN  Tinian International Airport  NaN   NaN   \n",
       "3355  YAP             Yap International  NaN   NaN   \n",
       "\n",
       "                             country        lat        long  \n",
       "2794                        Thailand  14.078333  101.378334  \n",
       "2795                           Palau   7.367222  134.544167  \n",
       "3001               N Mariana Islands  14.996111  145.621384  \n",
       "3355  Federated States of Micronesia   9.516700  138.100000  "
      ]
     },
     "execution_count": 216,
     "metadata": {},
     "output_type": "execute_result"
    }
   ],
   "source": [
    "airports_df[(airports_df.city.isnull()) | (airports_df.state.isnull())]"
   ]
  },
  {
   "cell_type": "code",
   "execution_count": 217,
   "metadata": {},
   "outputs": [
    {
     "data": {
      "text/plain": [
       "4"
      ]
     },
     "execution_count": 217,
     "metadata": {},
     "output_type": "execute_result"
    }
   ],
   "source": [
    "city_state_null_filter = (airports_df.city.isnull()) | (airports_df.state.isnull())\n",
    "city_state_null_filter.sum()"
   ]
  },
  {
   "cell_type": "code",
   "execution_count": 218,
   "metadata": {},
   "outputs": [
    {
     "data": {
      "text/plain": [
       "3376"
      ]
     },
     "execution_count": 218,
     "metadata": {},
     "output_type": "execute_result"
    }
   ],
   "source": [
    "airports_df.shape[0]"
   ]
  },
  {
   "cell_type": "code",
   "execution_count": 219,
   "metadata": {},
   "outputs": [],
   "source": [
    "# now only contains airport with city and state filled\n",
    "airports_df = airports_df[~city_state_null_filter]"
   ]
  },
  {
   "cell_type": "markdown",
   "metadata": {},
   "source": [
    "#### Test"
   ]
  },
  {
   "cell_type": "code",
   "execution_count": 220,
   "metadata": {},
   "outputs": [
    {
     "data": {
      "text/html": [
       "<div>\n",
       "<style scoped>\n",
       "    .dataframe tbody tr th:only-of-type {\n",
       "        vertical-align: middle;\n",
       "    }\n",
       "\n",
       "    .dataframe tbody tr th {\n",
       "        vertical-align: top;\n",
       "    }\n",
       "\n",
       "    .dataframe thead th {\n",
       "        text-align: right;\n",
       "    }\n",
       "</style>\n",
       "<table border=\"1\" class=\"dataframe\">\n",
       "  <thead>\n",
       "    <tr style=\"text-align: right;\">\n",
       "      <th></th>\n",
       "      <th>iata</th>\n",
       "      <th>airport</th>\n",
       "      <th>city</th>\n",
       "      <th>state</th>\n",
       "      <th>country</th>\n",
       "      <th>lat</th>\n",
       "      <th>long</th>\n",
       "    </tr>\n",
       "  </thead>\n",
       "  <tbody>\n",
       "  </tbody>\n",
       "</table>\n",
       "</div>"
      ],
      "text/plain": [
       "Empty DataFrame\n",
       "Columns: [iata, airport, city, state, country, lat, long]\n",
       "Index: []"
      ]
     },
     "execution_count": 220,
     "metadata": {},
     "output_type": "execute_result"
    }
   ],
   "source": [
    "airports_df[(airports_df.city.isnull()) | (airports_df.state.isnull())]"
   ]
  },
  {
   "cell_type": "code",
   "execution_count": 221,
   "metadata": {},
   "outputs": [
    {
     "data": {
      "text/plain": [
       "3372"
      ]
     },
     "execution_count": 221,
     "metadata": {},
     "output_type": "execute_result"
    }
   ],
   "source": [
    "airports_df.shape[0]"
   ]
  },
  {
   "cell_type": "markdown",
   "metadata": {},
   "source": [
    "# 13. Exploring y_2006_df and airports_df"
   ]
  },
  {
   "cell_type": "markdown",
   "metadata": {},
   "source": [
    "## 13.1 Origin\n",
    "- Origin Airport id which equals to iata"
   ]
  },
  {
   "cell_type": "code",
   "execution_count": 222,
   "metadata": {},
   "outputs": [],
   "source": [
    "cols = ['Origin','CarrierDescription','DepTime','DepTimeCategory','DepDelayM','Cancelled','Diverted']"
   ]
  },
  {
   "cell_type": "code",
   "execution_count": 223,
   "metadata": {},
   "outputs": [
    {
     "data": {
      "text/html": [
       "<div>\n",
       "<style scoped>\n",
       "    .dataframe tbody tr th:only-of-type {\n",
       "        vertical-align: middle;\n",
       "    }\n",
       "\n",
       "    .dataframe tbody tr th {\n",
       "        vertical-align: top;\n",
       "    }\n",
       "\n",
       "    .dataframe thead th {\n",
       "        text-align: right;\n",
       "    }\n",
       "</style>\n",
       "<table border=\"1\" class=\"dataframe\">\n",
       "  <thead>\n",
       "    <tr style=\"text-align: right;\">\n",
       "      <th></th>\n",
       "      <th>Origin</th>\n",
       "      <th>CarrierDescription</th>\n",
       "      <th>DepTime</th>\n",
       "      <th>DepTimeCategory</th>\n",
       "      <th>DepDelayM</th>\n",
       "      <th>Cancelled</th>\n",
       "      <th>Diverted</th>\n",
       "    </tr>\n",
       "  </thead>\n",
       "  <tbody>\n",
       "    <tr>\n",
       "      <th>1582</th>\n",
       "      <td>DFW</td>\n",
       "      <td>American Airlines Inc.</td>\n",
       "      <td>2006-04-28 11:02:00</td>\n",
       "      <td>Late Morning</td>\n",
       "      <td>33.0</td>\n",
       "      <td>False</td>\n",
       "      <td>0</td>\n",
       "    </tr>\n",
       "    <tr>\n",
       "      <th>58423</th>\n",
       "      <td>MAF</td>\n",
       "      <td>Southwest Airlines Co.</td>\n",
       "      <td>2006-02-27 19:45:00</td>\n",
       "      <td>Evening</td>\n",
       "      <td>0.0</td>\n",
       "      <td>False</td>\n",
       "      <td>0</td>\n",
       "    </tr>\n",
       "    <tr>\n",
       "      <th>64138</th>\n",
       "      <td>ORF</td>\n",
       "      <td>Expressjet Airlines Inc.</td>\n",
       "      <td>2006-09-07 14:20:00</td>\n",
       "      <td>Afternoon</td>\n",
       "      <td>-5.0</td>\n",
       "      <td>False</td>\n",
       "      <td>0</td>\n",
       "    </tr>\n",
       "    <tr>\n",
       "      <th>31308</th>\n",
       "      <td>DTW</td>\n",
       "      <td>Northwest Airlines Inc.</td>\n",
       "      <td>2006-05-31 06:57:00</td>\n",
       "      <td>Morning</td>\n",
       "      <td>-5.0</td>\n",
       "      <td>False</td>\n",
       "      <td>0</td>\n",
       "    </tr>\n",
       "    <tr>\n",
       "      <th>4618</th>\n",
       "      <td>ATL</td>\n",
       "      <td>American Airlines Inc.</td>\n",
       "      <td>2006-01-05 09:06:00</td>\n",
       "      <td>Late Morning</td>\n",
       "      <td>7.0</td>\n",
       "      <td>False</td>\n",
       "      <td>0</td>\n",
       "    </tr>\n",
       "  </tbody>\n",
       "</table>\n",
       "</div>"
      ],
      "text/plain": [
       "      Origin        CarrierDescription             DepTime DepTimeCategory  \\\n",
       "1582     DFW    American Airlines Inc. 2006-04-28 11:02:00    Late Morning   \n",
       "58423    MAF    Southwest Airlines Co. 2006-02-27 19:45:00         Evening   \n",
       "64138    ORF  Expressjet Airlines Inc. 2006-09-07 14:20:00       Afternoon   \n",
       "31308    DTW   Northwest Airlines Inc. 2006-05-31 06:57:00         Morning   \n",
       "4618     ATL    American Airlines Inc. 2006-01-05 09:06:00    Late Morning   \n",
       "\n",
       "       DepDelayM  Cancelled  Diverted  \n",
       "1582        33.0      False         0  \n",
       "58423        0.0      False         0  \n",
       "64138       -5.0      False         0  \n",
       "31308       -5.0      False         0  \n",
       "4618         7.0      False         0  "
      ]
     },
     "execution_count": 223,
     "metadata": {},
     "output_type": "execute_result"
    }
   ],
   "source": [
    "y_2006_df[cols].sample(5)"
   ]
  },
  {
   "cell_type": "markdown",
   "metadata": {},
   "source": [
    "- The above table is missing one column to be human-friendly. It is missing the Airport column. Now we have only airport code. Origin column contains airport code. We need to merge y_2006_df with airports_df to get this data along with lat and long data for airport's position on the map."
   ]
  },
  {
   "cell_type": "code",
   "execution_count": 224,
   "metadata": {},
   "outputs": [
    {
     "data": {
      "text/plain": [
       "0"
      ]
     },
     "execution_count": 224,
     "metadata": {},
     "output_type": "execute_result"
    }
   ],
   "source": [
    "y_2006_df.Origin.isnull().sum()"
   ]
  },
  {
   "cell_type": "code",
   "execution_count": 225,
   "metadata": {},
   "outputs": [
    {
     "data": {
      "text/plain": [
       "286"
      ]
     },
     "execution_count": 225,
     "metadata": {},
     "output_type": "execute_result"
    }
   ],
   "source": [
    "y_2006_df.Origin.nunique()"
   ]
  },
  {
   "cell_type": "markdown",
   "metadata": {},
   "source": [
    "- There is no null values of Origin inside y_2006_df\n",
    "- There are around 290s unique Origin inside y_2006_df. (Result depends on random sampling)\n",
    "- Origin is airport_id or iata inside airports_df"
   ]
  },
  {
   "cell_type": "markdown",
   "metadata": {},
   "source": [
    "#### Define\n",
    "- Are Origin inside y_2006_df are also represented inside airports_df?"
   ]
  },
  {
   "cell_type": "markdown",
   "metadata": {},
   "source": [
    "#### Code"
   ]
  },
  {
   "cell_type": "code",
   "execution_count": 226,
   "metadata": {},
   "outputs": [],
   "source": [
    "# make a copy of airports_df \n",
    "airports_origin_df = airports_df.copy()"
   ]
  },
  {
   "cell_type": "code",
   "execution_count": 227,
   "metadata": {},
   "outputs": [
    {
     "data": {
      "text/plain": [
       "(3372, 286)"
      ]
     },
     "execution_count": 227,
     "metadata": {},
     "output_type": "execute_result"
    }
   ],
   "source": [
    "airports_origin_df.iata.nunique(), y_2006_df.Origin.nunique()"
   ]
  },
  {
   "cell_type": "markdown",
   "metadata": {},
   "source": [
    "- One important to note: `Origin` is an airport id. `iata` is also an airport id.\n",
    "- There are around 3,000s unique airport id inside airports_origin_df.\n",
    "- There are only around 290s unique airport id inside y_2006_df.\n",
    "- So make airport_origin_df to contain only airport id from y_2006_df. This I will do now."
   ]
  },
  {
   "cell_type": "code",
   "execution_count": 228,
   "metadata": {},
   "outputs": [
    {
     "data": {
      "text/plain": [
       "286"
      ]
     },
     "execution_count": 228,
     "metadata": {},
     "output_type": "execute_result"
    }
   ],
   "source": [
    "origin_filter = airports_origin_df.iata.isin(list(y_2006_df.Origin))\n",
    "origin_filter.sum()"
   ]
  },
  {
   "cell_type": "code",
   "execution_count": 229,
   "metadata": {},
   "outputs": [],
   "source": [
    "# I'm only interested in the Origin in y_2006_df\n",
    "airports_origin_df = airports_origin_df[origin_filter]"
   ]
  },
  {
   "cell_type": "markdown",
   "metadata": {},
   "source": [
    "#### Test"
   ]
  },
  {
   "cell_type": "code",
   "execution_count": 230,
   "metadata": {},
   "outputs": [
    {
     "data": {
      "text/plain": [
       "286"
      ]
     },
     "execution_count": 230,
     "metadata": {},
     "output_type": "execute_result"
    }
   ],
   "source": [
    "airports_origin_df.iata.nunique()"
   ]
  },
  {
   "cell_type": "code",
   "execution_count": 231,
   "metadata": {},
   "outputs": [
    {
     "data": {
      "text/html": [
       "<div>\n",
       "<style scoped>\n",
       "    .dataframe tbody tr th:only-of-type {\n",
       "        vertical-align: middle;\n",
       "    }\n",
       "\n",
       "    .dataframe tbody tr th {\n",
       "        vertical-align: top;\n",
       "    }\n",
       "\n",
       "    .dataframe thead th {\n",
       "        text-align: right;\n",
       "    }\n",
       "</style>\n",
       "<table border=\"1\" class=\"dataframe\">\n",
       "  <thead>\n",
       "    <tr style=\"text-align: right;\">\n",
       "      <th></th>\n",
       "      <th>iata</th>\n",
       "      <th>airport</th>\n",
       "      <th>city</th>\n",
       "      <th>state</th>\n",
       "      <th>country</th>\n",
       "      <th>lat</th>\n",
       "      <th>long</th>\n",
       "    </tr>\n",
       "  </thead>\n",
       "  <tbody>\n",
       "    <tr>\n",
       "      <th>759</th>\n",
       "      <td>ABE</td>\n",
       "      <td>Lehigh Valley International</td>\n",
       "      <td>Allentown</td>\n",
       "      <td>PA</td>\n",
       "      <td>USA</td>\n",
       "      <td>40.652363</td>\n",
       "      <td>-75.440402</td>\n",
       "    </tr>\n",
       "    <tr>\n",
       "      <th>760</th>\n",
       "      <td>ABI</td>\n",
       "      <td>Abilene Regional</td>\n",
       "      <td>Abilene</td>\n",
       "      <td>TX</td>\n",
       "      <td>USA</td>\n",
       "      <td>32.411320</td>\n",
       "      <td>-99.681897</td>\n",
       "    </tr>\n",
       "    <tr>\n",
       "      <th>762</th>\n",
       "      <td>ABQ</td>\n",
       "      <td>Albuquerque International</td>\n",
       "      <td>Albuquerque</td>\n",
       "      <td>NM</td>\n",
       "      <td>USA</td>\n",
       "      <td>35.040222</td>\n",
       "      <td>-106.609194</td>\n",
       "    </tr>\n",
       "    <tr>\n",
       "      <th>764</th>\n",
       "      <td>ABY</td>\n",
       "      <td>Southwest Georgia Regional</td>\n",
       "      <td>Albany</td>\n",
       "      <td>GA</td>\n",
       "      <td>USA</td>\n",
       "      <td>31.535515</td>\n",
       "      <td>-84.194473</td>\n",
       "    </tr>\n",
       "    <tr>\n",
       "      <th>767</th>\n",
       "      <td>ACK</td>\n",
       "      <td>Nantucket Memorial</td>\n",
       "      <td>Nantucket</td>\n",
       "      <td>MA</td>\n",
       "      <td>USA</td>\n",
       "      <td>41.253052</td>\n",
       "      <td>-70.060181</td>\n",
       "    </tr>\n",
       "  </tbody>\n",
       "</table>\n",
       "</div>"
      ],
      "text/plain": [
       "    iata                      airport         city state country        lat  \\\n",
       "759  ABE  Lehigh Valley International    Allentown    PA     USA  40.652363   \n",
       "760  ABI             Abilene Regional      Abilene    TX     USA  32.411320   \n",
       "762  ABQ    Albuquerque International  Albuquerque    NM     USA  35.040222   \n",
       "764  ABY   Southwest Georgia Regional       Albany    GA     USA  31.535515   \n",
       "767  ACK           Nantucket Memorial    Nantucket    MA     USA  41.253052   \n",
       "\n",
       "           long  \n",
       "759  -75.440402  \n",
       "760  -99.681897  \n",
       "762 -106.609194  \n",
       "764  -84.194473  \n",
       "767  -70.060181  "
      ]
     },
     "execution_count": 231,
     "metadata": {},
     "output_type": "execute_result"
    }
   ],
   "source": [
    "airports_origin_df.head()"
   ]
  },
  {
   "cell_type": "markdown",
   "metadata": {},
   "source": [
    "- Great! I now have a dataframe that contains detailed information about airports. Not just airport ids.\n",
    "- I will merge airports_origins_df and y_2006_df later. After merging, I will have detailed airport information."
   ]
  },
  {
   "cell_type": "markdown",
   "metadata": {},
   "source": [
    "## 13.2 Dest\n",
    "- Destination Airport id which equals to iata"
   ]
  },
  {
   "cell_type": "code",
   "execution_count": 232,
   "metadata": {},
   "outputs": [],
   "source": [
    "cols = ['Dest','CarrierDescription','ArrTime','ArrTimeCategory','ArrDelayM','Cancelled','Diverted']"
   ]
  },
  {
   "cell_type": "code",
   "execution_count": 233,
   "metadata": {},
   "outputs": [
    {
     "data": {
      "text/html": [
       "<div>\n",
       "<style scoped>\n",
       "    .dataframe tbody tr th:only-of-type {\n",
       "        vertical-align: middle;\n",
       "    }\n",
       "\n",
       "    .dataframe tbody tr th {\n",
       "        vertical-align: top;\n",
       "    }\n",
       "\n",
       "    .dataframe thead th {\n",
       "        text-align: right;\n",
       "    }\n",
       "</style>\n",
       "<table border=\"1\" class=\"dataframe\">\n",
       "  <thead>\n",
       "    <tr style=\"text-align: right;\">\n",
       "      <th></th>\n",
       "      <th>Dest</th>\n",
       "      <th>CarrierDescription</th>\n",
       "      <th>ArrTime</th>\n",
       "      <th>ArrTimeCategory</th>\n",
       "      <th>ArrDelayM</th>\n",
       "      <th>Cancelled</th>\n",
       "      <th>Diverted</th>\n",
       "    </tr>\n",
       "  </thead>\n",
       "  <tbody>\n",
       "    <tr>\n",
       "      <th>1715</th>\n",
       "      <td>AUS</td>\n",
       "      <td>American Airlines Inc.</td>\n",
       "      <td>2006-11-29 23:38:00</td>\n",
       "      <td>Night</td>\n",
       "      <td>198.0</td>\n",
       "      <td>False</td>\n",
       "      <td>0</td>\n",
       "    </tr>\n",
       "    <tr>\n",
       "      <th>34795</th>\n",
       "      <td>MSN</td>\n",
       "      <td>Comair Inc.</td>\n",
       "      <td>2006-05-17 10:55:00</td>\n",
       "      <td>Late Morning</td>\n",
       "      <td>39.0</td>\n",
       "      <td>False</td>\n",
       "      <td>0</td>\n",
       "    </tr>\n",
       "    <tr>\n",
       "      <th>65762</th>\n",
       "      <td>BTV</td>\n",
       "      <td>Expressjet Airlines Inc.</td>\n",
       "      <td>2006-11-13 01:50:00</td>\n",
       "      <td>Late Night</td>\n",
       "      <td>181.0</td>\n",
       "      <td>False</td>\n",
       "      <td>0</td>\n",
       "    </tr>\n",
       "    <tr>\n",
       "      <th>44555</th>\n",
       "      <td>PHL</td>\n",
       "      <td>United Air Lines Inc.</td>\n",
       "      <td>2006-11-22 22:02:00</td>\n",
       "      <td>Night</td>\n",
       "      <td>22.0</td>\n",
       "      <td>False</td>\n",
       "      <td>0</td>\n",
       "    </tr>\n",
       "    <tr>\n",
       "      <th>41590</th>\n",
       "      <td>SEA</td>\n",
       "      <td>Skywest Airlines Inc.</td>\n",
       "      <td>2006-01-13 07:51:00</td>\n",
       "      <td>Morning</td>\n",
       "      <td>-3.0</td>\n",
       "      <td>False</td>\n",
       "      <td>0</td>\n",
       "    </tr>\n",
       "  </tbody>\n",
       "</table>\n",
       "</div>"
      ],
      "text/plain": [
       "      Dest        CarrierDescription             ArrTime ArrTimeCategory  \\\n",
       "1715   AUS    American Airlines Inc. 2006-11-29 23:38:00           Night   \n",
       "34795  MSN               Comair Inc. 2006-05-17 10:55:00    Late Morning   \n",
       "65762  BTV  Expressjet Airlines Inc. 2006-11-13 01:50:00      Late Night   \n",
       "44555  PHL     United Air Lines Inc. 2006-11-22 22:02:00           Night   \n",
       "41590  SEA     Skywest Airlines Inc. 2006-01-13 07:51:00         Morning   \n",
       "\n",
       "       ArrDelayM  Cancelled  Diverted  \n",
       "1715       198.0      False         0  \n",
       "34795       39.0      False         0  \n",
       "65762      181.0      False         0  \n",
       "44555       22.0      False         0  \n",
       "41590       -3.0      False         0  "
      ]
     },
     "execution_count": 233,
     "metadata": {},
     "output_type": "execute_result"
    }
   ],
   "source": [
    "y_2006_df[cols].sample(5)"
   ]
  },
  {
   "cell_type": "markdown",
   "metadata": {},
   "source": [
    "- Similarly, the above above table is missing the Airport column. Now let's work towards that -- having detailed airport information in our table."
   ]
  },
  {
   "cell_type": "code",
   "execution_count": 234,
   "metadata": {},
   "outputs": [
    {
     "data": {
      "text/plain": [
       "0"
      ]
     },
     "execution_count": 234,
     "metadata": {},
     "output_type": "execute_result"
    }
   ],
   "source": [
    "y_2006_df.Dest.isnull().sum()"
   ]
  },
  {
   "cell_type": "code",
   "execution_count": 235,
   "metadata": {},
   "outputs": [
    {
     "data": {
      "text/plain": [
       "283"
      ]
     },
     "execution_count": 235,
     "metadata": {},
     "output_type": "execute_result"
    }
   ],
   "source": [
    "y_2006_df.Dest.nunique()"
   ]
  },
  {
   "cell_type": "markdown",
   "metadata": {},
   "source": [
    "- There is no null values of Dest inside y_2006_df\n",
    "- There are around 290s unique Dest inside y_2006_df. (Result depends on random sampling)\n",
    "- Dest is airport_id or iata inside airports_df"
   ]
  },
  {
   "cell_type": "markdown",
   "metadata": {},
   "source": [
    "#### Define\n",
    "- Are Dest inside y_2006_df are also represented inside airports_df?"
   ]
  },
  {
   "cell_type": "markdown",
   "metadata": {},
   "source": [
    "#### Code"
   ]
  },
  {
   "cell_type": "code",
   "execution_count": 236,
   "metadata": {},
   "outputs": [],
   "source": [
    "# make a copy of airports_df \n",
    "airports_destination_df = airports_df.copy()"
   ]
  },
  {
   "cell_type": "code",
   "execution_count": 237,
   "metadata": {},
   "outputs": [
    {
     "data": {
      "text/plain": [
       "(3372, 283)"
      ]
     },
     "execution_count": 237,
     "metadata": {},
     "output_type": "execute_result"
    }
   ],
   "source": [
    "airports_destination_df.iata.nunique(), y_2006_df.Dest.nunique()"
   ]
  },
  {
   "cell_type": "markdown",
   "metadata": {},
   "source": [
    "- One important to note: `Dest` is an airport id. `iata` is also an airport id.\n",
    "- There are around 3,000s unique airport id inside airports_destination_df.\n",
    "- There are only around 290s unique airport id inside y_2006_df.\n",
    "- So make airport_destination_df to contain only airport id from y_2006_df. This I will do now."
   ]
  },
  {
   "cell_type": "code",
   "execution_count": 238,
   "metadata": {},
   "outputs": [
    {
     "data": {
      "text/plain": [
       "283"
      ]
     },
     "execution_count": 238,
     "metadata": {},
     "output_type": "execute_result"
    }
   ],
   "source": [
    "dest_filter = airports_destination_df.iata.isin(list(y_2006_df.Dest))\n",
    "dest_filter.sum()"
   ]
  },
  {
   "cell_type": "code",
   "execution_count": 239,
   "metadata": {},
   "outputs": [],
   "source": [
    "# I'm only interested in the Dest in y_2006_df\n",
    "airports_destination_df = airports_destination_df[dest_filter]"
   ]
  },
  {
   "cell_type": "markdown",
   "metadata": {},
   "source": [
    "#### Test"
   ]
  },
  {
   "cell_type": "code",
   "execution_count": 240,
   "metadata": {},
   "outputs": [
    {
     "data": {
      "text/plain": [
       "283"
      ]
     },
     "execution_count": 240,
     "metadata": {},
     "output_type": "execute_result"
    }
   ],
   "source": [
    "airports_destination_df.iata.nunique()"
   ]
  },
  {
   "cell_type": "code",
   "execution_count": 241,
   "metadata": {},
   "outputs": [
    {
     "data": {
      "text/html": [
       "<div>\n",
       "<style scoped>\n",
       "    .dataframe tbody tr th:only-of-type {\n",
       "        vertical-align: middle;\n",
       "    }\n",
       "\n",
       "    .dataframe tbody tr th {\n",
       "        vertical-align: top;\n",
       "    }\n",
       "\n",
       "    .dataframe thead th {\n",
       "        text-align: right;\n",
       "    }\n",
       "</style>\n",
       "<table border=\"1\" class=\"dataframe\">\n",
       "  <thead>\n",
       "    <tr style=\"text-align: right;\">\n",
       "      <th></th>\n",
       "      <th>iata</th>\n",
       "      <th>airport</th>\n",
       "      <th>city</th>\n",
       "      <th>state</th>\n",
       "      <th>country</th>\n",
       "      <th>lat</th>\n",
       "      <th>long</th>\n",
       "    </tr>\n",
       "  </thead>\n",
       "  <tbody>\n",
       "    <tr>\n",
       "      <th>759</th>\n",
       "      <td>ABE</td>\n",
       "      <td>Lehigh Valley International</td>\n",
       "      <td>Allentown</td>\n",
       "      <td>PA</td>\n",
       "      <td>USA</td>\n",
       "      <td>40.652363</td>\n",
       "      <td>-75.440402</td>\n",
       "    </tr>\n",
       "    <tr>\n",
       "      <th>760</th>\n",
       "      <td>ABI</td>\n",
       "      <td>Abilene Regional</td>\n",
       "      <td>Abilene</td>\n",
       "      <td>TX</td>\n",
       "      <td>USA</td>\n",
       "      <td>32.411320</td>\n",
       "      <td>-99.681897</td>\n",
       "    </tr>\n",
       "    <tr>\n",
       "      <th>762</th>\n",
       "      <td>ABQ</td>\n",
       "      <td>Albuquerque International</td>\n",
       "      <td>Albuquerque</td>\n",
       "      <td>NM</td>\n",
       "      <td>USA</td>\n",
       "      <td>35.040222</td>\n",
       "      <td>-106.609194</td>\n",
       "    </tr>\n",
       "    <tr>\n",
       "      <th>764</th>\n",
       "      <td>ABY</td>\n",
       "      <td>Southwest Georgia Regional</td>\n",
       "      <td>Albany</td>\n",
       "      <td>GA</td>\n",
       "      <td>USA</td>\n",
       "      <td>31.535515</td>\n",
       "      <td>-84.194473</td>\n",
       "    </tr>\n",
       "    <tr>\n",
       "      <th>767</th>\n",
       "      <td>ACK</td>\n",
       "      <td>Nantucket Memorial</td>\n",
       "      <td>Nantucket</td>\n",
       "      <td>MA</td>\n",
       "      <td>USA</td>\n",
       "      <td>41.253052</td>\n",
       "      <td>-70.060181</td>\n",
       "    </tr>\n",
       "  </tbody>\n",
       "</table>\n",
       "</div>"
      ],
      "text/plain": [
       "    iata                      airport         city state country        lat  \\\n",
       "759  ABE  Lehigh Valley International    Allentown    PA     USA  40.652363   \n",
       "760  ABI             Abilene Regional      Abilene    TX     USA  32.411320   \n",
       "762  ABQ    Albuquerque International  Albuquerque    NM     USA  35.040222   \n",
       "764  ABY   Southwest Georgia Regional       Albany    GA     USA  31.535515   \n",
       "767  ACK           Nantucket Memorial    Nantucket    MA     USA  41.253052   \n",
       "\n",
       "           long  \n",
       "759  -75.440402  \n",
       "760  -99.681897  \n",
       "762 -106.609194  \n",
       "764  -84.194473  \n",
       "767  -70.060181  "
      ]
     },
     "execution_count": 241,
     "metadata": {},
     "output_type": "execute_result"
    }
   ],
   "source": [
    "airports_destination_df.head()"
   ]
  },
  {
   "cell_type": "markdown",
   "metadata": {},
   "source": [
    "- Great! I now have a dataframe that contains detailed information about airports. Not just airport ids.\n",
    "- But there is an extra wrinkle. Is airports_origin_df and airports_destination_df identical?"
   ]
  },
  {
   "cell_type": "markdown",
   "metadata": {},
   "source": [
    "## 13.3 airports_origin_df versus airports_destination_df identical?\n",
    "#### Define\n",
    "- find out if they are identical.\n",
    "- if not, make them identical and then which dataframe do you choose?"
   ]
  },
  {
   "cell_type": "markdown",
   "metadata": {},
   "source": [
    "#### Code"
   ]
  },
  {
   "cell_type": "markdown",
   "metadata": {},
   "source": [
    "-- investigating airports_origin_df"
   ]
  },
  {
   "cell_type": "code",
   "execution_count": 242,
   "metadata": {},
   "outputs": [
    {
     "data": {
      "text/plain": [
       "3"
      ]
     },
     "execution_count": 242,
     "metadata": {},
     "output_type": "execute_result"
    }
   ],
   "source": [
    "(~airports_origin_df.iata.isin(list(airports_destination_df.iata))).sum()"
   ]
  },
  {
   "cell_type": "markdown",
   "metadata": {},
   "source": [
    "- The above result is the number of airports in airports_origin_df that is not in airports_destination_df "
   ]
  },
  {
   "cell_type": "code",
   "execution_count": 243,
   "metadata": {},
   "outputs": [
    {
     "data": {
      "text/plain": [
       "283"
      ]
     },
     "execution_count": 243,
     "metadata": {},
     "output_type": "execute_result"
    }
   ],
   "source": [
    "common_filter = airports_origin_df.iata.isin(list(airports_destination_df.iata))\n",
    "common_filter.sum()"
   ]
  },
  {
   "cell_type": "code",
   "execution_count": 244,
   "metadata": {},
   "outputs": [
    {
     "data": {
      "text/plain": [
       "3"
      ]
     },
     "execution_count": 244,
     "metadata": {},
     "output_type": "execute_result"
    }
   ],
   "source": [
    "(~common_filter).sum()"
   ]
  },
  {
   "cell_type": "code",
   "execution_count": 245,
   "metadata": {},
   "outputs": [
    {
     "data": {
      "text/html": [
       "<div>\n",
       "<style scoped>\n",
       "    .dataframe tbody tr th:only-of-type {\n",
       "        vertical-align: middle;\n",
       "    }\n",
       "\n",
       "    .dataframe tbody tr th {\n",
       "        vertical-align: top;\n",
       "    }\n",
       "\n",
       "    .dataframe thead th {\n",
       "        text-align: right;\n",
       "    }\n",
       "</style>\n",
       "<table border=\"1\" class=\"dataframe\">\n",
       "  <thead>\n",
       "    <tr style=\"text-align: right;\">\n",
       "      <th></th>\n",
       "      <th>iata</th>\n",
       "      <th>airport</th>\n",
       "      <th>city</th>\n",
       "      <th>state</th>\n",
       "      <th>country</th>\n",
       "      <th>lat</th>\n",
       "      <th>long</th>\n",
       "    </tr>\n",
       "  </thead>\n",
       "  <tbody>\n",
       "    <tr>\n",
       "      <th>2463</th>\n",
       "      <td>OAJ</td>\n",
       "      <td>Albert J Ellis</td>\n",
       "      <td>Jacksonville</td>\n",
       "      <td>NC</td>\n",
       "      <td>USA</td>\n",
       "      <td>34.829164</td>\n",
       "      <td>-77.612138</td>\n",
       "    </tr>\n",
       "    <tr>\n",
       "      <th>3096</th>\n",
       "      <td>TEX</td>\n",
       "      <td>Telluride Regional</td>\n",
       "      <td>Telluride</td>\n",
       "      <td>CO</td>\n",
       "      <td>USA</td>\n",
       "      <td>37.953759</td>\n",
       "      <td>-107.908480</td>\n",
       "    </tr>\n",
       "    <tr>\n",
       "      <th>3311</th>\n",
       "      <td>WYS</td>\n",
       "      <td>Yellowstone</td>\n",
       "      <td>West Yellowstone</td>\n",
       "      <td>MT</td>\n",
       "      <td>USA</td>\n",
       "      <td>44.688399</td>\n",
       "      <td>-111.117638</td>\n",
       "    </tr>\n",
       "  </tbody>\n",
       "</table>\n",
       "</div>"
      ],
      "text/plain": [
       "     iata             airport              city state country        lat  \\\n",
       "2463  OAJ      Albert J Ellis      Jacksonville    NC     USA  34.829164   \n",
       "3096  TEX  Telluride Regional         Telluride    CO     USA  37.953759   \n",
       "3311  WYS         Yellowstone  West Yellowstone    MT     USA  44.688399   \n",
       "\n",
       "            long  \n",
       "2463  -77.612138  \n",
       "3096 -107.908480  \n",
       "3311 -111.117638  "
      ]
     },
     "execution_count": 245,
     "metadata": {},
     "output_type": "execute_result"
    }
   ],
   "source": [
    "airports_origin_df[~common_filter]"
   ]
  },
  {
   "cell_type": "markdown",
   "metadata": {},
   "source": [
    "- The airports above exist in airports_origin_df but NOT in airports_destination_df"
   ]
  },
  {
   "cell_type": "markdown",
   "metadata": {},
   "source": [
    "-- Investigating airports_destination_df"
   ]
  },
  {
   "cell_type": "code",
   "execution_count": 246,
   "metadata": {},
   "outputs": [
    {
     "data": {
      "text/plain": [
       "0"
      ]
     },
     "execution_count": 246,
     "metadata": {},
     "output_type": "execute_result"
    }
   ],
   "source": [
    "(~airports_destination_df.iata.isin(list(airports_origin_df.iata))).sum()"
   ]
  },
  {
   "cell_type": "code",
   "execution_count": 247,
   "metadata": {},
   "outputs": [
    {
     "data": {
      "text/plain": [
       "283"
      ]
     },
     "execution_count": 247,
     "metadata": {},
     "output_type": "execute_result"
    }
   ],
   "source": [
    "common_filter = airports_destination_df.iata.isin(list(airports_origin_df.iata))\n",
    "common_filter.sum()"
   ]
  },
  {
   "cell_type": "code",
   "execution_count": 248,
   "metadata": {},
   "outputs": [
    {
     "data": {
      "text/plain": [
       "0"
      ]
     },
     "execution_count": 248,
     "metadata": {},
     "output_type": "execute_result"
    }
   ],
   "source": [
    "(~common_filter).sum()"
   ]
  },
  {
   "cell_type": "code",
   "execution_count": 249,
   "metadata": {},
   "outputs": [
    {
     "data": {
      "text/html": [
       "<div>\n",
       "<style scoped>\n",
       "    .dataframe tbody tr th:only-of-type {\n",
       "        vertical-align: middle;\n",
       "    }\n",
       "\n",
       "    .dataframe tbody tr th {\n",
       "        vertical-align: top;\n",
       "    }\n",
       "\n",
       "    .dataframe thead th {\n",
       "        text-align: right;\n",
       "    }\n",
       "</style>\n",
       "<table border=\"1\" class=\"dataframe\">\n",
       "  <thead>\n",
       "    <tr style=\"text-align: right;\">\n",
       "      <th></th>\n",
       "      <th>iata</th>\n",
       "      <th>airport</th>\n",
       "      <th>city</th>\n",
       "      <th>state</th>\n",
       "      <th>country</th>\n",
       "      <th>lat</th>\n",
       "      <th>long</th>\n",
       "    </tr>\n",
       "  </thead>\n",
       "  <tbody>\n",
       "  </tbody>\n",
       "</table>\n",
       "</div>"
      ],
      "text/plain": [
       "Empty DataFrame\n",
       "Columns: [iata, airport, city, state, country, lat, long]\n",
       "Index: []"
      ]
     },
     "execution_count": 249,
     "metadata": {},
     "output_type": "execute_result"
    }
   ],
   "source": [
    "airports_destination_df[~common_filter]"
   ]
  },
  {
   "cell_type": "markdown",
   "metadata": {},
   "source": [
    "- The airports above exist in airports_destination_df but not in airports_origin_df"
   ]
  },
  {
   "cell_type": "markdown",
   "metadata": {},
   "source": [
    "#### Discussion\n",
    "- Clearly, airports_origin_df and airports_destination_df are almost identical except for the few rows.\n",
    "- Therefore, I will  remove a few rows from airports_origin_df and airports_destination_df. After which both tables will be identical."
   ]
  },
  {
   "cell_type": "markdown",
   "metadata": {},
   "source": [
    "#### Code"
   ]
  },
  {
   "cell_type": "code",
   "execution_count": 250,
   "metadata": {},
   "outputs": [],
   "source": [
    "common_filter = airports_origin_df.iata.isin(list(airports_destination_df.iata))"
   ]
  },
  {
   "cell_type": "code",
   "execution_count": 251,
   "metadata": {},
   "outputs": [],
   "source": [
    "# A few rows removed\n",
    "airports_origin_df = airports_origin_df[common_filter]"
   ]
  },
  {
   "cell_type": "code",
   "execution_count": 252,
   "metadata": {},
   "outputs": [],
   "source": [
    "common_filter = airports_destination_df.iata.isin(list(airports_origin_df.iata))"
   ]
  },
  {
   "cell_type": "code",
   "execution_count": 253,
   "metadata": {},
   "outputs": [],
   "source": [
    "# A few rows removed\n",
    "airports_destination_df = airports_destination_df[common_filter]"
   ]
  },
  {
   "cell_type": "markdown",
   "metadata": {},
   "source": [
    "#### Test"
   ]
  },
  {
   "cell_type": "code",
   "execution_count": 254,
   "metadata": {},
   "outputs": [
    {
     "data": {
      "text/plain": [
       "0"
      ]
     },
     "execution_count": 254,
     "metadata": {},
     "output_type": "execute_result"
    }
   ],
   "source": [
    "(~airports_destination_df.iata.isin(list(airports_origin_df.iata))).sum()"
   ]
  },
  {
   "cell_type": "markdown",
   "metadata": {},
   "source": [
    "- The above result proves that airports_origin_df and airports_destination_df are identical."
   ]
  },
  {
   "cell_type": "markdown",
   "metadata": {},
   "source": [
    "> **To simplify though, I will arbitrariy choose airports_origin_df for this project. From now on, I will only mention/use airports_origin_df.**"
   ]
  },
  {
   "cell_type": "markdown",
   "metadata": {},
   "source": [
    "## 13.4 Merging y_2006_df and airports_origin_df"
   ]
  },
  {
   "cell_type": "code",
   "execution_count": 255,
   "metadata": {},
   "outputs": [
    {
     "name": "stdout",
     "output_type": "stream",
     "text": [
      "<class 'pandas.core.frame.DataFrame'>\n",
      "Int64Index: 71319 entries, 0 to 71318\n",
      "Data columns (total 31 columns):\n",
      "UniqueCarrier         71319 non-null object\n",
      "CarrierDescription    71319 non-null object\n",
      "DepTime               70015 non-null datetime64[ns]\n",
      "CRSDepTime            71319 non-null datetime64[ns]\n",
      "ArrTime               69860 non-null datetime64[ns]\n",
      "CRSArrTime            71319 non-null datetime64[ns]\n",
      "FlightNum             71319 non-null int64\n",
      "TailNum               71319 non-null object\n",
      "ActualElapsedTime     69867 non-null float64\n",
      "CRSElapsedTime        71319 non-null float64\n",
      "AirTime               69867 non-null float64\n",
      "ArrDelay              69867 non-null float64\n",
      "DepDelay              70022 non-null float64\n",
      "Origin                71319 non-null object\n",
      "Dest                  71319 non-null object\n",
      "Distance              71319 non-null int64\n",
      "TaxiIn                71319 non-null int64\n",
      "TaxiOut               71319 non-null int64\n",
      "Cancelled             71319 non-null bool\n",
      "CancellationCode      1297 non-null object\n",
      "Diverted              71319 non-null int64\n",
      "CarrierDelay          71319 non-null int64\n",
      "WeatherDelay          71319 non-null int64\n",
      "NASDelay              71319 non-null int64\n",
      "SecurityDelay         71319 non-null int64\n",
      "LateAircraftDelay     71319 non-null int64\n",
      "CombinedDate          71319 non-null datetime64[ns]\n",
      "DepDelayM             70015 non-null float64\n",
      "ArrDelayM             69860 non-null float64\n",
      "DepTimeCategory       70015 non-null category\n",
      "ArrTimeCategory       69860 non-null category\n",
      "dtypes: bool(1), category(2), datetime64[ns](5), float64(7), int64(10), object(6)\n",
      "memory usage: 16.0+ MB\n"
     ]
    }
   ],
   "source": [
    "y_2006_df.info()"
   ]
  },
  {
   "cell_type": "code",
   "execution_count": 256,
   "metadata": {},
   "outputs": [
    {
     "name": "stdout",
     "output_type": "stream",
     "text": [
      "<class 'pandas.core.frame.DataFrame'>\n",
      "Int64Index: 283 entries, 759 to 3360\n",
      "Data columns (total 7 columns):\n",
      "iata       283 non-null object\n",
      "airport    283 non-null object\n",
      "city       283 non-null object\n",
      "state      283 non-null object\n",
      "country    283 non-null object\n",
      "lat        283 non-null float64\n",
      "long       283 non-null float64\n",
      "dtypes: float64(2), object(5)\n",
      "memory usage: 17.7+ KB\n"
     ]
    }
   ],
   "source": [
    "airports_origin_df.info()"
   ]
  },
  {
   "cell_type": "markdown",
   "metadata": {},
   "source": [
    "- To merge the above tables, we have to rename columns in airports_origin_df. \n",
    "- Rename iata to Origin.\n",
    "- Capitalize all column names."
   ]
  },
  {
   "cell_type": "code",
   "execution_count": 257,
   "metadata": {},
   "outputs": [],
   "source": [
    "# Changing column names and capitalize first letter \n",
    "# Note that Origin == iata\n",
    "airports_origin_df.columns =['Origin','Airport','City','State','Country','Lat','Long']"
   ]
  },
  {
   "cell_type": "code",
   "execution_count": 258,
   "metadata": {},
   "outputs": [
    {
     "data": {
      "text/plain": [
       "Index(['Origin', 'Airport', 'City', 'State', 'Country', 'Lat', 'Long'], dtype='object')"
      ]
     },
     "execution_count": 258,
     "metadata": {},
     "output_type": "execute_result"
    }
   ],
   "source": [
    "airports_origin_df.columns"
   ]
  },
  {
   "cell_type": "code",
   "execution_count": 259,
   "metadata": {},
   "outputs": [],
   "source": [
    "desired_cols = ['Origin','Airport','UniqueCarrier','CarrierDescription','City','State','Country',\n",
    "                'Lat','Long']\n",
    "airports_merged_df = pd.merge(airports_origin_df,y_2006_df,on='Origin')[desired_cols]"
   ]
  },
  {
   "cell_type": "code",
   "execution_count": 260,
   "metadata": {},
   "outputs": [
    {
     "name": "stdout",
     "output_type": "stream",
     "text": [
      "<class 'pandas.core.frame.DataFrame'>\n",
      "Int64Index: 71312 entries, 0 to 71311\n",
      "Data columns (total 9 columns):\n",
      "Origin                71312 non-null object\n",
      "Airport               71312 non-null object\n",
      "UniqueCarrier         71312 non-null object\n",
      "CarrierDescription    71312 non-null object\n",
      "City                  71312 non-null object\n",
      "State                 71312 non-null object\n",
      "Country               71312 non-null object\n",
      "Lat                   71312 non-null float64\n",
      "Long                  71312 non-null float64\n",
      "dtypes: float64(2), object(7)\n",
      "memory usage: 5.4+ MB\n"
     ]
    }
   ],
   "source": [
    "airports_merged_df.info()"
   ]
  },
  {
   "cell_type": "markdown",
   "metadata": {},
   "source": [
    "- The merged dataframe is called airports_merged_df.\n",
    "- The new dataframe's rows has increased from 290s rows to almost 70,000 rows.\n",
    "- With this new dataframe -- airports_merged_df -- I want to find out how many Carriers each airport is operating. Then I will categorize airport based on the number of Carriers it is operating.\n",
    "- Note the size of memory of airports_merged_df and y_2006_df. The former occupies 5.3 MB while the latter ocuupies 11.9 MB. "
   ]
  },
  {
   "cell_type": "code",
   "execution_count": 261,
   "metadata": {},
   "outputs": [
    {
     "data": {
      "text/html": [
       "<div>\n",
       "<style scoped>\n",
       "    .dataframe tbody tr th:only-of-type {\n",
       "        vertical-align: middle;\n",
       "    }\n",
       "\n",
       "    .dataframe tbody tr th {\n",
       "        vertical-align: top;\n",
       "    }\n",
       "\n",
       "    .dataframe thead th {\n",
       "        text-align: right;\n",
       "    }\n",
       "</style>\n",
       "<table border=\"1\" class=\"dataframe\">\n",
       "  <thead>\n",
       "    <tr style=\"text-align: right;\">\n",
       "      <th></th>\n",
       "      <th>Origin</th>\n",
       "      <th>Airport</th>\n",
       "      <th>UniqueCarrier</th>\n",
       "      <th>CarrierDescription</th>\n",
       "      <th>City</th>\n",
       "      <th>State</th>\n",
       "      <th>Country</th>\n",
       "      <th>Lat</th>\n",
       "      <th>Long</th>\n",
       "    </tr>\n",
       "  </thead>\n",
       "  <tbody>\n",
       "    <tr>\n",
       "      <th>8841</th>\n",
       "      <td>BTV</td>\n",
       "      <td>Burlington International</td>\n",
       "      <td>XE</td>\n",
       "      <td>Expressjet Airlines Inc.</td>\n",
       "      <td>Burlington</td>\n",
       "      <td>VT</td>\n",
       "      <td>USA</td>\n",
       "      <td>44.473004</td>\n",
       "      <td>-73.150312</td>\n",
       "    </tr>\n",
       "    <tr>\n",
       "      <th>47289</th>\n",
       "      <td>MSP</td>\n",
       "      <td>Minneapolis-St Paul Intl</td>\n",
       "      <td>NW</td>\n",
       "      <td>Northwest Airlines Inc.</td>\n",
       "      <td>Minneapolis</td>\n",
       "      <td>MN</td>\n",
       "      <td>USA</td>\n",
       "      <td>44.880547</td>\n",
       "      <td>-93.216922</td>\n",
       "    </tr>\n",
       "    <tr>\n",
       "      <th>32939</th>\n",
       "      <td>ISP</td>\n",
       "      <td>Long Island - MacArthur</td>\n",
       "      <td>WN</td>\n",
       "      <td>Southwest Airlines Co.</td>\n",
       "      <td>Islip</td>\n",
       "      <td>NY</td>\n",
       "      <td>USA</td>\n",
       "      <td>40.795243</td>\n",
       "      <td>-73.100212</td>\n",
       "    </tr>\n",
       "    <tr>\n",
       "      <th>20427</th>\n",
       "      <td>DFW</td>\n",
       "      <td>Dallas-Fort Worth International</td>\n",
       "      <td>AA</td>\n",
       "      <td>American Airlines Inc.</td>\n",
       "      <td>Dallas-Fort Worth</td>\n",
       "      <td>TX</td>\n",
       "      <td>USA</td>\n",
       "      <td>32.895951</td>\n",
       "      <td>-97.037200</td>\n",
       "    </tr>\n",
       "    <tr>\n",
       "      <th>69058</th>\n",
       "      <td>STL</td>\n",
       "      <td>Lambert-St Louis International</td>\n",
       "      <td>US</td>\n",
       "      <td>US Airways Inc.</td>\n",
       "      <td>St Louis</td>\n",
       "      <td>MO</td>\n",
       "      <td>USA</td>\n",
       "      <td>38.747687</td>\n",
       "      <td>-90.359990</td>\n",
       "    </tr>\n",
       "  </tbody>\n",
       "</table>\n",
       "</div>"
      ],
      "text/plain": [
       "      Origin                          Airport UniqueCarrier  \\\n",
       "8841     BTV         Burlington International            XE   \n",
       "47289    MSP         Minneapolis-St Paul Intl            NW   \n",
       "32939    ISP          Long Island - MacArthur            WN   \n",
       "20427    DFW  Dallas-Fort Worth International            AA   \n",
       "69058    STL   Lambert-St Louis International            US   \n",
       "\n",
       "             CarrierDescription               City State Country        Lat  \\\n",
       "8841   Expressjet Airlines Inc.         Burlington    VT     USA  44.473004   \n",
       "47289   Northwest Airlines Inc.        Minneapolis    MN     USA  44.880547   \n",
       "32939    Southwest Airlines Co.              Islip    NY     USA  40.795243   \n",
       "20427    American Airlines Inc.  Dallas-Fort Worth    TX     USA  32.895951   \n",
       "69058           US Airways Inc.           St Louis    MO     USA  38.747687   \n",
       "\n",
       "            Long  \n",
       "8841  -73.150312  \n",
       "47289 -93.216922  \n",
       "32939 -73.100212  \n",
       "20427 -97.037200  \n",
       "69058 -90.359990  "
      ]
     },
     "execution_count": 261,
     "metadata": {},
     "output_type": "execute_result"
    }
   ],
   "source": [
    "airports_merged_df.sample(5)"
   ]
  },
  {
   "cell_type": "markdown",
   "metadata": {},
   "source": [
    "# 14. Airport Location and Categorizing Airport Size"
   ]
  },
  {
   "cell_type": "markdown",
   "metadata": {},
   "source": [
    "## 14.1 Airport Location"
   ]
  },
  {
   "cell_type": "code",
   "execution_count": 262,
   "metadata": {},
   "outputs": [
    {
     "data": {
      "text/plain": [
       "283"
      ]
     },
     "execution_count": 262,
     "metadata": {},
     "output_type": "execute_result"
    }
   ],
   "source": [
    "airports_merged_df.Airport.nunique()"
   ]
  },
  {
   "cell_type": "markdown",
   "metadata": {},
   "source": [
    "- There are 290s unique airport in the USA based on our dataframe. (Result may differ due to random sampling)"
   ]
  },
  {
   "cell_type": "code",
   "execution_count": 263,
   "metadata": {},
   "outputs": [
    {
     "data": {
      "text/plain": [
       "array(['American Airlines Inc.', 'Alaska Airlines Inc.',\n",
       "       'Continental Air Lines Inc.', 'Delta Air Lines Inc.',\n",
       "       'American Eagle Airlines Inc.', 'Northwest Airlines Inc.',\n",
       "       'Comair Inc.', 'Skywest Airlines Inc.', 'United Air Lines Inc.',\n",
       "       'US Airways Inc.', 'Expressjet Airlines Inc.',\n",
       "       'Mesa Airlines Inc.'], dtype=object)"
      ]
     },
     "execution_count": 263,
     "metadata": {},
     "output_type": "execute_result"
    }
   ],
   "source": [
    "airports_merged_df[airports_merged_df.Airport.str.contains(\"Chicago O'Hare International\")]\\\n",
    "                    ['CarrierDescription'].unique()"
   ]
  },
  {
   "cell_type": "code",
   "execution_count": 264,
   "metadata": {},
   "outputs": [
    {
     "data": {
      "text/plain": [
       "12"
      ]
     },
     "execution_count": 264,
     "metadata": {},
     "output_type": "execute_result"
    }
   ],
   "source": [
    "airports_merged_df[airports_merged_df.Airport.str.contains(\"Chicago O'Hare International\")]\\\n",
    "                    ['CarrierDescription'].nunique()"
   ]
  },
  {
   "cell_type": "markdown",
   "metadata": {},
   "source": [
    "- Chicago O'Hare International operates around 14 Carriers in its airport. \n",
    "\n",
    "#### Define\n",
    "- I will iterate a list of airports and calculate how many Carriers each airport operates."
   ]
  },
  {
   "cell_type": "markdown",
   "metadata": {},
   "source": [
    "#### Code"
   ]
  },
  {
   "cell_type": "code",
   "execution_count": 265,
   "metadata": {},
   "outputs": [],
   "source": [
    "airport_unique_list = airports_merged_df.Airport.unique()"
   ]
  },
  {
   "cell_type": "code",
   "execution_count": 266,
   "metadata": {},
   "outputs": [
    {
     "name": "stderr",
     "output_type": "stream",
     "text": [
      " 18%|█▊        | 52/283 [00:03<00:14, 15.47it/s]C:\\ProgramData\\Anaconda3\\lib\\site-packages\\ipykernel_launcher.py:5: UserWarning:\n",
      "\n",
      "This pattern has match groups. To actually get the groups, use str.extract.\n",
      "\n",
      "C:\\ProgramData\\Anaconda3\\lib\\site-packages\\ipykernel_launcher.py:7: UserWarning:\n",
      "\n",
      "This pattern has match groups. To actually get the groups, use str.extract.\n",
      "\n"
     ]
    },
    {
     "name": "stdout",
     "output_type": "stream",
     "text": [
      "error at: Merle K (Mudhole) Smith\n"
     ]
    },
    {
     "name": "stderr",
     "output_type": "stream",
     "text": [
      " 55%|█████▌    | 156/283 [00:10<00:07, 16.43it/s]C:\\ProgramData\\Anaconda3\\lib\\site-packages\\ipykernel_launcher.py:5: UserWarning:\n",
      "\n",
      "This pattern has match groups. To actually get the groups, use str.extract.\n",
      "\n",
      "C:\\ProgramData\\Anaconda3\\lib\\site-packages\\ipykernel_launcher.py:7: UserWarning:\n",
      "\n",
      "This pattern has match groups. To actually get the groups, use str.extract.\n",
      "\n"
     ]
    },
    {
     "name": "stdout",
     "output_type": "stream",
     "text": [
      "error at: Long Beach (Daugherty )\n"
     ]
    },
    {
     "name": "stderr",
     "output_type": "stream",
     "text": [
      "100%|██████████| 283/283 [00:18<00:00, 15.47it/s]\n"
     ]
    }
   ],
   "source": [
    "# For each airport, count carriers it carries.\n",
    "airport_carriers_count_dict = {}\n",
    "# airport_iata_dict={}\n",
    "for row in tqdm(airport_unique_list):\n",
    "    carriers_count = airports_merged_df[airports_merged_df.Airport.str.contains(row)]['CarrierDescription'].nunique()\n",
    "    try:\n",
    "        iata = airports_merged_df[airports_merged_df.Airport.str.contains(row)]['Origin'].values[0]\n",
    "        airport_carriers_count_dict[iata] = carriers_count\n",
    "    except:\n",
    "        # if there are errors , no element will be appended to airport_carriers_count_dict.\n",
    "        # it will print error\n",
    "        print('error at: ' + row)   "
   ]
  },
  {
   "cell_type": "markdown",
   "metadata": {},
   "source": [
    "**Issue text string:** Merle K (Mudhole) Smith , Long Beach (Daugherty ) . use extract"
   ]
  },
  {
   "cell_type": "code",
   "execution_count": 267,
   "metadata": {},
   "outputs": [],
   "source": [
    "# sort\n",
    "airport_carriers_count = sorted(airport_carriers_count_dict.items(), key=operator.itemgetter(1))\n",
    "# now no longer a dict. now is a list of tuples"
   ]
  },
  {
   "cell_type": "code",
   "execution_count": 268,
   "metadata": {},
   "outputs": [
    {
     "name": "stdout",
     "output_type": "stream",
     "text": [
      "('ABI', 1)\n",
      "('ABY', 1)\n",
      "('ACK', 1)\n",
      "('ACT', 1)\n",
      "('ACV', 1)\n"
     ]
    }
   ],
   "source": [
    "# print 5 rows\n",
    "for row in airport_carriers_count[:5]:\n",
    "    print(row)"
   ]
  },
  {
   "cell_type": "code",
   "execution_count": 269,
   "metadata": {},
   "outputs": [
    {
     "data": {
      "text/html": [
       "<div>\n",
       "<style scoped>\n",
       "    .dataframe tbody tr th:only-of-type {\n",
       "        vertical-align: middle;\n",
       "    }\n",
       "\n",
       "    .dataframe tbody tr th {\n",
       "        vertical-align: top;\n",
       "    }\n",
       "\n",
       "    .dataframe thead th {\n",
       "        text-align: right;\n",
       "    }\n",
       "</style>\n",
       "<table border=\"1\" class=\"dataframe\">\n",
       "  <thead>\n",
       "    <tr style=\"text-align: right;\">\n",
       "      <th></th>\n",
       "      <th>Origin</th>\n",
       "      <th>CarriersCount</th>\n",
       "    </tr>\n",
       "  </thead>\n",
       "  <tbody>\n",
       "    <tr>\n",
       "      <th>5</th>\n",
       "      <td>ADK</td>\n",
       "      <td>1</td>\n",
       "    </tr>\n",
       "    <tr>\n",
       "      <th>22</th>\n",
       "      <td>DHN</td>\n",
       "      <td>1</td>\n",
       "    </tr>\n",
       "    <tr>\n",
       "      <th>273</th>\n",
       "      <td>IND</td>\n",
       "      <td>16</td>\n",
       "    </tr>\n",
       "    <tr>\n",
       "      <th>55</th>\n",
       "      <td>PIH</td>\n",
       "      <td>1</td>\n",
       "    </tr>\n",
       "    <tr>\n",
       "      <th>23</th>\n",
       "      <td>DLG</td>\n",
       "      <td>1</td>\n",
       "    </tr>\n",
       "  </tbody>\n",
       "</table>\n",
       "</div>"
      ],
      "text/plain": [
       "    Origin  CarriersCount\n",
       "5      ADK              1\n",
       "22     DHN              1\n",
       "273    IND             16\n",
       "55     PIH              1\n",
       "23     DLG              1"
      ]
     },
     "execution_count": 269,
     "metadata": {},
     "output_type": "execute_result"
    }
   ],
   "source": [
    "# turned into dataframe\n",
    "raw_data = {'Origin': list(zip(*airport_carriers_count))[0], \n",
    "            'CarriersCount': list(zip(*airport_carriers_count))[1]}\n",
    "airport_count_carriers_df = pd.DataFrame(raw_data,columns=['Origin','CarriersCount'])\n",
    "airport_count_carriers_df.sample(5)"
   ]
  },
  {
   "cell_type": "code",
   "execution_count": 270,
   "metadata": {},
   "outputs": [
    {
     "name": "stdout",
     "output_type": "stream",
     "text": [
      "<class 'pandas.core.frame.DataFrame'>\n",
      "Int64Index: 3372 entries, 0 to 3375\n",
      "Data columns (total 7 columns):\n",
      "iata       3372 non-null object\n",
      "airport    3372 non-null object\n",
      "city       3372 non-null object\n",
      "state      3372 non-null object\n",
      "country    3372 non-null object\n",
      "lat        3372 non-null float64\n",
      "long       3372 non-null float64\n",
      "dtypes: float64(2), object(5)\n",
      "memory usage: 210.8+ KB\n"
     ]
    }
   ],
   "source": [
    "airports_df.info()"
   ]
  },
  {
   "cell_type": "code",
   "execution_count": 271,
   "metadata": {},
   "outputs": [],
   "source": [
    "airport_count_carriers_df.columns=['iata','CarriersCount']"
   ]
  },
  {
   "cell_type": "code",
   "execution_count": 272,
   "metadata": {},
   "outputs": [],
   "source": [
    "airport_count_carriers_df = pd.merge(airport_count_carriers_df,airports_df,how='inner',on='iata')"
   ]
  },
  {
   "cell_type": "code",
   "execution_count": 273,
   "metadata": {},
   "outputs": [
    {
     "name": "stdout",
     "output_type": "stream",
     "text": [
      "<class 'pandas.core.frame.DataFrame'>\n",
      "Int64Index: 278 entries, 0 to 277\n",
      "Data columns (total 8 columns):\n",
      "iata             278 non-null object\n",
      "CarriersCount    278 non-null int64\n",
      "airport          278 non-null object\n",
      "city             278 non-null object\n",
      "state            278 non-null object\n",
      "country          278 non-null object\n",
      "lat              278 non-null float64\n",
      "long             278 non-null float64\n",
      "dtypes: float64(2), int64(1), object(5)\n",
      "memory usage: 19.5+ KB\n"
     ]
    }
   ],
   "source": [
    "airport_count_carriers_df.info()"
   ]
  },
  {
   "cell_type": "code",
   "execution_count": 274,
   "metadata": {},
   "outputs": [
    {
     "data": {
      "text/html": [
       "<div>\n",
       "<style scoped>\n",
       "    .dataframe tbody tr th:only-of-type {\n",
       "        vertical-align: middle;\n",
       "    }\n",
       "\n",
       "    .dataframe tbody tr th {\n",
       "        vertical-align: top;\n",
       "    }\n",
       "\n",
       "    .dataframe thead th {\n",
       "        text-align: right;\n",
       "    }\n",
       "</style>\n",
       "<table border=\"1\" class=\"dataframe\">\n",
       "  <thead>\n",
       "    <tr style=\"text-align: right;\">\n",
       "      <th></th>\n",
       "      <th>iata</th>\n",
       "      <th>CarriersCount</th>\n",
       "      <th>airport</th>\n",
       "      <th>city</th>\n",
       "      <th>state</th>\n",
       "      <th>country</th>\n",
       "      <th>lat</th>\n",
       "      <th>long</th>\n",
       "    </tr>\n",
       "  </thead>\n",
       "  <tbody>\n",
       "    <tr>\n",
       "      <th>235</th>\n",
       "      <td>RIC</td>\n",
       "      <td>12</td>\n",
       "      <td>Richmond International</td>\n",
       "      <td>Richmond</td>\n",
       "      <td>VA</td>\n",
       "      <td>USA</td>\n",
       "      <td>37.505167</td>\n",
       "      <td>-77.319667</td>\n",
       "    </tr>\n",
       "    <tr>\n",
       "      <th>37</th>\n",
       "      <td>ILG</td>\n",
       "      <td>1</td>\n",
       "      <td>New Castle County</td>\n",
       "      <td>Wilmington</td>\n",
       "      <td>DE</td>\n",
       "      <td>USA</td>\n",
       "      <td>39.678722</td>\n",
       "      <td>-75.606528</td>\n",
       "    </tr>\n",
       "    <tr>\n",
       "      <th>139</th>\n",
       "      <td>BMI</td>\n",
       "      <td>4</td>\n",
       "      <td>Central Illinois Regional</td>\n",
       "      <td>Bloomington</td>\n",
       "      <td>IL</td>\n",
       "      <td>USA</td>\n",
       "      <td>40.477986</td>\n",
       "      <td>-88.915953</td>\n",
       "    </tr>\n",
       "    <tr>\n",
       "      <th>128</th>\n",
       "      <td>SBN</td>\n",
       "      <td>3</td>\n",
       "      <td>South Bend Regional</td>\n",
       "      <td>South Bend</td>\n",
       "      <td>IN</td>\n",
       "      <td>USA</td>\n",
       "      <td>41.708954</td>\n",
       "      <td>-86.318474</td>\n",
       "    </tr>\n",
       "    <tr>\n",
       "      <th>75</th>\n",
       "      <td>VLD</td>\n",
       "      <td>1</td>\n",
       "      <td>Valdosta Regional</td>\n",
       "      <td>Valdosta</td>\n",
       "      <td>GA</td>\n",
       "      <td>USA</td>\n",
       "      <td>30.782500</td>\n",
       "      <td>-83.276722</td>\n",
       "    </tr>\n",
       "  </tbody>\n",
       "</table>\n",
       "</div>"
      ],
      "text/plain": [
       "    iata  CarriersCount                    airport         city state country  \\\n",
       "235  RIC             12     Richmond International     Richmond    VA     USA   \n",
       "37   ILG              1         New Castle County    Wilmington    DE     USA   \n",
       "139  BMI              4  Central Illinois Regional  Bloomington    IL     USA   \n",
       "128  SBN              3        South Bend Regional   South Bend    IN     USA   \n",
       "75   VLD              1          Valdosta Regional     Valdosta    GA     USA   \n",
       "\n",
       "           lat       long  \n",
       "235  37.505167 -77.319667  \n",
       "37   39.678722 -75.606528  \n",
       "139  40.477986 -88.915953  \n",
       "128  41.708954 -86.318474  \n",
       "75   30.782500 -83.276722  "
      ]
     },
     "execution_count": 274,
     "metadata": {},
     "output_type": "execute_result"
    }
   ],
   "source": [
    "airport_count_carriers_df.sample(5)"
   ]
  },
  {
   "cell_type": "markdown",
   "metadata": {},
   "source": [
    "- Good! Now I have CarriersCount for each airport and location details!\n",
    "- It's time to visualize this data\n",
    "- Note: I have around 280s airport data."
   ]
  },
  {
   "cell_type": "code",
   "execution_count": null,
   "metadata": {},
   "outputs": [],
   "source": [
    "fig = plt.figure(figsize=(10,25))\n",
    "ax1 = fig.add_subplot(1,1,1)\n",
    "plt.barh(airport_count_carriers_df.airport,airport_count_carriers_df.CarriersCount);"
   ]
  },
  {
   "cell_type": "markdown",
   "metadata": {},
   "source": [
    "- I have to many airport rows -- around 280s rows.\n",
    "- Therefore need alternative plots other than barh to visualize data.\n",
    "- First, I will use scatter plot. \n",
    "- Then I will use plotly."
   ]
  },
  {
   "cell_type": "code",
   "execution_count": null,
   "metadata": {},
   "outputs": [],
   "source": [
    "fig = plt.figure(figsize=(8,10))\n",
    "ax1 = fig.add_subplot(1,1,1)\n",
    "plt.scatter(airport_count_carriers_df.airport,airport_count_carriers_df.CarriersCount)\n",
    "plt.xticks('');\n",
    "plt.ylabel('Carriers Count\\n',fontsize=13)\n",
    "plt.xlabel('Airports',fontsize=13);"
   ]
  },
  {
   "cell_type": "markdown",
   "metadata": {},
   "source": [
    "- Enter Comment here"
   ]
  },
  {
   "cell_type": "markdown",
   "metadata": {},
   "source": [
    "#### Now use plotly to visualize data"
   ]
  },
  {
   "cell_type": "code",
   "execution_count": null,
   "metadata": {},
   "outputs": [],
   "source": [
    "airport_count_carriers_df.info()"
   ]
  },
  {
   "cell_type": "code",
   "execution_count": null,
   "metadata": {},
   "outputs": [],
   "source": [
    "airport_count_carriers_df['text'] = airport_count_carriers_df['airport'] + '' + airport_count_carriers_df['city'] +\\\n",
    "    ', ' + airport_count_carriers_df['state'] + '' + 'Count: ' + airport_count_carriers_df['CarriersCount'].astype(str)\n",
    "\n",
    "scl = [ [0,\"rgb(5, 10, 172)\"],[0.35,\"rgb(40, 60, 190)\"],[0.5,\"rgb(70, 100, 245)\"],\\\n",
    "    [0.6,\"rgb(90, 120, 245)\"],[0.7,\"rgb(106, 137, 247)\"],[1,\"rgb(220, 220, 220)\"] ]\n",
    "\n",
    "data = [ dict(\n",
    "        type = 'scattergeo',\n",
    "        locationmode = 'USA-states',\n",
    "        lon = airport_count_carriers_df['long'],\n",
    "        lat = airport_count_carriers_df['lat'],\n",
    "        text = airport_count_carriers_df['text'],\n",
    "        mode = 'markers',\n",
    "        marker = dict(\n",
    "            size = 10,\n",
    "            opacity = 0.8,\n",
    "            reversescale = True,\n",
    "            autocolorscale = False,\n",
    "            symbol = 'round',\n",
    "            line = dict(\n",
    "                width=1,\n",
    "                color='rgba(102, 102, 102)'\n",
    "            ),\n",
    "            colorscale = scl,\n",
    "            cmin = 1,\n",
    "            color = airport_count_carriers_df['CarriersCount'],\n",
    "            cmax = airport_count_carriers_df['CarriersCount'].max(),\n",
    "            colorbar=dict(\n",
    "                title=\"Number of Airline Carriers\"\n",
    "            )\n",
    "        ))]\n",
    "\n",
    "layout = dict(\n",
    "        title = 'Number of Airline Carriers Operating in an Airport Origin<br>(Hover for airport names)',\n",
    "        colorbar = True,\n",
    "        geo = dict(\n",
    "            scope='usa',\n",
    "            projection=dict( type='albers usa' ),\n",
    "            showland = True,\n",
    "            landcolor = \"rgb(250, 250, 250)\",\n",
    "            subunitcolor = \"rgb(217, 217, 217)\",\n",
    "            countrycolor = \"rgb(217, 217, 217)\",\n",
    "            countrywidth = 0.5,\n",
    "            subunitwidth = 0.5\n",
    "        ),\n",
    "    )\n",
    "\n",
    "fig = dict( data=data, layout=layout )\n",
    "py.iplot( fig, validate=False, filename='andy-airports-origin' )"
   ]
  },
  {
   "cell_type": "markdown",
   "metadata": {},
   "source": [
    "> From the map above, most airports cluster on the East coast. There are also many airports in Alaska and Hawaii states."
   ]
  },
  {
   "cell_type": "markdown",
   "metadata": {},
   "source": [
    "#### Another look with cmin=10. Airports with at least 10 airline carriers"
   ]
  },
  {
   "cell_type": "code",
   "execution_count": null,
   "metadata": {},
   "outputs": [],
   "source": [
    "airport_count_carriers_df['text'] = airport_count_carriers_df['airport'] + '' + airport_count_carriers_df['city'] +\\\n",
    "    ', ' + airport_count_carriers_df['state'] + '' + 'Count: ' + airport_count_carriers_df['CarriersCount'].astype(str)\n",
    "\n",
    "scl = [ [0,\"rgb(5, 10, 172)\"],[0.35,\"rgb(40, 60, 190)\"],[0.5,\"rgb(70, 100, 245)\"],\\\n",
    "    [0.6,\"rgb(90, 120, 245)\"],[0.7,\"rgb(106, 137, 247)\"],[1,\"rgb(220, 220, 220)\"] ]\n",
    "\n",
    "data = [ dict(\n",
    "        type = 'scattergeo',\n",
    "        locationmode = 'USA-states',\n",
    "        lon = airport_count_carriers_df['long'],\n",
    "        lat = airport_count_carriers_df['lat'],\n",
    "        text = airport_count_carriers_df['text'],\n",
    "        mode = 'markers',\n",
    "        marker = dict(\n",
    "            size = 10,\n",
    "            opacity = 0.8,\n",
    "            reversescale = True,\n",
    "            autocolorscale = False,\n",
    "            symbol = 'round',\n",
    "            line = dict(\n",
    "                width=1,\n",
    "                color='rgba(102, 102, 102)'\n",
    "            ),\n",
    "            colorscale = scl,\n",
    "            cmin = 10,\n",
    "            color = airport_count_carriers_df['CarriersCount'],\n",
    "            cmax = airport_count_carriers_df['CarriersCount'].max(),\n",
    "            colorbar=dict(\n",
    "                title=\"Numbe of Airline Carriers\"\n",
    "            )\n",
    "        ))]\n",
    "\n",
    "layout = dict(\n",
    "        title = 'Number of Airline Carriers Operating in an Airport Origin<br>cmin=10 -- lowest airport is 10<br>(Hover for airport names)',\n",
    "        colorbar = True,\n",
    "        geo = dict(\n",
    "            scope='usa',\n",
    "            projection=dict( type='albers usa' ),\n",
    "            showland = True,\n",
    "            landcolor = \"rgb(250, 250, 250)\",\n",
    "            subunitcolor = \"rgb(217, 217, 217)\",\n",
    "            countrycolor = \"rgb(217, 217, 217)\",\n",
    "            countrywidth = 0.5,\n",
    "            subunitwidth = 0.5\n",
    "        ),\n",
    "    )\n",
    "\n",
    "fig = dict( data=data, layout=layout )\n",
    "py.iplot( fig, validate=False, filename='andy-airports2-origin' )"
   ]
  },
  {
   "cell_type": "markdown",
   "metadata": {},
   "source": [
    "> With cmin=10, airports with at least 10 carriers tend to concentrate along coast lines, mid-west and Texas. Investigate the airports in the central areas such as ... "
   ]
  },
  {
   "cell_type": "markdown",
   "metadata": {},
   "source": [
    "## 14.2 Categorizing Airport Size\n",
    "#### Define\n",
    "- Now that we have information about how many Carriers each Airport operates, it is time to categorize Airport size based on how many Carriers it operates.\n",
    "- First, merge airport_count_carriers_df and y_2006_df. I want the CarriersCount data."
   ]
  },
  {
   "cell_type": "markdown",
   "metadata": {},
   "source": [
    "#### Code"
   ]
  },
  {
   "cell_type": "code",
   "execution_count": null,
   "metadata": {},
   "outputs": [],
   "source": [
    "airport_count_carriers_df.info()"
   ]
  },
  {
   "cell_type": "code",
   "execution_count": null,
   "metadata": {},
   "outputs": [],
   "source": [
    "columns_desired = list(y_2006_df.columns)\n",
    "columns_desired.append('CarriersCount')"
   ]
  },
  {
   "cell_type": "code",
   "execution_count": null,
   "metadata": {},
   "outputs": [],
   "source": [
    "airport_count_carriers_df.columns = ['Origin','CarriersCount','airport','city','state','country'\\\n",
    "                         ,'lat','long','text']"
   ]
  },
  {
   "cell_type": "code",
   "execution_count": null,
   "metadata": {},
   "outputs": [],
   "source": [
    "#merge airport_count_carriers_df and y_2006_df\n",
    "y_2006_df = pd.merge(y_2006_df,airport_count_carriers_df,on='Origin',how='inner')[columns_desired]"
   ]
  },
  {
   "cell_type": "markdown",
   "metadata": {},
   "source": [
    "#### Test"
   ]
  },
  {
   "cell_type": "code",
   "execution_count": null,
   "metadata": {},
   "outputs": [],
   "source": [
    "y_2006_df.info()"
   ]
  },
  {
   "cell_type": "markdown",
   "metadata": {},
   "source": [
    "- We have CarriersCount data in y_2006_df"
   ]
  },
  {
   "cell_type": "markdown",
   "metadata": {},
   "source": [
    "#### Define\n",
    "- Not it's time to categorize Airport size"
   ]
  },
  {
   "cell_type": "markdown",
   "metadata": {},
   "source": [
    "#### Code"
   ]
  },
  {
   "cell_type": "code",
   "execution_count": null,
   "metadata": {},
   "outputs": [],
   "source": [
    "airport_count_carriers_df.CarriersCount.describe()"
   ]
  },
  {
   "cell_type": "code",
   "execution_count": null,
   "metadata": {},
   "outputs": [],
   "source": [
    "percentile_25th = np.percentile(airport_count_carriers_df.CarriersCount,25)  # 25 percentilenp\n",
    "percentile_50th = np.percentile(airport_count_carriers_df.CarriersCount,50)  # 50th percentile\n",
    "percentile_75th = np.percentile(airport_count_carriers_df.CarriersCount,75)  # 75 percentile"
   ]
  },
  {
   "cell_type": "code",
   "execution_count": null,
   "metadata": {},
   "outputs": [],
   "source": [
    "def allocate_airport_sized(series):\n",
    "    #print(series)\n",
    "    row = series\n",
    "    #if row <= 1:\n",
    "    if row <= percentile_25th:\n",
    "        #print('v_small_sized')\n",
    "        return 'v_small_sized'\n",
    "        #y_2006_df.loc[indx,'airport_sized'] = 'v_small_sized'\n",
    "    elif percentile_25th < row <= percentile_50th:\n",
    "    #elif 1 < row <= 10:\n",
    "        #print('small_sized')\n",
    "        return 'small_sized'\n",
    "        #y_2006_df.loc[indx,'airport_sized'] = 'small_sized'\n",
    "    elif percentile_50th < row <= percentile_75th:\n",
    "    #elif 10 < row <= 14:\n",
    "        #print('mid_sized')\n",
    "        return 'mid_sized'\n",
    "        #y_2006_df.loc[indx,'airport_sized'] = 'mid_sized'\n",
    "    elif percentile_75th < row:\n",
    "    #elif 14 < row <= 20:\n",
    "        #print('big_sized')\n",
    "        return 'big_sized'\n",
    "        #y_2006_df.loc[indx,'airport_sized'] = 'big_sized'\n",
    "    else:\n",
    "        #print('eroor')\n",
    "        return series"
   ]
  },
  {
   "cell_type": "code",
   "execution_count": null,
   "metadata": {},
   "outputs": [],
   "source": [
    "#y_2006_df['airport_sized'] = 0"
   ]
  },
  {
   "cell_type": "code",
   "execution_count": null,
   "metadata": {},
   "outputs": [],
   "source": [
    "y_2006_df['airport_sized'] = y_2006_df.CarriersCount.apply(allocate_airport_sized)"
   ]
  },
  {
   "cell_type": "code",
   "execution_count": null,
   "metadata": {},
   "outputs": [],
   "source": [
    "y_2006_df.airport_sized.value_counts()"
   ]
  },
  {
   "cell_type": "markdown",
   "metadata": {},
   "source": [
    "#### make `airport_sized` into category with sorted order"
   ]
  },
  {
   "cell_type": "code",
   "execution_count": null,
   "metadata": {},
   "outputs": [],
   "source": [
    "airport_size_categories = ['v_small_sized','small_sized','mid_sized','big_sized']\n",
    "pd_ver = pd.__version__.split(\".\")\n",
    "if (int(pd_ver[0]) > 0) or (int(pd_ver[1]) >= 21): # v0.21 or later\n",
    "    airport_classes = pd.api.types.CategoricalDtype(ordered = True, categories = airport_size_categories)\n",
    "    y_2006_df['airport_sized'] = y_2006_df['airport_sized'].astype(airport_classes)\n",
    "else: # pre-v0.21\n",
    "    y_2006_df['airport_sized'] = y_2006_df['airport_sized'].astype('category', ordered = True,\n",
    "                                                         categories = airport_size_categories)"
   ]
  },
  {
   "cell_type": "markdown",
   "metadata": {},
   "source": [
    "#### Test"
   ]
  },
  {
   "cell_type": "code",
   "execution_count": null,
   "metadata": {},
   "outputs": [],
   "source": [
    "y_2006_df.airport_sized.dtype"
   ]
  },
  {
   "cell_type": "markdown",
   "metadata": {},
   "source": [
    "- airport_sized is a category type and sorted!"
   ]
  },
  {
   "cell_type": "markdown",
   "metadata": {},
   "source": [
    "# 15. Exploring FlightNum"
   ]
  },
  {
   "cell_type": "code",
   "execution_count": null,
   "metadata": {},
   "outputs": [],
   "source": [
    "y_2006_df.FlightNum.isnull().sum()"
   ]
  },
  {
   "cell_type": "markdown",
   "metadata": {},
   "source": [
    "- No null values or very few null values for FlightNum. Seems promising"
   ]
  },
  {
   "cell_type": "code",
   "execution_count": null,
   "metadata": {},
   "outputs": [],
   "source": [
    "y_2006_df.groupby(['FlightNum','CarrierDescription']).count().head(15)"
   ]
  },
  {
   "cell_type": "markdown",
   "metadata": {},
   "source": [
    "- I expect FlightNum to be unique for each airlines/carriers. But it is not. So I don't find this column useful."
   ]
  },
  {
   "cell_type": "markdown",
   "metadata": {},
   "source": [
    "#### Drop FlightNum column. (haven't decided yet)"
   ]
  },
  {
   "cell_type": "code",
   "execution_count": null,
   "metadata": {},
   "outputs": [],
   "source": [
    "# y_2006_df.drop(columns=['FlightNum'],axis=1,inplace=True)"
   ]
  },
  {
   "cell_type": "markdown",
   "metadata": {},
   "source": [
    "# 16. Exploring TailNum\n",
    "#### <a href='https://en.wikipedia.org/wiki/Aircraft_registration'>From Wikipedia</a>: \n",
    "\n",
    "- Every civil aircraft must be marked prominently on its exterior by an alphanumeric string, indicating its country of registration and its unique serial number"
   ]
  },
  {
   "cell_type": "code",
   "execution_count": null,
   "metadata": {},
   "outputs": [],
   "source": [
    "y_2006_df.groupby(['TailNum','CarrierDescription']).count().head(3)"
   ]
  },
  {
   "cell_type": "code",
   "execution_count": null,
   "metadata": {},
   "outputs": [],
   "source": [
    "y_2006_df.TailNum.nunique()"
   ]
  },
  {
   "cell_type": "markdown",
   "metadata": {},
   "source": [
    "- This column seems like a promising column for analysis. For example, I can turn this into ordinal categories: Boeing 747, 737, Airbus ... And explore whether delays have to do with size and make of an aircraft. But due to time constraint, I will not explore further."
   ]
  },
  {
   "cell_type": "markdown",
   "metadata": {},
   "source": [
    "#### Drop TailNum column (maybe)"
   ]
  },
  {
   "cell_type": "code",
   "execution_count": null,
   "metadata": {},
   "outputs": [],
   "source": [
    "#y_2006_df.drop(columns=['TailNum'],axis=1,inplace=True)"
   ]
  },
  {
   "cell_type": "markdown",
   "metadata": {},
   "source": [
    "# 17. Exploring Actual/CRS ElapsedTime, AirTime, Distance"
   ]
  },
  {
   "cell_type": "code",
   "execution_count": null,
   "metadata": {},
   "outputs": [],
   "source": [
    "desired_cols = ['ActualElapsedTime','AirTime','ArrDelayM','DepDelayM','Distance','CarriersCount']"
   ]
  },
  {
   "cell_type": "code",
   "execution_count": null,
   "metadata": {},
   "outputs": [],
   "source": [
    "#desired_cols = ['ActualElapsedTime','AirTime','ArrDelayM','DepDelayM','Distance']"
   ]
  },
  {
   "cell_type": "code",
   "execution_count": null,
   "metadata": {},
   "outputs": [],
   "source": [
    "g = sb.PairGrid(data=y_2006_df,vars=desired_cols)\n",
    "g.map(plt.scatter);"
   ]
  },
  {
   "cell_type": "code",
   "execution_count": null,
   "metadata": {},
   "outputs": [],
   "source": [
    "y_2006_df[desired_cols].corr()"
   ]
  },
  {
   "cell_type": "code",
   "execution_count": null,
   "metadata": {},
   "outputs": [],
   "source": [
    "sb.heatmap(y_2006_df[desired_cols].corr(),annot=True,cmap='rocket_r',fmt='.2f',vmin=0)"
   ]
  },
  {
   "cell_type": "code",
   "execution_count": null,
   "metadata": {},
   "outputs": [],
   "source": []
  },
  {
   "cell_type": "code",
   "execution_count": null,
   "metadata": {},
   "outputs": [],
   "source": []
  },
  {
   "cell_type": "code",
   "execution_count": null,
   "metadata": {},
   "outputs": [],
   "source": []
  },
  {
   "cell_type": "code",
   "execution_count": null,
   "metadata": {},
   "outputs": [],
   "source": []
  },
  {
   "cell_type": "markdown",
   "metadata": {},
   "source": [
    "# 18. Exploring TaxiIn and TaxiOut"
   ]
  },
  {
   "cell_type": "code",
   "execution_count": null,
   "metadata": {},
   "outputs": [],
   "source": []
  },
  {
   "cell_type": "code",
   "execution_count": null,
   "metadata": {},
   "outputs": [],
   "source": []
  },
  {
   "cell_type": "code",
   "execution_count": null,
   "metadata": {},
   "outputs": [],
   "source": []
  },
  {
   "cell_type": "code",
   "execution_count": null,
   "metadata": {},
   "outputs": [],
   "source": []
  },
  {
   "cell_type": "code",
   "execution_count": null,
   "metadata": {},
   "outputs": [],
   "source": []
  },
  {
   "cell_type": "markdown",
   "metadata": {},
   "source": [
    "# 19. Visualizing Data"
   ]
  },
  {
   "cell_type": "markdown",
   "metadata": {},
   "source": [
    "#### comment here"
   ]
  },
  {
   "cell_type": "code",
   "execution_count": null,
   "metadata": {},
   "outputs": [],
   "source": [
    "fig = plt.figure(figsize=(18,10))\n",
    "ax1 = fig.add_subplot(1,1,1)\n",
    "sb.boxplot(data=y_2006_df,y=y_2006_df.DepDelayM,x=y_2006_df.airport_sized,hue='DepTimeCategory'\\\n",
    "          ,showfliers=False,palette='coolwarm')\n",
    "\n",
    "#plt.yscale('log')\n",
    "plt.ylim(-30,230);\n",
    "plt.legend(fontsize=16);"
   ]
  },
  {
   "cell_type": "code",
   "execution_count": null,
   "metadata": {},
   "outputs": [],
   "source": []
  },
  {
   "cell_type": "markdown",
   "metadata": {},
   "source": [
    "#### plot title here"
   ]
  },
  {
   "cell_type": "code",
   "execution_count": null,
   "metadata": {},
   "outputs": [],
   "source": [
    "fig = plt.figure(figsize=(18,10))\n",
    "ax1 = fig.add_subplot(1,1,1)\n",
    "sb.boxplot(data=y_2006_df,y=y_2006_df.ArrDelayM,x=y_2006_df.airport_sized,hue='ArrTimeCategory'\\\n",
    "          ,showfliers=False,palette='coolwarm')\n",
    "plt.ylim(-60,230)\n",
    "plt.legend(fontsize=16);"
   ]
  },
  {
   "cell_type": "code",
   "execution_count": null,
   "metadata": {},
   "outputs": [],
   "source": []
  },
  {
   "cell_type": "markdown",
   "metadata": {},
   "source": [
    "#### plot title here"
   ]
  },
  {
   "cell_type": "code",
   "execution_count": null,
   "metadata": {},
   "outputs": [],
   "source": [
    "fig = plt.figure(figsize=(15,8))\n",
    "ax1 = fig.add_subplot(1,1,1)\n",
    "sb.pointplot(data=y_2006_df,y=y_2006_df.DepDelayM,x=y_2006_df.airport_sized,hue='DepTimeCategory',ci=None,\n",
    "            linestyles='',dodge=0.3,)\n",
    "plt.legend(fontsize=14);"
   ]
  },
  {
   "cell_type": "code",
   "execution_count": null,
   "metadata": {},
   "outputs": [],
   "source": []
  },
  {
   "cell_type": "markdown",
   "metadata": {},
   "source": [
    "#### plot title there"
   ]
  },
  {
   "cell_type": "code",
   "execution_count": null,
   "metadata": {},
   "outputs": [],
   "source": [
    "fig = plt.figure(figsize=(15,8))\n",
    "ax1 = fig.add_subplot(1,1,1)\n",
    "sb.pointplot(data=y_2006_df,y=y_2006_df.DepDelay,x=y_2006_df.airport_sized,hue='DepTimeCategory',ci=None,\n",
    "            linestyles='',dodge=0.3)\n",
    "plt.legend(fontsize=14);"
   ]
  },
  {
   "cell_type": "code",
   "execution_count": null,
   "metadata": {},
   "outputs": [],
   "source": []
  },
  {
   "cell_type": "code",
   "execution_count": null,
   "metadata": {},
   "outputs": [],
   "source": [
    "fig = plt.figure(figsize=(15,8))\n",
    "ax1 = fig.add_subplot(1,1,1)\n",
    "sb.barplot(data=y_2006_df,y=y_2006_df.DepDelay,x=y_2006_df.airport_sized,hue='DepTimeCategory',ci='sd')\n",
    "plt.legend(fontsize=14);\n",
    "plt.ylim(-60,200);"
   ]
  },
  {
   "cell_type": "code",
   "execution_count": null,
   "metadata": {},
   "outputs": [],
   "source": []
  },
  {
   "cell_type": "code",
   "execution_count": null,
   "metadata": {},
   "outputs": [],
   "source": []
  },
  {
   "cell_type": "code",
   "execution_count": null,
   "metadata": {},
   "outputs": [],
   "source": []
  },
  {
   "cell_type": "code",
   "execution_count": null,
   "metadata": {},
   "outputs": [],
   "source": []
  },
  {
   "cell_type": "code",
   "execution_count": null,
   "metadata": {},
   "outputs": [],
   "source": []
  },
  {
   "cell_type": "code",
   "execution_count": null,
   "metadata": {},
   "outputs": [],
   "source": []
  },
  {
   "cell_type": "code",
   "execution_count": null,
   "metadata": {},
   "outputs": [],
   "source": []
  },
  {
   "cell_type": "code",
   "execution_count": null,
   "metadata": {},
   "outputs": [],
   "source": [
    "plot_data = y_2006_df[(~y_2006_df.DepDelayM.isnull())]"
   ]
  },
  {
   "cell_type": "code",
   "execution_count": null,
   "metadata": {},
   "outputs": [],
   "source": [
    "ordered_data_df= plot_data[['CarrierDescription','DepDelayM']]"
   ]
  },
  {
   "cell_type": "code",
   "execution_count": null,
   "metadata": {},
   "outputs": [],
   "source": [
    "ordered_data_df.head()"
   ]
  },
  {
   "cell_type": "code",
   "execution_count": null,
   "metadata": {},
   "outputs": [],
   "source": [
    "ordered_data_df.groupby('CarrierDescription').mean()"
   ]
  },
  {
   "cell_type": "code",
   "execution_count": null,
   "metadata": {},
   "outputs": [],
   "source": [
    "#plot_data = y_2008_df[(~y_2008_df.DepDelayM.isnull()) & (y_2008_df.DepTimeCategory!='Late Night')]"
   ]
  },
  {
   "cell_type": "code",
   "execution_count": null,
   "metadata": {},
   "outputs": [],
   "source": [
    "plot_data.columns"
   ]
  },
  {
   "cell_type": "code",
   "execution_count": null,
   "metadata": {},
   "outputs": [],
   "source": [
    "plot_data.groupby('CarrierDescription')['DepDelayM'].mean().describe()"
   ]
  },
  {
   "cell_type": "code",
   "execution_count": null,
   "metadata": {},
   "outputs": [],
   "source": [
    "order_index = plot_data.groupby('CarrierDescription')['DepDelayM'].mean().sort_values().index"
   ]
  },
  {
   "cell_type": "markdown",
   "metadata": {},
   "source": [
    "#### Consider putting the number of flights each carriers flies as hue or size."
   ]
  },
  {
   "cell_type": "code",
   "execution_count": null,
   "metadata": {},
   "outputs": [],
   "source": [
    "fig = plt.figure(figsize=(8,10))\n",
    "ax1 = fig.add_subplot(1,1,1)\n",
    "sb.pointplot(data=plot_data,y='CarrierDescription',x='DepDelayM',linestyles='',ci=None,order=order_index)\n",
    "plt.yticks(fontsize=15)"
   ]
  },
  {
   "cell_type": "code",
   "execution_count": null,
   "metadata": {},
   "outputs": [],
   "source": []
  },
  {
   "cell_type": "code",
   "execution_count": null,
   "metadata": {},
   "outputs": [],
   "source": []
  },
  {
   "cell_type": "code",
   "execution_count": null,
   "metadata": {},
   "outputs": [],
   "source": []
  },
  {
   "cell_type": "markdown",
   "metadata": {},
   "source": [
    "# Savings Data"
   ]
  },
  {
   "cell_type": "code",
   "execution_count": null,
   "metadata": {},
   "outputs": [],
   "source": [
    "y_2006_df.to_csv('../y_2006_data',index=False)"
   ]
  },
  {
   "cell_type": "code",
   "execution_count": null,
   "metadata": {},
   "outputs": [],
   "source": []
  },
  {
   "cell_type": "code",
   "execution_count": null,
   "metadata": {},
   "outputs": [],
   "source": []
  },
  {
   "cell_type": "code",
   "execution_count": null,
   "metadata": {},
   "outputs": [],
   "source": []
  },
  {
   "cell_type": "code",
   "execution_count": null,
   "metadata": {},
   "outputs": [],
   "source": []
  },
  {
   "cell_type": "code",
   "execution_count": null,
   "metadata": {},
   "outputs": [],
   "source": []
  },
  {
   "cell_type": "code",
   "execution_count": null,
   "metadata": {},
   "outputs": [],
   "source": []
  },
  {
   "cell_type": "code",
   "execution_count": null,
   "metadata": {},
   "outputs": [],
   "source": []
  },
  {
   "cell_type": "code",
   "execution_count": null,
   "metadata": {},
   "outputs": [],
   "source": []
  },
  {
   "cell_type": "code",
   "execution_count": null,
   "metadata": {},
   "outputs": [],
   "source": []
  },
  {
   "cell_type": "code",
   "execution_count": null,
   "metadata": {},
   "outputs": [],
   "source": []
  },
  {
   "cell_type": "code",
   "execution_count": null,
   "metadata": {},
   "outputs": [],
   "source": []
  },
  {
   "cell_type": "code",
   "execution_count": null,
   "metadata": {},
   "outputs": [],
   "source": []
  },
  {
   "cell_type": "code",
   "execution_count": null,
   "metadata": {},
   "outputs": [],
   "source": []
  },
  {
   "cell_type": "code",
   "execution_count": null,
   "metadata": {},
   "outputs": [],
   "source": []
  },
  {
   "cell_type": "code",
   "execution_count": null,
   "metadata": {},
   "outputs": [],
   "source": []
  },
  {
   "cell_type": "code",
   "execution_count": null,
   "metadata": {},
   "outputs": [],
   "source": []
  },
  {
   "cell_type": "code",
   "execution_count": null,
   "metadata": {},
   "outputs": [],
   "source": []
  },
  {
   "cell_type": "code",
   "execution_count": null,
   "metadata": {},
   "outputs": [],
   "source": []
  },
  {
   "cell_type": "code",
   "execution_count": null,
   "metadata": {},
   "outputs": [],
   "source": []
  },
  {
   "cell_type": "code",
   "execution_count": null,
   "metadata": {},
   "outputs": [],
   "source": []
  },
  {
   "cell_type": "code",
   "execution_count": null,
   "metadata": {},
   "outputs": [],
   "source": []
  },
  {
   "cell_type": "code",
   "execution_count": null,
   "metadata": {},
   "outputs": [],
   "source": []
  },
  {
   "cell_type": "code",
   "execution_count": null,
   "metadata": {},
   "outputs": [],
   "source": []
  },
  {
   "cell_type": "code",
   "execution_count": null,
   "metadata": {},
   "outputs": [],
   "source": []
  },
  {
   "cell_type": "code",
   "execution_count": null,
   "metadata": {},
   "outputs": [],
   "source": []
  },
  {
   "cell_type": "code",
   "execution_count": null,
   "metadata": {},
   "outputs": [],
   "source": []
  },
  {
   "cell_type": "code",
   "execution_count": null,
   "metadata": {},
   "outputs": [],
   "source": []
  },
  {
   "cell_type": "code",
   "execution_count": null,
   "metadata": {},
   "outputs": [],
   "source": []
  },
  {
   "cell_type": "code",
   "execution_count": null,
   "metadata": {},
   "outputs": [],
   "source": []
  },
  {
   "cell_type": "code",
   "execution_count": null,
   "metadata": {},
   "outputs": [],
   "source": []
  },
  {
   "cell_type": "code",
   "execution_count": null,
   "metadata": {},
   "outputs": [],
   "source": []
  },
  {
   "cell_type": "code",
   "execution_count": null,
   "metadata": {},
   "outputs": [],
   "source": []
  },
  {
   "cell_type": "code",
   "execution_count": null,
   "metadata": {},
   "outputs": [],
   "source": []
  },
  {
   "cell_type": "code",
   "execution_count": null,
   "metadata": {},
   "outputs": [],
   "source": []
  }
 ],
 "metadata": {
  "kernelspec": {
   "display_name": "Python 3",
   "language": "python",
   "name": "python3"
  },
  "language_info": {
   "codemirror_mode": {
    "name": "ipython",
    "version": 3
   },
   "file_extension": ".py",
   "mimetype": "text/x-python",
   "name": "python",
   "nbconvert_exporter": "python",
   "pygments_lexer": "ipython3",
   "version": "3.6.5"
  }
 },
 "nbformat": 4,
 "nbformat_minor": 2
}
